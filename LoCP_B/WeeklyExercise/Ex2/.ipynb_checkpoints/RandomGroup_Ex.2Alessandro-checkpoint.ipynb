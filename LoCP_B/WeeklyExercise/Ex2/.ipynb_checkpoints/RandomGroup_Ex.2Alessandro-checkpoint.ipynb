{
 "cells": [
  {
   "cell_type": "markdown",
   "metadata": {},
   "source": [
    "# LCPB 20-21 Exercise 2: DNN\n",
    "## RandomGroup\n",
    "### Alessandro Casalino 2015122\n",
    "### Michele M. Crudele 2021858\n",
    "### Sabrina Giorgetti 2013375\n",
    "### Daniele Mellino 2013373"
   ]
  },
  {
   "cell_type": "markdown",
   "metadata": {},
   "source": [
    "## Overview"
   ]
  },
  {
   "cell_type": "markdown",
   "metadata": {},
   "source": [
    "In this exercise we analyse data in the file “DATA/sequences16.dat”, that is composed of DNA-like sequences of 16 letters (A, C, T, G), each one associated to a label (0 or 1), according to a rule that we do not know. There are “only” 3000 samples in this dataset, while the dataset created during the lecture is made of 10000 samples, but the sequences are shorter (12 letters).\n",
    "\n",
    "In the [first section](#1), we use the same DNN modelled during the lecture to fit the new data finding out that it is not converging, in contrast with what it does with the 10000 samples dataset.\n",
    "\n",
    "As a consequence of that, in the [second section](#2) we try to make the model converge by “augmenting” the training data: for every sequence of length $L_s$ there are $L_s-1$ periodic shift, that is to say that we can create $L_s-1$ new samples from each of the 3000 samples in the dataset. On the other hand, this manipulation will associate the wrong label to some of the new sequences, as it can break the keys. In order to see which of the two effects is prevalent in terms of convergence of the model, we fit the same model to the new augmented data: what we discover is that now the model converges.\n",
    "\n",
    "In the [third section](#3) we then implement a Grid Search to find the best possible combination of parameters to be used for modelling the DNN: we tried different activation units, different minimisation algorithms and also different dropouts. By means of this procedure, we find the best parameters, but we also noticed that the results are not so dependent on them (at least on the ones we have considered): if we do not use the SGD as minimization algorithm, the results are always quite satisfying and similar, since the differences are of order 10e-2).\n",
    "\n",
    "We then try to improve the results by [rescaling the data](#4), using [-0.5, 0.5] instead of [0,1] for every bit of x[n], but also in this case the results are not significantly different from the previous ones: we can repeat the previous consideration also for this new dataset). This is done in section 4.\n",
    "\n",
    "Finally, we also try to [modify the architecture of the model](#change_varables), using two hidden layers and performing a grid search on the number of nodes it is composed of: $\\underline{???}$ is the best possible value between the ones considered, but also in this case the results are very similar to the previous ones.\n",
    "\n",
    "To resume, the only significant improvement of the performances of the DNN model we have considered has been achieved by the augmentation of the training data."
   ]
  },
  {
   "cell_type": "code",
   "execution_count": 1,
   "metadata": {
    "slideshow": {
     "slide_type": "-"
    }
   },
   "outputs": [
    {
     "data": {
      "text/html": [
       "<table><tr><td><img src='model_initial.png'></td><td><img src='model_moredata.png'></td></tr></table>"
      ],
      "text/plain": [
       "<IPython.core.display.HTML object>"
      ]
     },
     "metadata": {},
     "output_type": "display_data"
    },
    {
     "data": {
      "text/html": [
       "<table><tr><td><img src='model_bestparams.png'></td><td><img src='model_dropout.png'></td></tr></table>"
      ],
      "text/plain": [
       "<IPython.core.display.HTML object>"
      ]
     },
     "metadata": {},
     "output_type": "display_data"
    },
    {
     "data": {
      "text/html": [
       "<table><tr><td><img src='model_scaleddata.png'></td><td><img src='model_neur.png'></td></tr></table>"
      ],
      "text/plain": [
       "<IPython.core.display.HTML object>"
      ]
     },
     "metadata": {},
     "output_type": "display_data"
    }
   ],
   "source": [
    "from IPython.display import HTML, display\n",
    "\n",
    "display(HTML(\"<table><tr><td><img src='model_initial.png'></td><td><img src='model_moredata.png'></td></tr></table>\"))\n",
    "display(HTML(\"<table><tr><td><img src='model_bestparams.png'></td><td><img src='model_dropout.png'></td></tr></table>\"))\n",
    "display(HTML(\"<table><tr><td><img src='model_scaleddata.png'></td><td><img src='model_neur.png'></td></tr></table>\"))\n",
    "\n",
    "\n"
   ]
  },
  {
   "cell_type": "markdown",
   "metadata": {},
   "source": [
    "### Packages\n",
    "We import the libraries and set the seeds for Numpy and Tensorflow."
   ]
  },
  {
   "cell_type": "code",
   "execution_count": 2,
   "metadata": {},
   "outputs": [],
   "source": [
    "import os.path\n",
    "import time\n",
    "import math\n",
    "import pickle\n",
    "import numpy as np\n",
    "import matplotlib.pyplot as plt\n",
    "import tensorflow as tf\n",
    "import keras\n",
    "from keras.models import Sequential\n",
    "from keras.layers import Dense, Dropout\n",
    "from keras.optimizers import SGD"
   ]
  },
  {
   "cell_type": "code",
   "execution_count": 3,
   "metadata": {},
   "outputs": [],
   "source": [
    "seed = 123\n",
    "\n",
    "if tf.__version__ == \"1.14.0\":\n",
    "    tf.set_random_seed(seed)\n",
    "else:\n",
    "    tf.random.set_seed(seed)"
   ]
  },
  {
   "cell_type": "markdown",
   "metadata": {},
   "source": [
    "# <a name=\"1\">  1.  Small database of samples with longer sequences  </a>"
   ]
  },
  {
   "cell_type": "markdown",
   "metadata": {},
   "source": [
    "### Load and process the data\n",
    "Here, we charge the data and we set the training and test percentage."
   ]
  },
  {
   "cell_type": "code",
   "execution_count": 4,
   "metadata": {},
   "outputs": [
    {
     "name": "stdout",
     "output_type": "stream",
     "text": [
      "3000\n",
      "16\n",
      "AAGGTCTGCCGGCCGA 1\n",
      "\n",
      "data: 3000\n",
      "train: 2400\n",
      "test: 600\n"
     ]
    }
   ],
   "source": [
    "fname = 'DATA/sequences16.csv'\n",
    "sx, sy = np.loadtxt(fname, delimiter=',', usecols=(0,1), unpack=True, dtype=str)\n",
    "\n",
    "N = len(sy)\n",
    "print(N)\n",
    "Ls = len(sx[0])\n",
    "print(Ls)\n",
    "print(sx[0], sy[0])\n",
    "\n",
    "perc_train = 0.8\n",
    "N_train = int(N*perc_train)\n",
    "N_test = N - N_train\n",
    "print(f'\\ndata: {N}\\ntrain: {N_train}\\ntest: {N_test}')"
   ]
  },
  {
   "cell_type": "markdown",
   "metadata": {},
   "source": [
    "We use the one hot encoding procedure."
   ]
  },
  {
   "cell_type": "code",
   "execution_count": 5,
   "metadata": {},
   "outputs": [
    {
     "name": "stdout",
     "output_type": "stream",
     "text": [
      "{'A': 0, 'C': 1, 'G': 2, 'T': 3}\n"
     ]
    }
   ],
   "source": [
    "Q = ['A', 'C', 'G', 'T']\n",
    "Nc = 4\n",
    "onehc = {Q[i]: i for i in range(Nc)}\n",
    "print(onehc)"
   ]
  },
  {
   "cell_type": "code",
   "execution_count": 6,
   "metadata": {},
   "outputs": [
    {
     "name": "stdout",
     "output_type": "stream",
     "text": [
      "64\n",
      "[0. 0. 0. 0. 0. 0. 0. 0. 0. 0. 0. 0. 0. 0. 0. 0. 0. 0. 0. 0. 0. 0. 0. 0.\n",
      " 0. 0. 0. 0. 0. 0. 0. 0. 0. 0. 0. 0. 0. 0. 0. 0. 0. 0. 0. 0. 0. 0. 0. 0.\n",
      " 0. 0. 0. 0. 0. 0. 0. 0. 0. 0. 0. 0. 0. 0. 0. 0.]\n",
      "AAGGTCTGCCGGCCGA\n",
      "[1. 0. 0. 0. 1. 0. 0. 0. 0. 0. 1. 0. 0. 0. 1. 0. 0. 0. 0. 1. 0. 1. 0. 0.\n",
      " 0. 0. 0. 1. 0. 0. 1. 0. 0. 1. 0. 0. 0. 1. 0. 0. 0. 0. 1. 0. 0. 0. 1. 0.\n",
      " 0. 1. 0. 0. 0. 1. 0. 0. 0. 0. 1. 0. 1. 0. 0. 0.]\n"
     ]
    }
   ],
   "source": [
    "y = sy.astype(int)\n",
    "\n",
    "L = Ls * Nc\n",
    "print(L)\n",
    "\n",
    "x = np.zeros((N, L))\n",
    "print(x[0])\n",
    "\n",
    "for n in range(N):\n",
    "    for i in range(Ls):\n",
    "        x[n][i * 4 + onehc[sx[n][i]]] = 1\n",
    "        \n",
    "print(sx[0])\n",
    "print(x[0])"
   ]
  },
  {
   "cell_type": "markdown",
   "metadata": {},
   "source": [
    "Then we split the data in train / test-validation."
   ]
  },
  {
   "cell_type": "code",
   "execution_count": 7,
   "metadata": {},
   "outputs": [
    {
     "name": "stdout",
     "output_type": "stream",
     "text": [
      "0.24333333333333335\n",
      "0.25833333333333336\n"
     ]
    }
   ],
   "source": [
    "(x_train, y_train) = (x[:N_train], y[:N_train])\n",
    "(x_test, y_test) = (x[N_train:], y[N_train:])\n",
    "\n",
    "print(y_train.sum() / N_train)\n",
    "print(y_test.sum() / N_test)"
   ]
  },
  {
   "cell_type": "markdown",
   "metadata": {},
   "source": [
    "### Definition of NN model using Keras\n",
    "We define a NN with two hidden layers. We choose relu activation function for the input and hidden layers and the sigmoid activation function for the last one. We also add dropout in the second hidden layer.  "
   ]
  },
  {
   "cell_type": "code",
   "execution_count": 8,
   "metadata": {},
   "outputs": [
    {
     "name": "stdout",
     "output_type": "stream",
     "text": [
      "Model: \"sequential\"\n",
      "_________________________________________________________________\n",
      "Layer (type)                 Output Shape              Param #   \n",
      "=================================================================\n",
      "dense (Dense)                (None, 64)                4160      \n",
      "_________________________________________________________________\n",
      "dense_1 (Dense)              (None, 32)                2080      \n",
      "_________________________________________________________________\n",
      "dense_2 (Dense)              (None, 16)                528       \n",
      "_________________________________________________________________\n",
      "dropout (Dropout)            (None, 16)                0         \n",
      "_________________________________________________________________\n",
      "dense_3 (Dense)              (None, 1)                 17        \n",
      "=================================================================\n",
      "Total params: 6,785\n",
      "Trainable params: 6,785\n",
      "Non-trainable params: 0\n",
      "_________________________________________________________________\n",
      "None\n"
     ]
    }
   ],
   "source": [
    "model = Sequential()\n",
    "\n",
    "model.add(Dense(L, input_shape=(L,), activation='relu'))\n",
    "model.add(Dense(L//2, activation='relu'))\n",
    "model.add(Dense(L//4, activation='relu'))\n",
    "model.add(Dropout(0.2))\n",
    "model.add(Dense(1, activation='sigmoid'))\n",
    "\n",
    "print(model.summary())"
   ]
  },
  {
   "cell_type": "markdown",
   "metadata": {},
   "source": [
    "### Optimization and fit\n",
    "We compile the NN using as loss the binary cross entropy and as optimizer the adam algorithm. Then we fit the model with a batch size equal to 50 for 30 epochs. We enable the shuffling of the batch-sized chunks."
   ]
  },
  {
   "cell_type": "code",
   "execution_count": 9,
   "metadata": {},
   "outputs": [],
   "source": [
    "model.compile(loss='binary_crossentropy', \n",
    "              optimizer=\"adam\", \n",
    "              metrics=['accuracy'])"
   ]
  },
  {
   "cell_type": "code",
   "execution_count": 10,
   "metadata": {
    "scrolled": true
   },
   "outputs": [
    {
     "name": "stdout",
     "output_type": "stream",
     "text": [
      "Epoch 1/30\n",
      "48/48 [==============================] - 2s 30ms/step - loss: 0.5879 - accuracy: 0.7466 - val_loss: 0.5521 - val_accuracy: 0.7417\n",
      "Epoch 2/30\n",
      "48/48 [==============================] - 1s 17ms/step - loss: 0.5057 - accuracy: 0.7660 - val_loss: 0.5242 - val_accuracy: 0.7417\n",
      "Epoch 3/30\n",
      "48/48 [==============================] - 1s 13ms/step - loss: 0.5056 - accuracy: 0.7500 - val_loss: 0.5003 - val_accuracy: 0.7617\n",
      "Epoch 4/30\n",
      "48/48 [==============================] - 1s 12ms/step - loss: 0.4627 - accuracy: 0.7856 - val_loss: 0.4930 - val_accuracy: 0.7600\n",
      "Epoch 5/30\n",
      "48/48 [==============================] - 1s 15ms/step - loss: 0.4447 - accuracy: 0.7893 - val_loss: 0.4838 - val_accuracy: 0.7633\n",
      "Epoch 6/30\n",
      "48/48 [==============================] - 1s 19ms/step - loss: 0.4278 - accuracy: 0.8158 - val_loss: 0.4736 - val_accuracy: 0.7617\n",
      "Epoch 7/30\n",
      "48/48 [==============================] - 1s 12ms/step - loss: 0.4114 - accuracy: 0.8261 - val_loss: 0.4865 - val_accuracy: 0.7683\n",
      "Epoch 8/30\n",
      "48/48 [==============================] - 1s 10ms/step - loss: 0.3577 - accuracy: 0.8462 - val_loss: 0.4699 - val_accuracy: 0.7667\n",
      "Epoch 9/30\n",
      "48/48 [==============================] - 0s 10ms/step - loss: 0.3613 - accuracy: 0.8471 - val_loss: 0.4753 - val_accuracy: 0.7683\n",
      "Epoch 10/30\n",
      "48/48 [==============================] - 1s 12ms/step - loss: 0.3288 - accuracy: 0.8683 - val_loss: 0.4753 - val_accuracy: 0.7667\n",
      "Epoch 11/30\n",
      "48/48 [==============================] - 1s 15ms/step - loss: 0.2856 - accuracy: 0.8861 - val_loss: 0.4904 - val_accuracy: 0.7800\n",
      "Epoch 12/30\n",
      "48/48 [==============================] - 1s 13ms/step - loss: 0.2387 - accuracy: 0.9040 - val_loss: 0.4699 - val_accuracy: 0.7767\n",
      "Epoch 13/30\n",
      "48/48 [==============================] - 1s 13ms/step - loss: 0.2068 - accuracy: 0.9287 - val_loss: 0.5087 - val_accuracy: 0.7733\n",
      "Epoch 14/30\n",
      "48/48 [==============================] - 1s 13ms/step - loss: 0.1995 - accuracy: 0.9290 - val_loss: 0.5415 - val_accuracy: 0.7733\n",
      "Epoch 15/30\n",
      "48/48 [==============================] - 1s 14ms/step - loss: 0.1505 - accuracy: 0.9493 - val_loss: 0.5707 - val_accuracy: 0.7783\n",
      "Epoch 16/30\n",
      "48/48 [==============================] - 1s 10ms/step - loss: 0.1204 - accuracy: 0.9650 - val_loss: 0.5742 - val_accuracy: 0.7800\n",
      "Epoch 17/30\n",
      "48/48 [==============================] - 1s 14ms/step - loss: 0.1066 - accuracy: 0.9700 - val_loss: 0.6022 - val_accuracy: 0.7800\n",
      "Epoch 18/30\n",
      "48/48 [==============================] - 1s 11ms/step - loss: 0.0865 - accuracy: 0.9784 - val_loss: 0.6571 - val_accuracy: 0.7933\n",
      "Epoch 19/30\n",
      "48/48 [==============================] - 1s 12ms/step - loss: 0.0704 - accuracy: 0.9806 - val_loss: 0.7154 - val_accuracy: 0.7867\n",
      "Epoch 20/30\n",
      "48/48 [==============================] - 1s 13ms/step - loss: 0.0585 - accuracy: 0.9874 - val_loss: 0.7089 - val_accuracy: 0.7883\n",
      "Epoch 21/30\n",
      "48/48 [==============================] - 1s 14ms/step - loss: 0.0459 - accuracy: 0.9909 - val_loss: 0.7133 - val_accuracy: 0.7783\n",
      "Epoch 22/30\n",
      "48/48 [==============================] - 1s 15ms/step - loss: 0.0401 - accuracy: 0.9946 - val_loss: 0.7944 - val_accuracy: 0.7683\n",
      "Epoch 23/30\n",
      "48/48 [==============================] - 0s 10ms/step - loss: 0.0431 - accuracy: 0.9925 - val_loss: 0.8119 - val_accuracy: 0.7750\n",
      "Epoch 24/30\n",
      "48/48 [==============================] - 1s 15ms/step - loss: 0.0214 - accuracy: 0.9986 - val_loss: 0.8572 - val_accuracy: 0.7917\n",
      "Epoch 25/30\n",
      "48/48 [==============================] - 1s 11ms/step - loss: 0.0191 - accuracy: 0.9997 - val_loss: 0.8650 - val_accuracy: 0.7850\n",
      "Epoch 26/30\n",
      "48/48 [==============================] - 1s 11ms/step - loss: 0.0169 - accuracy: 0.9996 - val_loss: 0.9385 - val_accuracy: 0.7867\n",
      "Epoch 27/30\n",
      "48/48 [==============================] - 1s 15ms/step - loss: 0.0132 - accuracy: 0.9998 - val_loss: 0.9349 - val_accuracy: 0.7967\n",
      "Epoch 28/30\n",
      "48/48 [==============================] - 1s 18ms/step - loss: 0.0148 - accuracy: 0.9972 - val_loss: 0.9922 - val_accuracy: 0.7833\n",
      "Epoch 29/30\n",
      "48/48 [==============================] - 1s 13ms/step - loss: 0.0119 - accuracy: 1.0000 - val_loss: 0.9827 - val_accuracy: 0.7867\n",
      "Epoch 30/30\n",
      "48/48 [==============================] - 1s 20ms/step - loss: 0.0088 - accuracy: 0.9996 - val_loss: 1.0158 - val_accuracy: 0.7850\n"
     ]
    }
   ],
   "source": [
    "fit = model.fit(x_train, y_train, \n",
    "               epochs=30, batch_size = 50, \n",
    "               validation_data=(x_test, y_test),\n",
    "               shuffle=True)"
   ]
  },
  {
   "cell_type": "markdown",
   "metadata": {},
   "source": [
    "### Print the results\n",
    "As we can see in the plots below, the model does not converge (the validation loss increase in time)  since we have a small training set."
   ]
  },
  {
   "cell_type": "code",
   "execution_count": 11,
   "metadata": {},
   "outputs": [
    {
     "data": {
      "image/png": "[encoded data removed]",
      "text/plain": [
       "<Figure size 432x288 with 1 Axes>"
      ]
     },
     "metadata": {
      "needs_background": "light"
     },
     "output_type": "display_data"
    },
    {
     "data": {
      "image/png": "[encoded data removed]",
      "text/plain": [
       "<Figure size 432x288 with 1 Axes>"
      ]
     },
     "metadata": {
      "needs_background": "light"
     },
     "output_type": "display_data"
    }
   ],
   "source": [
    "for obs in ('accuracy', 'loss'):\n",
    "    plt.figure(figsize=(6,4))\n",
    "    plt.plot(fit.history[obs],'r', label=obs+ ' of training data')\n",
    "    #dashed line!!!\n",
    "    plt.plot(fit.history['val_'+obs], 'b--', label=obs+' of validation data')\n",
    "    plt.ylabel(obs)\n",
    "    plt.xlabel('Epoch')\n",
    "    plt.title('model ' + obs)\n",
    "    plt.legend()\n",
    "    plt.savefig('model_initial_dataset.png')\n",
    "    plt.show()"
   ]
  },
  {
   "cell_type": "markdown",
   "metadata": {},
   "source": [
    "#  <a name=\"2\">  2. Data augmentation </a>\n",
    "\n",
    "We augment the training data leaving unvariated the test data."
   ]
  },
  {
   "cell_type": "code",
   "execution_count": 12,
   "metadata": {},
   "outputs": [],
   "source": [
    "def rotate(l, n):\n",
    "    return l[n:] + l[:n]\n",
    "\n",
    "# print(sx[0],rotate(sx[0],-1))\n",
    "new_sx = np.zeros(16*(N_train)).astype(str)\n",
    "new_sy = np.zeros(16*(N_train))\n",
    "\n",
    "for j in range(N_train):\n",
    "    new_sy[16*j:16*(j+1)]=sy[j] #associa label\n",
    "    for i in range(16):\n",
    "        new_sx[16*j+i]=rotate(sx[j],-i)"
   ]
  },
  {
   "cell_type": "code",
   "execution_count": 13,
   "metadata": {},
   "outputs": [
    {
     "name": "stdout",
     "output_type": "stream",
     "text": [
      "39000\n",
      "16\n",
      "\n",
      "data: 39000\n",
      "train: 38400\n",
      "test: 600\n"
     ]
    }
   ],
   "source": [
    "N_train = len(new_sx)\n",
    "N = N_train + N_test\n",
    "print(N)\n",
    "Ls = len(new_sx[0])\n",
    "print(Ls)\n",
    "# print(new_sx[38400-16], new_sy[38400-16])\n",
    "\n",
    "print(f'\\ndata: {N}\\ntrain: {N_train}\\ntest: {N_test}')"
   ]
  },
  {
   "cell_type": "markdown",
   "metadata": {},
   "source": [
    "We repeat the same procedure as in the first section."
   ]
  },
  {
   "cell_type": "code",
   "execution_count": 14,
   "metadata": {},
   "outputs": [],
   "source": [
    "Q = ['A', 'C', 'G', 'T']\n",
    "Nc = 4\n",
    "onehc = {Q[i]: i for i in range(Nc)}\n",
    "# print(onehc)\n",
    "\n",
    "L = Ls * Nc\n",
    "# print(L)\n",
    "\n",
    "x_train = np.zeros((N_train,L))\n",
    "# print(x_train[0])\n",
    "\n",
    "for n in range(N_train):\n",
    "    for i in range(Ls):\n",
    "        x_train[n][i*4+onehc[new_sx[n][i]]] = 1\n",
    "        \n",
    "# print(new_sx[1])\n",
    "# print(x_train[1])\n",
    "\n",
    "y_train = new_sy\n",
    "\n",
    "# print(y_train.sum() / N_train) # we control that test and train are similiar\n",
    "# print(y_test.sum() / N_test)"
   ]
  },
  {
   "cell_type": "code",
   "execution_count": 15,
   "metadata": {},
   "outputs": [
    {
     "name": "stdout",
     "output_type": "stream",
     "text": [
      "Model: \"sequential_1\"\n",
      "_________________________________________________________________\n",
      "Layer (type)                 Output Shape              Param #   \n",
      "=================================================================\n",
      "dense_4 (Dense)              (None, 64)                4160      \n",
      "_________________________________________________________________\n",
      "dense_5 (Dense)              (None, 32)                2080      \n",
      "_________________________________________________________________\n",
      "dense_6 (Dense)              (None, 16)                528       \n",
      "_________________________________________________________________\n",
      "dropout_1 (Dropout)          (None, 16)                0         \n",
      "_________________________________________________________________\n",
      "dense_7 (Dense)              (None, 1)                 17        \n",
      "=================================================================\n",
      "Total params: 6,785\n",
      "Trainable params: 6,785\n",
      "Non-trainable params: 0\n",
      "_________________________________________________________________\n",
      "None\n"
     ]
    }
   ],
   "source": [
    "model=Sequential()\n",
    "model.add(Dense(L,input_shape=(L,),activation=\"relu\")) #add 1 layer\n",
    "model.add(Dense(L//2,activation=\"relu\")) #add 1 layer\n",
    "model.add(Dense(L//4,activation=\"relu\")) #add 1 layer\n",
    "model.add(Dropout(0.2)) #like this it should be set only on the last layer\n",
    "model.add(Dense(1,activation=\"sigmoid\"))\n",
    "\n",
    "print(model.summary())#printout a summary with all the number of parameter ecc\n",
    "\n",
    "model.compile(loss=\"binary_crossentropy\",\n",
    "             optimizer=\"adam\",\n",
    "             metrics=['accuracy']) #we use binary cross entropy,adam, and accuracy"
   ]
  },
  {
   "cell_type": "code",
   "execution_count": 16,
   "metadata": {
    "scrolled": true
   },
   "outputs": [
    {
     "name": "stdout",
     "output_type": "stream",
     "text": [
      "Epoch 1/30\n",
      "768/768 [==============================] - 7s 8ms/step - loss: 0.5282 - accuracy: 0.7527 - val_loss: 0.4668 - val_accuracy: 0.7833\n",
      "Epoch 2/30\n",
      "768/768 [==============================] - 6s 7ms/step - loss: 0.4365 - accuracy: 0.8017 - val_loss: 0.3965 - val_accuracy: 0.8150\n",
      "Epoch 3/30\n",
      "768/768 [==============================] - 6s 8ms/step - loss: 0.3502 - accuracy: 0.8482 - val_loss: 0.3275 - val_accuracy: 0.8567\n",
      "Epoch 4/30\n",
      "768/768 [==============================] - 6s 8ms/step - loss: 0.3024 - accuracy: 0.8760 - val_loss: 0.3072 - val_accuracy: 0.8700\n",
      "Epoch 5/30\n",
      "768/768 [==============================] - 5s 7ms/step - loss: 0.2791 - accuracy: 0.8872 - val_loss: 0.2929 - val_accuracy: 0.8883\n",
      "Epoch 6/30\n",
      "768/768 [==============================] - 6s 8ms/step - loss: 0.2621 - accuracy: 0.8982 - val_loss: 0.2864 - val_accuracy: 0.8900\n",
      "Epoch 7/30\n",
      "768/768 [==============================] - 5s 7ms/step - loss: 0.2491 - accuracy: 0.9070 - val_loss: 0.2809 - val_accuracy: 0.8950\n",
      "Epoch 8/30\n",
      "768/768 [==============================] - 5s 6ms/step - loss: 0.2439 - accuracy: 0.9088 - val_loss: 0.2887 - val_accuracy: 0.8933\n",
      "Epoch 9/30\n",
      "768/768 [==============================] - 5s 6ms/step - loss: 0.2354 - accuracy: 0.9147 - val_loss: 0.2802 - val_accuracy: 0.8917\n",
      "Epoch 10/30\n",
      "768/768 [==============================] - 5s 7ms/step - loss: 0.2282 - accuracy: 0.9180 - val_loss: 0.2638 - val_accuracy: 0.8933\n",
      "Epoch 11/30\n",
      "768/768 [==============================] - 5s 7ms/step - loss: 0.2242 - accuracy: 0.9186 - val_loss: 0.2722 - val_accuracy: 0.8900\n",
      "Epoch 12/30\n",
      "768/768 [==============================] - 5s 7ms/step - loss: 0.2192 - accuracy: 0.9208 - val_loss: 0.2755 - val_accuracy: 0.8850\n",
      "Epoch 13/30\n",
      "768/768 [==============================] - 5s 7ms/step - loss: 0.2108 - accuracy: 0.9228 - val_loss: 0.2593 - val_accuracy: 0.9017\n",
      "Epoch 14/30\n",
      "768/768 [==============================] - 5s 7ms/step - loss: 0.2090 - accuracy: 0.9256 - val_loss: 0.2836 - val_accuracy: 0.9000\n",
      "Epoch 15/30\n",
      "768/768 [==============================] - 5s 7ms/step - loss: 0.2077 - accuracy: 0.9256 - val_loss: 0.2744 - val_accuracy: 0.8917\n",
      "Epoch 16/30\n",
      "768/768 [==============================] - 5s 7ms/step - loss: 0.1992 - accuracy: 0.9304 - val_loss: 0.2654 - val_accuracy: 0.9000\n",
      "Epoch 17/30\n",
      "768/768 [==============================] - 5s 6ms/step - loss: 0.1955 - accuracy: 0.9321 - val_loss: 0.2600 - val_accuracy: 0.9000\n",
      "Epoch 18/30\n",
      "768/768 [==============================] - 5s 7ms/step - loss: 0.1905 - accuracy: 0.9328 - val_loss: 0.2872 - val_accuracy: 0.8983\n",
      "Epoch 19/30\n",
      "768/768 [==============================] - 5s 7ms/step - loss: 0.1882 - accuracy: 0.9319 - val_loss: 0.2607 - val_accuracy: 0.9017\n",
      "Epoch 20/30\n",
      "768/768 [==============================] - 5s 6ms/step - loss: 0.1873 - accuracy: 0.9347 - val_loss: 0.2800 - val_accuracy: 0.8883\n",
      "Epoch 21/30\n",
      "768/768 [==============================] - 5s 7ms/step - loss: 0.1859 - accuracy: 0.9350 - val_loss: 0.2686 - val_accuracy: 0.9033\n",
      "Epoch 22/30\n",
      "768/768 [==============================] - 5s 7ms/step - loss: 0.1851 - accuracy: 0.9356 - val_loss: 0.2811 - val_accuracy: 0.8967\n",
      "Epoch 23/30\n",
      "768/768 [==============================] - 5s 7ms/step - loss: 0.1809 - accuracy: 0.9371 - val_loss: 0.2770 - val_accuracy: 0.9017\n",
      "Epoch 24/30\n",
      "768/768 [==============================] - 6s 7ms/step - loss: 0.1795 - accuracy: 0.9388 - val_loss: 0.2696 - val_accuracy: 0.9000\n",
      "Epoch 25/30\n",
      "768/768 [==============================] - 5s 7ms/step - loss: 0.1804 - accuracy: 0.9378 - val_loss: 0.2509 - val_accuracy: 0.9067\n",
      "Epoch 26/30\n",
      "768/768 [==============================] - 5s 7ms/step - loss: 0.1777 - accuracy: 0.9376 - val_loss: 0.2695 - val_accuracy: 0.8983\n",
      "Epoch 27/30\n",
      "768/768 [==============================] - 5s 7ms/step - loss: 0.1745 - accuracy: 0.9405 - val_loss: 0.2899 - val_accuracy: 0.8917\n",
      "Epoch 28/30\n",
      "768/768 [==============================] - 6s 7ms/step - loss: 0.1724 - accuracy: 0.9404 - val_loss: 0.2590 - val_accuracy: 0.9100\n",
      "Epoch 29/30\n",
      "768/768 [==============================] - 5s 7ms/step - loss: 0.1744 - accuracy: 0.9381 - val_loss: 0.2738 - val_accuracy: 0.9000\n",
      "Epoch 30/30\n",
      "768/768 [==============================] - 5s 7ms/step - loss: 0.1735 - accuracy: 0.9403 - val_loss: 0.2838 - val_accuracy: 0.8983\n"
     ]
    }
   ],
   "source": [
    "fit = model.fit(x_train, y_train, \n",
    "               epochs=30, batch_size = 50, \n",
    "               validation_data=(x_test, y_test),\n",
    "               shuffle=True)"
   ]
  },
  {
   "cell_type": "code",
   "execution_count": 17,
   "metadata": {},
   "outputs": [
    {
     "data": {
      "image/png": "[encoded data removed]",
      "text/plain": [
       "<Figure size 432x288 with 1 Axes>"
      ]
     },
     "metadata": {
      "needs_background": "light"
     },
     "output_type": "display_data"
    },
    {
     "data": {
      "image/png": "[encoded data removed]",
      "text/plain": [
       "<Figure size 432x288 with 1 Axes>"
      ]
     },
     "metadata": {
      "needs_background": "light"
     },
     "output_type": "display_data"
    }
   ],
   "source": [
    "for obs in ('accuracy', 'loss'):\n",
    "    plt.figure(figsize=(6,4))\n",
    "    plt.plot(fit.history[obs],'r', label=obs+ ' of training data')\n",
    "    #dashed line!!!\n",
    "    plt.plot(fit.history['val_'+obs], 'b--', label=obs+' of validation data')\n",
    "    plt.ylabel(obs)\n",
    "    plt.xlabel('Epoch')\n",
    "    plt.title('model ' + obs + ' with more data')\n",
    "    plt.savefig('model_moredata.png')\n",
    "    plt.legend()\n",
    "    \n",
    "    plt.show()"
   ]
  },
  {
   "cell_type": "markdown",
   "metadata": {},
   "source": [
    "In the plot above we see that the situation improves by augmenting the training data, the validation loss significantly decrease."
   ]
  },
  {
   "cell_type": "markdown",
   "metadata": {},
   "source": [
    "# <a name=\"3\"> 3. Grid Search </a>\n",
    "In this section we use grid search function in order to get the best combination of activation, optimization algorithm and dropout value. We adopt the cross validation method with 4 folds.\n",
    "Since it is a long computation we save the result in a pickle file."
   ]
  },
  {
   "cell_type": "code",
   "execution_count": 18,
   "metadata": {},
   "outputs": [],
   "source": [
    "def compile_model(optimizer, activation, dropout_rate):\n",
    "    # create the mode\n",
    "    model=create_DNN(activation=activation, dropout_rate=dropout_rate)\n",
    "    # compile the model\n",
    "    model.compile(loss=\"binary_crossentropy\",\n",
    "                  optimizer=optimizer,\n",
    "                  metrics=['accuracy'])\n",
    "    return model"
   ]
  },
  {
   "cell_type": "code",
   "execution_count": 19,
   "metadata": {},
   "outputs": [],
   "source": [
    "def create_DNN(activation, dropout_rate):\n",
    "    \n",
    "    model=Sequential()\n",
    "    model.add(Dense(L,input_shape=(L,), activation=activation)) #add 1 layer\n",
    "    model.add(Dense(L//2, activation=activation)) #add 1 layer\n",
    "    model.add(Dense(L//4, activation=activation)) #add 1 layer\n",
    "    model.add(Dropout(dropout_rate)) #like this it should be set only on the last layer\n",
    "    model.add(Dense(1, activation=\"sigmoid\"))\n",
    "    \n",
    "    return model"
   ]
  },
  {
   "cell_type": "code",
   "execution_count": 20,
   "metadata": {
    "scrolled": true
   },
   "outputs": [
    {
     "name": "stdout",
     "output_type": "stream",
     "text": [
      "Best: 0.897812 using {'activation': 'sigmoid', 'dropout_rate': 0.2, 'optimizer': 'Adam'}\n",
      "0.756667 (0.010992) with: {'activation': 'sigmoid', 'dropout_rate': 0.0, 'optimizer': 'SGD'}\n",
      "0.876094 (0.005084) with: {'activation': 'sigmoid', 'dropout_rate': 0.0, 'optimizer': 'RMSprop'}\n",
      "0.894010 (0.007809) with: {'activation': 'sigmoid', 'dropout_rate': 0.0, 'optimizer': 'Adam'}\n",
      "0.893932 (0.007944) with: {'activation': 'sigmoid', 'dropout_rate': 0.0, 'optimizer': 'Adamax'}\n",
      "0.756667 (0.010992) with: {'activation': 'sigmoid', 'dropout_rate': 0.1, 'optimizer': 'SGD'}\n",
      "0.890260 (0.011459) with: {'activation': 'sigmoid', 'dropout_rate': 0.1, 'optimizer': 'RMSprop'}\n",
      "0.894740 (0.008001) with: {'activation': 'sigmoid', 'dropout_rate': 0.1, 'optimizer': 'Adam'}\n",
      "0.888438 (0.008139) with: {'activation': 'sigmoid', 'dropout_rate': 0.1, 'optimizer': 'Adamax'}\n",
      "0.756667 (0.010992) with: {'activation': 'sigmoid', 'dropout_rate': 0.2, 'optimizer': 'SGD'}\n",
      "0.878568 (0.024521) with: {'activation': 'sigmoid', 'dropout_rate': 0.2, 'optimizer': 'RMSprop'}\n",
      "0.897812 (0.007714) with: {'activation': 'sigmoid', 'dropout_rate': 0.2, 'optimizer': 'Adam'}\n",
      "0.883646 (0.004686) with: {'activation': 'sigmoid', 'dropout_rate': 0.2, 'optimizer': 'Adamax'}\n",
      "0.756667 (0.010992) with: {'activation': 'sigmoid', 'dropout_rate': 0.3, 'optimizer': 'SGD'}\n",
      "0.887370 (0.010079) with: {'activation': 'sigmoid', 'dropout_rate': 0.3, 'optimizer': 'RMSprop'}\n",
      "0.891823 (0.010991) with: {'activation': 'sigmoid', 'dropout_rate': 0.3, 'optimizer': 'Adam'}\n",
      "0.880234 (0.014023) with: {'activation': 'sigmoid', 'dropout_rate': 0.3, 'optimizer': 'Adamax'}\n",
      "0.756667 (0.010992) with: {'activation': 'sigmoid', 'dropout_rate': 0.4, 'optimizer': 'SGD'}\n",
      "0.883698 (0.009000) with: {'activation': 'sigmoid', 'dropout_rate': 0.4, 'optimizer': 'RMSprop'}\n",
      "0.894531 (0.007147) with: {'activation': 'sigmoid', 'dropout_rate': 0.4, 'optimizer': 'Adam'}\n",
      "0.860052 (0.010909) with: {'activation': 'sigmoid', 'dropout_rate': 0.4, 'optimizer': 'Adamax'}\n",
      "0.756667 (0.010992) with: {'activation': 'sigmoid', 'dropout_rate': 0.5, 'optimizer': 'SGD'}\n",
      "0.876328 (0.019853) with: {'activation': 'sigmoid', 'dropout_rate': 0.5, 'optimizer': 'RMSprop'}\n",
      "0.890208 (0.008808) with: {'activation': 'sigmoid', 'dropout_rate': 0.5, 'optimizer': 'Adam'}\n",
      "0.851042 (0.006030) with: {'activation': 'sigmoid', 'dropout_rate': 0.5, 'optimizer': 'Adamax'}\n",
      "0.756667 (0.010992) with: {'activation': 'sigmoid', 'dropout_rate': 0.6, 'optimizer': 'SGD'}\n",
      "0.878880 (0.008052) with: {'activation': 'sigmoid', 'dropout_rate': 0.6, 'optimizer': 'RMSprop'}\n",
      "0.881849 (0.014204) with: {'activation': 'sigmoid', 'dropout_rate': 0.6, 'optimizer': 'Adam'}\n",
      "0.829557 (0.003761) with: {'activation': 'sigmoid', 'dropout_rate': 0.6, 'optimizer': 'Adamax'}\n",
      "0.756667 (0.010992) with: {'activation': 'sigmoid', 'dropout_rate': 0.7, 'optimizer': 'SGD'}\n",
      "0.867578 (0.007192) with: {'activation': 'sigmoid', 'dropout_rate': 0.7, 'optimizer': 'RMSprop'}\n",
      "0.877891 (0.015937) with: {'activation': 'sigmoid', 'dropout_rate': 0.7, 'optimizer': 'Adam'}\n",
      "0.796510 (0.014933) with: {'activation': 'sigmoid', 'dropout_rate': 0.7, 'optimizer': 'Adamax'}\n",
      "0.756667 (0.010992) with: {'activation': 'sigmoid', 'dropout_rate': 0.8, 'optimizer': 'SGD'}\n",
      "0.853437 (0.006278) with: {'activation': 'sigmoid', 'dropout_rate': 0.8, 'optimizer': 'RMSprop'}\n",
      "0.864297 (0.001873) with: {'activation': 'sigmoid', 'dropout_rate': 0.8, 'optimizer': 'Adam'}\n",
      "0.788646 (0.011210) with: {'activation': 'sigmoid', 'dropout_rate': 0.8, 'optimizer': 'Adamax'}\n",
      "0.756667 (0.010992) with: {'activation': 'sigmoid', 'dropout_rate': 0.9, 'optimizer': 'SGD'}\n",
      "0.769375 (0.030031) with: {'activation': 'sigmoid', 'dropout_rate': 0.9, 'optimizer': 'RMSprop'}\n",
      "0.802161 (0.026489) with: {'activation': 'sigmoid', 'dropout_rate': 0.9, 'optimizer': 'Adam'}\n",
      "0.759297 (0.012882) with: {'activation': 'sigmoid', 'dropout_rate': 0.9, 'optimizer': 'Adamax'}\n",
      "0.867969 (0.008690) with: {'activation': 'relu', 'dropout_rate': 0.0, 'optimizer': 'SGD'}\n",
      "0.874896 (0.008704) with: {'activation': 'relu', 'dropout_rate': 0.0, 'optimizer': 'RMSprop'}\n",
      "0.868047 (0.012576) with: {'activation': 'relu', 'dropout_rate': 0.0, 'optimizer': 'Adam'}\n",
      "0.874635 (0.008536) with: {'activation': 'relu', 'dropout_rate': 0.0, 'optimizer': 'Adamax'}\n",
      "0.871224 (0.007249) with: {'activation': 'relu', 'dropout_rate': 0.1, 'optimizer': 'SGD'}\n",
      "0.875182 (0.008874) with: {'activation': 'relu', 'dropout_rate': 0.1, 'optimizer': 'RMSprop'}\n",
      "0.873125 (0.010616) with: {'activation': 'relu', 'dropout_rate': 0.1, 'optimizer': 'Adam'}\n",
      "0.873646 (0.008668) with: {'activation': 'relu', 'dropout_rate': 0.1, 'optimizer': 'Adamax'}\n",
      "0.866667 (0.009406) with: {'activation': 'relu', 'dropout_rate': 0.2, 'optimizer': 'SGD'}\n",
      "0.876875 (0.008947) with: {'activation': 'relu', 'dropout_rate': 0.2, 'optimizer': 'RMSprop'}\n",
      "0.873125 (0.012287) with: {'activation': 'relu', 'dropout_rate': 0.2, 'optimizer': 'Adam'}\n",
      "0.877266 (0.010008) with: {'activation': 'relu', 'dropout_rate': 0.2, 'optimizer': 'Adamax'}\n",
      "0.867734 (0.010875) with: {'activation': 'relu', 'dropout_rate': 0.3, 'optimizer': 'SGD'}\n",
      "0.873906 (0.010971) with: {'activation': 'relu', 'dropout_rate': 0.3, 'optimizer': 'RMSprop'}\n",
      "0.875286 (0.012828) with: {'activation': 'relu', 'dropout_rate': 0.3, 'optimizer': 'Adam'}\n",
      "0.879323 (0.008341) with: {'activation': 'relu', 'dropout_rate': 0.3, 'optimizer': 'Adamax'}\n",
      "0.865833 (0.010508) with: {'activation': 'relu', 'dropout_rate': 0.4, 'optimizer': 'SGD'}\n",
      "0.877604 (0.008579) with: {'activation': 'relu', 'dropout_rate': 0.4, 'optimizer': 'RMSprop'}\n",
      "0.876901 (0.011590) with: {'activation': 'relu', 'dropout_rate': 0.4, 'optimizer': 'Adam'}\n",
      "0.875130 (0.009849) with: {'activation': 'relu', 'dropout_rate': 0.4, 'optimizer': 'Adamax'}\n",
      "0.861693 (0.009471) with: {'activation': 'relu', 'dropout_rate': 0.5, 'optimizer': 'SGD'}\n",
      "0.878724 (0.010257) with: {'activation': 'relu', 'dropout_rate': 0.5, 'optimizer': 'RMSprop'}\n",
      "0.872865 (0.018560) with: {'activation': 'relu', 'dropout_rate': 0.5, 'optimizer': 'Adam'}\n",
      "0.880859 (0.008419) with: {'activation': 'relu', 'dropout_rate': 0.5, 'optimizer': 'Adamax'}\n",
      "0.864740 (0.008779) with: {'activation': 'relu', 'dropout_rate': 0.6, 'optimizer': 'SGD'}\n",
      "0.871641 (0.012084) with: {'activation': 'relu', 'dropout_rate': 0.6, 'optimizer': 'RMSprop'}\n",
      "0.878411 (0.013060) with: {'activation': 'relu', 'dropout_rate': 0.6, 'optimizer': 'Adam'}\n",
      "0.880104 (0.008258) with: {'activation': 'relu', 'dropout_rate': 0.6, 'optimizer': 'Adamax'}\n",
      "0.848359 (0.007170) with: {'activation': 'relu', 'dropout_rate': 0.7, 'optimizer': 'SGD'}\n",
      "0.867891 (0.012340) with: {'activation': 'relu', 'dropout_rate': 0.7, 'optimizer': 'RMSprop'}\n",
      "0.875026 (0.012966) with: {'activation': 'relu', 'dropout_rate': 0.7, 'optimizer': 'Adam'}\n",
      "0.881849 (0.009988) with: {'activation': 'relu', 'dropout_rate': 0.7, 'optimizer': 'Adamax'}\n",
      "0.826016 (0.019569) with: {'activation': 'relu', 'dropout_rate': 0.8, 'optimizer': 'SGD'}\n",
      "0.861563 (0.007606) with: {'activation': 'relu', 'dropout_rate': 0.8, 'optimizer': 'RMSprop'}\n",
      "0.880495 (0.015497) with: {'activation': 'relu', 'dropout_rate': 0.8, 'optimizer': 'Adam'}\n",
      "0.871667 (0.015890) with: {'activation': 'relu', 'dropout_rate': 0.8, 'optimizer': 'Adamax'}\n",
      "0.759792 (0.013120) with: {'activation': 'relu', 'dropout_rate': 0.9, 'optimizer': 'SGD'}\n",
      "0.798568 (0.039134) with: {'activation': 'relu', 'dropout_rate': 0.9, 'optimizer': 'RMSprop'}\n",
      "0.877214 (0.015183) with: {'activation': 'relu', 'dropout_rate': 0.9, 'optimizer': 'Adam'}\n",
      "0.867083 (0.019126) with: {'activation': 'relu', 'dropout_rate': 0.9, 'optimizer': 'Adamax'}\n",
      "0.860182 (0.008969) with: {'activation': 'elu', 'dropout_rate': 0.0, 'optimizer': 'SGD'}\n",
      "0.875260 (0.012574) with: {'activation': 'elu', 'dropout_rate': 0.0, 'optimizer': 'RMSprop'}\n",
      "0.872865 (0.004790) with: {'activation': 'elu', 'dropout_rate': 0.0, 'optimizer': 'Adam'}\n",
      "0.883047 (0.008515) with: {'activation': 'elu', 'dropout_rate': 0.0, 'optimizer': 'Adamax'}\n",
      "0.850339 (0.015116) with: {'activation': 'elu', 'dropout_rate': 0.1, 'optimizer': 'SGD'}\n",
      "0.888516 (0.009797) with: {'activation': 'elu', 'dropout_rate': 0.1, 'optimizer': 'RMSprop'}\n",
      "0.887786 (0.010221) with: {'activation': 'elu', 'dropout_rate': 0.1, 'optimizer': 'Adam'}\n",
      "0.890938 (0.010255) with: {'activation': 'elu', 'dropout_rate': 0.1, 'optimizer': 'Adamax'}\n",
      "0.851745 (0.014123) with: {'activation': 'elu', 'dropout_rate': 0.2, 'optimizer': 'SGD'}\n",
      "0.887578 (0.009750) with: {'activation': 'elu', 'dropout_rate': 0.2, 'optimizer': 'RMSprop'}\n",
      "0.884766 (0.007474) with: {'activation': 'elu', 'dropout_rate': 0.2, 'optimizer': 'Adam'}\n",
      "0.893672 (0.007851) with: {'activation': 'elu', 'dropout_rate': 0.2, 'optimizer': 'Adamax'}\n",
      "0.847109 (0.013008) with: {'activation': 'elu', 'dropout_rate': 0.3, 'optimizer': 'SGD'}\n",
      "0.886198 (0.015084) with: {'activation': 'elu', 'dropout_rate': 0.3, 'optimizer': 'RMSprop'}\n",
      "0.886484 (0.008969) with: {'activation': 'elu', 'dropout_rate': 0.3, 'optimizer': 'Adam'}\n",
      "0.891797 (0.007875) with: {'activation': 'elu', 'dropout_rate': 0.3, 'optimizer': 'Adamax'}\n",
      "0.832005 (0.003606) with: {'activation': 'elu', 'dropout_rate': 0.4, 'optimizer': 'SGD'}\n",
      "0.886302 (0.006898) with: {'activation': 'elu', 'dropout_rate': 0.4, 'optimizer': 'RMSprop'}\n",
      "0.888047 (0.010761) with: {'activation': 'elu', 'dropout_rate': 0.4, 'optimizer': 'Adam'}\n",
      "0.888984 (0.007046) with: {'activation': 'elu', 'dropout_rate': 0.4, 'optimizer': 'Adamax'}\n",
      "0.822422 (0.020759) with: {'activation': 'elu', 'dropout_rate': 0.5, 'optimizer': 'SGD'}\n",
      "0.886693 (0.008961) with: {'activation': 'elu', 'dropout_rate': 0.5, 'optimizer': 'RMSprop'}\n",
      "0.886745 (0.007680) with: {'activation': 'elu', 'dropout_rate': 0.5, 'optimizer': 'Adam'}\n",
      "0.889479 (0.007626) with: {'activation': 'elu', 'dropout_rate': 0.5, 'optimizer': 'Adamax'}\n",
      "0.818984 (0.020044) with: {'activation': 'elu', 'dropout_rate': 0.6, 'optimizer': 'SGD'}\n",
      "0.889922 (0.008874) with: {'activation': 'elu', 'dropout_rate': 0.6, 'optimizer': 'RMSprop'}\n",
      "0.890859 (0.012474) with: {'activation': 'elu', 'dropout_rate': 0.6, 'optimizer': 'Adam'}\n",
      "0.888516 (0.008062) with: {'activation': 'elu', 'dropout_rate': 0.6, 'optimizer': 'Adamax'}\n",
      "0.815885 (0.011676) with: {'activation': 'elu', 'dropout_rate': 0.7, 'optimizer': 'SGD'}\n",
      "0.886615 (0.014020) with: {'activation': 'elu', 'dropout_rate': 0.7, 'optimizer': 'RMSprop'}\n",
      "0.882891 (0.011606) with: {'activation': 'elu', 'dropout_rate': 0.7, 'optimizer': 'Adam'}\n",
      "0.891771 (0.007288) with: {'activation': 'elu', 'dropout_rate': 0.7, 'optimizer': 'Adamax'}\n",
      "0.800104 (0.015974) with: {'activation': 'elu', 'dropout_rate': 0.8, 'optimizer': 'SGD'}\n",
      "0.888620 (0.008782) with: {'activation': 'elu', 'dropout_rate': 0.8, 'optimizer': 'RMSprop'}\n",
      "0.888333 (0.007032) with: {'activation': 'elu', 'dropout_rate': 0.8, 'optimizer': 'Adam'}\n",
      "0.889271 (0.007703) with: {'activation': 'elu', 'dropout_rate': 0.8, 'optimizer': 'Adamax'}\n",
      "0.772943 (0.010675) with: {'activation': 'elu', 'dropout_rate': 0.9, 'optimizer': 'SGD'}\n",
      "0.881094 (0.005240) with: {'activation': 'elu', 'dropout_rate': 0.9, 'optimizer': 'RMSprop'}\n",
      "0.886615 (0.010000) with: {'activation': 'elu', 'dropout_rate': 0.9, 'optimizer': 'Adam'}\n",
      "0.886901 (0.010519) with: {'activation': 'elu', 'dropout_rate': 0.9, 'optimizer': 'Adamax'}\n"
     ]
    },
    {
     "name": "stderr",
     "output_type": "stream",
     "text": [
      "/home/daniele/anaconda3/lib/python3.8/site-packages/sklearn/base.py:329: UserWarning: Trying to unpickle estimator GridSearchCV from version 0.24.1 when using version 0.23.2. This might lead to breaking code or invalid results. Use at your own risk.\n",
      "  warnings.warn(\n"
     ]
    }
   ],
   "source": [
    "from sklearn.model_selection import GridSearchCV\n",
    "from tensorflow.keras.wrappers.scikit_learn import KerasClassifier\n",
    "\n",
    "# call Keras scikit wrapper\n",
    "model_gridsearch = KerasClassifier(build_fn=compile_model, \n",
    "                        epochs=50, \n",
    "                        batch_size=50, \n",
    "                        verbose=1)\n",
    "\n",
    "# list of allowed optional arguments for the optimizer, see compile_model()\n",
    "optimizer = ['SGD', 'RMSprop', 'Adam', 'Adamax']\n",
    "activation = ['sigmoid', 'relu', 'elu']\n",
    "dropout_rate = [0.0, 0.1, 0.2, 0.3, 0.4, 0.5, 0.6, 0.7, 0.8, 0.9]\n",
    "# define parameter dictionary\n",
    "param_grid = dict(optimizer=optimizer, activation=activation, dropout_rate=dropout_rate)\n",
    "\n",
    "# call scikit grid search module\n",
    "grid = GridSearchCV(estimator=model_gridsearch, param_grid=param_grid, n_jobs=-1, cv=4)\n",
    "\n",
    "# Loads grid_result from file if it exists\n",
    "if os.path.isfile(\"HEAVY_grid_result.pkl\"):\n",
    "    with open(\"HEAVY_grid_result.pkl\", \"rb\") as fid:\n",
    "        grid_result = pickle.load(fid)\n",
    "else:\n",
    "    grid_result = grid.fit(x_train,y_train)\n",
    "    with open(\"HEAVY_grid_result.pkl\", \"wb\") as fid:\n",
    "        pickle.dump(grid_result, fid)\n",
    "\n",
    "# summarize results\n",
    "print(\"Best: %f using %s\" % (grid_result.best_score_, grid_result.best_params_))\n",
    "means = grid_result.cv_results_['mean_test_score']\n",
    "stds = grid_result.cv_results_['std_test_score']\n",
    "params = grid_result.cv_results_['params']\n",
    "for mean, stdev, param in zip(means, stds, params):\n",
    "    print(\"%f (%f) with: %r\" % (mean, stdev, param))"
   ]
  },
  {
   "cell_type": "code",
   "execution_count": 21,
   "metadata": {},
   "outputs": [],
   "source": [
    "best_activation = \"sigmoid\"\n",
    "best_dropout = 0.2\n",
    "best_optimizer = \"Adam\""
   ]
  },
  {
   "cell_type": "markdown",
   "metadata": {},
   "source": [
    "Once we get the best parameters, we refit the model, and we show the results.\n",
    "We find out that the best combination is given by the use of the sigmoid activation function with Adam and dropout rate equal to 0,2"
   ]
  },
  {
   "cell_type": "code",
   "execution_count": 22,
   "metadata": {
    "scrolled": true
   },
   "outputs": [
    {
     "name": "stdout",
     "output_type": "stream",
     "text": [
      "Epoch 1/50\n",
      "768/768 [==============================] - 6s 7ms/step - loss: 0.5633 - accuracy: 0.7479 - val_loss: 0.4997 - val_accuracy: 0.7533\n",
      "Epoch 2/50\n",
      "768/768 [==============================] - 5s 6ms/step - loss: 0.4979 - accuracy: 0.7675 - val_loss: 0.4984 - val_accuracy: 0.7617\n",
      "Epoch 3/50\n",
      "768/768 [==============================] - 5s 7ms/step - loss: 0.5015 - accuracy: 0.7696 - val_loss: 0.4969 - val_accuracy: 0.7650\n",
      "Epoch 4/50\n",
      "768/768 [==============================] - 5s 7ms/step - loss: 0.4954 - accuracy: 0.7720 - val_loss: 0.4946 - val_accuracy: 0.7650\n",
      "Epoch 5/50\n",
      "768/768 [==============================] - 5s 7ms/step - loss: 0.4928 - accuracy: 0.7732 - val_loss: 0.4934 - val_accuracy: 0.7650\n",
      "Epoch 6/50\n",
      "768/768 [==============================] - 4s 6ms/step - loss: 0.4895 - accuracy: 0.7733 - val_loss: 0.4917 - val_accuracy: 0.7617\n",
      "Epoch 7/50\n",
      "768/768 [==============================] - 5s 7ms/step - loss: 0.4888 - accuracy: 0.7764 - val_loss: 0.4930 - val_accuracy: 0.7600\n",
      "Epoch 8/50\n",
      "768/768 [==============================] - 5s 7ms/step - loss: 0.4874 - accuracy: 0.7731 - val_loss: 0.4999 - val_accuracy: 0.7683\n",
      "Epoch 9/50\n",
      "768/768 [==============================] - 5s 6ms/step - loss: 0.4859 - accuracy: 0.7738 - val_loss: 0.4910 - val_accuracy: 0.7667\n",
      "Epoch 10/50\n",
      "768/768 [==============================] - 5s 7ms/step - loss: 0.4854 - accuracy: 0.7735 - val_loss: 0.4945 - val_accuracy: 0.7700\n",
      "Epoch 11/50\n",
      "768/768 [==============================] - 5s 6ms/step - loss: 0.4823 - accuracy: 0.7761 - val_loss: 0.4901 - val_accuracy: 0.7650\n",
      "Epoch 12/50\n",
      "768/768 [==============================] - 5s 6ms/step - loss: 0.4818 - accuracy: 0.7772 - val_loss: 0.4874 - val_accuracy: 0.7650\n",
      "Epoch 13/50\n",
      "768/768 [==============================] - 5s 7ms/step - loss: 0.4774 - accuracy: 0.7770 - val_loss: 0.4905 - val_accuracy: 0.7717\n",
      "Epoch 14/50\n",
      "768/768 [==============================] - 7s 9ms/step - loss: 0.4757 - accuracy: 0.7787 - val_loss: 0.4752 - val_accuracy: 0.7700\n",
      "Epoch 15/50\n",
      "768/768 [==============================] - 6s 8ms/step - loss: 0.4673 - accuracy: 0.7827 - val_loss: 0.4595 - val_accuracy: 0.7700\n",
      "Epoch 16/50\n",
      "768/768 [==============================] - 7s 9ms/step - loss: 0.4406 - accuracy: 0.7955 - val_loss: 0.4735 - val_accuracy: 0.7700\n",
      "Epoch 17/50\n",
      "768/768 [==============================] - 7s 9ms/step - loss: 0.4161 - accuracy: 0.8067 - val_loss: 0.4081 - val_accuracy: 0.8150\n",
      "Epoch 18/50\n",
      "768/768 [==============================] - 7s 9ms/step - loss: 0.3862 - accuracy: 0.8246 - val_loss: 0.3924 - val_accuracy: 0.8167\n",
      "Epoch 19/50\n",
      "768/768 [==============================] - 7s 9ms/step - loss: 0.3624 - accuracy: 0.8377 - val_loss: 0.3610 - val_accuracy: 0.8250\n",
      "Epoch 20/50\n",
      "768/768 [==============================] - 7s 9ms/step - loss: 0.3411 - accuracy: 0.8492 - val_loss: 0.3522 - val_accuracy: 0.8550\n",
      "Epoch 21/50\n",
      "768/768 [==============================] - 6s 8ms/step - loss: 0.3180 - accuracy: 0.8628 - val_loss: 0.3226 - val_accuracy: 0.8717\n",
      "Epoch 22/50\n",
      "768/768 [==============================] - 6s 8ms/step - loss: 0.3048 - accuracy: 0.8693 - val_loss: 0.3227 - val_accuracy: 0.8717\n",
      "Epoch 23/50\n",
      "768/768 [==============================] - 5s 7ms/step - loss: 0.2861 - accuracy: 0.8804 - val_loss: 0.2954 - val_accuracy: 0.8900\n",
      "Epoch 24/50\n",
      "768/768 [==============================] - 6s 7ms/step - loss: 0.2791 - accuracy: 0.8881 - val_loss: 0.2887 - val_accuracy: 0.8783\n",
      "Epoch 25/50\n",
      "768/768 [==============================] - 6s 7ms/step - loss: 0.2726 - accuracy: 0.8908 - val_loss: 0.2797 - val_accuracy: 0.8983\n",
      "Epoch 26/50\n",
      "768/768 [==============================] - 5s 7ms/step - loss: 0.2676 - accuracy: 0.8949 - val_loss: 0.2806 - val_accuracy: 0.8950\n",
      "Epoch 27/50\n",
      "768/768 [==============================] - 5s 7ms/step - loss: 0.2604 - accuracy: 0.8987 - val_loss: 0.2678 - val_accuracy: 0.9000\n",
      "Epoch 28/50\n",
      "768/768 [==============================] - 6s 7ms/step - loss: 0.2571 - accuracy: 0.9020 - val_loss: 0.2761 - val_accuracy: 0.8917\n",
      "Epoch 29/50\n",
      "768/768 [==============================] - 5s 7ms/step - loss: 0.2587 - accuracy: 0.9006 - val_loss: 0.2602 - val_accuracy: 0.9050\n",
      "Epoch 30/50\n",
      "768/768 [==============================] - 6s 8ms/step - loss: 0.2520 - accuracy: 0.9036 - val_loss: 0.2707 - val_accuracy: 0.8883\n",
      "Epoch 31/50\n",
      "768/768 [==============================] - 7s 9ms/step - loss: 0.2450 - accuracy: 0.9065 - val_loss: 0.2632 - val_accuracy: 0.9000\n",
      "Epoch 32/50\n",
      "768/768 [==============================] - 5s 7ms/step - loss: 0.2427 - accuracy: 0.9083 - val_loss: 0.2640 - val_accuracy: 0.8967\n",
      "Epoch 33/50\n",
      "768/768 [==============================] - 6s 8ms/step - loss: 0.2449 - accuracy: 0.9065 - val_loss: 0.2530 - val_accuracy: 0.9083\n",
      "Epoch 34/50\n",
      "768/768 [==============================] - 5s 7ms/step - loss: 0.2391 - accuracy: 0.9098 - val_loss: 0.2548 - val_accuracy: 0.9067\n",
      "Epoch 35/50\n",
      "768/768 [==============================] - 6s 7ms/step - loss: 0.2357 - accuracy: 0.9127 - val_loss: 0.2486 - val_accuracy: 0.9100\n",
      "Epoch 36/50\n",
      "768/768 [==============================] - 5s 7ms/step - loss: 0.2300 - accuracy: 0.9159 - val_loss: 0.2605 - val_accuracy: 0.8933\n",
      "Epoch 37/50\n",
      "768/768 [==============================] - 6s 8ms/step - loss: 0.2311 - accuracy: 0.9159 - val_loss: 0.2512 - val_accuracy: 0.9117\n",
      "Epoch 38/50\n",
      "768/768 [==============================] - 6s 7ms/step - loss: 0.2308 - accuracy: 0.9164 - val_loss: 0.2414 - val_accuracy: 0.9133\n",
      "Epoch 39/50\n",
      "768/768 [==============================] - 5s 7ms/step - loss: 0.2319 - accuracy: 0.9153 - val_loss: 0.2464 - val_accuracy: 0.9067\n",
      "Epoch 40/50\n",
      "768/768 [==============================] - 6s 7ms/step - loss: 0.2251 - accuracy: 0.9184 - val_loss: 0.2484 - val_accuracy: 0.9000\n",
      "Epoch 41/50\n",
      "768/768 [==============================] - 6s 7ms/step - loss: 0.2272 - accuracy: 0.9183 - val_loss: 0.2406 - val_accuracy: 0.9100\n",
      "Epoch 42/50\n",
      "768/768 [==============================] - 6s 8ms/step - loss: 0.2248 - accuracy: 0.9199 - val_loss: 0.2692 - val_accuracy: 0.9083\n",
      "Epoch 43/50\n",
      "768/768 [==============================] - 7s 8ms/step - loss: 0.2225 - accuracy: 0.9209 - val_loss: 0.2473 - val_accuracy: 0.9033\n",
      "Epoch 44/50\n",
      "768/768 [==============================] - 8s 10ms/step - loss: 0.2197 - accuracy: 0.9221 - val_loss: 0.2446 - val_accuracy: 0.9067\n",
      "Epoch 45/50\n",
      "768/768 [==============================] - 7s 9ms/step - loss: 0.2168 - accuracy: 0.9227 - val_loss: 0.2432 - val_accuracy: 0.9100\n",
      "Epoch 46/50\n",
      "768/768 [==============================] - 7s 9ms/step - loss: 0.2166 - accuracy: 0.9210 - val_loss: 0.2415 - val_accuracy: 0.9083\n",
      "Epoch 47/50\n",
      "768/768 [==============================] - 7s 9ms/step - loss: 0.2176 - accuracy: 0.9240 - val_loss: 0.2575 - val_accuracy: 0.9050\n",
      "Epoch 48/50\n",
      "768/768 [==============================] - 6s 8ms/step - loss: 0.2166 - accuracy: 0.9260 - val_loss: 0.2386 - val_accuracy: 0.9083\n",
      "Epoch 49/50\n",
      "768/768 [==============================] - 6s 8ms/step - loss: 0.2124 - accuracy: 0.9243 - val_loss: 0.2347 - val_accuracy: 0.9117\n",
      "Epoch 50/50\n",
      "768/768 [==============================] - 6s 7ms/step - loss: 0.2102 - accuracy: 0.9275 - val_loss: 0.2461 - val_accuracy: 0.9050\n"
     ]
    }
   ],
   "source": [
    "model=compile_model(optimizer=best_optimizer, activation=best_activation, dropout_rate=best_dropout)\n",
    "fit = model.fit(x_train, y_train, \n",
    "               epochs=50, batch_size = 50, \n",
    "               validation_data=(x_test, y_test),\n",
    "               shuffle=True)"
   ]
  },
  {
   "cell_type": "code",
   "execution_count": 23,
   "metadata": {},
   "outputs": [
    {
     "data": {
      "image/png": "[encoded data removed]",
      "text/plain": [
       "<Figure size 432x288 with 1 Axes>"
      ]
     },
     "metadata": {
      "needs_background": "light"
     },
     "output_type": "display_data"
    },
    {
     "data": {
      "image/png": "[encoded data removed]",
      "text/plain": [
       "<Figure size 432x288 with 1 Axes>"
      ]
     },
     "metadata": {
      "needs_background": "light"
     },
     "output_type": "display_data"
    }
   ],
   "source": [
    "for obs in ('accuracy', 'loss'):\n",
    "    plt.figure(figsize=(6,4))\n",
    "    plt.plot(fit.history[obs],'r', label=obs+ ' of training data')\n",
    "    #dashed line!!!\n",
    "    plt.plot(fit.history['val_'+obs], 'b--', label=obs+' of validation data')\n",
    "    plt.ylabel(obs)\n",
    "    plt.xlabel('Epoch')\n",
    "    plt.title('model ' + obs + ' with more data for the best parameters')\n",
    "    plt.savefig('model_bestparams.png')\n",
    "    plt.legend()\n",
    "    plt.show()"
   ]
  },
  {
   "cell_type": "markdown",
   "metadata": {},
   "source": [
    "# <a name=\"4\"> 4. Rescalig Data </a>"
   ]
  },
  {
   "cell_type": "markdown",
   "metadata": {},
   "source": [
    "We rescale the data in order to see the differences with the previous case. "
   ]
  },
  {
   "cell_type": "code",
   "execution_count": 24,
   "metadata": {},
   "outputs": [],
   "source": [
    "x_train = x_train-0.5\n",
    "x_test = x_test-0.5"
   ]
  },
  {
   "cell_type": "code",
   "execution_count": 26,
   "metadata": {
    "scrolled": true
   },
   "outputs": [
    {
     "name": "stdout",
     "output_type": "stream",
     "text": [
      "Best: 0.895755 using {'activation': 'sigmoid', 'dropout_rate': 0.0, 'optimizer': 'Adam'}\n",
      "0.756667 (0.010992) with: {'activation': 'sigmoid', 'dropout_rate': 0.0, 'optimizer': 'SGD'}\n",
      "0.889557 (0.017171) with: {'activation': 'sigmoid', 'dropout_rate': 0.0, 'optimizer': 'RMSprop'}\n",
      "0.895755 (0.009398) with: {'activation': 'sigmoid', 'dropout_rate': 0.0, 'optimizer': 'Adam'}\n",
      "0.892500 (0.007698) with: {'activation': 'sigmoid', 'dropout_rate': 0.0, 'optimizer': 'Adamax'}\n",
      "0.756667 (0.010992) with: {'activation': 'sigmoid', 'dropout_rate': 0.1, 'optimizer': 'SGD'}\n",
      "0.895182 (0.008114) with: {'activation': 'sigmoid', 'dropout_rate': 0.1, 'optimizer': 'RMSprop'}\n",
      "0.891536 (0.009415) with: {'activation': 'sigmoid', 'dropout_rate': 0.1, 'optimizer': 'Adam'}\n",
      "0.892292 (0.010545) with: {'activation': 'sigmoid', 'dropout_rate': 0.1, 'optimizer': 'Adamax'}\n",
      "0.756667 (0.010992) with: {'activation': 'sigmoid', 'dropout_rate': 0.2, 'optimizer': 'SGD'}\n",
      "0.895078 (0.012705) with: {'activation': 'sigmoid', 'dropout_rate': 0.2, 'optimizer': 'RMSprop'}\n",
      "0.893594 (0.006968) with: {'activation': 'sigmoid', 'dropout_rate': 0.2, 'optimizer': 'Adam'}\n",
      "0.885130 (0.006370) with: {'activation': 'sigmoid', 'dropout_rate': 0.2, 'optimizer': 'Adamax'}\n",
      "0.756667 (0.010992) with: {'activation': 'sigmoid', 'dropout_rate': 0.3, 'optimizer': 'SGD'}\n",
      "0.895000 (0.008526) with: {'activation': 'sigmoid', 'dropout_rate': 0.3, 'optimizer': 'RMSprop'}\n",
      "0.890208 (0.011820) with: {'activation': 'sigmoid', 'dropout_rate': 0.3, 'optimizer': 'Adam'}\n",
      "0.884375 (0.012675) with: {'activation': 'sigmoid', 'dropout_rate': 0.3, 'optimizer': 'Adamax'}\n",
      "0.756667 (0.010992) with: {'activation': 'sigmoid', 'dropout_rate': 0.4, 'optimizer': 'SGD'}\n",
      "0.894531 (0.013320) with: {'activation': 'sigmoid', 'dropout_rate': 0.4, 'optimizer': 'RMSprop'}\n",
      "0.886849 (0.007253) with: {'activation': 'sigmoid', 'dropout_rate': 0.4, 'optimizer': 'Adam'}\n",
      "0.865964 (0.011496) with: {'activation': 'sigmoid', 'dropout_rate': 0.4, 'optimizer': 'Adamax'}\n",
      "0.756667 (0.010992) with: {'activation': 'sigmoid', 'dropout_rate': 0.5, 'optimizer': 'SGD'}\n",
      "0.883568 (0.012498) with: {'activation': 'sigmoid', 'dropout_rate': 0.5, 'optimizer': 'RMSprop'}\n",
      "0.889792 (0.009218) with: {'activation': 'sigmoid', 'dropout_rate': 0.5, 'optimizer': 'Adam'}\n",
      "0.862292 (0.004009) with: {'activation': 'sigmoid', 'dropout_rate': 0.5, 'optimizer': 'Adamax'}\n",
      "0.756667 (0.010992) with: {'activation': 'sigmoid', 'dropout_rate': 0.6, 'optimizer': 'SGD'}\n",
      "0.893177 (0.009587) with: {'activation': 'sigmoid', 'dropout_rate': 0.6, 'optimizer': 'RMSprop'}\n",
      "0.882891 (0.010953) with: {'activation': 'sigmoid', 'dropout_rate': 0.6, 'optimizer': 'Adam'}\n",
      "0.846042 (0.005645) with: {'activation': 'sigmoid', 'dropout_rate': 0.6, 'optimizer': 'Adamax'}\n",
      "0.756667 (0.010992) with: {'activation': 'sigmoid', 'dropout_rate': 0.7, 'optimizer': 'SGD'}\n",
      "0.883203 (0.010968) with: {'activation': 'sigmoid', 'dropout_rate': 0.7, 'optimizer': 'RMSprop'}\n",
      "0.875365 (0.011885) with: {'activation': 'sigmoid', 'dropout_rate': 0.7, 'optimizer': 'Adam'}\n",
      "0.843359 (0.023090) with: {'activation': 'sigmoid', 'dropout_rate': 0.7, 'optimizer': 'Adamax'}\n",
      "0.756667 (0.010992) with: {'activation': 'sigmoid', 'dropout_rate': 0.8, 'optimizer': 'SGD'}\n",
      "0.873281 (0.010199) with: {'activation': 'sigmoid', 'dropout_rate': 0.8, 'optimizer': 'RMSprop'}\n",
      "0.865964 (0.006642) with: {'activation': 'sigmoid', 'dropout_rate': 0.8, 'optimizer': 'Adam'}\n",
      "0.792422 (0.023888) with: {'activation': 'sigmoid', 'dropout_rate': 0.8, 'optimizer': 'Adamax'}\n",
      "0.756667 (0.010992) with: {'activation': 'sigmoid', 'dropout_rate': 0.9, 'optimizer': 'SGD'}\n",
      "0.759089 (0.009903) with: {'activation': 'sigmoid', 'dropout_rate': 0.9, 'optimizer': 'RMSprop'}\n",
      "0.810469 (0.028337) with: {'activation': 'sigmoid', 'dropout_rate': 0.9, 'optimizer': 'Adam'}\n",
      "0.767266 (0.009790) with: {'activation': 'sigmoid', 'dropout_rate': 0.9, 'optimizer': 'Adamax'}\n",
      "0.872578 (0.008719) with: {'activation': 'relu', 'dropout_rate': 0.0, 'optimizer': 'SGD'}\n",
      "0.874089 (0.009416) with: {'activation': 'relu', 'dropout_rate': 0.0, 'optimizer': 'RMSprop'}\n",
      "0.870911 (0.010318) with: {'activation': 'relu', 'dropout_rate': 0.0, 'optimizer': 'Adam'}\n",
      "0.874115 (0.010926) with: {'activation': 'relu', 'dropout_rate': 0.0, 'optimizer': 'Adamax'}\n",
      "0.870156 (0.012040) with: {'activation': 'relu', 'dropout_rate': 0.1, 'optimizer': 'SGD'}\n",
      "0.871589 (0.004773) with: {'activation': 'relu', 'dropout_rate': 0.1, 'optimizer': 'RMSprop'}\n",
      "0.875313 (0.009283) with: {'activation': 'relu', 'dropout_rate': 0.1, 'optimizer': 'Adam'}\n",
      "0.873594 (0.009514) with: {'activation': 'relu', 'dropout_rate': 0.1, 'optimizer': 'Adamax'}\n",
      "0.866510 (0.011517) with: {'activation': 'relu', 'dropout_rate': 0.2, 'optimizer': 'SGD'}\n",
      "0.878594 (0.009166) with: {'activation': 'relu', 'dropout_rate': 0.2, 'optimizer': 'RMSprop'}\n",
      "0.875130 (0.010831) with: {'activation': 'relu', 'dropout_rate': 0.2, 'optimizer': 'Adam'}\n",
      "0.878021 (0.012929) with: {'activation': 'relu', 'dropout_rate': 0.2, 'optimizer': 'Adamax'}\n",
      "0.867005 (0.006565) with: {'activation': 'relu', 'dropout_rate': 0.3, 'optimizer': 'SGD'}\n",
      "0.878724 (0.011625) with: {'activation': 'relu', 'dropout_rate': 0.3, 'optimizer': 'RMSprop'}\n",
      "0.878490 (0.007894) with: {'activation': 'relu', 'dropout_rate': 0.3, 'optimizer': 'Adam'}\n",
      "0.880625 (0.011354) with: {'activation': 'relu', 'dropout_rate': 0.3, 'optimizer': 'Adamax'}\n",
      "0.863906 (0.005823) with: {'activation': 'relu', 'dropout_rate': 0.4, 'optimizer': 'SGD'}\n",
      "0.876641 (0.008782) with: {'activation': 'relu', 'dropout_rate': 0.4, 'optimizer': 'RMSprop'}\n",
      "0.877240 (0.014177) with: {'activation': 'relu', 'dropout_rate': 0.4, 'optimizer': 'Adam'}\n",
      "0.880234 (0.014726) with: {'activation': 'relu', 'dropout_rate': 0.4, 'optimizer': 'Adamax'}\n",
      "0.864453 (0.012078) with: {'activation': 'relu', 'dropout_rate': 0.5, 'optimizer': 'SGD'}\n",
      "0.875260 (0.011449) with: {'activation': 'relu', 'dropout_rate': 0.5, 'optimizer': 'RMSprop'}\n",
      "0.877396 (0.012897) with: {'activation': 'relu', 'dropout_rate': 0.5, 'optimizer': 'Adam'}\n",
      "0.883984 (0.011629) with: {'activation': 'relu', 'dropout_rate': 0.5, 'optimizer': 'Adamax'}\n",
      "0.854167 (0.010971) with: {'activation': 'relu', 'dropout_rate': 0.6, 'optimizer': 'SGD'}\n",
      "0.874271 (0.015720) with: {'activation': 'relu', 'dropout_rate': 0.6, 'optimizer': 'RMSprop'}\n",
      "0.878724 (0.008856) with: {'activation': 'relu', 'dropout_rate': 0.6, 'optimizer': 'Adam'}\n",
      "0.880859 (0.006214) with: {'activation': 'relu', 'dropout_rate': 0.6, 'optimizer': 'Adamax'}\n",
      "0.840677 (0.019181) with: {'activation': 'relu', 'dropout_rate': 0.7, 'optimizer': 'SGD'}\n",
      "0.867656 (0.013643) with: {'activation': 'relu', 'dropout_rate': 0.7, 'optimizer': 'RMSprop'}\n",
      "0.877839 (0.009008) with: {'activation': 'relu', 'dropout_rate': 0.7, 'optimizer': 'Adam'}\n",
      "0.883516 (0.009490) with: {'activation': 'relu', 'dropout_rate': 0.7, 'optimizer': 'Adamax'}\n",
      "0.804245 (0.027913) with: {'activation': 'relu', 'dropout_rate': 0.8, 'optimizer': 'SGD'}\n",
      "0.870703 (0.012978) with: {'activation': 'relu', 'dropout_rate': 0.8, 'optimizer': 'RMSprop'}\n",
      "0.882474 (0.012823) with: {'activation': 'relu', 'dropout_rate': 0.8, 'optimizer': 'Adam'}\n",
      "0.876016 (0.016182) with: {'activation': 'relu', 'dropout_rate': 0.8, 'optimizer': 'Adamax'}\n",
      "0.759974 (0.010086) with: {'activation': 'relu', 'dropout_rate': 0.9, 'optimizer': 'SGD'}\n",
      "0.817839 (0.041184) with: {'activation': 'relu', 'dropout_rate': 0.9, 'optimizer': 'RMSprop'}\n",
      "0.872812 (0.015242) with: {'activation': 'relu', 'dropout_rate': 0.9, 'optimizer': 'Adam'}\n",
      "0.859089 (0.014988) with: {'activation': 'relu', 'dropout_rate': 0.9, 'optimizer': 'Adamax'}\n",
      "0.851302 (0.016402) with: {'activation': 'elu', 'dropout_rate': 0.0, 'optimizer': 'SGD'}\n",
      "0.879375 (0.011906) with: {'activation': 'elu', 'dropout_rate': 0.0, 'optimizer': 'RMSprop'}\n",
      "0.876094 (0.007993) with: {'activation': 'elu', 'dropout_rate': 0.0, 'optimizer': 'Adam'}\n",
      "0.882214 (0.009084) with: {'activation': 'elu', 'dropout_rate': 0.0, 'optimizer': 'Adamax'}\n",
      "0.851536 (0.018361) with: {'activation': 'elu', 'dropout_rate': 0.1, 'optimizer': 'SGD'}\n",
      "0.888229 (0.007076) with: {'activation': 'elu', 'dropout_rate': 0.1, 'optimizer': 'RMSprop'}\n",
      "0.883125 (0.010767) with: {'activation': 'elu', 'dropout_rate': 0.1, 'optimizer': 'Adam'}\n",
      "0.887812 (0.008384) with: {'activation': 'elu', 'dropout_rate': 0.1, 'optimizer': 'Adamax'}\n",
      "0.849505 (0.016377) with: {'activation': 'elu', 'dropout_rate': 0.2, 'optimizer': 'SGD'}\n",
      "0.887526 (0.011091) with: {'activation': 'elu', 'dropout_rate': 0.2, 'optimizer': 'RMSprop'}\n",
      "0.887839 (0.009571) with: {'activation': 'elu', 'dropout_rate': 0.2, 'optimizer': 'Adam'}\n",
      "0.889062 (0.007811) with: {'activation': 'elu', 'dropout_rate': 0.2, 'optimizer': 'Adamax'}\n",
      "0.839818 (0.014876) with: {'activation': 'elu', 'dropout_rate': 0.3, 'optimizer': 'SGD'}\n",
      "0.886589 (0.011469) with: {'activation': 'elu', 'dropout_rate': 0.3, 'optimizer': 'RMSprop'}\n",
      "0.888411 (0.012016) with: {'activation': 'elu', 'dropout_rate': 0.3, 'optimizer': 'Adam'}\n",
      "0.882266 (0.007624) with: {'activation': 'elu', 'dropout_rate': 0.3, 'optimizer': 'Adamax'}\n",
      "0.834453 (0.016286) with: {'activation': 'elu', 'dropout_rate': 0.4, 'optimizer': 'SGD'}\n",
      "0.889531 (0.006375) with: {'activation': 'elu', 'dropout_rate': 0.4, 'optimizer': 'RMSprop'}\n",
      "0.889740 (0.012333) with: {'activation': 'elu', 'dropout_rate': 0.4, 'optimizer': 'Adam'}\n",
      "0.889740 (0.008451) with: {'activation': 'elu', 'dropout_rate': 0.4, 'optimizer': 'Adamax'}\n",
      "0.832682 (0.021337) with: {'activation': 'elu', 'dropout_rate': 0.5, 'optimizer': 'SGD'}\n",
      "0.888750 (0.005422) with: {'activation': 'elu', 'dropout_rate': 0.5, 'optimizer': 'RMSprop'}\n",
      "0.885859 (0.007245) with: {'activation': 'elu', 'dropout_rate': 0.5, 'optimizer': 'Adam'}\n",
      "0.886615 (0.011556) with: {'activation': 'elu', 'dropout_rate': 0.5, 'optimizer': 'Adamax'}\n",
      "0.819479 (0.015210) with: {'activation': 'elu', 'dropout_rate': 0.6, 'optimizer': 'SGD'}\n",
      "0.888802 (0.009640) with: {'activation': 'elu', 'dropout_rate': 0.6, 'optimizer': 'RMSprop'}\n",
      "0.887318 (0.013583) with: {'activation': 'elu', 'dropout_rate': 0.6, 'optimizer': 'Adam'}\n",
      "0.890677 (0.009678) with: {'activation': 'elu', 'dropout_rate': 0.6, 'optimizer': 'Adamax'}\n",
      "0.808984 (0.012424) with: {'activation': 'elu', 'dropout_rate': 0.7, 'optimizer': 'SGD'}\n",
      "0.884922 (0.011273) with: {'activation': 'elu', 'dropout_rate': 0.7, 'optimizer': 'RMSprop'}\n",
      "0.884531 (0.007993) with: {'activation': 'elu', 'dropout_rate': 0.7, 'optimizer': 'Adam'}\n",
      "0.887109 (0.009317) with: {'activation': 'elu', 'dropout_rate': 0.7, 'optimizer': 'Adamax'}\n",
      "0.790417 (0.008968) with: {'activation': 'elu', 'dropout_rate': 0.8, 'optimizer': 'SGD'}\n",
      "0.885937 (0.016743) with: {'activation': 'elu', 'dropout_rate': 0.8, 'optimizer': 'RMSprop'}\n",
      "0.887552 (0.008254) with: {'activation': 'elu', 'dropout_rate': 0.8, 'optimizer': 'Adam'}\n",
      "0.892318 (0.008616) with: {'activation': 'elu', 'dropout_rate': 0.8, 'optimizer': 'Adamax'}\n",
      "0.767448 (0.009816) with: {'activation': 'elu', 'dropout_rate': 0.9, 'optimizer': 'SGD'}\n",
      "0.884167 (0.013652) with: {'activation': 'elu', 'dropout_rate': 0.9, 'optimizer': 'RMSprop'}\n",
      "0.886354 (0.011542) with: {'activation': 'elu', 'dropout_rate': 0.9, 'optimizer': 'Adam'}\n",
      "0.882656 (0.009130) with: {'activation': 'elu', 'dropout_rate': 0.9, 'optimizer': 'Adamax'}\n"
     ]
    }
   ],
   "source": [
    "from sklearn.model_selection import GridSearchCV\n",
    "from tensorflow.keras.wrappers.scikit_learn import KerasClassifier\n",
    "\n",
    "# call Keras scikit wrapper\n",
    "model_gridsearch = KerasClassifier(build_fn=compile_model, \n",
    "                        epochs=50, \n",
    "                        batch_size=50, \n",
    "                        verbose=1)\n",
    "\n",
    "# list of allowed optional arguments for the optimizer, see compile_model()\n",
    "optimizer = ['SGD', 'RMSprop', 'Adam', 'Adamax']\n",
    "activation = ['sigmoid', 'relu', 'elu']\n",
    "dropout_rate = [0.0, 0.1, 0.2, 0.3, 0.4, 0.5, 0.6, 0.7, 0.8, 0.9]\n",
    "# define parameter dictionary\n",
    "param_grid = dict(optimizer=optimizer, activation=activation, dropout_rate=dropout_rate)\n",
    "\n",
    "# call scikit grid search module\n",
    "grid = GridSearchCV(estimator=model_gridsearch, param_grid=param_grid, n_jobs=-1, cv=4)\n",
    "\n",
    "# Loads grid_result from file if it exists\n",
    "if os.path.isfile(\"HEAVY_grid_result_rescaled.pkl\"):\n",
    "    with open(\"HEAVY_grid_result_rescaled.pkl\", \"rb\") as fid:\n",
    "        grid_result = pickle.load(fid)\n",
    "else:\n",
    "    grid_result = grid.fit(x_train,y_train)\n",
    "    with open(\"HEAVY_grid_result_rescaled.pkl\", \"wb\") as fid:\n",
    "        pickle.dump(grid_result, fid)\n",
    "\n",
    "# summarize results\n",
    "print(\"Best: %f using %s\" % (grid_result.best_score_, grid_result.best_params_))\n",
    "means = grid_result.cv_results_['mean_test_score']\n",
    "stds = grid_result.cv_results_['std_test_score']\n",
    "params = grid_result.cv_results_['params']\n",
    "for mean, stdev, param in zip(means, stds, params):\n",
    "    print(\"%f (%f) with: %r\" % (mean, stdev, param))"
   ]
  },
  {
   "cell_type": "code",
   "execution_count": 27,
   "metadata": {},
   "outputs": [],
   "source": [
    "best_activation ='sigmoid'\n",
    "best_dropout = 0\n",
    "best_optimizer = 'Adam'"
   ]
  },
  {
   "cell_type": "code",
   "execution_count": 29,
   "metadata": {
    "scrolled": true
   },
   "outputs": [
    {
     "name": "stdout",
     "output_type": "stream",
     "text": [
      "Epoch 1/70\n",
      "768/768 [==============================] - 7s 8ms/step - loss: 0.6291 - accuracy: 0.6691 - val_loss: 0.5129 - val_accuracy: 0.7600\n",
      "Epoch 2/70\n",
      "768/768 [==============================] - 6s 8ms/step - loss: 0.4961 - accuracy: 0.7711 - val_loss: 0.5020 - val_accuracy: 0.7617\n",
      "Epoch 3/70\n",
      "768/768 [==============================] - 7s 9ms/step - loss: 0.4982 - accuracy: 0.7744 - val_loss: 0.4998 - val_accuracy: 0.7650\n",
      "Epoch 4/70\n",
      "768/768 [==============================] - 6s 8ms/step - loss: 0.4912 - accuracy: 0.7745 - val_loss: 0.4959 - val_accuracy: 0.7633\n",
      "Epoch 5/70\n",
      "768/768 [==============================] - 5s 7ms/step - loss: 0.4920 - accuracy: 0.7749 - val_loss: 0.4950 - val_accuracy: 0.7667\n",
      "Epoch 6/70\n",
      "768/768 [==============================] - 6s 7ms/step - loss: 0.4886 - accuracy: 0.7755 - val_loss: 0.4921 - val_accuracy: 0.7617\n",
      "Epoch 7/70\n",
      "768/768 [==============================] - 6s 7ms/step - loss: 0.4847 - accuracy: 0.7808 - val_loss: 0.4879 - val_accuracy: 0.7700\n",
      "Epoch 8/70\n",
      "768/768 [==============================] - 5s 7ms/step - loss: 0.4792 - accuracy: 0.7776 - val_loss: 0.4908 - val_accuracy: 0.7633\n",
      "Epoch 9/70\n",
      "768/768 [==============================] - 5s 7ms/step - loss: 0.4706 - accuracy: 0.7828 - val_loss: 0.4749 - val_accuracy: 0.7733\n",
      "Epoch 10/70\n",
      "768/768 [==============================] - 5s 7ms/step - loss: 0.4566 - accuracy: 0.7910 - val_loss: 0.4592 - val_accuracy: 0.7750\n",
      "Epoch 11/70\n",
      "768/768 [==============================] - 5s 7ms/step - loss: 0.4331 - accuracy: 0.8051 - val_loss: 0.4312 - val_accuracy: 0.8000\n",
      "Epoch 12/70\n",
      "768/768 [==============================] - 5s 7ms/step - loss: 0.3919 - accuracy: 0.8233 - val_loss: 0.3934 - val_accuracy: 0.8200\n",
      "Epoch 13/70\n",
      "768/768 [==============================] - 5s 7ms/step - loss: 0.3425 - accuracy: 0.8511 - val_loss: 0.3514 - val_accuracy: 0.8450\n",
      "Epoch 14/70\n",
      "768/768 [==============================] - 5s 7ms/step - loss: 0.3138 - accuracy: 0.8678 - val_loss: 0.3319 - val_accuracy: 0.8517\n",
      "Epoch 15/70\n",
      "768/768 [==============================] - 5s 7ms/step - loss: 0.2934 - accuracy: 0.8779 - val_loss: 0.3298 - val_accuracy: 0.8600\n",
      "Epoch 16/70\n",
      "768/768 [==============================] - 5s 7ms/step - loss: 0.2775 - accuracy: 0.8884 - val_loss: 0.3106 - val_accuracy: 0.8700\n",
      "Epoch 17/70\n",
      "768/768 [==============================] - 5s 7ms/step - loss: 0.2662 - accuracy: 0.8953 - val_loss: 0.2942 - val_accuracy: 0.8883\n",
      "Epoch 18/70\n",
      "768/768 [==============================] - 5s 7ms/step - loss: 0.2624 - accuracy: 0.8984 - val_loss: 0.2902 - val_accuracy: 0.8933\n",
      "Epoch 19/70\n",
      "768/768 [==============================] - 6s 8ms/step - loss: 0.2556 - accuracy: 0.9018 - val_loss: 0.2863 - val_accuracy: 0.8883\n",
      "Epoch 20/70\n",
      "768/768 [==============================] - 5s 7ms/step - loss: 0.2536 - accuracy: 0.9050 - val_loss: 0.2892 - val_accuracy: 0.8867\n",
      "Epoch 21/70\n",
      "768/768 [==============================] - 5s 7ms/step - loss: 0.2494 - accuracy: 0.9063 - val_loss: 0.2759 - val_accuracy: 0.8867\n",
      "Epoch 22/70\n",
      "768/768 [==============================] - 5s 7ms/step - loss: 0.2481 - accuracy: 0.9073 - val_loss: 0.2751 - val_accuracy: 0.8917\n",
      "Epoch 23/70\n",
      "768/768 [==============================] - 6s 7ms/step - loss: 0.2424 - accuracy: 0.9111 - val_loss: 0.2655 - val_accuracy: 0.8967\n",
      "Epoch 24/70\n",
      "768/768 [==============================] - 5s 7ms/step - loss: 0.2427 - accuracy: 0.9125 - val_loss: 0.2699 - val_accuracy: 0.8883\n",
      "Epoch 25/70\n",
      "768/768 [==============================] - 5s 7ms/step - loss: 0.2416 - accuracy: 0.9101 - val_loss: 0.2600 - val_accuracy: 0.9033\n",
      "Epoch 26/70\n",
      "768/768 [==============================] - 5s 7ms/step - loss: 0.2413 - accuracy: 0.9103 - val_loss: 0.2641 - val_accuracy: 0.9067\n",
      "Epoch 27/70\n",
      "768/768 [==============================] - 5s 7ms/step - loss: 0.2366 - accuracy: 0.9153 - val_loss: 0.2536 - val_accuracy: 0.9100\n",
      "Epoch 28/70\n",
      "768/768 [==============================] - 5s 7ms/step - loss: 0.2375 - accuracy: 0.9142 - val_loss: 0.2670 - val_accuracy: 0.8967\n",
      "Epoch 29/70\n",
      "768/768 [==============================] - 5s 7ms/step - loss: 0.2348 - accuracy: 0.9154 - val_loss: 0.2512 - val_accuracy: 0.9083\n",
      "Epoch 30/70\n",
      "768/768 [==============================] - 6s 8ms/step - loss: 0.2360 - accuracy: 0.9137 - val_loss: 0.2593 - val_accuracy: 0.9117\n",
      "Epoch 31/70\n",
      "768/768 [==============================] - 6s 8ms/step - loss: 0.2261 - accuracy: 0.9201 - val_loss: 0.2594 - val_accuracy: 0.8983\n",
      "Epoch 32/70\n",
      "768/768 [==============================] - 6s 7ms/step - loss: 0.2252 - accuracy: 0.9198 - val_loss: 0.2538 - val_accuracy: 0.9050\n",
      "Epoch 33/70\n",
      "768/768 [==============================] - 6s 8ms/step - loss: 0.2299 - accuracy: 0.9193 - val_loss: 0.2389 - val_accuracy: 0.9183\n",
      "Epoch 34/70\n",
      "768/768 [==============================] - 7s 9ms/step - loss: 0.2282 - accuracy: 0.9198 - val_loss: 0.2452 - val_accuracy: 0.9183\n",
      "Epoch 35/70\n",
      "768/768 [==============================] - 5s 7ms/step - loss: 0.2229 - accuracy: 0.9203 - val_loss: 0.2418 - val_accuracy: 0.9233\n",
      "Epoch 36/70\n",
      "768/768 [==============================] - 5s 7ms/step - loss: 0.2183 - accuracy: 0.9253 - val_loss: 0.2563 - val_accuracy: 0.9067\n",
      "Epoch 37/70\n",
      "768/768 [==============================] - 5s 7ms/step - loss: 0.2212 - accuracy: 0.9207 - val_loss: 0.2481 - val_accuracy: 0.9100\n",
      "Epoch 38/70\n",
      "768/768 [==============================] - 7s 8ms/step - loss: 0.2212 - accuracy: 0.9219 - val_loss: 0.2503 - val_accuracy: 0.9067\n",
      "Epoch 39/70\n",
      "768/768 [==============================] - 6s 7ms/step - loss: 0.2213 - accuracy: 0.9216 - val_loss: 0.2398 - val_accuracy: 0.9183\n",
      "Epoch 40/70\n",
      "768/768 [==============================] - 6s 8ms/step - loss: 0.2167 - accuracy: 0.9253 - val_loss: 0.2420 - val_accuracy: 0.9217\n",
      "Epoch 41/70\n",
      "768/768 [==============================] - 5s 7ms/step - loss: 0.2156 - accuracy: 0.9264 - val_loss: 0.2286 - val_accuracy: 0.9217\n",
      "Epoch 42/70\n",
      "768/768 [==============================] - 5s 7ms/step - loss: 0.2171 - accuracy: 0.9267 - val_loss: 0.2528 - val_accuracy: 0.9150\n",
      "Epoch 43/70\n",
      "768/768 [==============================] - 6s 8ms/step - loss: 0.2122 - accuracy: 0.9283 - val_loss: 0.2394 - val_accuracy: 0.9233\n",
      "Epoch 44/70\n",
      "768/768 [==============================] - 6s 8ms/step - loss: 0.2114 - accuracy: 0.9274 - val_loss: 0.2373 - val_accuracy: 0.9183\n",
      "Epoch 45/70\n",
      "768/768 [==============================] - 5s 7ms/step - loss: 0.2090 - accuracy: 0.9278 - val_loss: 0.2315 - val_accuracy: 0.9167\n",
      "Epoch 46/70\n",
      "768/768 [==============================] - 6s 8ms/step - loss: 0.2084 - accuracy: 0.9285 - val_loss: 0.2486 - val_accuracy: 0.9117\n",
      "Epoch 47/70\n",
      "768/768 [==============================] - 7s 9ms/step - loss: 0.2118 - accuracy: 0.9282 - val_loss: 0.2434 - val_accuracy: 0.9033\n",
      "Epoch 48/70\n",
      "768/768 [==============================] - 6s 8ms/step - loss: 0.2120 - accuracy: 0.9282 - val_loss: 0.2406 - val_accuracy: 0.9233\n",
      "Epoch 49/70\n",
      "768/768 [==============================] - 7s 9ms/step - loss: 0.2068 - accuracy: 0.9293 - val_loss: 0.2265 - val_accuracy: 0.9267\n",
      "Epoch 50/70\n",
      "768/768 [==============================] - 5s 7ms/step - loss: 0.2061 - accuracy: 0.9312 - val_loss: 0.2464 - val_accuracy: 0.9133\n",
      "Epoch 51/70\n",
      "768/768 [==============================] - 6s 7ms/step - loss: 0.2011 - accuracy: 0.9321 - val_loss: 0.2519 - val_accuracy: 0.9117\n",
      "Epoch 52/70\n",
      "768/768 [==============================] - 4s 5ms/step - loss: 0.2081 - accuracy: 0.9292 - val_loss: 0.2389 - val_accuracy: 0.9100\n",
      "Epoch 53/70\n",
      "768/768 [==============================] - 4s 5ms/step - loss: 0.2040 - accuracy: 0.9310 - val_loss: 0.2428 - val_accuracy: 0.9083\n",
      "Epoch 54/70\n",
      "768/768 [==============================] - 4s 6ms/step - loss: 0.1983 - accuracy: 0.9345 - val_loss: 0.2387 - val_accuracy: 0.9200\n",
      "Epoch 55/70\n",
      "768/768 [==============================] - 6s 8ms/step - loss: 0.2018 - accuracy: 0.9322 - val_loss: 0.2388 - val_accuracy: 0.9233\n",
      "Epoch 56/70\n",
      "768/768 [==============================] - 5s 7ms/step - loss: 0.2020 - accuracy: 0.9315 - val_loss: 0.2249 - val_accuracy: 0.9250\n",
      "Epoch 57/70\n",
      "768/768 [==============================] - 5s 6ms/step - loss: 0.1966 - accuracy: 0.9338 - val_loss: 0.2455 - val_accuracy: 0.9200\n",
      "Epoch 58/70\n"
     ]
    },
    {
     "name": "stdout",
     "output_type": "stream",
     "text": [
      "768/768 [==============================] - 6s 7ms/step - loss: 0.1955 - accuracy: 0.9352 - val_loss: 0.2352 - val_accuracy: 0.9233\n",
      "Epoch 59/70\n",
      "768/768 [==============================] - 4s 6ms/step - loss: 0.1955 - accuracy: 0.9339 - val_loss: 0.2285 - val_accuracy: 0.9267\n",
      "Epoch 60/70\n",
      "768/768 [==============================] - 5s 6ms/step - loss: 0.1961 - accuracy: 0.9345 - val_loss: 0.2305 - val_accuracy: 0.9217\n",
      "Epoch 61/70\n",
      "768/768 [==============================] - 4s 5ms/step - loss: 0.1979 - accuracy: 0.9338 - val_loss: 0.2388 - val_accuracy: 0.9217\n",
      "Epoch 62/70\n",
      "768/768 [==============================] - 4s 5ms/step - loss: 0.1982 - accuracy: 0.9348 - val_loss: 0.2384 - val_accuracy: 0.9133\n",
      "Epoch 63/70\n",
      "768/768 [==============================] - 5s 6ms/step - loss: 0.1913 - accuracy: 0.9349 - val_loss: 0.2412 - val_accuracy: 0.9233\n",
      "Epoch 64/70\n",
      "768/768 [==============================] - 7s 10ms/step - loss: 0.1922 - accuracy: 0.9350 - val_loss: 0.2348 - val_accuracy: 0.9167\n",
      "Epoch 65/70\n",
      "768/768 [==============================] - 5s 6ms/step - loss: 0.1939 - accuracy: 0.9366 - val_loss: 0.2388 - val_accuracy: 0.9067\n",
      "Epoch 66/70\n",
      "768/768 [==============================] - 6s 8ms/step - loss: 0.1964 - accuracy: 0.9325 - val_loss: 0.2342 - val_accuracy: 0.9267\n",
      "Epoch 67/70\n",
      "768/768 [==============================] - 5s 7ms/step - loss: 0.1925 - accuracy: 0.9359 - val_loss: 0.2343 - val_accuracy: 0.9300\n",
      "Epoch 68/70\n",
      "768/768 [==============================] - 4s 6ms/step - loss: 0.1954 - accuracy: 0.9353 - val_loss: 0.2318 - val_accuracy: 0.9267\n",
      "Epoch 69/70\n",
      "768/768 [==============================] - 7s 8ms/step - loss: 0.1900 - accuracy: 0.9355 - val_loss: 0.2268 - val_accuracy: 0.9217\n",
      "Epoch 70/70\n",
      "768/768 [==============================] - 5s 6ms/step - loss: 0.1950 - accuracy: 0.9346 - val_loss: 0.2317 - val_accuracy: 0.9217\n"
     ]
    }
   ],
   "source": [
    "model=compile_model(optimizer='Adam', activation=\"sigmoid\",dropout_rate=0)\n",
    "\n",
    "# Loads fit from file if it exists\n",
    "# if os.path.isfile(\"HEAVY_fit_best.pkl\"):\n",
    "#     with open(\"HEAVY_fit_best.pkl\", \"rb\") as fid:\n",
    "#         fit = pickle.load(fid)\n",
    "# else:\n",
    "fit = model.fit(x_train, y_train, \n",
    "                epochs=70, batch_size = 50, \n",
    "                validation_data=(x_test, y_test),\n",
    "                shuffle=True)\n",
    "#     with open(\"HEAVY_fit_best.pkl\", \"wb\") as fid:\n",
    "#         pickle.dump(fit, fid)"
   ]
  },
  {
   "cell_type": "code",
   "execution_count": 30,
   "metadata": {},
   "outputs": [
    {
     "data": {
      "image/png": "[encoded data removed]",
      "text/plain": [
       "<Figure size 432x288 with 1 Axes>"
      ]
     },
     "metadata": {
      "needs_background": "light"
     },
     "output_type": "display_data"
    },
    {
     "data": {
      "image/png": "[encoded data removed]",
      "text/plain": [
       "<Figure size 432x288 with 1 Axes>"
      ]
     },
     "metadata": {
      "needs_background": "light"
     },
     "output_type": "display_data"
    }
   ],
   "source": [
    "for obs in ('accuracy', 'loss'):\n",
    "    plt.figure(figsize=(6,4))\n",
    "    plt.plot(fit.history[obs],'r', label=obs+ ' of training data')\n",
    "    #dashed line!!!\n",
    "    plt.plot(fit.history['val_'+obs], 'b--', label=obs+' of validation data')\n",
    "    plt.ylabel(obs)\n",
    "    plt.xlabel('Epoch')\n",
    "    plt.title('model ' + obs + ' with scaled data')\n",
    "    plt.legend()\n",
    "    plt.savefig('model_scaleddata.png')\n",
    "    plt.show()"
   ]
  },
  {
   "cell_type": "markdown",
   "metadata": {},
   "source": [
    "We get similiar result even if the validation loss seem to have smaller oscillation."
   ]
  },
  {
   "cell_type": "markdown",
   "metadata": {},
   "source": [
    "# <a name=\"change_varables\">  Changing the number of hidden neurons  </a>\n",
    "\n",
    "Using the rescaled data we investigate the effects of changing the number of hidden neurons."
   ]
  },
  {
   "cell_type": "code",
   "execution_count": 32,
   "metadata": {},
   "outputs": [
    {
     "name": "stdout",
     "output_type": "stream",
     "text": [
      "Epoch 1/30\n",
      "768/768 [==============================] - 7s 8ms/step - loss: 0.5939 - accuracy: 0.7050\n",
      "Epoch 2/30\n",
      "768/768 [==============================] - 6s 8ms/step - loss: 0.4973 - accuracy: 0.7690\n",
      "Epoch 3/30\n",
      "768/768 [==============================] - 6s 8ms/step - loss: 0.5012 - accuracy: 0.7703\n",
      "Epoch 4/30\n",
      "768/768 [==============================] - 6s 7ms/step - loss: 0.4936 - accuracy: 0.7721\n",
      "Epoch 5/30\n",
      "768/768 [==============================] - 6s 7ms/step - loss: 0.4932 - accuracy: 0.7725\n",
      "Epoch 6/30\n",
      "768/768 [==============================] - 5s 6ms/step - loss: 0.4887 - accuracy: 0.7735\n",
      "Epoch 7/30\n",
      "768/768 [==============================] - 5s 6ms/step - loss: 0.4876 - accuracy: 0.7766\n",
      "Epoch 8/30\n",
      "768/768 [==============================] - 5s 7ms/step - loss: 0.4847 - accuracy: 0.7753\n",
      "Epoch 9/30\n",
      "768/768 [==============================] - 5s 7ms/step - loss: 0.4814 - accuracy: 0.7749\n",
      "Epoch 10/30\n",
      "768/768 [==============================] - 5s 6ms/step - loss: 0.4760 - accuracy: 0.7789\n",
      "Epoch 11/30\n",
      "768/768 [==============================] - 5s 6ms/step - loss: 0.4702 - accuracy: 0.7826\n",
      "Epoch 12/30\n",
      "768/768 [==============================] - 6s 7ms/step - loss: 0.4574 - accuracy: 0.7919\n",
      "Epoch 13/30\n",
      "768/768 [==============================] - 5s 6ms/step - loss: 0.4333 - accuracy: 0.8038\n",
      "Epoch 14/30\n",
      "768/768 [==============================] - 5s 7ms/step - loss: 0.4127 - accuracy: 0.8131\n",
      "Epoch 15/30\n",
      "768/768 [==============================] - 5s 6ms/step - loss: 0.3888 - accuracy: 0.8242\n",
      "Epoch 16/30\n",
      "768/768 [==============================] - 5s 6ms/step - loss: 0.3612 - accuracy: 0.8396\n",
      "Epoch 17/30\n",
      "768/768 [==============================] - 5s 6ms/step - loss: 0.3421 - accuracy: 0.8494\n",
      "Epoch 18/30\n",
      "768/768 [==============================] - 5s 7ms/step - loss: 0.3177 - accuracy: 0.8634\n",
      "Epoch 19/30\n",
      "768/768 [==============================] - 5s 7ms/step - loss: 0.2992 - accuracy: 0.8727\n",
      "Epoch 20/30\n",
      "768/768 [==============================] - 5s 7ms/step - loss: 0.2935 - accuracy: 0.8784\n",
      "Epoch 21/30\n",
      "768/768 [==============================] - 5s 7ms/step - loss: 0.2836 - accuracy: 0.8845\n",
      "Epoch 22/30\n",
      "768/768 [==============================] - 6s 7ms/step - loss: 0.2776 - accuracy: 0.8887\n",
      "Epoch 23/30\n",
      "768/768 [==============================] - 7s 9ms/step - loss: 0.2687 - accuracy: 0.8917\n",
      "Epoch 24/30\n",
      "768/768 [==============================] - 6s 8ms/step - loss: 0.2708 - accuracy: 0.8937\n",
      "Epoch 25/30\n",
      "768/768 [==============================] - 5s 7ms/step - loss: 0.2652 - accuracy: 0.8944\n",
      "Epoch 26/30\n",
      "768/768 [==============================] - 6s 8ms/step - loss: 0.2629 - accuracy: 0.8981\n",
      "Epoch 27/30\n",
      "768/768 [==============================] - 4s 6ms/step - loss: 0.2551 - accuracy: 0.9037\n",
      "Epoch 28/30\n",
      "302/768 [==========>...................] - ETA: 3s - loss: 0.2561 - accuracy: 0.9029"
     ]
    },
    {
     "ename": "KeyboardInterrupt",
     "evalue": "",
     "output_type": "error",
     "traceback": [
      "\u001b[0;31m---------------------------------------------------------------------------\u001b[0m",
      "\u001b[0;31mKeyboardInterrupt\u001b[0m                         Traceback (most recent call last)",
      "\u001b[0;32m<ipython-input-32-5225a212c053>\u001b[0m in \u001b[0;36m<module>\u001b[0;34m\u001b[0m\n\u001b[1;32m     36\u001b[0m         \u001b[0mgrid_result\u001b[0m \u001b[0;34m=\u001b[0m \u001b[0mpickle\u001b[0m\u001b[0;34m.\u001b[0m\u001b[0mload\u001b[0m\u001b[0;34m(\u001b[0m\u001b[0mfid\u001b[0m\u001b[0;34m)\u001b[0m\u001b[0;34m\u001b[0m\u001b[0;34m\u001b[0m\u001b[0m\n\u001b[1;32m     37\u001b[0m \u001b[0;32melse\u001b[0m\u001b[0;34m:\u001b[0m\u001b[0;34m\u001b[0m\u001b[0;34m\u001b[0m\u001b[0m\n\u001b[0;32m---> 38\u001b[0;31m     \u001b[0mgrid_result\u001b[0m \u001b[0;34m=\u001b[0m \u001b[0mgrid\u001b[0m\u001b[0;34m.\u001b[0m\u001b[0mfit\u001b[0m\u001b[0;34m(\u001b[0m\u001b[0mx_train\u001b[0m\u001b[0;34m,\u001b[0m\u001b[0my_train\u001b[0m\u001b[0;34m)\u001b[0m\u001b[0;34m\u001b[0m\u001b[0;34m\u001b[0m\u001b[0m\n\u001b[0m\u001b[1;32m     39\u001b[0m     \u001b[0;32mwith\u001b[0m \u001b[0mopen\u001b[0m\u001b[0;34m(\u001b[0m\u001b[0;34m\"HEAVY_grid_result_neurons.pkl\"\u001b[0m\u001b[0;34m,\u001b[0m \u001b[0;34m\"wb\"\u001b[0m\u001b[0;34m)\u001b[0m \u001b[0;32mas\u001b[0m \u001b[0mfid\u001b[0m\u001b[0;34m:\u001b[0m\u001b[0;34m\u001b[0m\u001b[0;34m\u001b[0m\u001b[0m\n\u001b[1;32m     40\u001b[0m         \u001b[0mpickle\u001b[0m\u001b[0;34m.\u001b[0m\u001b[0mdump\u001b[0m\u001b[0;34m(\u001b[0m\u001b[0mgrid_result\u001b[0m\u001b[0;34m,\u001b[0m \u001b[0mfid\u001b[0m\u001b[0;34m)\u001b[0m\u001b[0;34m\u001b[0m\u001b[0;34m\u001b[0m\u001b[0m\n",
      "\u001b[0;32m~/anaconda3/lib/python3.8/site-packages/sklearn/utils/validation.py\u001b[0m in \u001b[0;36minner_f\u001b[0;34m(*args, **kwargs)\u001b[0m\n\u001b[1;32m     70\u001b[0m                           FutureWarning)\n\u001b[1;32m     71\u001b[0m         \u001b[0mkwargs\u001b[0m\u001b[0;34m.\u001b[0m\u001b[0mupdate\u001b[0m\u001b[0;34m(\u001b[0m\u001b[0;34m{\u001b[0m\u001b[0mk\u001b[0m\u001b[0;34m:\u001b[0m \u001b[0marg\u001b[0m \u001b[0;32mfor\u001b[0m \u001b[0mk\u001b[0m\u001b[0;34m,\u001b[0m \u001b[0marg\u001b[0m \u001b[0;32min\u001b[0m \u001b[0mzip\u001b[0m\u001b[0;34m(\u001b[0m\u001b[0msig\u001b[0m\u001b[0;34m.\u001b[0m\u001b[0mparameters\u001b[0m\u001b[0;34m,\u001b[0m \u001b[0margs\u001b[0m\u001b[0;34m)\u001b[0m\u001b[0;34m}\u001b[0m\u001b[0;34m)\u001b[0m\u001b[0;34m\u001b[0m\u001b[0;34m\u001b[0m\u001b[0m\n\u001b[0;32m---> 72\u001b[0;31m         \u001b[0;32mreturn\u001b[0m \u001b[0mf\u001b[0m\u001b[0;34m(\u001b[0m\u001b[0;34m**\u001b[0m\u001b[0mkwargs\u001b[0m\u001b[0;34m)\u001b[0m\u001b[0;34m\u001b[0m\u001b[0;34m\u001b[0m\u001b[0m\n\u001b[0m\u001b[1;32m     73\u001b[0m     \u001b[0;32mreturn\u001b[0m \u001b[0minner_f\u001b[0m\u001b[0;34m\u001b[0m\u001b[0;34m\u001b[0m\u001b[0m\n\u001b[1;32m     74\u001b[0m \u001b[0;34m\u001b[0m\u001b[0m\n",
      "\u001b[0;32m~/anaconda3/lib/python3.8/site-packages/sklearn/model_selection/_search.py\u001b[0m in \u001b[0;36mfit\u001b[0;34m(self, X, y, groups, **fit_params)\u001b[0m\n\u001b[1;32m    763\u001b[0m             \u001b[0mrefit_start_time\u001b[0m \u001b[0;34m=\u001b[0m \u001b[0mtime\u001b[0m\u001b[0;34m.\u001b[0m\u001b[0mtime\u001b[0m\u001b[0;34m(\u001b[0m\u001b[0;34m)\u001b[0m\u001b[0;34m\u001b[0m\u001b[0;34m\u001b[0m\u001b[0m\n\u001b[1;32m    764\u001b[0m             \u001b[0;32mif\u001b[0m \u001b[0my\u001b[0m \u001b[0;32mis\u001b[0m \u001b[0;32mnot\u001b[0m \u001b[0;32mNone\u001b[0m\u001b[0;34m:\u001b[0m\u001b[0;34m\u001b[0m\u001b[0;34m\u001b[0m\u001b[0m\n\u001b[0;32m--> 765\u001b[0;31m                 \u001b[0mself\u001b[0m\u001b[0;34m.\u001b[0m\u001b[0mbest_estimator_\u001b[0m\u001b[0;34m.\u001b[0m\u001b[0mfit\u001b[0m\u001b[0;34m(\u001b[0m\u001b[0mX\u001b[0m\u001b[0;34m,\u001b[0m \u001b[0my\u001b[0m\u001b[0;34m,\u001b[0m \u001b[0;34m**\u001b[0m\u001b[0mfit_params\u001b[0m\u001b[0;34m)\u001b[0m\u001b[0;34m\u001b[0m\u001b[0;34m\u001b[0m\u001b[0m\n\u001b[0m\u001b[1;32m    766\u001b[0m             \u001b[0;32melse\u001b[0m\u001b[0;34m:\u001b[0m\u001b[0;34m\u001b[0m\u001b[0;34m\u001b[0m\u001b[0m\n\u001b[1;32m    767\u001b[0m                 \u001b[0mself\u001b[0m\u001b[0;34m.\u001b[0m\u001b[0mbest_estimator_\u001b[0m\u001b[0;34m.\u001b[0m\u001b[0mfit\u001b[0m\u001b[0;34m(\u001b[0m\u001b[0mX\u001b[0m\u001b[0;34m,\u001b[0m \u001b[0;34m**\u001b[0m\u001b[0mfit_params\u001b[0m\u001b[0;34m)\u001b[0m\u001b[0;34m\u001b[0m\u001b[0;34m\u001b[0m\u001b[0m\n",
      "\u001b[0;32m~/anaconda3/lib/python3.8/site-packages/tensorflow/python/keras/wrappers/scikit_learn.py\u001b[0m in \u001b[0;36mfit\u001b[0;34m(self, x, y, **kwargs)\u001b[0m\n\u001b[1;32m    221\u001b[0m       \u001b[0;32mraise\u001b[0m \u001b[0mValueError\u001b[0m\u001b[0;34m(\u001b[0m\u001b[0;34m'Invalid shape for y: '\u001b[0m \u001b[0;34m+\u001b[0m \u001b[0mstr\u001b[0m\u001b[0;34m(\u001b[0m\u001b[0my\u001b[0m\u001b[0;34m.\u001b[0m\u001b[0mshape\u001b[0m\u001b[0;34m)\u001b[0m\u001b[0;34m)\u001b[0m\u001b[0;34m\u001b[0m\u001b[0;34m\u001b[0m\u001b[0m\n\u001b[1;32m    222\u001b[0m     \u001b[0mself\u001b[0m\u001b[0;34m.\u001b[0m\u001b[0mn_classes_\u001b[0m \u001b[0;34m=\u001b[0m \u001b[0mlen\u001b[0m\u001b[0;34m(\u001b[0m\u001b[0mself\u001b[0m\u001b[0;34m.\u001b[0m\u001b[0mclasses_\u001b[0m\u001b[0;34m)\u001b[0m\u001b[0;34m\u001b[0m\u001b[0;34m\u001b[0m\u001b[0m\n\u001b[0;32m--> 223\u001b[0;31m     \u001b[0;32mreturn\u001b[0m \u001b[0msuper\u001b[0m\u001b[0;34m(\u001b[0m\u001b[0mKerasClassifier\u001b[0m\u001b[0;34m,\u001b[0m \u001b[0mself\u001b[0m\u001b[0;34m)\u001b[0m\u001b[0;34m.\u001b[0m\u001b[0mfit\u001b[0m\u001b[0;34m(\u001b[0m\u001b[0mx\u001b[0m\u001b[0;34m,\u001b[0m \u001b[0my\u001b[0m\u001b[0;34m,\u001b[0m \u001b[0;34m**\u001b[0m\u001b[0mkwargs\u001b[0m\u001b[0;34m)\u001b[0m\u001b[0;34m\u001b[0m\u001b[0;34m\u001b[0m\u001b[0m\n\u001b[0m\u001b[1;32m    224\u001b[0m \u001b[0;34m\u001b[0m\u001b[0m\n\u001b[1;32m    225\u001b[0m   \u001b[0;32mdef\u001b[0m \u001b[0mpredict\u001b[0m\u001b[0;34m(\u001b[0m\u001b[0mself\u001b[0m\u001b[0;34m,\u001b[0m \u001b[0mx\u001b[0m\u001b[0;34m,\u001b[0m \u001b[0;34m**\u001b[0m\u001b[0mkwargs\u001b[0m\u001b[0;34m)\u001b[0m\u001b[0;34m:\u001b[0m\u001b[0;34m\u001b[0m\u001b[0;34m\u001b[0m\u001b[0m\n",
      "\u001b[0;32m~/anaconda3/lib/python3.8/site-packages/tensorflow/python/keras/wrappers/scikit_learn.py\u001b[0m in \u001b[0;36mfit\u001b[0;34m(self, x, y, **kwargs)\u001b[0m\n\u001b[1;32m    164\u001b[0m     \u001b[0mfit_args\u001b[0m\u001b[0;34m.\u001b[0m\u001b[0mupdate\u001b[0m\u001b[0;34m(\u001b[0m\u001b[0mkwargs\u001b[0m\u001b[0;34m)\u001b[0m\u001b[0;34m\u001b[0m\u001b[0;34m\u001b[0m\u001b[0m\n\u001b[1;32m    165\u001b[0m \u001b[0;34m\u001b[0m\u001b[0m\n\u001b[0;32m--> 166\u001b[0;31m     \u001b[0mhistory\u001b[0m \u001b[0;34m=\u001b[0m \u001b[0mself\u001b[0m\u001b[0;34m.\u001b[0m\u001b[0mmodel\u001b[0m\u001b[0;34m.\u001b[0m\u001b[0mfit\u001b[0m\u001b[0;34m(\u001b[0m\u001b[0mx\u001b[0m\u001b[0;34m,\u001b[0m \u001b[0my\u001b[0m\u001b[0;34m,\u001b[0m \u001b[0;34m**\u001b[0m\u001b[0mfit_args\u001b[0m\u001b[0;34m)\u001b[0m\u001b[0;34m\u001b[0m\u001b[0;34m\u001b[0m\u001b[0m\n\u001b[0m\u001b[1;32m    167\u001b[0m \u001b[0;34m\u001b[0m\u001b[0m\n\u001b[1;32m    168\u001b[0m     \u001b[0;32mreturn\u001b[0m \u001b[0mhistory\u001b[0m\u001b[0;34m\u001b[0m\u001b[0;34m\u001b[0m\u001b[0m\n",
      "\u001b[0;32m~/anaconda3/lib/python3.8/site-packages/tensorflow/python/keras/engine/training.py\u001b[0m in \u001b[0;36mfit\u001b[0;34m(self, x, y, batch_size, epochs, verbose, callbacks, validation_split, validation_data, shuffle, class_weight, sample_weight, initial_epoch, steps_per_epoch, validation_steps, validation_batch_size, validation_freq, max_queue_size, workers, use_multiprocessing)\u001b[0m\n\u001b[1;32m   1098\u001b[0m                 _r=1):\n\u001b[1;32m   1099\u001b[0m               \u001b[0mcallbacks\u001b[0m\u001b[0;34m.\u001b[0m\u001b[0mon_train_batch_begin\u001b[0m\u001b[0;34m(\u001b[0m\u001b[0mstep\u001b[0m\u001b[0;34m)\u001b[0m\u001b[0;34m\u001b[0m\u001b[0;34m\u001b[0m\u001b[0m\n\u001b[0;32m-> 1100\u001b[0;31m               \u001b[0mtmp_logs\u001b[0m \u001b[0;34m=\u001b[0m \u001b[0mself\u001b[0m\u001b[0;34m.\u001b[0m\u001b[0mtrain_function\u001b[0m\u001b[0;34m(\u001b[0m\u001b[0miterator\u001b[0m\u001b[0;34m)\u001b[0m\u001b[0;34m\u001b[0m\u001b[0;34m\u001b[0m\u001b[0m\n\u001b[0m\u001b[1;32m   1101\u001b[0m               \u001b[0;32mif\u001b[0m \u001b[0mdata_handler\u001b[0m\u001b[0;34m.\u001b[0m\u001b[0mshould_sync\u001b[0m\u001b[0;34m:\u001b[0m\u001b[0;34m\u001b[0m\u001b[0;34m\u001b[0m\u001b[0m\n\u001b[1;32m   1102\u001b[0m                 \u001b[0mcontext\u001b[0m\u001b[0;34m.\u001b[0m\u001b[0masync_wait\u001b[0m\u001b[0;34m(\u001b[0m\u001b[0;34m)\u001b[0m\u001b[0;34m\u001b[0m\u001b[0;34m\u001b[0m\u001b[0m\n",
      "\u001b[0;32m~/anaconda3/lib/python3.8/site-packages/tensorflow/python/eager/def_function.py\u001b[0m in \u001b[0;36m__call__\u001b[0;34m(self, *args, **kwds)\u001b[0m\n\u001b[1;32m    826\u001b[0m     \u001b[0mtracing_count\u001b[0m \u001b[0;34m=\u001b[0m \u001b[0mself\u001b[0m\u001b[0;34m.\u001b[0m\u001b[0mexperimental_get_tracing_count\u001b[0m\u001b[0;34m(\u001b[0m\u001b[0;34m)\u001b[0m\u001b[0;34m\u001b[0m\u001b[0;34m\u001b[0m\u001b[0m\n\u001b[1;32m    827\u001b[0m     \u001b[0;32mwith\u001b[0m \u001b[0mtrace\u001b[0m\u001b[0;34m.\u001b[0m\u001b[0mTrace\u001b[0m\u001b[0;34m(\u001b[0m\u001b[0mself\u001b[0m\u001b[0;34m.\u001b[0m\u001b[0m_name\u001b[0m\u001b[0;34m)\u001b[0m \u001b[0;32mas\u001b[0m \u001b[0mtm\u001b[0m\u001b[0;34m:\u001b[0m\u001b[0;34m\u001b[0m\u001b[0;34m\u001b[0m\u001b[0m\n\u001b[0;32m--> 828\u001b[0;31m       \u001b[0mresult\u001b[0m \u001b[0;34m=\u001b[0m \u001b[0mself\u001b[0m\u001b[0;34m.\u001b[0m\u001b[0m_call\u001b[0m\u001b[0;34m(\u001b[0m\u001b[0;34m*\u001b[0m\u001b[0margs\u001b[0m\u001b[0;34m,\u001b[0m \u001b[0;34m**\u001b[0m\u001b[0mkwds\u001b[0m\u001b[0;34m)\u001b[0m\u001b[0;34m\u001b[0m\u001b[0;34m\u001b[0m\u001b[0m\n\u001b[0m\u001b[1;32m    829\u001b[0m       \u001b[0mcompiler\u001b[0m \u001b[0;34m=\u001b[0m \u001b[0;34m\"xla\"\u001b[0m \u001b[0;32mif\u001b[0m \u001b[0mself\u001b[0m\u001b[0;34m.\u001b[0m\u001b[0m_experimental_compile\u001b[0m \u001b[0;32melse\u001b[0m \u001b[0;34m\"nonXla\"\u001b[0m\u001b[0;34m\u001b[0m\u001b[0;34m\u001b[0m\u001b[0m\n\u001b[1;32m    830\u001b[0m       \u001b[0mnew_tracing_count\u001b[0m \u001b[0;34m=\u001b[0m \u001b[0mself\u001b[0m\u001b[0;34m.\u001b[0m\u001b[0mexperimental_get_tracing_count\u001b[0m\u001b[0;34m(\u001b[0m\u001b[0;34m)\u001b[0m\u001b[0;34m\u001b[0m\u001b[0;34m\u001b[0m\u001b[0m\n",
      "\u001b[0;32m~/anaconda3/lib/python3.8/site-packages/tensorflow/python/eager/def_function.py\u001b[0m in \u001b[0;36m_call\u001b[0;34m(self, *args, **kwds)\u001b[0m\n\u001b[1;32m    853\u001b[0m       \u001b[0;31m# In this case we have created variables on the first call, so we run the\u001b[0m\u001b[0;34m\u001b[0m\u001b[0;34m\u001b[0m\u001b[0;34m\u001b[0m\u001b[0m\n\u001b[1;32m    854\u001b[0m       \u001b[0;31m# defunned version which is guaranteed to never create variables.\u001b[0m\u001b[0;34m\u001b[0m\u001b[0;34m\u001b[0m\u001b[0;34m\u001b[0m\u001b[0m\n\u001b[0;32m--> 855\u001b[0;31m       \u001b[0;32mreturn\u001b[0m \u001b[0mself\u001b[0m\u001b[0;34m.\u001b[0m\u001b[0m_stateless_fn\u001b[0m\u001b[0;34m(\u001b[0m\u001b[0;34m*\u001b[0m\u001b[0margs\u001b[0m\u001b[0;34m,\u001b[0m \u001b[0;34m**\u001b[0m\u001b[0mkwds\u001b[0m\u001b[0;34m)\u001b[0m  \u001b[0;31m# pylint: disable=not-callable\u001b[0m\u001b[0;34m\u001b[0m\u001b[0;34m\u001b[0m\u001b[0m\n\u001b[0m\u001b[1;32m    856\u001b[0m     \u001b[0;32melif\u001b[0m \u001b[0mself\u001b[0m\u001b[0;34m.\u001b[0m\u001b[0m_stateful_fn\u001b[0m \u001b[0;32mis\u001b[0m \u001b[0;32mnot\u001b[0m \u001b[0;32mNone\u001b[0m\u001b[0;34m:\u001b[0m\u001b[0;34m\u001b[0m\u001b[0;34m\u001b[0m\u001b[0m\n\u001b[1;32m    857\u001b[0m       \u001b[0;31m# Release the lock early so that multiple threads can perform the call\u001b[0m\u001b[0;34m\u001b[0m\u001b[0;34m\u001b[0m\u001b[0;34m\u001b[0m\u001b[0m\n",
      "\u001b[0;32m~/anaconda3/lib/python3.8/site-packages/tensorflow/python/eager/function.py\u001b[0m in \u001b[0;36m__call__\u001b[0;34m(self, *args, **kwargs)\u001b[0m\n\u001b[1;32m   2940\u001b[0m       (graph_function,\n\u001b[1;32m   2941\u001b[0m        filtered_flat_args) = self._maybe_define_function(args, kwargs)\n\u001b[0;32m-> 2942\u001b[0;31m     return graph_function._call_flat(\n\u001b[0m\u001b[1;32m   2943\u001b[0m         filtered_flat_args, captured_inputs=graph_function.captured_inputs)  # pylint: disable=protected-access\n\u001b[1;32m   2944\u001b[0m \u001b[0;34m\u001b[0m\u001b[0m\n",
      "\u001b[0;32m~/anaconda3/lib/python3.8/site-packages/tensorflow/python/eager/function.py\u001b[0m in \u001b[0;36m_call_flat\u001b[0;34m(self, args, captured_inputs, cancellation_manager)\u001b[0m\n\u001b[1;32m   1916\u001b[0m         and executing_eagerly):\n\u001b[1;32m   1917\u001b[0m       \u001b[0;31m# No tape is watching; skip to running the function.\u001b[0m\u001b[0;34m\u001b[0m\u001b[0;34m\u001b[0m\u001b[0;34m\u001b[0m\u001b[0m\n\u001b[0;32m-> 1918\u001b[0;31m       return self._build_call_outputs(self._inference_function.call(\n\u001b[0m\u001b[1;32m   1919\u001b[0m           ctx, args, cancellation_manager=cancellation_manager))\n\u001b[1;32m   1920\u001b[0m     forward_backward = self._select_forward_and_backward_functions(\n",
      "\u001b[0;32m~/anaconda3/lib/python3.8/site-packages/tensorflow/python/eager/function.py\u001b[0m in \u001b[0;36mcall\u001b[0;34m(self, ctx, args, cancellation_manager)\u001b[0m\n\u001b[1;32m    553\u001b[0m       \u001b[0;32mwith\u001b[0m \u001b[0m_InterpolateFunctionError\u001b[0m\u001b[0;34m(\u001b[0m\u001b[0mself\u001b[0m\u001b[0;34m)\u001b[0m\u001b[0;34m:\u001b[0m\u001b[0;34m\u001b[0m\u001b[0;34m\u001b[0m\u001b[0m\n\u001b[1;32m    554\u001b[0m         \u001b[0;32mif\u001b[0m \u001b[0mcancellation_manager\u001b[0m \u001b[0;32mis\u001b[0m \u001b[0;32mNone\u001b[0m\u001b[0;34m:\u001b[0m\u001b[0;34m\u001b[0m\u001b[0;34m\u001b[0m\u001b[0m\n\u001b[0;32m--> 555\u001b[0;31m           outputs = execute.execute(\n\u001b[0m\u001b[1;32m    556\u001b[0m               \u001b[0mstr\u001b[0m\u001b[0;34m(\u001b[0m\u001b[0mself\u001b[0m\u001b[0;34m.\u001b[0m\u001b[0msignature\u001b[0m\u001b[0;34m.\u001b[0m\u001b[0mname\u001b[0m\u001b[0;34m)\u001b[0m\u001b[0;34m,\u001b[0m\u001b[0;34m\u001b[0m\u001b[0;34m\u001b[0m\u001b[0m\n\u001b[1;32m    557\u001b[0m               \u001b[0mnum_outputs\u001b[0m\u001b[0;34m=\u001b[0m\u001b[0mself\u001b[0m\u001b[0;34m.\u001b[0m\u001b[0m_num_outputs\u001b[0m\u001b[0;34m,\u001b[0m\u001b[0;34m\u001b[0m\u001b[0;34m\u001b[0m\u001b[0m\n",
      "\u001b[0;32m~/anaconda3/lib/python3.8/site-packages/tensorflow/python/eager/execute.py\u001b[0m in \u001b[0;36mquick_execute\u001b[0;34m(op_name, num_outputs, inputs, attrs, ctx, name)\u001b[0m\n\u001b[1;32m     57\u001b[0m   \u001b[0;32mtry\u001b[0m\u001b[0;34m:\u001b[0m\u001b[0;34m\u001b[0m\u001b[0;34m\u001b[0m\u001b[0m\n\u001b[1;32m     58\u001b[0m     \u001b[0mctx\u001b[0m\u001b[0;34m.\u001b[0m\u001b[0mensure_initialized\u001b[0m\u001b[0;34m(\u001b[0m\u001b[0;34m)\u001b[0m\u001b[0;34m\u001b[0m\u001b[0;34m\u001b[0m\u001b[0m\n\u001b[0;32m---> 59\u001b[0;31m     tensors = pywrap_tfe.TFE_Py_Execute(ctx._handle, device_name, op_name,\n\u001b[0m\u001b[1;32m     60\u001b[0m                                         inputs, attrs, num_outputs)\n\u001b[1;32m     61\u001b[0m   \u001b[0;32mexcept\u001b[0m \u001b[0mcore\u001b[0m\u001b[0;34m.\u001b[0m\u001b[0m_NotOkStatusException\u001b[0m \u001b[0;32mas\u001b[0m \u001b[0me\u001b[0m\u001b[0;34m:\u001b[0m\u001b[0;34m\u001b[0m\u001b[0;34m\u001b[0m\u001b[0m\n",
      "\u001b[0;31mKeyboardInterrupt\u001b[0m: "
     ]
    }
   ],
   "source": [
    "def compile_model(neurons=L//2):\n",
    "    # create the mode\n",
    "    model=create_DNN(neurons=neurons)\n",
    "    # compile the model\n",
    "    model.compile(loss=\"binary_crossentropy\",\n",
    "                  optimizer='Adam',\n",
    "                  metrics=['accuracy'])\n",
    "    return model\n",
    "\n",
    "def create_DNN(neurons):\n",
    "    \n",
    "    model=Sequential()\n",
    "    model.add(Dense(L,input_shape=(L,), activation='sigmoid')) #add 1 layer\n",
    "    model.add(Dense(neurons, activation='sigmoid')) #add 1 layer\n",
    "    model.add(Dense(neurons, activation='sigmoid')) #add 1 layer\n",
    "    model.add(Dropout(0.2)) #dropout\n",
    "    model.add(Dense(1, activation=\"sigmoid\"))\n",
    "    \n",
    "    return model\n",
    " \n",
    "# call Keras scikit wrapper\n",
    "model_gridsearch = KerasClassifier(build_fn=compile_model, \n",
    "                        epochs=30, \n",
    "                        batch_size=50, \n",
    "                        verbose=1)\n",
    "\n",
    "\n",
    "neurons = [L//2, L//4, L//6, L//8, L//10]\n",
    "# define parameter dictionary\n",
    "param_grid = dict(neurons=neurons)\n",
    "grid = GridSearchCV(estimator=model_gridsearch, param_grid=param_grid, n_jobs=-1, cv=2)\n",
    "\n",
    "# Loads grid_result from file if it exists\n",
    "if os.path.isfile(\"HEAVY_grid_result_neurons.pkl\"):\n",
    "    with open(\"HEAVY_grid_result_neurons.pkl\", \"rb\") as fid:\n",
    "        grid_result = pickle.load(fid)\n",
    "else:\n",
    "    grid_result = grid.fit(x_train,y_train)\n",
    "    with open(\"HEAVY_grid_result_neurons.pkl\", \"wb\") as fid:\n",
    "        pickle.dump(grid_result, fid)\n",
    "\n",
    "print(\"Best: %f using %s\" % (grid_result.best_score_, grid_result.best_params_))\n",
    "means = grid_result.cv_results_['mean_test_score']\n",
    "stds = grid_result.cv_results_['std_test_score']\n",
    "params = grid_result.cv_results_['params']\n",
    "for mean, stdev, param in zip(means, stds, params):\n",
    "    print(\"%f (%f) with: %r\" % (mean, stdev, param))\n"
   ]
  },
  {
   "cell_type": "code",
   "execution_count": null,
   "metadata": {},
   "outputs": [],
   "source": [
    "model=compile_model(neurons=32)   \n",
    "\n",
    "fit_neurons = model.fit(x_train, y_train, \n",
    "               epochs=70, batch_size = 50, \n",
    "               validation_data=(x_test, y_test),\n",
    "               shuffle=True)"
   ]
  },
  {
   "cell_type": "code",
   "execution_count": null,
   "metadata": {},
   "outputs": [],
   "source": [
    "for obs in ('accuracy', 'loss'):\n",
    "    plt.figure(figsize=(6,4))\n",
    "    plt.plot(fit_neurons.history[obs],'r', label=obs+ ' of training data')\n",
    "    #dashed line!!!\n",
    "    plt.plot(fit_neurons.history['val_'+obs], 'b--', label=obs+' of validation data')\n",
    "    plt.ylabel(obs)\n",
    "    plt.xlabel('Epoch')\n",
    "    plt.legend()\n",
    "    plt.title('model ' + obs + ' with new NN')\n",
    "    plt.savefig('model_neur.png')\n",
    "    plt.show()"
   ]
  }
 ],
 "metadata": {
  "kernelspec": {
   "display_name": "Python 3",
   "language": "python",
   "name": "python3"
  },
  "language_info": {
   "codemirror_mode": {
    "name": "ipython",
    "version": 3
   },
   "file_extension": ".py",
   "mimetype": "text/x-python",
   "name": "python",
   "nbconvert_exporter": "python",
   "pygments_lexer": "ipython3",
   "version": "3.8.5"
  }
 },
 "nbformat": 4,
 "nbformat_minor": 4
}
