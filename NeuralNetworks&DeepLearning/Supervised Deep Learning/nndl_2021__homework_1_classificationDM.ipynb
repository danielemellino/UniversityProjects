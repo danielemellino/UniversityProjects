{
  "nbformat": 4,
  "nbformat_minor": 0,
  "metadata": {
    "colab": {
      "name": "Exercise01_classification.ipynb",
      "provenance": [],
      "collapsed_sections": [],
      "toc_visible": true
    },
    "kernelspec": {
      "name": "python3",
      "display_name": "Python 3"
    },
    "language_info": {
      "name": "python"
    },
    "accelerator": "GPU",
    "widgets": {
      "application/vnd.jupyter.widget-state+json": {
        "cab257824aca48c49a16f26c9d673f67": {
          "model_module": "@jupyter-widgets/controls",
          "model_name": "HBoxModel",
          "model_module_version": "1.5.0",
          "state": {
            "_view_name": "HBoxView",
            "_dom_classes": [],
            "_model_name": "HBoxModel",
            "_view_module": "@jupyter-widgets/controls",
            "_model_module_version": "1.5.0",
            "_view_count": null,
            "_view_module_version": "1.5.0",
            "box_style": "",
            "layout": "IPY_MODEL_de13f4e9adc74a6e9f2ac9ea377e793f",
            "_model_module": "@jupyter-widgets/controls",
            "children": [
              "IPY_MODEL_f307f7be826449eba541ac623348d406",
              "IPY_MODEL_5bd5c97d2dc3462daf3ab81f184e022e",
              "IPY_MODEL_77cae309bcb948a6b7a677956814a886"
            ]
          }
        },
        "de13f4e9adc74a6e9f2ac9ea377e793f": {
          "model_module": "@jupyter-widgets/base",
          "model_name": "LayoutModel",
          "model_module_version": "1.2.0",
          "state": {
            "_view_name": "LayoutView",
            "grid_template_rows": null,
            "right": null,
            "justify_content": null,
            "_view_module": "@jupyter-widgets/base",
            "overflow": null,
            "_model_module_version": "1.2.0",
            "_view_count": null,
            "flex_flow": null,
            "width": null,
            "min_width": null,
            "border": null,
            "align_items": null,
            "bottom": null,
            "_model_module": "@jupyter-widgets/base",
            "top": null,
            "grid_column": null,
            "overflow_y": null,
            "overflow_x": null,
            "grid_auto_flow": null,
            "grid_area": null,
            "grid_template_columns": null,
            "flex": null,
            "_model_name": "LayoutModel",
            "justify_items": null,
            "grid_row": null,
            "max_height": null,
            "align_content": null,
            "visibility": null,
            "align_self": null,
            "height": null,
            "min_height": null,
            "padding": null,
            "grid_auto_rows": null,
            "grid_gap": null,
            "max_width": null,
            "order": null,
            "_view_module_version": "1.2.0",
            "grid_template_areas": null,
            "object_position": null,
            "object_fit": null,
            "grid_auto_columns": null,
            "margin": null,
            "display": null,
            "left": null
          }
        },
        "f307f7be826449eba541ac623348d406": {
          "model_module": "@jupyter-widgets/controls",
          "model_name": "HTMLModel",
          "model_module_version": "1.5.0",
          "state": {
            "_view_name": "HTMLView",
            "style": "IPY_MODEL_fa61e93276204fd9848d0627bdc2202b",
            "_dom_classes": [],
            "description": "",
            "_model_name": "HTMLModel",
            "placeholder": "​",
            "_view_module": "@jupyter-widgets/controls",
            "_model_module_version": "1.5.0",
            "value": "",
            "_view_count": null,
            "_view_module_version": "1.5.0",
            "description_tooltip": null,
            "_model_module": "@jupyter-widgets/controls",
            "layout": "IPY_MODEL_29e684b6c097498b8c7f2117e8e0da1b"
          }
        },
        "5bd5c97d2dc3462daf3ab81f184e022e": {
          "model_module": "@jupyter-widgets/controls",
          "model_name": "FloatProgressModel",
          "model_module_version": "1.5.0",
          "state": {
            "_view_name": "ProgressView",
            "style": "IPY_MODEL_da44b8208a8a42f28fecf3361965274b",
            "_dom_classes": [],
            "description": "",
            "_model_name": "FloatProgressModel",
            "bar_style": "success",
            "max": 26421880,
            "_view_module": "@jupyter-widgets/controls",
            "_model_module_version": "1.5.0",
            "value": 26421880,
            "_view_count": null,
            "_view_module_version": "1.5.0",
            "orientation": "horizontal",
            "min": 0,
            "description_tooltip": null,
            "_model_module": "@jupyter-widgets/controls",
            "layout": "IPY_MODEL_92c861c1104a4e539dcd94c29680070a"
          }
        },
        "77cae309bcb948a6b7a677956814a886": {
          "model_module": "@jupyter-widgets/controls",
          "model_name": "HTMLModel",
          "model_module_version": "1.5.0",
          "state": {
            "_view_name": "HTMLView",
            "style": "IPY_MODEL_c685d17c15894f7987c154d5bfb795cb",
            "_dom_classes": [],
            "description": "",
            "_model_name": "HTMLModel",
            "placeholder": "​",
            "_view_module": "@jupyter-widgets/controls",
            "_model_module_version": "1.5.0",
            "value": " 26422272/? [00:02&lt;00:00, 18221532.82it/s]",
            "_view_count": null,
            "_view_module_version": "1.5.0",
            "description_tooltip": null,
            "_model_module": "@jupyter-widgets/controls",
            "layout": "IPY_MODEL_6c800c4726104015bf51c7a90b7619ba"
          }
        },
        "fa61e93276204fd9848d0627bdc2202b": {
          "model_module": "@jupyter-widgets/controls",
          "model_name": "DescriptionStyleModel",
          "model_module_version": "1.5.0",
          "state": {
            "_view_name": "StyleView",
            "_model_name": "DescriptionStyleModel",
            "description_width": "",
            "_view_module": "@jupyter-widgets/base",
            "_model_module_version": "1.5.0",
            "_view_count": null,
            "_view_module_version": "1.2.0",
            "_model_module": "@jupyter-widgets/controls"
          }
        },
        "29e684b6c097498b8c7f2117e8e0da1b": {
          "model_module": "@jupyter-widgets/base",
          "model_name": "LayoutModel",
          "model_module_version": "1.2.0",
          "state": {
            "_view_name": "LayoutView",
            "grid_template_rows": null,
            "right": null,
            "justify_content": null,
            "_view_module": "@jupyter-widgets/base",
            "overflow": null,
            "_model_module_version": "1.2.0",
            "_view_count": null,
            "flex_flow": null,
            "width": null,
            "min_width": null,
            "border": null,
            "align_items": null,
            "bottom": null,
            "_model_module": "@jupyter-widgets/base",
            "top": null,
            "grid_column": null,
            "overflow_y": null,
            "overflow_x": null,
            "grid_auto_flow": null,
            "grid_area": null,
            "grid_template_columns": null,
            "flex": null,
            "_model_name": "LayoutModel",
            "justify_items": null,
            "grid_row": null,
            "max_height": null,
            "align_content": null,
            "visibility": null,
            "align_self": null,
            "height": null,
            "min_height": null,
            "padding": null,
            "grid_auto_rows": null,
            "grid_gap": null,
            "max_width": null,
            "order": null,
            "_view_module_version": "1.2.0",
            "grid_template_areas": null,
            "object_position": null,
            "object_fit": null,
            "grid_auto_columns": null,
            "margin": null,
            "display": null,
            "left": null
          }
        },
        "da44b8208a8a42f28fecf3361965274b": {
          "model_module": "@jupyter-widgets/controls",
          "model_name": "ProgressStyleModel",
          "model_module_version": "1.5.0",
          "state": {
            "_view_name": "StyleView",
            "_model_name": "ProgressStyleModel",
            "description_width": "",
            "_view_module": "@jupyter-widgets/base",
            "_model_module_version": "1.5.0",
            "_view_count": null,
            "_view_module_version": "1.2.0",
            "bar_color": null,
            "_model_module": "@jupyter-widgets/controls"
          }
        },
        "92c861c1104a4e539dcd94c29680070a": {
          "model_module": "@jupyter-widgets/base",
          "model_name": "LayoutModel",
          "model_module_version": "1.2.0",
          "state": {
            "_view_name": "LayoutView",
            "grid_template_rows": null,
            "right": null,
            "justify_content": null,
            "_view_module": "@jupyter-widgets/base",
            "overflow": null,
            "_model_module_version": "1.2.0",
            "_view_count": null,
            "flex_flow": null,
            "width": null,
            "min_width": null,
            "border": null,
            "align_items": null,
            "bottom": null,
            "_model_module": "@jupyter-widgets/base",
            "top": null,
            "grid_column": null,
            "overflow_y": null,
            "overflow_x": null,
            "grid_auto_flow": null,
            "grid_area": null,
            "grid_template_columns": null,
            "flex": null,
            "_model_name": "LayoutModel",
            "justify_items": null,
            "grid_row": null,
            "max_height": null,
            "align_content": null,
            "visibility": null,
            "align_self": null,
            "height": null,
            "min_height": null,
            "padding": null,
            "grid_auto_rows": null,
            "grid_gap": null,
            "max_width": null,
            "order": null,
            "_view_module_version": "1.2.0",
            "grid_template_areas": null,
            "object_position": null,
            "object_fit": null,
            "grid_auto_columns": null,
            "margin": null,
            "display": null,
            "left": null
          }
        },
        "c685d17c15894f7987c154d5bfb795cb": {
          "model_module": "@jupyter-widgets/controls",
          "model_name": "DescriptionStyleModel",
          "model_module_version": "1.5.0",
          "state": {
            "_view_name": "StyleView",
            "_model_name": "DescriptionStyleModel",
            "description_width": "",
            "_view_module": "@jupyter-widgets/base",
            "_model_module_version": "1.5.0",
            "_view_count": null,
            "_view_module_version": "1.2.0",
            "_model_module": "@jupyter-widgets/controls"
          }
        },
        "6c800c4726104015bf51c7a90b7619ba": {
          "model_module": "@jupyter-widgets/base",
          "model_name": "LayoutModel",
          "model_module_version": "1.2.0",
          "state": {
            "_view_name": "LayoutView",
            "grid_template_rows": null,
            "right": null,
            "justify_content": null,
            "_view_module": "@jupyter-widgets/base",
            "overflow": null,
            "_model_module_version": "1.2.0",
            "_view_count": null,
            "flex_flow": null,
            "width": null,
            "min_width": null,
            "border": null,
            "align_items": null,
            "bottom": null,
            "_model_module": "@jupyter-widgets/base",
            "top": null,
            "grid_column": null,
            "overflow_y": null,
            "overflow_x": null,
            "grid_auto_flow": null,
            "grid_area": null,
            "grid_template_columns": null,
            "flex": null,
            "_model_name": "LayoutModel",
            "justify_items": null,
            "grid_row": null,
            "max_height": null,
            "align_content": null,
            "visibility": null,
            "align_self": null,
            "height": null,
            "min_height": null,
            "padding": null,
            "grid_auto_rows": null,
            "grid_gap": null,
            "max_width": null,
            "order": null,
            "_view_module_version": "1.2.0",
            "grid_template_areas": null,
            "object_position": null,
            "object_fit": null,
            "grid_auto_columns": null,
            "margin": null,
            "display": null,
            "left": null
          }
        },
        "c70370b89a0f40aead026bf55f727c05": {
          "model_module": "@jupyter-widgets/controls",
          "model_name": "HBoxModel",
          "model_module_version": "1.5.0",
          "state": {
            "_view_name": "HBoxView",
            "_dom_classes": [],
            "_model_name": "HBoxModel",
            "_view_module": "@jupyter-widgets/controls",
            "_model_module_version": "1.5.0",
            "_view_count": null,
            "_view_module_version": "1.5.0",
            "box_style": "",
            "layout": "IPY_MODEL_77260a17ba7c4bc39cfc63e21605758f",
            "_model_module": "@jupyter-widgets/controls",
            "children": [
              "IPY_MODEL_4ac6b8dc90594b2eb21ee4e82d75cf34",
              "IPY_MODEL_dc74e0eccc404876a3f13daeded5c76a",
              "IPY_MODEL_8aa43958f0704e048ac0d69346eb8bda"
            ]
          }
        },
        "77260a17ba7c4bc39cfc63e21605758f": {
          "model_module": "@jupyter-widgets/base",
          "model_name": "LayoutModel",
          "model_module_version": "1.2.0",
          "state": {
            "_view_name": "LayoutView",
            "grid_template_rows": null,
            "right": null,
            "justify_content": null,
            "_view_module": "@jupyter-widgets/base",
            "overflow": null,
            "_model_module_version": "1.2.0",
            "_view_count": null,
            "flex_flow": null,
            "width": null,
            "min_width": null,
            "border": null,
            "align_items": null,
            "bottom": null,
            "_model_module": "@jupyter-widgets/base",
            "top": null,
            "grid_column": null,
            "overflow_y": null,
            "overflow_x": null,
            "grid_auto_flow": null,
            "grid_area": null,
            "grid_template_columns": null,
            "flex": null,
            "_model_name": "LayoutModel",
            "justify_items": null,
            "grid_row": null,
            "max_height": null,
            "align_content": null,
            "visibility": null,
            "align_self": null,
            "height": null,
            "min_height": null,
            "padding": null,
            "grid_auto_rows": null,
            "grid_gap": null,
            "max_width": null,
            "order": null,
            "_view_module_version": "1.2.0",
            "grid_template_areas": null,
            "object_position": null,
            "object_fit": null,
            "grid_auto_columns": null,
            "margin": null,
            "display": null,
            "left": null
          }
        },
        "4ac6b8dc90594b2eb21ee4e82d75cf34": {
          "model_module": "@jupyter-widgets/controls",
          "model_name": "HTMLModel",
          "model_module_version": "1.5.0",
          "state": {
            "_view_name": "HTMLView",
            "style": "IPY_MODEL_aab0b8c7cd1b40a9b96b7d362b427950",
            "_dom_classes": [],
            "description": "",
            "_model_name": "HTMLModel",
            "placeholder": "​",
            "_view_module": "@jupyter-widgets/controls",
            "_model_module_version": "1.5.0",
            "value": "",
            "_view_count": null,
            "_view_module_version": "1.5.0",
            "description_tooltip": null,
            "_model_module": "@jupyter-widgets/controls",
            "layout": "IPY_MODEL_9a65a05acc634e0bb643e023288197e6"
          }
        },
        "dc74e0eccc404876a3f13daeded5c76a": {
          "model_module": "@jupyter-widgets/controls",
          "model_name": "FloatProgressModel",
          "model_module_version": "1.5.0",
          "state": {
            "_view_name": "ProgressView",
            "style": "IPY_MODEL_927e329905414b26b7bb8d7e0c7aebab",
            "_dom_classes": [],
            "description": "",
            "_model_name": "FloatProgressModel",
            "bar_style": "success",
            "max": 29515,
            "_view_module": "@jupyter-widgets/controls",
            "_model_module_version": "1.5.0",
            "value": 29515,
            "_view_count": null,
            "_view_module_version": "1.5.0",
            "orientation": "horizontal",
            "min": 0,
            "description_tooltip": null,
            "_model_module": "@jupyter-widgets/controls",
            "layout": "IPY_MODEL_4cbf5e084a234ef695bec6a85fd9b6a5"
          }
        },
        "8aa43958f0704e048ac0d69346eb8bda": {
          "model_module": "@jupyter-widgets/controls",
          "model_name": "HTMLModel",
          "model_module_version": "1.5.0",
          "state": {
            "_view_name": "HTMLView",
            "style": "IPY_MODEL_bd37ed0331fb48b8968ebbb0a3e23db5",
            "_dom_classes": [],
            "description": "",
            "_model_name": "HTMLModel",
            "placeholder": "​",
            "_view_module": "@jupyter-widgets/controls",
            "_model_module_version": "1.5.0",
            "value": " 29696/? [00:00&lt;00:00, 103001.58it/s]",
            "_view_count": null,
            "_view_module_version": "1.5.0",
            "description_tooltip": null,
            "_model_module": "@jupyter-widgets/controls",
            "layout": "IPY_MODEL_dffb14923e8c4de2b5760a4ce48369c9"
          }
        },
        "aab0b8c7cd1b40a9b96b7d362b427950": {
          "model_module": "@jupyter-widgets/controls",
          "model_name": "DescriptionStyleModel",
          "model_module_version": "1.5.0",
          "state": {
            "_view_name": "StyleView",
            "_model_name": "DescriptionStyleModel",
            "description_width": "",
            "_view_module": "@jupyter-widgets/base",
            "_model_module_version": "1.5.0",
            "_view_count": null,
            "_view_module_version": "1.2.0",
            "_model_module": "@jupyter-widgets/controls"
          }
        },
        "9a65a05acc634e0bb643e023288197e6": {
          "model_module": "@jupyter-widgets/base",
          "model_name": "LayoutModel",
          "model_module_version": "1.2.0",
          "state": {
            "_view_name": "LayoutView",
            "grid_template_rows": null,
            "right": null,
            "justify_content": null,
            "_view_module": "@jupyter-widgets/base",
            "overflow": null,
            "_model_module_version": "1.2.0",
            "_view_count": null,
            "flex_flow": null,
            "width": null,
            "min_width": null,
            "border": null,
            "align_items": null,
            "bottom": null,
            "_model_module": "@jupyter-widgets/base",
            "top": null,
            "grid_column": null,
            "overflow_y": null,
            "overflow_x": null,
            "grid_auto_flow": null,
            "grid_area": null,
            "grid_template_columns": null,
            "flex": null,
            "_model_name": "LayoutModel",
            "justify_items": null,
            "grid_row": null,
            "max_height": null,
            "align_content": null,
            "visibility": null,
            "align_self": null,
            "height": null,
            "min_height": null,
            "padding": null,
            "grid_auto_rows": null,
            "grid_gap": null,
            "max_width": null,
            "order": null,
            "_view_module_version": "1.2.0",
            "grid_template_areas": null,
            "object_position": null,
            "object_fit": null,
            "grid_auto_columns": null,
            "margin": null,
            "display": null,
            "left": null
          }
        },
        "927e329905414b26b7bb8d7e0c7aebab": {
          "model_module": "@jupyter-widgets/controls",
          "model_name": "ProgressStyleModel",
          "model_module_version": "1.5.0",
          "state": {
            "_view_name": "StyleView",
            "_model_name": "ProgressStyleModel",
            "description_width": "",
            "_view_module": "@jupyter-widgets/base",
            "_model_module_version": "1.5.0",
            "_view_count": null,
            "_view_module_version": "1.2.0",
            "bar_color": null,
            "_model_module": "@jupyter-widgets/controls"
          }
        },
        "4cbf5e084a234ef695bec6a85fd9b6a5": {
          "model_module": "@jupyter-widgets/base",
          "model_name": "LayoutModel",
          "model_module_version": "1.2.0",
          "state": {
            "_view_name": "LayoutView",
            "grid_template_rows": null,
            "right": null,
            "justify_content": null,
            "_view_module": "@jupyter-widgets/base",
            "overflow": null,
            "_model_module_version": "1.2.0",
            "_view_count": null,
            "flex_flow": null,
            "width": null,
            "min_width": null,
            "border": null,
            "align_items": null,
            "bottom": null,
            "_model_module": "@jupyter-widgets/base",
            "top": null,
            "grid_column": null,
            "overflow_y": null,
            "overflow_x": null,
            "grid_auto_flow": null,
            "grid_area": null,
            "grid_template_columns": null,
            "flex": null,
            "_model_name": "LayoutModel",
            "justify_items": null,
            "grid_row": null,
            "max_height": null,
            "align_content": null,
            "visibility": null,
            "align_self": null,
            "height": null,
            "min_height": null,
            "padding": null,
            "grid_auto_rows": null,
            "grid_gap": null,
            "max_width": null,
            "order": null,
            "_view_module_version": "1.2.0",
            "grid_template_areas": null,
            "object_position": null,
            "object_fit": null,
            "grid_auto_columns": null,
            "margin": null,
            "display": null,
            "left": null
          }
        },
        "bd37ed0331fb48b8968ebbb0a3e23db5": {
          "model_module": "@jupyter-widgets/controls",
          "model_name": "DescriptionStyleModel",
          "model_module_version": "1.5.0",
          "state": {
            "_view_name": "StyleView",
            "_model_name": "DescriptionStyleModel",
            "description_width": "",
            "_view_module": "@jupyter-widgets/base",
            "_model_module_version": "1.5.0",
            "_view_count": null,
            "_view_module_version": "1.2.0",
            "_model_module": "@jupyter-widgets/controls"
          }
        },
        "dffb14923e8c4de2b5760a4ce48369c9": {
          "model_module": "@jupyter-widgets/base",
          "model_name": "LayoutModel",
          "model_module_version": "1.2.0",
          "state": {
            "_view_name": "LayoutView",
            "grid_template_rows": null,
            "right": null,
            "justify_content": null,
            "_view_module": "@jupyter-widgets/base",
            "overflow": null,
            "_model_module_version": "1.2.0",
            "_view_count": null,
            "flex_flow": null,
            "width": null,
            "min_width": null,
            "border": null,
            "align_items": null,
            "bottom": null,
            "_model_module": "@jupyter-widgets/base",
            "top": null,
            "grid_column": null,
            "overflow_y": null,
            "overflow_x": null,
            "grid_auto_flow": null,
            "grid_area": null,
            "grid_template_columns": null,
            "flex": null,
            "_model_name": "LayoutModel",
            "justify_items": null,
            "grid_row": null,
            "max_height": null,
            "align_content": null,
            "visibility": null,
            "align_self": null,
            "height": null,
            "min_height": null,
            "padding": null,
            "grid_auto_rows": null,
            "grid_gap": null,
            "max_width": null,
            "order": null,
            "_view_module_version": "1.2.0",
            "grid_template_areas": null,
            "object_position": null,
            "object_fit": null,
            "grid_auto_columns": null,
            "margin": null,
            "display": null,
            "left": null
          }
        },
        "05450de6a2e2409696fa0463b69b552a": {
          "model_module": "@jupyter-widgets/controls",
          "model_name": "HBoxModel",
          "model_module_version": "1.5.0",
          "state": {
            "_view_name": "HBoxView",
            "_dom_classes": [],
            "_model_name": "HBoxModel",
            "_view_module": "@jupyter-widgets/controls",
            "_model_module_version": "1.5.0",
            "_view_count": null,
            "_view_module_version": "1.5.0",
            "box_style": "",
            "layout": "IPY_MODEL_6c38f3f117874d9e9450399c37ae0bef",
            "_model_module": "@jupyter-widgets/controls",
            "children": [
              "IPY_MODEL_344a022b8edf42688f7325927d85afca",
              "IPY_MODEL_928d6c31f072430a81a437deba0a63d5",
              "IPY_MODEL_50ae77f9797846c49fb9d0f4a65fe9ef"
            ]
          }
        },
        "6c38f3f117874d9e9450399c37ae0bef": {
          "model_module": "@jupyter-widgets/base",
          "model_name": "LayoutModel",
          "model_module_version": "1.2.0",
          "state": {
            "_view_name": "LayoutView",
            "grid_template_rows": null,
            "right": null,
            "justify_content": null,
            "_view_module": "@jupyter-widgets/base",
            "overflow": null,
            "_model_module_version": "1.2.0",
            "_view_count": null,
            "flex_flow": null,
            "width": null,
            "min_width": null,
            "border": null,
            "align_items": null,
            "bottom": null,
            "_model_module": "@jupyter-widgets/base",
            "top": null,
            "grid_column": null,
            "overflow_y": null,
            "overflow_x": null,
            "grid_auto_flow": null,
            "grid_area": null,
            "grid_template_columns": null,
            "flex": null,
            "_model_name": "LayoutModel",
            "justify_items": null,
            "grid_row": null,
            "max_height": null,
            "align_content": null,
            "visibility": null,
            "align_self": null,
            "height": null,
            "min_height": null,
            "padding": null,
            "grid_auto_rows": null,
            "grid_gap": null,
            "max_width": null,
            "order": null,
            "_view_module_version": "1.2.0",
            "grid_template_areas": null,
            "object_position": null,
            "object_fit": null,
            "grid_auto_columns": null,
            "margin": null,
            "display": null,
            "left": null
          }
        },
        "344a022b8edf42688f7325927d85afca": {
          "model_module": "@jupyter-widgets/controls",
          "model_name": "HTMLModel",
          "model_module_version": "1.5.0",
          "state": {
            "_view_name": "HTMLView",
            "style": "IPY_MODEL_87e57df916a44122bcb360aae078ea4e",
            "_dom_classes": [],
            "description": "",
            "_model_name": "HTMLModel",
            "placeholder": "​",
            "_view_module": "@jupyter-widgets/controls",
            "_model_module_version": "1.5.0",
            "value": "",
            "_view_count": null,
            "_view_module_version": "1.5.0",
            "description_tooltip": null,
            "_model_module": "@jupyter-widgets/controls",
            "layout": "IPY_MODEL_8dfbbc98f07448d98daf0085cc594a49"
          }
        },
        "928d6c31f072430a81a437deba0a63d5": {
          "model_module": "@jupyter-widgets/controls",
          "model_name": "FloatProgressModel",
          "model_module_version": "1.5.0",
          "state": {
            "_view_name": "ProgressView",
            "style": "IPY_MODEL_e0f81ed21bc04d7297ac4e65df432f89",
            "_dom_classes": [],
            "description": "",
            "_model_name": "FloatProgressModel",
            "bar_style": "success",
            "max": 4422102,
            "_view_module": "@jupyter-widgets/controls",
            "_model_module_version": "1.5.0",
            "value": 4422102,
            "_view_count": null,
            "_view_module_version": "1.5.0",
            "orientation": "horizontal",
            "min": 0,
            "description_tooltip": null,
            "_model_module": "@jupyter-widgets/controls",
            "layout": "IPY_MODEL_dbd6f42c8b124647b5916e4c0b411155"
          }
        },
        "50ae77f9797846c49fb9d0f4a65fe9ef": {
          "model_module": "@jupyter-widgets/controls",
          "model_name": "HTMLModel",
          "model_module_version": "1.5.0",
          "state": {
            "_view_name": "HTMLView",
            "style": "IPY_MODEL_e2c145bbd71b4e9886ecd2871d0238cb",
            "_dom_classes": [],
            "description": "",
            "_model_name": "HTMLModel",
            "placeholder": "​",
            "_view_module": "@jupyter-widgets/controls",
            "_model_module_version": "1.5.0",
            "value": " 4422656/? [00:01&lt;00:00, 5774436.60it/s]",
            "_view_count": null,
            "_view_module_version": "1.5.0",
            "description_tooltip": null,
            "_model_module": "@jupyter-widgets/controls",
            "layout": "IPY_MODEL_4432b3311b43425ca3a23336190b2362"
          }
        },
        "87e57df916a44122bcb360aae078ea4e": {
          "model_module": "@jupyter-widgets/controls",
          "model_name": "DescriptionStyleModel",
          "model_module_version": "1.5.0",
          "state": {
            "_view_name": "StyleView",
            "_model_name": "DescriptionStyleModel",
            "description_width": "",
            "_view_module": "@jupyter-widgets/base",
            "_model_module_version": "1.5.0",
            "_view_count": null,
            "_view_module_version": "1.2.0",
            "_model_module": "@jupyter-widgets/controls"
          }
        },
        "8dfbbc98f07448d98daf0085cc594a49": {
          "model_module": "@jupyter-widgets/base",
          "model_name": "LayoutModel",
          "model_module_version": "1.2.0",
          "state": {
            "_view_name": "LayoutView",
            "grid_template_rows": null,
            "right": null,
            "justify_content": null,
            "_view_module": "@jupyter-widgets/base",
            "overflow": null,
            "_model_module_version": "1.2.0",
            "_view_count": null,
            "flex_flow": null,
            "width": null,
            "min_width": null,
            "border": null,
            "align_items": null,
            "bottom": null,
            "_model_module": "@jupyter-widgets/base",
            "top": null,
            "grid_column": null,
            "overflow_y": null,
            "overflow_x": null,
            "grid_auto_flow": null,
            "grid_area": null,
            "grid_template_columns": null,
            "flex": null,
            "_model_name": "LayoutModel",
            "justify_items": null,
            "grid_row": null,
            "max_height": null,
            "align_content": null,
            "visibility": null,
            "align_self": null,
            "height": null,
            "min_height": null,
            "padding": null,
            "grid_auto_rows": null,
            "grid_gap": null,
            "max_width": null,
            "order": null,
            "_view_module_version": "1.2.0",
            "grid_template_areas": null,
            "object_position": null,
            "object_fit": null,
            "grid_auto_columns": null,
            "margin": null,
            "display": null,
            "left": null
          }
        },
        "e0f81ed21bc04d7297ac4e65df432f89": {
          "model_module": "@jupyter-widgets/controls",
          "model_name": "ProgressStyleModel",
          "model_module_version": "1.5.0",
          "state": {
            "_view_name": "StyleView",
            "_model_name": "ProgressStyleModel",
            "description_width": "",
            "_view_module": "@jupyter-widgets/base",
            "_model_module_version": "1.5.0",
            "_view_count": null,
            "_view_module_version": "1.2.0",
            "bar_color": null,
            "_model_module": "@jupyter-widgets/controls"
          }
        },
        "dbd6f42c8b124647b5916e4c0b411155": {
          "model_module": "@jupyter-widgets/base",
          "model_name": "LayoutModel",
          "model_module_version": "1.2.0",
          "state": {
            "_view_name": "LayoutView",
            "grid_template_rows": null,
            "right": null,
            "justify_content": null,
            "_view_module": "@jupyter-widgets/base",
            "overflow": null,
            "_model_module_version": "1.2.0",
            "_view_count": null,
            "flex_flow": null,
            "width": null,
            "min_width": null,
            "border": null,
            "align_items": null,
            "bottom": null,
            "_model_module": "@jupyter-widgets/base",
            "top": null,
            "grid_column": null,
            "overflow_y": null,
            "overflow_x": null,
            "grid_auto_flow": null,
            "grid_area": null,
            "grid_template_columns": null,
            "flex": null,
            "_model_name": "LayoutModel",
            "justify_items": null,
            "grid_row": null,
            "max_height": null,
            "align_content": null,
            "visibility": null,
            "align_self": null,
            "height": null,
            "min_height": null,
            "padding": null,
            "grid_auto_rows": null,
            "grid_gap": null,
            "max_width": null,
            "order": null,
            "_view_module_version": "1.2.0",
            "grid_template_areas": null,
            "object_position": null,
            "object_fit": null,
            "grid_auto_columns": null,
            "margin": null,
            "display": null,
            "left": null
          }
        },
        "e2c145bbd71b4e9886ecd2871d0238cb": {
          "model_module": "@jupyter-widgets/controls",
          "model_name": "DescriptionStyleModel",
          "model_module_version": "1.5.0",
          "state": {
            "_view_name": "StyleView",
            "_model_name": "DescriptionStyleModel",
            "description_width": "",
            "_view_module": "@jupyter-widgets/base",
            "_model_module_version": "1.5.0",
            "_view_count": null,
            "_view_module_version": "1.2.0",
            "_model_module": "@jupyter-widgets/controls"
          }
        },
        "4432b3311b43425ca3a23336190b2362": {
          "model_module": "@jupyter-widgets/base",
          "model_name": "LayoutModel",
          "model_module_version": "1.2.0",
          "state": {
            "_view_name": "LayoutView",
            "grid_template_rows": null,
            "right": null,
            "justify_content": null,
            "_view_module": "@jupyter-widgets/base",
            "overflow": null,
            "_model_module_version": "1.2.0",
            "_view_count": null,
            "flex_flow": null,
            "width": null,
            "min_width": null,
            "border": null,
            "align_items": null,
            "bottom": null,
            "_model_module": "@jupyter-widgets/base",
            "top": null,
            "grid_column": null,
            "overflow_y": null,
            "overflow_x": null,
            "grid_auto_flow": null,
            "grid_area": null,
            "grid_template_columns": null,
            "flex": null,
            "_model_name": "LayoutModel",
            "justify_items": null,
            "grid_row": null,
            "max_height": null,
            "align_content": null,
            "visibility": null,
            "align_self": null,
            "height": null,
            "min_height": null,
            "padding": null,
            "grid_auto_rows": null,
            "grid_gap": null,
            "max_width": null,
            "order": null,
            "_view_module_version": "1.2.0",
            "grid_template_areas": null,
            "object_position": null,
            "object_fit": null,
            "grid_auto_columns": null,
            "margin": null,
            "display": null,
            "left": null
          }
        },
        "cfbd23120e39438a9c0da953a8980c84": {
          "model_module": "@jupyter-widgets/controls",
          "model_name": "HBoxModel",
          "model_module_version": "1.5.0",
          "state": {
            "_view_name": "HBoxView",
            "_dom_classes": [],
            "_model_name": "HBoxModel",
            "_view_module": "@jupyter-widgets/controls",
            "_model_module_version": "1.5.0",
            "_view_count": null,
            "_view_module_version": "1.5.0",
            "box_style": "",
            "layout": "IPY_MODEL_591bfc85e8a84550be31a8d609ec39e4",
            "_model_module": "@jupyter-widgets/controls",
            "children": [
              "IPY_MODEL_440b93a5974f48bb8ce117dd3a349e47",
              "IPY_MODEL_bad21ad243c0464aa77fb7c7a3dfc8a0",
              "IPY_MODEL_0d917edb4ac54ebaadf4c0e702ffc379"
            ]
          }
        },
        "591bfc85e8a84550be31a8d609ec39e4": {
          "model_module": "@jupyter-widgets/base",
          "model_name": "LayoutModel",
          "model_module_version": "1.2.0",
          "state": {
            "_view_name": "LayoutView",
            "grid_template_rows": null,
            "right": null,
            "justify_content": null,
            "_view_module": "@jupyter-widgets/base",
            "overflow": null,
            "_model_module_version": "1.2.0",
            "_view_count": null,
            "flex_flow": null,
            "width": null,
            "min_width": null,
            "border": null,
            "align_items": null,
            "bottom": null,
            "_model_module": "@jupyter-widgets/base",
            "top": null,
            "grid_column": null,
            "overflow_y": null,
            "overflow_x": null,
            "grid_auto_flow": null,
            "grid_area": null,
            "grid_template_columns": null,
            "flex": null,
            "_model_name": "LayoutModel",
            "justify_items": null,
            "grid_row": null,
            "max_height": null,
            "align_content": null,
            "visibility": null,
            "align_self": null,
            "height": null,
            "min_height": null,
            "padding": null,
            "grid_auto_rows": null,
            "grid_gap": null,
            "max_width": null,
            "order": null,
            "_view_module_version": "1.2.0",
            "grid_template_areas": null,
            "object_position": null,
            "object_fit": null,
            "grid_auto_columns": null,
            "margin": null,
            "display": null,
            "left": null
          }
        },
        "440b93a5974f48bb8ce117dd3a349e47": {
          "model_module": "@jupyter-widgets/controls",
          "model_name": "HTMLModel",
          "model_module_version": "1.5.0",
          "state": {
            "_view_name": "HTMLView",
            "style": "IPY_MODEL_cde4534d98a34d12a063b0e4511be22e",
            "_dom_classes": [],
            "description": "",
            "_model_name": "HTMLModel",
            "placeholder": "​",
            "_view_module": "@jupyter-widgets/controls",
            "_model_module_version": "1.5.0",
            "value": "",
            "_view_count": null,
            "_view_module_version": "1.5.0",
            "description_tooltip": null,
            "_model_module": "@jupyter-widgets/controls",
            "layout": "IPY_MODEL_73e0ef0b2abd4fcda55a08be08c384ee"
          }
        },
        "bad21ad243c0464aa77fb7c7a3dfc8a0": {
          "model_module": "@jupyter-widgets/controls",
          "model_name": "FloatProgressModel",
          "model_module_version": "1.5.0",
          "state": {
            "_view_name": "ProgressView",
            "style": "IPY_MODEL_5845502fe55e42b18ad3b04b8685e0cd",
            "_dom_classes": [],
            "description": "",
            "_model_name": "FloatProgressModel",
            "bar_style": "success",
            "max": 5148,
            "_view_module": "@jupyter-widgets/controls",
            "_model_module_version": "1.5.0",
            "value": 5148,
            "_view_count": null,
            "_view_module_version": "1.5.0",
            "orientation": "horizontal",
            "min": 0,
            "description_tooltip": null,
            "_model_module": "@jupyter-widgets/controls",
            "layout": "IPY_MODEL_0fadf465298843af8a2ccd0cbb83438a"
          }
        },
        "0d917edb4ac54ebaadf4c0e702ffc379": {
          "model_module": "@jupyter-widgets/controls",
          "model_name": "HTMLModel",
          "model_module_version": "1.5.0",
          "state": {
            "_view_name": "HTMLView",
            "style": "IPY_MODEL_57e82bf5a6334abb850e66f7c1e96730",
            "_dom_classes": [],
            "description": "",
            "_model_name": "HTMLModel",
            "placeholder": "​",
            "_view_module": "@jupyter-widgets/controls",
            "_model_module_version": "1.5.0",
            "value": " 6144/? [00:00&lt;00:00, 203916.97it/s]",
            "_view_count": null,
            "_view_module_version": "1.5.0",
            "description_tooltip": null,
            "_model_module": "@jupyter-widgets/controls",
            "layout": "IPY_MODEL_448f64aa561948f895a6f841ca84a03b"
          }
        },
        "cde4534d98a34d12a063b0e4511be22e": {
          "model_module": "@jupyter-widgets/controls",
          "model_name": "DescriptionStyleModel",
          "model_module_version": "1.5.0",
          "state": {
            "_view_name": "StyleView",
            "_model_name": "DescriptionStyleModel",
            "description_width": "",
            "_view_module": "@jupyter-widgets/base",
            "_model_module_version": "1.5.0",
            "_view_count": null,
            "_view_module_version": "1.2.0",
            "_model_module": "@jupyter-widgets/controls"
          }
        },
        "73e0ef0b2abd4fcda55a08be08c384ee": {
          "model_module": "@jupyter-widgets/base",
          "model_name": "LayoutModel",
          "model_module_version": "1.2.0",
          "state": {
            "_view_name": "LayoutView",
            "grid_template_rows": null,
            "right": null,
            "justify_content": null,
            "_view_module": "@jupyter-widgets/base",
            "overflow": null,
            "_model_module_version": "1.2.0",
            "_view_count": null,
            "flex_flow": null,
            "width": null,
            "min_width": null,
            "border": null,
            "align_items": null,
            "bottom": null,
            "_model_module": "@jupyter-widgets/base",
            "top": null,
            "grid_column": null,
            "overflow_y": null,
            "overflow_x": null,
            "grid_auto_flow": null,
            "grid_area": null,
            "grid_template_columns": null,
            "flex": null,
            "_model_name": "LayoutModel",
            "justify_items": null,
            "grid_row": null,
            "max_height": null,
            "align_content": null,
            "visibility": null,
            "align_self": null,
            "height": null,
            "min_height": null,
            "padding": null,
            "grid_auto_rows": null,
            "grid_gap": null,
            "max_width": null,
            "order": null,
            "_view_module_version": "1.2.0",
            "grid_template_areas": null,
            "object_position": null,
            "object_fit": null,
            "grid_auto_columns": null,
            "margin": null,
            "display": null,
            "left": null
          }
        },
        "5845502fe55e42b18ad3b04b8685e0cd": {
          "model_module": "@jupyter-widgets/controls",
          "model_name": "ProgressStyleModel",
          "model_module_version": "1.5.0",
          "state": {
            "_view_name": "StyleView",
            "_model_name": "ProgressStyleModel",
            "description_width": "",
            "_view_module": "@jupyter-widgets/base",
            "_model_module_version": "1.5.0",
            "_view_count": null,
            "_view_module_version": "1.2.0",
            "bar_color": null,
            "_model_module": "@jupyter-widgets/controls"
          }
        },
        "0fadf465298843af8a2ccd0cbb83438a": {
          "model_module": "@jupyter-widgets/base",
          "model_name": "LayoutModel",
          "model_module_version": "1.2.0",
          "state": {
            "_view_name": "LayoutView",
            "grid_template_rows": null,
            "right": null,
            "justify_content": null,
            "_view_module": "@jupyter-widgets/base",
            "overflow": null,
            "_model_module_version": "1.2.0",
            "_view_count": null,
            "flex_flow": null,
            "width": null,
            "min_width": null,
            "border": null,
            "align_items": null,
            "bottom": null,
            "_model_module": "@jupyter-widgets/base",
            "top": null,
            "grid_column": null,
            "overflow_y": null,
            "overflow_x": null,
            "grid_auto_flow": null,
            "grid_area": null,
            "grid_template_columns": null,
            "flex": null,
            "_model_name": "LayoutModel",
            "justify_items": null,
            "grid_row": null,
            "max_height": null,
            "align_content": null,
            "visibility": null,
            "align_self": null,
            "height": null,
            "min_height": null,
            "padding": null,
            "grid_auto_rows": null,
            "grid_gap": null,
            "max_width": null,
            "order": null,
            "_view_module_version": "1.2.0",
            "grid_template_areas": null,
            "object_position": null,
            "object_fit": null,
            "grid_auto_columns": null,
            "margin": null,
            "display": null,
            "left": null
          }
        },
        "57e82bf5a6334abb850e66f7c1e96730": {
          "model_module": "@jupyter-widgets/controls",
          "model_name": "DescriptionStyleModel",
          "model_module_version": "1.5.0",
          "state": {
            "_view_name": "StyleView",
            "_model_name": "DescriptionStyleModel",
            "description_width": "",
            "_view_module": "@jupyter-widgets/base",
            "_model_module_version": "1.5.0",
            "_view_count": null,
            "_view_module_version": "1.2.0",
            "_model_module": "@jupyter-widgets/controls"
          }
        },
        "448f64aa561948f895a6f841ca84a03b": {
          "model_module": "@jupyter-widgets/base",
          "model_name": "LayoutModel",
          "model_module_version": "1.2.0",
          "state": {
            "_view_name": "LayoutView",
            "grid_template_rows": null,
            "right": null,
            "justify_content": null,
            "_view_module": "@jupyter-widgets/base",
            "overflow": null,
            "_model_module_version": "1.2.0",
            "_view_count": null,
            "flex_flow": null,
            "width": null,
            "min_width": null,
            "border": null,
            "align_items": null,
            "bottom": null,
            "_model_module": "@jupyter-widgets/base",
            "top": null,
            "grid_column": null,
            "overflow_y": null,
            "overflow_x": null,
            "grid_auto_flow": null,
            "grid_area": null,
            "grid_template_columns": null,
            "flex": null,
            "_model_name": "LayoutModel",
            "justify_items": null,
            "grid_row": null,
            "max_height": null,
            "align_content": null,
            "visibility": null,
            "align_self": null,
            "height": null,
            "min_height": null,
            "padding": null,
            "grid_auto_rows": null,
            "grid_gap": null,
            "max_width": null,
            "order": null,
            "_view_module_version": "1.2.0",
            "grid_template_areas": null,
            "object_position": null,
            "object_fit": null,
            "grid_auto_columns": null,
            "margin": null,
            "display": null,
            "left": null
          }
        }
      }
    }
  },
  "cells": [
    {
      "cell_type": "markdown",
      "metadata": {
        "id": "OdLjjXBjLKNx"
      },
      "source": [
        "### Homework01 - Classification task (part 2 )\n",
        "\n",
        "student name : Daniele Mellino <br>\n",
        "student id : 2013373<br>\n",
        "Course: Neural Network and Deep Learning <br>\n",
        "Professor: Testolin Alberto<br>"
      ]
    },
    {
      "cell_type": "code",
      "metadata": {
        "id": "Tq7UYbbq5VcW"
      },
      "source": [
        "#libraries\n",
        "import matplotlib.pyplot as plt\n",
        "import numpy as np\n",
        "import random\n",
        "import pandas as pd\n",
        "\n",
        "import torch\n",
        "import torch.nn as nn\n",
        "import torch.optim as optim\n",
        "import torch.utils.data as Data\n",
        "from torch.utils.data import Dataset, DataLoader,SubsetRandomSampler\n",
        "from torch.nn import functional as F\n",
        "import torchvision\n",
        "from torchvision import transforms\n",
        "import copy\n",
        "\n",
        "from sklearn.model_selection import train_test_split\n",
        "from sklearn.model_selection import KFold"
      ],
      "execution_count": 2,
      "outputs": []
    },
    {
      "cell_type": "code",
      "metadata": {
        "id": "6wRuRn08zVO9",
        "colab": {
          "base_uri": "https://localhost:8080/",
          "height": 443,
          "referenced_widgets": [
            "cab257824aca48c49a16f26c9d673f67",
            "de13f4e9adc74a6e9f2ac9ea377e793f",
            "f307f7be826449eba541ac623348d406",
            "5bd5c97d2dc3462daf3ab81f184e022e",
            "77cae309bcb948a6b7a677956814a886",
            "fa61e93276204fd9848d0627bdc2202b",
            "29e684b6c097498b8c7f2117e8e0da1b",
            "da44b8208a8a42f28fecf3361965274b",
            "92c861c1104a4e539dcd94c29680070a",
            "c685d17c15894f7987c154d5bfb795cb",
            "6c800c4726104015bf51c7a90b7619ba",
            "c70370b89a0f40aead026bf55f727c05",
            "77260a17ba7c4bc39cfc63e21605758f",
            "4ac6b8dc90594b2eb21ee4e82d75cf34",
            "dc74e0eccc404876a3f13daeded5c76a",
            "8aa43958f0704e048ac0d69346eb8bda",
            "aab0b8c7cd1b40a9b96b7d362b427950",
            "9a65a05acc634e0bb643e023288197e6",
            "927e329905414b26b7bb8d7e0c7aebab",
            "4cbf5e084a234ef695bec6a85fd9b6a5",
            "bd37ed0331fb48b8968ebbb0a3e23db5",
            "dffb14923e8c4de2b5760a4ce48369c9",
            "05450de6a2e2409696fa0463b69b552a",
            "6c38f3f117874d9e9450399c37ae0bef",
            "344a022b8edf42688f7325927d85afca",
            "928d6c31f072430a81a437deba0a63d5",
            "50ae77f9797846c49fb9d0f4a65fe9ef",
            "87e57df916a44122bcb360aae078ea4e",
            "8dfbbc98f07448d98daf0085cc594a49",
            "e0f81ed21bc04d7297ac4e65df432f89",
            "dbd6f42c8b124647b5916e4c0b411155",
            "e2c145bbd71b4e9886ecd2871d0238cb",
            "4432b3311b43425ca3a23336190b2362",
            "cfbd23120e39438a9c0da953a8980c84",
            "591bfc85e8a84550be31a8d609ec39e4",
            "440b93a5974f48bb8ce117dd3a349e47",
            "bad21ad243c0464aa77fb7c7a3dfc8a0",
            "0d917edb4ac54ebaadf4c0e702ffc379",
            "cde4534d98a34d12a063b0e4511be22e",
            "73e0ef0b2abd4fcda55a08be08c384ee",
            "5845502fe55e42b18ad3b04b8685e0cd",
            "0fadf465298843af8a2ccd0cbb83438a",
            "57e82bf5a6334abb850e66f7c1e96730",
            "448f64aa561948f895a6f841ca84a03b"
          ]
        },
        "outputId": "a751b090-22c6-4303-87f1-6c396c9cff1c"
      },
      "source": [
        "train_dataset = torchvision.datasets.FashionMNIST('classifier_data', train=True, download=True)\n",
        "test_dataset  = torchvision.datasets.FashionMNIST('classifier_data', train=False, download=True)\n"
      ],
      "execution_count": 3,
      "outputs": [
        {
          "output_type": "stream",
          "name": "stdout",
          "text": [
            "Downloading http://fashion-mnist.s3-website.eu-central-1.amazonaws.com/train-images-idx3-ubyte.gz\n",
            "Downloading http://fashion-mnist.s3-website.eu-central-1.amazonaws.com/train-images-idx3-ubyte.gz to classifier_data/FashionMNIST/raw/train-images-idx3-ubyte.gz\n"
          ]
        },
        {
          "output_type": "display_data",
          "data": {
            "application/vnd.jupyter.widget-view+json": {
              "model_id": "cab257824aca48c49a16f26c9d673f67",
              "version_minor": 0,
              "version_major": 2
            },
            "text/plain": [
              "  0%|          | 0/26421880 [00:00<?, ?it/s]"
            ]
          },
          "metadata": {}
        },
        {
          "output_type": "stream",
          "name": "stdout",
          "text": [
            "Extracting classifier_data/FashionMNIST/raw/train-images-idx3-ubyte.gz to classifier_data/FashionMNIST/raw\n",
            "\n",
            "Downloading http://fashion-mnist.s3-website.eu-central-1.amazonaws.com/train-labels-idx1-ubyte.gz\n",
            "Downloading http://fashion-mnist.s3-website.eu-central-1.amazonaws.com/train-labels-idx1-ubyte.gz to classifier_data/FashionMNIST/raw/train-labels-idx1-ubyte.gz\n"
          ]
        },
        {
          "output_type": "display_data",
          "data": {
            "application/vnd.jupyter.widget-view+json": {
              "model_id": "c70370b89a0f40aead026bf55f727c05",
              "version_minor": 0,
              "version_major": 2
            },
            "text/plain": [
              "  0%|          | 0/29515 [00:00<?, ?it/s]"
            ]
          },
          "metadata": {}
        },
        {
          "output_type": "stream",
          "name": "stdout",
          "text": [
            "Extracting classifier_data/FashionMNIST/raw/train-labels-idx1-ubyte.gz to classifier_data/FashionMNIST/raw\n",
            "\n",
            "Downloading http://fashion-mnist.s3-website.eu-central-1.amazonaws.com/t10k-images-idx3-ubyte.gz\n",
            "Downloading http://fashion-mnist.s3-website.eu-central-1.amazonaws.com/t10k-images-idx3-ubyte.gz to classifier_data/FashionMNIST/raw/t10k-images-idx3-ubyte.gz\n"
          ]
        },
        {
          "output_type": "display_data",
          "data": {
            "application/vnd.jupyter.widget-view+json": {
              "model_id": "05450de6a2e2409696fa0463b69b552a",
              "version_minor": 0,
              "version_major": 2
            },
            "text/plain": [
              "  0%|          | 0/4422102 [00:00<?, ?it/s]"
            ]
          },
          "metadata": {}
        },
        {
          "output_type": "stream",
          "name": "stdout",
          "text": [
            "Extracting classifier_data/FashionMNIST/raw/t10k-images-idx3-ubyte.gz to classifier_data/FashionMNIST/raw\n",
            "\n",
            "Downloading http://fashion-mnist.s3-website.eu-central-1.amazonaws.com/t10k-labels-idx1-ubyte.gz\n",
            "Downloading http://fashion-mnist.s3-website.eu-central-1.amazonaws.com/t10k-labels-idx1-ubyte.gz to classifier_data/FashionMNIST/raw/t10k-labels-idx1-ubyte.gz\n"
          ]
        },
        {
          "output_type": "display_data",
          "data": {
            "application/vnd.jupyter.widget-view+json": {
              "model_id": "cfbd23120e39438a9c0da953a8980c84",
              "version_minor": 0,
              "version_major": 2
            },
            "text/plain": [
              "  0%|          | 0/5148 [00:00<?, ?it/s]"
            ]
          },
          "metadata": {}
        },
        {
          "output_type": "stream",
          "name": "stdout",
          "text": [
            "Extracting classifier_data/FashionMNIST/raw/t10k-labels-idx1-ubyte.gz to classifier_data/FashionMNIST/raw\n",
            "\n"
          ]
        }
      ]
    },
    {
      "cell_type": "code",
      "metadata": {
        "colab": {
          "base_uri": "https://localhost:8080/",
          "height": 421
        },
        "id": "dWtMvapA9sK-",
        "outputId": "d897b3da-1362-4d55-b011-f9aa8a69e22f"
      },
      "source": [
        "print(f\"Sample Number: {12}\",\"\\n\",\n",
        "      f\"Label :{train_dataset[12][1]}\",\"\\n\",\"Image :\")\n",
        "plt.imshow(train_dataset[12][0], cmap='Greys')\n",
        "plt.show()\n",
        "\n",
        "print(\"Number of objects:\", (np.unique(train_dataset.targets).shape[0] ) )\n",
        "\n",
        "min_px_value = train_dataset.data[0].min()\n",
        "print(f\"Minimum pixel value : {min_px_value}\")\n",
        "max_px_value = train_dataset.data[0].max()\n",
        "print(f\"Maximum pixel value : {max_px_value}\")\n",
        "\n",
        "# Data normalization\n",
        "# Mean and std should be divided by 255 (maximum pixel value)\n",
        "# because, after the ToTensor() transformation (see next step), images are normalized\n",
        "# between 0 and 1.\n",
        "\n",
        "train_mean = train_dataset.data.float().mean() / 255\n",
        "train_std = train_dataset.data.float().std() / 255\n",
        "\n",
        "print(\"-----  TRAIN NORMALIZATION VALUES  -----\")\n",
        "print(f\"Mean: {train_mean:.4f}\")\n",
        "print(f\"Standard Deviation: {train_std:.4f}\")"
      ],
      "execution_count": 4,
      "outputs": [
        {
          "output_type": "stream",
          "name": "stdout",
          "text": [
            "Sample Number: 12 \n",
            " Label :5 \n",
            " Image :\n"
          ]
        },
        {
          "output_type": "display_data",
          "data": {
            "image/png": "[encoded data removed]",
            "text/plain": [
              "<Figure size 432x288 with 1 Axes>"
            ]
          },
          "metadata": {
            "needs_background": "light"
          }
        },
        {
          "output_type": "stream",
          "name": "stdout",
          "text": [
            "Number of objects: 10\n",
            "Minimum pixel value : 0\n",
            "Maximum pixel value : 255\n",
            "-----  TRAIN NORMALIZATION VALUES  -----\n",
            "Mean: 0.2860\n",
            "Standard Deviation: 0.3530\n"
          ]
        }
      ]
    },
    {
      "cell_type": "code",
      "metadata": {
        "id": "ZyEOmSCGd3V2"
      },
      "source": [
        "# Compositions of transformations\n",
        "train_transforms = torchvision.transforms.Compose([\n",
        "                                                   torchvision.transforms.ToTensor(), # values are normalized between 0 and 1\n",
        "                                                   torchvision.transforms.Normalize(train_mean, train_std)\n",
        "])\n",
        "\n",
        "test_transforms = torchvision.transforms.Compose([\n",
        "                                                  torchvision.transforms.ToTensor(),\n",
        "                                                  torchvision.transforms.Normalize(train_mean, train_std)\n",
        "])\n",
        "\n",
        "#test_dataset  = torchvision.datasets.FashionMNIST('classifier_data', train=False, download=True, transform=test_transforms)\n",
        "\n",
        "# Set the train and test transform\n",
        "train_dataset.transform = train_transforms\n",
        "test_dataset.transform = test_transforms"
      ],
      "execution_count": 5,
      "outputs": []
    },
    {
      "cell_type": "code",
      "metadata": {
        "id": "eMmS2wkx-kaF"
      },
      "source": [
        "def create_validation_set(train_data, train_percentage, test_transforms):\n",
        "    \n",
        "  # Split train data into train and validation sets\n",
        "  # (train_percentage of training set will be used as validation set)\n",
        "  num_train_examples = int(len(train_data) * train_percentage)\n",
        "  num_valid_examples = len(train_data) - num_train_examples\n",
        "\n",
        "  # Create 'Subset' objects\n",
        "  train_data, valid_data = Data.random_split(train_data, [num_train_examples, num_valid_examples])\n",
        "\n",
        "  print(f\"Number training examples: {len(train_data)}\")\n",
        "  print(f\"Number validation examples: {len(valid_data)}\")\n",
        "\n",
        "  # Apply test transformations to the validation set\n",
        "  valid_data = copy.deepcopy(valid_data) # If we change train transformations, this won't affect the validation set\n",
        "  valid_data.dataset.transform = test_transforms\n",
        "\n",
        "  return valid_data"
      ],
      "execution_count": 6,
      "outputs": []
    },
    {
      "cell_type": "code",
      "metadata": {
        "colab": {
          "base_uri": "https://localhost:8080/"
        },
        "id": "W983JHn2-ljk",
        "outputId": "fe3331b6-fdfb-441f-e1be-0849d756c8b8"
      },
      "source": [
        "valid_dataset = create_validation_set(train_dataset, 0.8, test_transforms)"
      ],
      "execution_count": 7,
      "outputs": [
        {
          "output_type": "stream",
          "name": "stdout",
          "text": [
            "Number training examples: 48000\n",
            "Number validation examples: 12000\n"
          ]
        }
      ]
    },
    {
      "cell_type": "markdown",
      "metadata": {
        "id": "kXqtp0W6p0HK"
      },
      "source": [
        "#### early stopping class"
      ]
    },
    {
      "cell_type": "code",
      "metadata": {
        "id": "rua4YzrTp47m"
      },
      "source": [
        "class EarlyStopping():\n",
        "    \"\"\"\n",
        "    Early stopping to stop the training when the loss does not improve after\n",
        "    certain epochs.\n",
        "    \"\"\"\n",
        "    def __init__(self, patience=5, min_delta=0):\n",
        "        \"\"\"\n",
        "        :param patience: how many epochs to wait before stopping when loss is\n",
        "               not improving\n",
        "        :param min_delta: minimum difference between new loss and old loss for\n",
        "               new loss to be considered as an improvement\n",
        "        \"\"\"\n",
        "        self.patience = patience\n",
        "        self.min_delta = min_delta\n",
        "        self.counter = 0\n",
        "        self.best_loss = None\n",
        "        self.early_stop = False\n",
        "    def __call__(self, val_loss):\n",
        "        if self.best_loss == None:\n",
        "            self.best_loss = val_loss\n",
        "        elif self.best_loss - val_loss > self.min_delta:\n",
        "            self.best_loss = val_loss\n",
        "            # reset counter if validation loss improves\n",
        "            self.counter = 0\n",
        "        elif self.best_loss - val_loss < self.min_delta:\n",
        "            self.counter += 1\n",
        "            print(f\"INFO: Early stopping counter {self.counter} of {self.patience}\")\n",
        "            if self.counter >= self.patience:\n",
        "                print('INFO: Early stopping')\n",
        "                self.early_stop = True"
      ],
      "execution_count": 8,
      "outputs": []
    },
    {
      "cell_type": "markdown",
      "metadata": {
        "id": "Hw1GVKptd33Q"
      },
      "source": [
        "### CNN "
      ]
    },
    {
      "cell_type": "code",
      "metadata": {
        "id": "d0y2JkU2DIo9"
      },
      "source": [
        "class CNN2d(nn.Module):\n",
        "    def __init__(self,n_feat, dp1D=0,dp2D=0, Nf = 100) :\n",
        "        super(CNN2d,self).__init__()\n",
        "        self.conv1 = nn.Conv2d(1, n_feat, kernel_size=3, padding=1)\n",
        "        self.conv2 = nn.Conv2d(n_feat, 2*n_feat, kernel_size=5) \n",
        "        self.pool1 = nn.MaxPool2d(2,2)\n",
        "        self.drop1 = nn.Dropout2d(p=dp1D)\n",
        "        self.drop2 = nn.Dropout2d(p=dp2D)\n",
        "        self.fc1 = nn.Linear(in_features=n_feat*50, out_features=Nf)\n",
        "        self.fc2 = nn.Linear(in_features=Nf, out_features=10 )\n",
        "\n",
        "\n",
        "    def forward(self, x):\n",
        "        \n",
        "        x = F.relu(self.conv1(x))\n",
        "        x = self.pool1(x)\n",
        "        x = F.relu(self.conv2(x))\n",
        "        x = self.pool1(x)\n",
        "        x = self.drop2(x)\n",
        "        x = x.view(x.size(0), -1) # reshaping necessary for linear layer\n",
        "        x = F.relu(self.fc1(x))\n",
        "        x = self.drop1(x)\n",
        "        x = self.fc2(x)\n",
        "        return x\n",
        "\n",
        "    def train_step(self, train_loader, optimizer, loss_fn, device):\n",
        "        \"\"\"\n",
        "        basic training step\n",
        "        \"\"\"\n",
        "        train_loss= []\n",
        "        self.train() \n",
        "        for sample_batched in train_loader:\n",
        "            x_batch,label_batch= sample_batched[0].to(device),sample_batched[1].to(device) # Move data to device \n",
        "            out = self.forward(x_batch) # Forward pass\n",
        "            loss = loss_fn(out, label_batch) # Compute loss\n",
        "            \n",
        "            # Backpropagation\n",
        "            self.zero_grad()\n",
        "            loss.backward()\n",
        "            \n",
        "            optimizer.step() # Update the weights\n",
        "            \n",
        "            # Save training loss for this batch\n",
        "            loss_batch = loss.detach().cpu().numpy()\n",
        "            train_loss.append(loss_batch)\n",
        "        return np.mean(train_loss)\n",
        "\n",
        "\n",
        "    def validation_step(self, val_loader, loss_fn, device):\n",
        "        \"\"\"\n",
        "        basic validation step\n",
        "        \"\"\"\n",
        "        val_loss = []\n",
        "        self.eval() \n",
        "        with torch.no_grad(): # Disable gradient tracking\n",
        "            for sample_batched in val_loader:\n",
        "                x_batch,label_batch = sample_batched[0].to(device),sample_batched[1].to(device) # Move data to device\n",
        "                out = self.forward(x_batch) # Forward pass\n",
        "                loss = loss_fn(out, label_batch) # Compute loss\n",
        "                # Save validation loss for this batch\n",
        "                loss_batch = loss.detach().cpu().numpy()\n",
        "                val_loss.append(loss_batch)\n",
        "        return np.mean(val_loss)\n",
        "\n",
        "    def fit(self, train_loader, val_loader, optimizer, loss_fn, params):\n",
        "        \"\"\"\n",
        "        function fit to train the model, it takes the Net, the train and validation \n",
        "        loaders, the optimizer and the loss function. \n",
        "\n",
        "        params : dictionary of parameters\n",
        "        \"\"\"\n",
        "        early_stopping = EarlyStopping(params['patience'])\n",
        "        train_loss_log = []\n",
        "        val_loss_log = []\n",
        "        for epoch in range( params['num_epochs']): #tqdm is just for displaying the progress bars\n",
        "            ### TRAIN\n",
        "            train_loss = self.train_step(train_loader, optimizer, loss_fn,  params['device'])\n",
        "            ### VALIDATION\n",
        "            val_loss = self.validation_step(val_loader, loss_fn,  params['device'])\n",
        "\n",
        "            #early stopping\n",
        "            early_stopping(val_loss)\n",
        "            if early_stopping.early_stop:\n",
        "                break\n",
        "\n",
        "            # Save average train loss\n",
        "            train_loss_log.append(train_loss)\n",
        "            # Save average validation loss\n",
        "            val_loss_log.append(val_loss)\n",
        "            print(f\"End_epoch number : {len(val_loss_log)}, train _loss is : {train_loss}, val_loss is {val_loss}\" )\n",
        "            \n",
        "        return train_loss_log, val_loss_log\n",
        "\n",
        "\n",
        "    def predict(self, dataloader, device):\n",
        "        '''\n",
        "        function that return the array of prediction, it take in input the device and the dataloader\n",
        "        '''\n",
        "        self.eval()\n",
        "        pred = []\n",
        "        with torch.no_grad(): # Disable gradient tracking\n",
        "            for sample_batched in dataloader:\n",
        "                # Move data to device\n",
        "                x_batch = sample_batched[0].to(device)\n",
        "                # Forward pass\n",
        "                out = self.forward(x_batch)\n",
        "                out = out.cpu().numpy()\n",
        "                pred.append(out)\n",
        "        return np.array( pred )\n",
        "                \n",
        "    def test(self, test_loader, device, loss_fn):\n",
        "        \"\"\"\n",
        "        function used to get the test_loss and the accuracy\n",
        "        \"\"\"\n",
        "        test_loss = []\n",
        "        outs=[]\n",
        "        labs=[]\n",
        "\n",
        "        self.eval() # Evaluation mode (e.g. disable dropout)\n",
        "        with torch.no_grad(): # Disable gradient tracking\n",
        "            for sample_batched in test_loader:\n",
        "                x_batch,label_batch= sample_batched[0].to(device),sample_batched[1].to(device) # Move data to device  #[0]\n",
        "                out = self.forward(x_batch) # Forward pass\n",
        "                loss = loss_fn(out, label_batch)# Compute the loss\n",
        "                # Save validation loss and a for this batch\n",
        "                out = out.cpu().numpy().argmax()\n",
        "                outs.append(out)\n",
        "                loss_batch = loss.detach().cpu().numpy()\n",
        "                labs.append(sample_batched[1].squeeze().tolist())\n",
        "                test_loss.append( loss_batch.mean() )\n",
        "\n",
        "        p = np.array([ outs[i]-labs[i] for i in range(len(test_loader.dataset))])\n",
        "        wrong = len(p[p!=0])/len(test_loader.dataset)\n",
        "        return np.array(test_loss).mean(), 1.0-wrong\n",
        "    \n",
        "    def save(self, path):\n",
        "        torch.save(self.state_dict(), path)\n",
        "        \n",
        "    def load(self, path):\n",
        "        self.load_state_dict( torch.load(path) )\n",
        "        \n",
        "    def restart(self):\n",
        "        self.__init__()\n",
        "    "
      ],
      "execution_count": 102,
      "outputs": []
    },
    {
      "cell_type": "code",
      "metadata": {
        "colab": {
          "base_uri": "https://localhost:8080/"
        },
        "id": "PB-2s5ZGCkZE",
        "outputId": "43dae821-9963-40a0-8b76-60c1df8f28a8"
      },
      "source": [
        "! pip install optuna mlflow"
      ],
      "execution_count": 15,
      "outputs": [
        {
          "output_type": "stream",
          "name": "stdout",
          "text": [
            "Requirement already satisfied: optuna in /usr/local/lib/python3.7/dist-packages (2.10.0)\n",
            "Requirement already satisfied: mlflow in /usr/local/lib/python3.7/dist-packages (1.23.1)\n",
            "Requirement already satisfied: tqdm in /usr/local/lib/python3.7/dist-packages (from optuna) (4.62.3)\n",
            "Requirement already satisfied: cmaes>=0.8.2 in /usr/local/lib/python3.7/dist-packages (from optuna) (0.8.2)\n",
            "Requirement already satisfied: scipy!=1.4.0 in /usr/local/lib/python3.7/dist-packages (from optuna) (1.4.1)\n",
            "Requirement already satisfied: numpy in /usr/local/lib/python3.7/dist-packages (from optuna) (1.19.5)\n",
            "Requirement already satisfied: colorlog in /usr/local/lib/python3.7/dist-packages (from optuna) (6.6.0)\n",
            "Requirement already satisfied: PyYAML in /usr/local/lib/python3.7/dist-packages (from optuna) (6.0)\n",
            "Requirement already satisfied: packaging>=20.0 in /usr/local/lib/python3.7/dist-packages (from optuna) (21.3)\n",
            "Requirement already satisfied: alembic in /usr/local/lib/python3.7/dist-packages (from optuna) (1.7.6)\n",
            "Requirement already satisfied: cliff in /usr/local/lib/python3.7/dist-packages (from optuna) (3.10.0)\n",
            "Requirement already satisfied: sqlalchemy>=1.1.0 in /usr/local/lib/python3.7/dist-packages (from optuna) (1.4.31)\n",
            "Requirement already satisfied: pyparsing!=3.0.5,>=2.0.2 in /usr/local/lib/python3.7/dist-packages (from packaging>=20.0->optuna) (3.0.7)\n",
            "Requirement already satisfied: greenlet!=0.4.17 in /usr/local/lib/python3.7/dist-packages (from sqlalchemy>=1.1.0->optuna) (1.1.2)\n",
            "Requirement already satisfied: importlib-metadata in /usr/local/lib/python3.7/dist-packages (from sqlalchemy>=1.1.0->optuna) (4.10.1)\n",
            "Requirement already satisfied: entrypoints in /usr/local/lib/python3.7/dist-packages (from mlflow) (0.4)\n",
            "Requirement already satisfied: gitpython>=2.1.0 in /usr/local/lib/python3.7/dist-packages (from mlflow) (3.1.26)\n",
            "Requirement already satisfied: requests>=2.17.3 in /usr/local/lib/python3.7/dist-packages (from mlflow) (2.23.0)\n",
            "Requirement already satisfied: pandas in /usr/local/lib/python3.7/dist-packages (from mlflow) (1.3.5)\n",
            "Requirement already satisfied: pytz in /usr/local/lib/python3.7/dist-packages (from mlflow) (2018.9)\n",
            "Requirement already satisfied: protobuf>=3.7.0 in /usr/local/lib/python3.7/dist-packages (from mlflow) (3.17.3)\n",
            "Requirement already satisfied: prometheus-flask-exporter in /usr/local/lib/python3.7/dist-packages (from mlflow) (0.18.7)\n",
            "Requirement already satisfied: querystring-parser in /usr/local/lib/python3.7/dist-packages (from mlflow) (1.2.4)\n",
            "Requirement already satisfied: Flask in /usr/local/lib/python3.7/dist-packages (from mlflow) (1.1.4)\n",
            "Requirement already satisfied: docker>=4.0.0 in /usr/local/lib/python3.7/dist-packages (from mlflow) (5.0.3)\n",
            "Requirement already satisfied: sqlparse>=0.3.1 in /usr/local/lib/python3.7/dist-packages (from mlflow) (0.4.2)\n",
            "Requirement already satisfied: gunicorn in /usr/local/lib/python3.7/dist-packages (from mlflow) (20.1.0)\n",
            "Requirement already satisfied: databricks-cli>=0.8.7 in /usr/local/lib/python3.7/dist-packages (from mlflow) (0.16.4)\n",
            "Requirement already satisfied: cloudpickle in /usr/local/lib/python3.7/dist-packages (from mlflow) (1.3.0)\n",
            "Requirement already satisfied: click>=7.0 in /usr/local/lib/python3.7/dist-packages (from mlflow) (7.1.2)\n",
            "Requirement already satisfied: tabulate>=0.7.7 in /usr/local/lib/python3.7/dist-packages (from databricks-cli>=0.8.7->mlflow) (0.8.9)\n",
            "Requirement already satisfied: six>=1.10.0 in /usr/local/lib/python3.7/dist-packages (from databricks-cli>=0.8.7->mlflow) (1.15.0)\n",
            "Requirement already satisfied: websocket-client>=0.32.0 in /usr/local/lib/python3.7/dist-packages (from docker>=4.0.0->mlflow) (1.2.3)\n",
            "Requirement already satisfied: gitdb<5,>=4.0.1 in /usr/local/lib/python3.7/dist-packages (from gitpython>=2.1.0->mlflow) (4.0.9)\n",
            "Requirement already satisfied: typing-extensions>=3.7.4.3 in /usr/local/lib/python3.7/dist-packages (from gitpython>=2.1.0->mlflow) (3.10.0.2)\n",
            "Requirement already satisfied: smmap<6,>=3.0.1 in /usr/local/lib/python3.7/dist-packages (from gitdb<5,>=4.0.1->gitpython>=2.1.0->mlflow) (5.0.0)\n",
            "Requirement already satisfied: zipp>=0.5 in /usr/local/lib/python3.7/dist-packages (from importlib-metadata->sqlalchemy>=1.1.0->optuna) (3.7.0)\n",
            "Requirement already satisfied: certifi>=2017.4.17 in /usr/local/lib/python3.7/dist-packages (from requests>=2.17.3->mlflow) (2021.10.8)\n",
            "Requirement already satisfied: idna<3,>=2.5 in /usr/local/lib/python3.7/dist-packages (from requests>=2.17.3->mlflow) (2.10)\n",
            "Requirement already satisfied: urllib3!=1.25.0,!=1.25.1,<1.26,>=1.21.1 in /usr/local/lib/python3.7/dist-packages (from requests>=2.17.3->mlflow) (1.24.3)\n",
            "Requirement already satisfied: chardet<4,>=3.0.2 in /usr/local/lib/python3.7/dist-packages (from requests>=2.17.3->mlflow) (3.0.4)\n",
            "Requirement already satisfied: Mako in /usr/local/lib/python3.7/dist-packages (from alembic->optuna) (1.1.6)\n",
            "Requirement already satisfied: importlib-resources in /usr/local/lib/python3.7/dist-packages (from alembic->optuna) (5.4.0)\n",
            "Requirement already satisfied: PrettyTable>=0.7.2 in /usr/local/lib/python3.7/dist-packages (from cliff->optuna) (3.0.0)\n",
            "Requirement already satisfied: pbr!=2.1.0,>=2.0.0 in /usr/local/lib/python3.7/dist-packages (from cliff->optuna) (5.8.0)\n",
            "Requirement already satisfied: autopage>=0.4.0 in /usr/local/lib/python3.7/dist-packages (from cliff->optuna) (0.5.0)\n",
            "Requirement already satisfied: cmd2>=1.0.0 in /usr/local/lib/python3.7/dist-packages (from cliff->optuna) (2.3.3)\n",
            "Requirement already satisfied: stevedore>=2.0.1 in /usr/local/lib/python3.7/dist-packages (from cliff->optuna) (3.5.0)\n",
            "Requirement already satisfied: attrs>=16.3.0 in /usr/local/lib/python3.7/dist-packages (from cmd2>=1.0.0->cliff->optuna) (21.4.0)\n",
            "Requirement already satisfied: wcwidth>=0.1.7 in /usr/local/lib/python3.7/dist-packages (from cmd2>=1.0.0->cliff->optuna) (0.2.5)\n",
            "Requirement already satisfied: pyperclip>=1.6 in /usr/local/lib/python3.7/dist-packages (from cmd2>=1.0.0->cliff->optuna) (1.8.2)\n",
            "Requirement already satisfied: Jinja2<3.0,>=2.10.1 in /usr/local/lib/python3.7/dist-packages (from Flask->mlflow) (2.11.3)\n",
            "Requirement already satisfied: itsdangerous<2.0,>=0.24 in /usr/local/lib/python3.7/dist-packages (from Flask->mlflow) (1.1.0)\n",
            "Requirement already satisfied: Werkzeug<2.0,>=0.15 in /usr/local/lib/python3.7/dist-packages (from Flask->mlflow) (1.0.1)\n",
            "Requirement already satisfied: MarkupSafe>=0.23 in /usr/local/lib/python3.7/dist-packages (from Jinja2<3.0,>=2.10.1->Flask->mlflow) (2.0.1)\n",
            "Requirement already satisfied: setuptools>=3.0 in /usr/local/lib/python3.7/dist-packages (from gunicorn->mlflow) (57.4.0)\n",
            "Requirement already satisfied: python-dateutil>=2.7.3 in /usr/local/lib/python3.7/dist-packages (from pandas->mlflow) (2.8.2)\n",
            "Requirement already satisfied: prometheus-client in /usr/local/lib/python3.7/dist-packages (from prometheus-flask-exporter->mlflow) (0.13.1)\n"
          ]
        }
      ]
    },
    {
      "cell_type": "markdown",
      "metadata": {
        "id": "vR6oI-NJkemQ"
      },
      "source": [
        "### Random search with pruning"
      ]
    },
    {
      "cell_type": "code",
      "metadata": {
        "id": "4BO7V7MI2hqc"
      },
      "source": [
        "\n",
        "import optuna\n",
        "import mlflow\n",
        "\n",
        "from mlflow import pytorch"
      ],
      "execution_count": 16,
      "outputs": []
    },
    {
      "cell_type": "code",
      "metadata": {
        "id": "fGqz04Tt2huP"
      },
      "source": [
        "# Obtain hyperparameters for this trial\n",
        "def suggest_hyperparameters(trial):\n",
        "    # Obtain the learning rate on a logarithmic scale\n",
        "    lr = trial.suggest_float(\"lr\", 1e-4, 5e-3, log=True)\n",
        "    # Obtain the dropout ratio in a range from 0.0 to 0.9 with step size 0.1\n",
        "    dropout1 = trial.suggest_float(\"dropout1\", 0.0, 0.3, step=0.05)\n",
        "    dropout2 = trial.suggest_float(\"dropout2\", 0.0, 0.3, step=0.05)\n",
        "\n",
        "    # Obtain the optimizer to use by name\n",
        "    optimizer_name = trial.suggest_categorical(\"optimizer_name\", [\"Adam\", \"sgd\"])\n",
        "    n_feat = trial.suggest_int('n_feat', 3, 11, step=1)\n",
        "    #obtain the regularization \n",
        "    rg = trial.suggest_float(\"regularizer\", 0.0, 0.25, step=0.05)\n",
        "    #obtain the number of final nodes\n",
        "    Nf =  trial.suggest_int('n_nodes', 200, 500, step=50)\n",
        "    print(f\"Suggested hyperparameters: \\n{pformat(trial.params)}\")\n",
        "    return lr, dropout1, dropout2, optimizer_name, n_feat, rg, Nf "
      ],
      "execution_count": 17,
      "outputs": []
    },
    {
      "cell_type": "code",
      "metadata": {
        "id": "VdK2U5n2GmMv"
      },
      "source": [
        "\n",
        "# Define the loss function\n",
        "loss_fn = nn.CrossEntropyLoss()\n",
        "num_epochs=10\n",
        "\n",
        "def objective(trial):\n",
        "    print(\"\\n********************************\\n\")\n",
        "    best_val_loss = float('Inf')\n",
        "    \n",
        "    # Start a new mlflow run\n",
        "    with mlflow.start_run():\n",
        "        # Get hyperparameter suggestions created by optuna and log them as params using mlflow\n",
        "        lr, dp1, dp2, optimizer_name, n_feat, rg, Nf = suggest_hyperparameters(trial)\n",
        "        mlflow.log_params(trial.params)\n",
        "\n",
        "        # Use CUDA if GPU is available and log device as param using mlflow\n",
        "        device = torch.device(\"cuda\" if torch.cuda.is_available() else \"cpu\")\n",
        "        mlflow.log_param(\"device\", device)\n",
        "\n",
        "        # Initialize network\n",
        "        model = CNN2d(n_feat,dp1,dp2,Nf).to(device)\n",
        "\n",
        "        # Pick an optimizer based on optuna's parameter suggestion\n",
        "        if optimizer_name == \"Adam\":\n",
        "            optimizer = optim.Adam(model.parameters(), lr=lr, weight_decay=rg)\n",
        "        if optimizer_name == \"sgd\":\n",
        "            optimizer = optim.SGD(model.parameters(), lr=lr,momentum=0.9, weight_decay= rg)\n",
        "        \n",
        "        # Get DataLoaders and validation set\n",
        "        train_loader = DataLoader(train_dataset, batch_size=1000, shuffle=True,)             # change here the train / test set\n",
        "        val_loader = DataLoader(valid_dataset, batch_size=1000,shuffle=False)  #\n",
        "\n",
        "\n",
        "        # Network training & validation loop\n",
        "        for epoch in range(0, num_epochs):\n",
        "            avg_train_loss = model.train_step(train_loader, optimizer, loss_fn,  device)\n",
        "            avg_val_loss = model.validation_step(val_loader, loss_fn,  device)\n",
        "            if avg_val_loss <= best_val_loss:\n",
        "                best_val_loss = avg_val_loss\n",
        "\n",
        "            # Log average train and validation set loss metrics for the current epoch using mlflow\n",
        "            mlflow.log_metric(\"avg_train_losses\", avg_train_loss, step=epoch)\n",
        "            mlflow.log_metric(\"avg_val_loss\", avg_val_loss, step=epoch)\n",
        "            \n",
        "            #report intermediate obj values\n",
        "            trial.report(avg_val_loss, step=epoch) \n",
        "\n",
        "            if trial.should_prune():\n",
        "                raise optuna.TrialPruned()\n",
        "\n",
        "            print(f\"### EPOCH {epoch} val loss is: {avg_val_loss}; train loss is : {avg_train_loss}\"  )\n",
        "            \n",
        "    # Return the best validation loss achieved by the network.\n",
        "    # This is needed as Optuna needs to know how the suggested hyperparameters are influencing the network loss.\n",
        "    return best_val_loss\n",
        "\n",
        "    ##here one can try to maximize the accuracy instead !!!!!!!"
      ],
      "execution_count": 18,
      "outputs": []
    },
    {
      "cell_type": "code",
      "metadata": {
        "colab": {
          "base_uri": "https://localhost:8080/"
        },
        "id": "CplZ_lAZIecf",
        "outputId": "353e7f8e-51f5-4544-8699-3f8f8f43a55a"
      },
      "source": [
        "from pprint import pformat\n",
        "# Create the optuna study which shares the experiment name, this will be a random search\n",
        "study = optuna.create_study(study_name=\"pytorch-mlflow-optuna\", direction=\"minimize\",sampler=optuna.samplers.RandomSampler(),\n",
        "                            pruner=optuna.pruners.MedianPruner(n_startup_trials=3 ,n_warmup_steps=3))\n",
        "\n",
        "\n",
        "study.optimize(objective, n_trials=100)  #    change number of trials\n",
        "\n",
        "# Print optuna study statistics\n",
        "print(\"\\n++++++++++++++++++++++++++++++++++\\n\")\n",
        "print(\"Study statistics: \")\n",
        "print(\"  Number of finished trials: \", len(study.trials))\n",
        "\n",
        "print(\"Best trial:\")\n",
        "trial = study.best_trial\n",
        "\n",
        "print(\"  Trial number: \", trial.number)\n",
        "print(\"  Loss (trial value): \", trial.value)\n",
        "\n",
        "print(\"  Params: \")\n",
        "for key, value in trial.params.items():\n",
        "    print(\"    {}: {}\".format(key, value))"
      ],
      "execution_count": 19,
      "outputs": [
        {
          "output_type": "stream",
          "name": "stderr",
          "text": [
            "\u001b[32m[I 2022-02-05 00:21:49,408]\u001b[0m A new study created in memory with name: pytorch-mlflow-optuna\u001b[0m\n"
          ]
        },
        {
          "output_type": "stream",
          "name": "stdout",
          "text": [
            "\n",
            "********************************\n",
            "\n",
            "Suggested hyperparameters: \n",
            "{'dropout1': 0.25,\n",
            " 'dropout2': 0.2,\n",
            " 'lr': 0.002723325494277519,\n",
            " 'n_feat': 11,\n",
            " 'n_nodes': 300,\n",
            " 'optimizer_name': 'Adam',\n",
            " 'regularizer': 0.15000000000000002}\n",
            "### EPOCH 0 val loss is: 0.8970702290534973; train loss is : 1.300258994102478\n",
            "### EPOCH 1 val loss is: 0.8696632385253906; train loss is : 0.9194978475570679\n",
            "### EPOCH 2 val loss is: 0.8496038913726807; train loss is : 0.8909668326377869\n",
            "### EPOCH 3 val loss is: 0.8636582493782043; train loss is : 0.8881586194038391\n",
            "### EPOCH 4 val loss is: 0.8388506770133972; train loss is : 0.87586510181427\n",
            "### EPOCH 5 val loss is: 0.8379420638084412; train loss is : 0.8774849772453308\n",
            "### EPOCH 6 val loss is: 0.8317728042602539; train loss is : 0.8707910180091858\n",
            "### EPOCH 7 val loss is: 0.8350028991699219; train loss is : 0.8696509599685669\n",
            "### EPOCH 8 val loss is: 0.8272399306297302; train loss is : 0.8619144558906555\n"
          ]
        },
        {
          "output_type": "stream",
          "name": "stderr",
          "text": [
            "\u001b[32m[I 2022-02-05 00:24:44,544]\u001b[0m Trial 0 finished with value: 0.8272399306297302 and parameters: {'lr': 0.002723325494277519, 'dropout1': 0.25, 'dropout2': 0.2, 'optimizer_name': 'Adam', 'n_feat': 11, 'regularizer': 0.15000000000000002, 'n_nodes': 300}. Best is trial 0 with value: 0.8272399306297302.\u001b[0m\n"
          ]
        },
        {
          "output_type": "stream",
          "name": "stdout",
          "text": [
            "### EPOCH 9 val loss is: 0.8350279927253723; train loss is : 0.8657466769218445\n",
            "\n",
            "********************************\n",
            "\n",
            "Suggested hyperparameters: \n",
            "{'dropout1': 0.0,\n",
            " 'dropout2': 0.3,\n",
            " 'lr': 0.0009600839395010844,\n",
            " 'n_feat': 5,\n",
            " 'n_nodes': 400,\n",
            " 'optimizer_name': 'sgd',\n",
            " 'regularizer': 0.05}\n",
            "### EPOCH 0 val loss is: 2.2758307456970215; train loss is : 2.287885904312134\n",
            "### EPOCH 1 val loss is: 2.2464094161987305; train loss is : 2.264524221420288\n",
            "### EPOCH 2 val loss is: 2.195115327835083; train loss is : 2.229456663131714\n",
            "### EPOCH 3 val loss is: 2.082049608230591; train loss is : 2.160435199737549\n",
            "### EPOCH 4 val loss is: 1.796345829963684; train loss is : 1.9921622276306152\n",
            "### EPOCH 5 val loss is: 1.321022868156433; train loss is : 1.631292462348938\n",
            "### EPOCH 6 val loss is: 1.0236849784851074; train loss is : 1.2484251260757446\n",
            "### EPOCH 7 val loss is: 0.8890816569328308; train loss is : 1.0377109050750732\n",
            "### EPOCH 8 val loss is: 0.8168333172798157; train loss is : 0.930343508720398\n"
          ]
        },
        {
          "output_type": "stream",
          "name": "stderr",
          "text": [
            "\u001b[32m[I 2022-02-05 00:27:12,048]\u001b[0m Trial 1 finished with value: 0.7711718678474426 and parameters: {'lr': 0.0009600839395010844, 'dropout1': 0.0, 'dropout2': 0.3, 'optimizer_name': 'sgd', 'n_feat': 5, 'regularizer': 0.05, 'n_nodes': 400}. Best is trial 1 with value: 0.7711718678474426.\u001b[0m\n"
          ]
        },
        {
          "output_type": "stream",
          "name": "stdout",
          "text": [
            "### EPOCH 9 val loss is: 0.7711718678474426; train loss is : 0.8710032105445862\n",
            "\n",
            "********************************\n",
            "\n",
            "Suggested hyperparameters: \n",
            "{'dropout1': 0.2,\n",
            " 'dropout2': 0.25,\n",
            " 'lr': 0.003478781353761463,\n",
            " 'n_feat': 8,\n",
            " 'n_nodes': 450,\n",
            " 'optimizer_name': 'sgd',\n",
            " 'regularizer': 0.25}\n",
            "### EPOCH 0 val loss is: 2.241029977798462; train loss is : 2.2693073749542236\n",
            "### EPOCH 1 val loss is: 2.1626315116882324; train loss is : 2.215895891189575\n",
            "### EPOCH 2 val loss is: 1.5340337753295898; train loss is : 1.9573479890823364\n",
            "### EPOCH 3 val loss is: 1.174244999885559; train loss is : 1.3147014379501343\n",
            "### EPOCH 4 val loss is: 1.1270434856414795; train loss is : 1.182955265045166\n",
            "### EPOCH 5 val loss is: 1.1016569137573242; train loss is : 1.1453324556350708\n",
            "### EPOCH 6 val loss is: 1.0729455947875977; train loss is : 1.1170912981033325\n",
            "### EPOCH 7 val loss is: 1.0599241256713867; train loss is : 1.1006247997283936\n",
            "### EPOCH 8 val loss is: 1.0562105178833008; train loss is : 1.0869752168655396\n"
          ]
        },
        {
          "output_type": "stream",
          "name": "stderr",
          "text": [
            "\u001b[32m[I 2022-02-05 00:29:43,261]\u001b[0m Trial 2 finished with value: 1.0457404851913452 and parameters: {'lr': 0.003478781353761463, 'dropout1': 0.2, 'dropout2': 0.25, 'optimizer_name': 'sgd', 'n_feat': 8, 'regularizer': 0.25, 'n_nodes': 450}. Best is trial 1 with value: 0.7711718678474426.\u001b[0m\n"
          ]
        },
        {
          "output_type": "stream",
          "name": "stdout",
          "text": [
            "### EPOCH 9 val loss is: 1.0457404851913452; train loss is : 1.0807701349258423\n",
            "\n",
            "********************************\n",
            "\n",
            "Suggested hyperparameters: \n",
            "{'dropout1': 0.3,\n",
            " 'dropout2': 0.1,\n",
            " 'lr': 0.000364779788182339,\n",
            " 'n_feat': 8,\n",
            " 'n_nodes': 200,\n",
            " 'optimizer_name': 'Adam',\n",
            " 'regularizer': 0.2}\n",
            "### EPOCH 0 val loss is: 2.143188238143921; train loss is : 2.2531206607818604\n",
            "### EPOCH 1 val loss is: 1.2193622589111328; train loss is : 1.652626633644104\n",
            "### EPOCH 2 val loss is: 1.0901494026184082; train loss is : 1.175504446029663\n",
            "### EPOCH 3 val loss is: 1.013555645942688; train loss is : 1.0840764045715332\n",
            "### EPOCH 4 val loss is: 0.982343852519989; train loss is : 1.0295021533966064\n",
            "### EPOCH 5 val loss is: 0.9602412581443787; train loss is : 1.0014599561691284\n",
            "### EPOCH 6 val loss is: 0.9567107558250427; train loss is : 0.9870765805244446\n"
          ]
        },
        {
          "output_type": "stream",
          "name": "stderr",
          "text": [
            "\u001b[32m[I 2022-02-05 00:31:43,702]\u001b[0m Trial 3 pruned. \u001b[0m\n"
          ]
        },
        {
          "output_type": "stream",
          "name": "stdout",
          "text": [
            "\n",
            "********************************\n",
            "\n",
            "Suggested hyperparameters: \n",
            "{'dropout1': 0.3,\n",
            " 'dropout2': 0.25,\n",
            " 'lr': 0.002577470050941039,\n",
            " 'n_feat': 5,\n",
            " 'n_nodes': 250,\n",
            " 'optimizer_name': 'Adam',\n",
            " 'regularizer': 0.15000000000000002}\n",
            "### EPOCH 0 val loss is: 1.025603175163269; train loss is : 1.4511895179748535\n",
            "### EPOCH 1 val loss is: 0.9319978356361389; train loss is : 1.0372103452682495\n",
            "### EPOCH 2 val loss is: 0.8964840769767761; train loss is : 0.969344973564148\n",
            "### EPOCH 3 val loss is: 0.9378295540809631; train loss is : 0.9612646102905273\n",
            "### EPOCH 4 val loss is: 0.8777186274528503; train loss is : 0.9605596661567688\n",
            "### EPOCH 5 val loss is: 0.881040632724762; train loss is : 0.949263870716095\n",
            "### EPOCH 6 val loss is: 0.875838577747345; train loss is : 0.9452507495880127\n",
            "### EPOCH 7 val loss is: 0.8904700875282288; train loss is : 0.9367754459381104\n"
          ]
        },
        {
          "output_type": "stream",
          "name": "stderr",
          "text": [
            "\u001b[32m[I 2022-02-05 00:33:55,525]\u001b[0m Trial 4 pruned. \u001b[0m\n"
          ]
        },
        {
          "output_type": "stream",
          "name": "stdout",
          "text": [
            "\n",
            "********************************\n",
            "\n",
            "Suggested hyperparameters: \n",
            "{'dropout1': 0.15000000000000002,\n",
            " 'dropout2': 0.0,\n",
            " 'lr': 0.0022473124835672926,\n",
            " 'n_feat': 4,\n",
            " 'n_nodes': 350,\n",
            " 'optimizer_name': 'sgd',\n",
            " 'regularizer': 0.0}\n",
            "### EPOCH 0 val loss is: 2.1967031955718994; train loss is : 2.266663074493408\n",
            "### EPOCH 1 val loss is: 1.1724231243133545; train loss is : 1.8336846828460693\n",
            "### EPOCH 2 val loss is: 0.8487178683280945; train loss is : 0.9959740042686462\n",
            "### EPOCH 3 val loss is: 0.7639190554618835; train loss is : 0.8379932641983032\n",
            "### EPOCH 4 val loss is: 0.7110833525657654; train loss is : 0.7688904404640198\n",
            "### EPOCH 5 val loss is: 0.6720482707023621; train loss is : 0.7214779257774353\n",
            "### EPOCH 6 val loss is: 0.6412466168403625; train loss is : 0.6868455410003662\n",
            "### EPOCH 7 val loss is: 0.6111248135566711; train loss is : 0.654190182685852\n",
            "### EPOCH 8 val loss is: 0.591359555721283; train loss is : 0.6300062537193298\n"
          ]
        },
        {
          "output_type": "stream",
          "name": "stderr",
          "text": [
            "\u001b[32m[I 2022-02-05 00:36:21,097]\u001b[0m Trial 5 finished with value: 0.575335681438446 and parameters: {'lr': 0.0022473124835672926, 'dropout1': 0.15000000000000002, 'dropout2': 0.0, 'optimizer_name': 'sgd', 'n_feat': 4, 'regularizer': 0.0, 'n_nodes': 350}. Best is trial 5 with value: 0.575335681438446.\u001b[0m\n"
          ]
        },
        {
          "output_type": "stream",
          "name": "stdout",
          "text": [
            "### EPOCH 9 val loss is: 0.575335681438446; train loss is : 0.6083866357803345\n",
            "\n",
            "********************************\n",
            "\n",
            "Suggested hyperparameters: \n",
            "{'dropout1': 0.1,\n",
            " 'dropout2': 0.1,\n",
            " 'lr': 0.0002578083369504958,\n",
            " 'n_feat': 11,\n",
            " 'n_nodes': 400,\n",
            " 'optimizer_name': 'Adam',\n",
            " 'regularizer': 0.0}\n",
            "### EPOCH 0 val loss is: 0.7886804938316345; train loss is : 1.3928675651550293\n",
            "### EPOCH 1 val loss is: 0.6207607984542847; train loss is : 0.7243956923484802\n",
            "### EPOCH 2 val loss is: 0.5372262597084045; train loss is : 0.6059949398040771\n",
            "### EPOCH 3 val loss is: 0.48079395294189453; train loss is : 0.5370909571647644\n",
            "### EPOCH 4 val loss is: 0.44378694891929626; train loss is : 0.4913407862186432\n",
            "### EPOCH 5 val loss is: 0.41993260383605957; train loss is : 0.4577353596687317\n",
            "### EPOCH 6 val loss is: 0.39637041091918945; train loss is : 0.43280646204948425\n",
            "### EPOCH 7 val loss is: 0.38013240694999695; train loss is : 0.41247257590293884\n",
            "### EPOCH 8 val loss is: 0.3630506098270416; train loss is : 0.3973982632160187\n"
          ]
        },
        {
          "output_type": "stream",
          "name": "stderr",
          "text": [
            "\u001b[32m[I 2022-02-05 00:38:55,236]\u001b[0m Trial 6 finished with value: 0.3485323190689087 and parameters: {'lr': 0.0002578083369504958, 'dropout1': 0.1, 'dropout2': 0.1, 'optimizer_name': 'Adam', 'n_feat': 11, 'regularizer': 0.0, 'n_nodes': 400}. Best is trial 6 with value: 0.3485323190689087.\u001b[0m\n"
          ]
        },
        {
          "output_type": "stream",
          "name": "stdout",
          "text": [
            "### EPOCH 9 val loss is: 0.3485323190689087; train loss is : 0.3833398222923279\n",
            "\n",
            "********************************\n",
            "\n",
            "Suggested hyperparameters: \n",
            "{'dropout1': 0.25,\n",
            " 'dropout2': 0.1,\n",
            " 'lr': 0.003626980282257774,\n",
            " 'n_feat': 9,\n",
            " 'n_nodes': 450,\n",
            " 'optimizer_name': 'Adam',\n",
            " 'regularizer': 0.2}\n",
            "### EPOCH 0 val loss is: 1.0405434370040894; train loss is : 1.3729689121246338\n",
            "### EPOCH 1 val loss is: 0.9649214744567871; train loss is : 1.0467921495437622\n",
            "### EPOCH 2 val loss is: 0.9502978324890137; train loss is : 1.0057028532028198\n"
          ]
        },
        {
          "output_type": "stream",
          "name": "stderr",
          "text": [
            "\u001b[32m[I 2022-02-05 00:39:56,212]\u001b[0m Trial 7 pruned. \u001b[0m\n"
          ]
        },
        {
          "output_type": "stream",
          "name": "stdout",
          "text": [
            "\n",
            "********************************\n",
            "\n",
            "Suggested hyperparameters: \n",
            "{'dropout1': 0.1,\n",
            " 'dropout2': 0.2,\n",
            " 'lr': 0.00012280438791670615,\n",
            " 'n_feat': 3,\n",
            " 'n_nodes': 250,\n",
            " 'optimizer_name': 'Adam',\n",
            " 'regularizer': 0.25}\n",
            "### EPOCH 0 val loss is: 2.293562889099121; train loss is : 2.296220064163208\n",
            "### EPOCH 1 val loss is: 2.2908992767333984; train loss is : 2.292377233505249\n",
            "### EPOCH 2 val loss is: 2.2887725830078125; train loss is : 2.29020619392395\n"
          ]
        },
        {
          "output_type": "stream",
          "name": "stderr",
          "text": [
            "\u001b[32m[I 2022-02-05 00:40:53,548]\u001b[0m Trial 8 pruned. \u001b[0m\n"
          ]
        },
        {
          "output_type": "stream",
          "name": "stdout",
          "text": [
            "\n",
            "********************************\n",
            "\n",
            "Suggested hyperparameters: \n",
            "{'dropout1': 0.3,\n",
            " 'dropout2': 0.15000000000000002,\n",
            " 'lr': 0.001671000884326215,\n",
            " 'n_feat': 6,\n",
            " 'n_nodes': 300,\n",
            " 'optimizer_name': 'Adam',\n",
            " 'regularizer': 0.05}\n",
            "### EPOCH 0 val loss is: 0.710591733455658; train loss is : 1.2013664245605469\n",
            "### EPOCH 1 val loss is: 0.6721217632293701; train loss is : 0.7206918001174927\n",
            "### EPOCH 2 val loss is: 0.6094260811805725; train loss is : 0.667100727558136\n",
            "### EPOCH 3 val loss is: 0.5756176114082336; train loss is : 0.6468759179115295\n",
            "### EPOCH 4 val loss is: 0.5773058533668518; train loss is : 0.6247528791427612\n",
            "### EPOCH 5 val loss is: 0.5606936812400818; train loss is : 0.6122604012489319\n",
            "### EPOCH 6 val loss is: 0.5508766174316406; train loss is : 0.5988485813140869\n",
            "### EPOCH 7 val loss is: 0.5618388652801514; train loss is : 0.5945460200309753\n",
            "### EPOCH 8 val loss is: 0.5327511429786682; train loss is : 0.5924555063247681\n"
          ]
        },
        {
          "output_type": "stream",
          "name": "stderr",
          "text": [
            "\u001b[32m[I 2022-02-05 00:43:21,310]\u001b[0m Trial 9 finished with value: 0.5303265452384949 and parameters: {'lr': 0.001671000884326215, 'dropout1': 0.3, 'dropout2': 0.15000000000000002, 'optimizer_name': 'Adam', 'n_feat': 6, 'regularizer': 0.05, 'n_nodes': 300}. Best is trial 6 with value: 0.3485323190689087.\u001b[0m\n"
          ]
        },
        {
          "output_type": "stream",
          "name": "stdout",
          "text": [
            "### EPOCH 9 val loss is: 0.5303265452384949; train loss is : 0.5799732208251953\n",
            "\n",
            "********************************\n",
            "\n",
            "Suggested hyperparameters: \n",
            "{'dropout1': 0.15000000000000002,\n",
            " 'dropout2': 0.05,\n",
            " 'lr': 0.0033579072165254046,\n",
            " 'n_feat': 3,\n",
            " 'n_nodes': 200,\n",
            " 'optimizer_name': 'Adam',\n",
            " 'regularizer': 0.25}\n",
            "### EPOCH 0 val loss is: 2.3026182651519775; train loss is : 2.301142930984497\n",
            "### EPOCH 1 val loss is: 2.302581310272217; train loss is : 2.3026154041290283\n",
            "### EPOCH 2 val loss is: 2.3026230335235596; train loss is : 2.3026278018951416\n"
          ]
        },
        {
          "output_type": "stream",
          "name": "stderr",
          "text": [
            "\u001b[32m[I 2022-02-05 00:44:19,597]\u001b[0m Trial 10 pruned. \u001b[0m\n"
          ]
        },
        {
          "output_type": "stream",
          "name": "stdout",
          "text": [
            "\n",
            "********************************\n",
            "\n",
            "Suggested hyperparameters: \n",
            "{'dropout1': 0.0,\n",
            " 'dropout2': 0.3,\n",
            " 'lr': 0.00013913145338038005,\n",
            " 'n_feat': 6,\n",
            " 'n_nodes': 250,\n",
            " 'optimizer_name': 'sgd',\n",
            " 'regularizer': 0.0}\n",
            "### EPOCH 0 val loss is: 2.288351535797119; train loss is : 2.2946178913116455\n",
            "### EPOCH 1 val loss is: 2.2807750701904297; train loss is : 2.287490129470825\n",
            "### EPOCH 2 val loss is: 2.2728164196014404; train loss is : 2.2804834842681885\n"
          ]
        },
        {
          "output_type": "stream",
          "name": "stderr",
          "text": [
            "\u001b[32m[I 2022-02-05 00:45:18,735]\u001b[0m Trial 11 pruned. \u001b[0m\n"
          ]
        },
        {
          "output_type": "stream",
          "name": "stdout",
          "text": [
            "\n",
            "********************************\n",
            "\n",
            "Suggested hyperparameters: \n",
            "{'dropout1': 0.25,\n",
            " 'dropout2': 0.0,\n",
            " 'lr': 0.000520901518912739,\n",
            " 'n_feat': 5,\n",
            " 'n_nodes': 450,\n",
            " 'optimizer_name': 'Adam',\n",
            " 'regularizer': 0.25}\n",
            "### EPOCH 0 val loss is: 2.2581591606140137; train loss is : 2.2777528762817383\n",
            "### EPOCH 1 val loss is: 1.8427284955978394; train loss is : 2.1406900882720947\n",
            "### EPOCH 2 val loss is: 1.2965213060379028; train loss is : 1.5551869869232178\n"
          ]
        },
        {
          "output_type": "stream",
          "name": "stderr",
          "text": [
            "\u001b[32m[I 2022-02-05 00:46:17,890]\u001b[0m Trial 12 pruned. \u001b[0m\n"
          ]
        },
        {
          "output_type": "stream",
          "name": "stdout",
          "text": [
            "\n",
            "********************************\n",
            "\n",
            "Suggested hyperparameters: \n",
            "{'dropout1': 0.05,\n",
            " 'dropout2': 0.3,\n",
            " 'lr': 0.0010844379055942551,\n",
            " 'n_feat': 11,\n",
            " 'n_nodes': 250,\n",
            " 'optimizer_name': 'Adam',\n",
            " 'regularizer': 0.15000000000000002}\n",
            "### EPOCH 0 val loss is: 1.0498334169387817; train loss is : 1.6515227556228638\n",
            "### EPOCH 1 val loss is: 0.9131630063056946; train loss is : 0.9944400787353516\n",
            "### EPOCH 2 val loss is: 0.8847396373748779; train loss is : 0.9392568469047546\n"
          ]
        },
        {
          "output_type": "stream",
          "name": "stderr",
          "text": [
            "\u001b[32m[I 2022-02-05 00:47:21,273]\u001b[0m Trial 13 pruned. \u001b[0m\n"
          ]
        },
        {
          "output_type": "stream",
          "name": "stdout",
          "text": [
            "\n",
            "********************************\n",
            "\n",
            "Suggested hyperparameters: \n",
            "{'dropout1': 0.2,\n",
            " 'dropout2': 0.3,\n",
            " 'lr': 0.00020101476357246606,\n",
            " 'n_feat': 6,\n",
            " 'n_nodes': 500,\n",
            " 'optimizer_name': 'sgd',\n",
            " 'regularizer': 0.1}\n",
            "### EPOCH 0 val loss is: 2.301534414291382; train loss is : 2.306670904159546\n",
            "### EPOCH 1 val loss is: 2.2923715114593506; train loss is : 2.2980573177337646\n",
            "### EPOCH 2 val loss is: 2.2838380336761475; train loss is : 2.2893834114074707\n"
          ]
        },
        {
          "output_type": "stream",
          "name": "stderr",
          "text": [
            "\u001b[32m[I 2022-02-05 00:48:22,130]\u001b[0m Trial 14 pruned. \u001b[0m\n"
          ]
        },
        {
          "output_type": "stream",
          "name": "stdout",
          "text": [
            "\n",
            "********************************\n",
            "\n",
            "Suggested hyperparameters: \n",
            "{'dropout1': 0.15000000000000002,\n",
            " 'dropout2': 0.2,\n",
            " 'lr': 0.0013443641833918872,\n",
            " 'n_feat': 7,\n",
            " 'n_nodes': 400,\n",
            " 'optimizer_name': 'Adam',\n",
            " 'regularizer': 0.2}\n",
            "### EPOCH 0 val loss is: 1.1117968559265137; train loss is : 1.8085664510726929\n",
            "### EPOCH 1 val loss is: 0.9493544697761536; train loss is : 1.0358383655548096\n",
            "### EPOCH 2 val loss is: 0.9348180294036865; train loss is : 0.9773534536361694\n"
          ]
        },
        {
          "output_type": "stream",
          "name": "stderr",
          "text": [
            "\u001b[32m[I 2022-02-05 00:49:23,194]\u001b[0m Trial 15 pruned. \u001b[0m\n"
          ]
        },
        {
          "output_type": "stream",
          "name": "stdout",
          "text": [
            "\n",
            "********************************\n",
            "\n",
            "Suggested hyperparameters: \n",
            "{'dropout1': 0.25,\n",
            " 'dropout2': 0.25,\n",
            " 'lr': 0.001324161150123406,\n",
            " 'n_feat': 5,\n",
            " 'n_nodes': 450,\n",
            " 'optimizer_name': 'Adam',\n",
            " 'regularizer': 0.0}\n",
            "### EPOCH 0 val loss is: 0.6124464273452759; train loss is : 1.0588067770004272\n",
            "### EPOCH 1 val loss is: 0.48476341366767883; train loss is : 0.6052960157394409\n",
            "### EPOCH 2 val loss is: 0.42247167229652405; train loss is : 0.5100613236427307\n",
            "### EPOCH 3 val loss is: 0.3951682150363922; train loss is : 0.4580591022968292\n",
            "### EPOCH 4 val loss is: 0.3615431487560272; train loss is : 0.42599084973335266\n",
            "### EPOCH 5 val loss is: 0.3305417001247406; train loss is : 0.3985458314418793\n",
            "### EPOCH 6 val loss is: 0.31588274240493774; train loss is : 0.3781846761703491\n",
            "### EPOCH 7 val loss is: 0.3053447902202606; train loss is : 0.3636544644832611\n",
            "### EPOCH 8 val loss is: 0.29740583896636963; train loss is : 0.3495137393474579\n"
          ]
        },
        {
          "output_type": "stream",
          "name": "stderr",
          "text": [
            "\u001b[32m[I 2022-02-05 00:51:53,546]\u001b[0m Trial 16 finished with value: 0.2917865812778473 and parameters: {'lr': 0.001324161150123406, 'dropout1': 0.25, 'dropout2': 0.25, 'optimizer_name': 'Adam', 'n_feat': 5, 'regularizer': 0.0, 'n_nodes': 450}. Best is trial 16 with value: 0.2917865812778473.\u001b[0m\n"
          ]
        },
        {
          "output_type": "stream",
          "name": "stdout",
          "text": [
            "### EPOCH 9 val loss is: 0.2917865812778473; train loss is : 0.34082889556884766\n",
            "\n",
            "********************************\n",
            "\n",
            "Suggested hyperparameters: \n",
            "{'dropout1': 0.1,\n",
            " 'dropout2': 0.0,\n",
            " 'lr': 0.0004851684141358531,\n",
            " 'n_feat': 11,\n",
            " 'n_nodes': 350,\n",
            " 'optimizer_name': 'sgd',\n",
            " 'regularizer': 0.0}\n",
            "### EPOCH 0 val loss is: 2.2048146724700928; train loss is : 2.265068769454956\n",
            "### EPOCH 1 val loss is: 2.010529041290283; train loss is : 2.12203311920166\n",
            "### EPOCH 2 val loss is: 1.6136560440063477; train loss is : 1.8359638452529907\n"
          ]
        },
        {
          "output_type": "stream",
          "name": "stderr",
          "text": [
            "\u001b[32m[I 2022-02-05 00:52:55,969]\u001b[0m Trial 17 pruned. \u001b[0m\n"
          ]
        },
        {
          "output_type": "stream",
          "name": "stdout",
          "text": [
            "\n",
            "********************************\n",
            "\n",
            "Suggested hyperparameters: \n",
            "{'dropout1': 0.3,\n",
            " 'dropout2': 0.0,\n",
            " 'lr': 0.00026628645333196855,\n",
            " 'n_feat': 3,\n",
            " 'n_nodes': 450,\n",
            " 'optimizer_name': 'sgd',\n",
            " 'regularizer': 0.25}\n",
            "### EPOCH 0 val loss is: 2.292907476425171; train loss is : 2.3005034923553467\n",
            "### EPOCH 1 val loss is: 2.2837107181549072; train loss is : 2.2892117500305176\n",
            "### EPOCH 2 val loss is: 2.2759618759155273; train loss is : 2.280606508255005\n"
          ]
        },
        {
          "output_type": "stream",
          "name": "stderr",
          "text": [
            "\u001b[32m[I 2022-02-05 00:53:54,159]\u001b[0m Trial 18 pruned. \u001b[0m\n"
          ]
        },
        {
          "output_type": "stream",
          "name": "stdout",
          "text": [
            "\n",
            "********************************\n",
            "\n",
            "Suggested hyperparameters: \n",
            "{'dropout1': 0.2,\n",
            " 'dropout2': 0.1,\n",
            " 'lr': 0.00017441975302246167,\n",
            " 'n_feat': 8,\n",
            " 'n_nodes': 200,\n",
            " 'optimizer_name': 'sgd',\n",
            " 'regularizer': 0.05}\n",
            "### EPOCH 0 val loss is: 2.3040482997894287; train loss is : 2.3088128566741943\n",
            "### EPOCH 1 val loss is: 2.296008586883545; train loss is : 2.3009912967681885\n",
            "### EPOCH 2 val loss is: 2.2886099815368652; train loss is : 2.293410301208496\n"
          ]
        },
        {
          "output_type": "stream",
          "name": "stderr",
          "text": [
            "\u001b[32m[I 2022-02-05 00:54:54,386]\u001b[0m Trial 19 pruned. \u001b[0m\n"
          ]
        },
        {
          "output_type": "stream",
          "name": "stdout",
          "text": [
            "\n",
            "********************************\n",
            "\n",
            "Suggested hyperparameters: \n",
            "{'dropout1': 0.25,\n",
            " 'dropout2': 0.05,\n",
            " 'lr': 0.0005751279609038978,\n",
            " 'n_feat': 5,\n",
            " 'n_nodes': 500,\n",
            " 'optimizer_name': 'Adam',\n",
            " 'regularizer': 0.0}\n",
            "### EPOCH 0 val loss is: 0.735576868057251; train loss is : 1.3282837867736816\n",
            "### EPOCH 1 val loss is: 0.5722748041152954; train loss is : 0.678280770778656\n",
            "### EPOCH 2 val loss is: 0.5010924935340881; train loss is : 0.5717507004737854\n",
            "### EPOCH 3 val loss is: 0.4588797986507416; train loss is : 0.5137484073638916\n",
            "### EPOCH 4 val loss is: 0.4300529956817627; train loss is : 0.475666880607605\n",
            "### EPOCH 5 val loss is: 0.4037211239337921; train loss is : 0.44963371753692627\n",
            "### EPOCH 6 val loss is: 0.38573336601257324; train loss is : 0.4226827323436737\n",
            "### EPOCH 7 val loss is: 0.3679794371128082; train loss is : 0.4053778052330017\n",
            "### EPOCH 8 val loss is: 0.35999083518981934; train loss is : 0.3910068869590759\n"
          ]
        },
        {
          "output_type": "stream",
          "name": "stderr",
          "text": [
            "\u001b[32m[I 2022-02-05 00:57:25,613]\u001b[0m Trial 20 finished with value: 0.34255480766296387 and parameters: {'lr': 0.0005751279609038978, 'dropout1': 0.25, 'dropout2': 0.05, 'optimizer_name': 'Adam', 'n_feat': 5, 'regularizer': 0.0, 'n_nodes': 500}. Best is trial 16 with value: 0.2917865812778473.\u001b[0m\n"
          ]
        },
        {
          "output_type": "stream",
          "name": "stdout",
          "text": [
            "### EPOCH 9 val loss is: 0.34255480766296387; train loss is : 0.37557774782180786\n",
            "\n",
            "********************************\n",
            "\n",
            "Suggested hyperparameters: \n",
            "{'dropout1': 0.3,\n",
            " 'dropout2': 0.3,\n",
            " 'lr': 0.0006203052013006335,\n",
            " 'n_feat': 3,\n",
            " 'n_nodes': 450,\n",
            " 'optimizer_name': 'Adam',\n",
            " 'regularizer': 0.2}\n",
            "### EPOCH 0 val loss is: 1.6785451173782349; train loss is : 2.127675771713257\n",
            "### EPOCH 1 val loss is: 1.1493765115737915; train loss is : 1.4073169231414795\n",
            "### EPOCH 2 val loss is: 1.013757348060608; train loss is : 1.1420177221298218\n"
          ]
        },
        {
          "output_type": "stream",
          "name": "stderr",
          "text": [
            "\u001b[32m[I 2022-02-05 00:58:24,213]\u001b[0m Trial 21 pruned. \u001b[0m\n"
          ]
        },
        {
          "output_type": "stream",
          "name": "stdout",
          "text": [
            "\n",
            "********************************\n",
            "\n",
            "Suggested hyperparameters: \n",
            "{'dropout1': 0.0,\n",
            " 'dropout2': 0.2,\n",
            " 'lr': 0.000888000024563023,\n",
            " 'n_feat': 9,\n",
            " 'n_nodes': 350,\n",
            " 'optimizer_name': 'sgd',\n",
            " 'regularizer': 0.05}\n",
            "### EPOCH 0 val loss is: 2.275597333908081; train loss is : 2.2915780544281006\n",
            "### EPOCH 1 val loss is: 2.231903314590454; train loss is : 2.2587220668792725\n",
            "### EPOCH 2 val loss is: 2.1330740451812744; train loss is : 2.197563409805298\n"
          ]
        },
        {
          "output_type": "stream",
          "name": "stderr",
          "text": [
            "\u001b[32m[I 2022-02-05 00:59:25,592]\u001b[0m Trial 22 pruned. \u001b[0m\n"
          ]
        },
        {
          "output_type": "stream",
          "name": "stdout",
          "text": [
            "\n",
            "********************************\n",
            "\n",
            "Suggested hyperparameters: \n",
            "{'dropout1': 0.15000000000000002,\n",
            " 'dropout2': 0.2,\n",
            " 'lr': 0.0005305039433058243,\n",
            " 'n_feat': 9,\n",
            " 'n_nodes': 300,\n",
            " 'optimizer_name': 'sgd',\n",
            " 'regularizer': 0.2}\n",
            "### EPOCH 0 val loss is: 2.2917377948760986; train loss is : 2.297663450241089\n",
            "### EPOCH 1 val loss is: 2.2842276096343994; train loss is : 2.2884862422943115\n",
            "### EPOCH 2 val loss is: 2.2789742946624756; train loss is : 2.2826597690582275\n"
          ]
        },
        {
          "output_type": "stream",
          "name": "stderr",
          "text": [
            "\u001b[32m[I 2022-02-05 01:00:27,027]\u001b[0m Trial 23 pruned. \u001b[0m\n"
          ]
        },
        {
          "output_type": "stream",
          "name": "stdout",
          "text": [
            "\n",
            "********************************\n",
            "\n",
            "Suggested hyperparameters: \n",
            "{'dropout1': 0.3,\n",
            " 'dropout2': 0.15000000000000002,\n",
            " 'lr': 0.0004776451994072463,\n",
            " 'n_feat': 3,\n",
            " 'n_nodes': 350,\n",
            " 'optimizer_name': 'Adam',\n",
            " 'regularizer': 0.2}\n",
            "### EPOCH 0 val loss is: 2.2555158138275146; train loss is : 2.2811942100524902\n",
            "### EPOCH 1 val loss is: 1.7138214111328125; train loss is : 2.1023800373077393\n",
            "### EPOCH 2 val loss is: 1.2038109302520752; train loss is : 1.4157211780548096\n"
          ]
        },
        {
          "output_type": "stream",
          "name": "stderr",
          "text": [
            "\u001b[32m[I 2022-02-05 01:01:25,483]\u001b[0m Trial 24 pruned. \u001b[0m\n"
          ]
        },
        {
          "output_type": "stream",
          "name": "stdout",
          "text": [
            "\n",
            "********************************\n",
            "\n",
            "Suggested hyperparameters: \n",
            "{'dropout1': 0.1,\n",
            " 'dropout2': 0.3,\n",
            " 'lr': 0.00011113261438063559,\n",
            " 'n_feat': 8,\n",
            " 'n_nodes': 250,\n",
            " 'optimizer_name': 'sgd',\n",
            " 'regularizer': 0.2}\n",
            "### EPOCH 0 val loss is: 2.301870107650757; train loss is : 2.3042237758636475\n",
            "### EPOCH 1 val loss is: 2.2983338832855225; train loss is : 2.3005447387695312\n",
            "### EPOCH 2 val loss is: 2.2953078746795654; train loss is : 2.2975258827209473\n"
          ]
        },
        {
          "output_type": "stream",
          "name": "stderr",
          "text": [
            "\u001b[32m[I 2022-02-05 01:02:25,516]\u001b[0m Trial 25 pruned. \u001b[0m\n"
          ]
        },
        {
          "output_type": "stream",
          "name": "stdout",
          "text": [
            "\n",
            "********************************\n",
            "\n",
            "Suggested hyperparameters: \n",
            "{'dropout1': 0.1,\n",
            " 'dropout2': 0.25,\n",
            " 'lr': 0.002249598516605373,\n",
            " 'n_feat': 10,\n",
            " 'n_nodes': 250,\n",
            " 'optimizer_name': 'Adam',\n",
            " 'regularizer': 0.1}\n",
            "### EPOCH 0 val loss is: 0.8177494406700134; train loss is : 1.0939055681228638\n",
            "### EPOCH 1 val loss is: 0.7909225821495056; train loss is : 0.8216758966445923\n",
            "### EPOCH 2 val loss is: 0.7531454563140869; train loss is : 0.7966770529747009\n"
          ]
        },
        {
          "output_type": "stream",
          "name": "stderr",
          "text": [
            "\u001b[32m[I 2022-02-05 01:03:26,539]\u001b[0m Trial 26 pruned. \u001b[0m\n"
          ]
        },
        {
          "output_type": "stream",
          "name": "stdout",
          "text": [
            "\n",
            "********************************\n",
            "\n",
            "Suggested hyperparameters: \n",
            "{'dropout1': 0.15000000000000002,\n",
            " 'dropout2': 0.25,\n",
            " 'lr': 0.00040739879845398626,\n",
            " 'n_feat': 4,\n",
            " 'n_nodes': 200,\n",
            " 'optimizer_name': 'Adam',\n",
            " 'regularizer': 0.2}\n",
            "### EPOCH 0 val loss is: 2.2673094272613525; train loss is : 2.2830755710601807\n",
            "### EPOCH 1 val loss is: 1.9628705978393555; train loss is : 2.194261312484741\n",
            "### EPOCH 2 val loss is: 1.2435091733932495; train loss is : 1.5476080179214478\n"
          ]
        },
        {
          "output_type": "stream",
          "name": "stderr",
          "text": [
            "\u001b[32m[I 2022-02-05 01:04:24,979]\u001b[0m Trial 27 pruned. \u001b[0m\n"
          ]
        },
        {
          "output_type": "stream",
          "name": "stdout",
          "text": [
            "\n",
            "********************************\n",
            "\n",
            "Suggested hyperparameters: \n",
            "{'dropout1': 0.1,\n",
            " 'dropout2': 0.05,\n",
            " 'lr': 0.00017944144134822714,\n",
            " 'n_feat': 11,\n",
            " 'n_nodes': 400,\n",
            " 'optimizer_name': 'Adam',\n",
            " 'regularizer': 0.2}\n",
            "### EPOCH 0 val loss is: 2.2392873764038086; train loss is : 2.274724006652832\n",
            "### EPOCH 1 val loss is: 1.7880946397781372; train loss is : 2.093628168106079\n",
            "### EPOCH 2 val loss is: 1.2103971242904663; train loss is : 1.4349309206008911\n"
          ]
        },
        {
          "output_type": "stream",
          "name": "stderr",
          "text": [
            "\u001b[32m[I 2022-02-05 01:05:26,943]\u001b[0m Trial 28 pruned. \u001b[0m\n"
          ]
        },
        {
          "output_type": "stream",
          "name": "stdout",
          "text": [
            "\n",
            "********************************\n",
            "\n",
            "Suggested hyperparameters: \n",
            "{'dropout1': 0.1,\n",
            " 'dropout2': 0.2,\n",
            " 'lr': 0.0017851986319475004,\n",
            " 'n_feat': 9,\n",
            " 'n_nodes': 450,\n",
            " 'optimizer_name': 'sgd',\n",
            " 'regularizer': 0.2}\n",
            "### EPOCH 0 val loss is: 2.273498773574829; train loss is : 2.2875075340270996\n",
            "### EPOCH 1 val loss is: 2.261099100112915; train loss is : 2.2689144611358643\n",
            "### EPOCH 2 val loss is: 2.2514984607696533; train loss is : 2.258734703063965\n"
          ]
        },
        {
          "output_type": "stream",
          "name": "stderr",
          "text": [
            "\u001b[32m[I 2022-02-05 01:06:28,246]\u001b[0m Trial 29 pruned. \u001b[0m\n"
          ]
        },
        {
          "output_type": "stream",
          "name": "stdout",
          "text": [
            "\n",
            "********************************\n",
            "\n",
            "Suggested hyperparameters: \n",
            "{'dropout1': 0.3,\n",
            " 'dropout2': 0.1,\n",
            " 'lr': 0.002758298734238159,\n",
            " 'n_feat': 4,\n",
            " 'n_nodes': 500,\n",
            " 'optimizer_name': 'Adam',\n",
            " 'regularizer': 0.25}\n",
            "### EPOCH 0 val loss is: 1.1875306367874146; train loss is : 1.6764277219772339\n",
            "### EPOCH 1 val loss is: 1.115667462348938; train loss is : 1.1733758449554443\n",
            "### EPOCH 2 val loss is: 1.0841132402420044; train loss is : 1.1334757804870605\n"
          ]
        },
        {
          "output_type": "stream",
          "name": "stderr",
          "text": [
            "\u001b[32m[I 2022-02-05 01:07:27,029]\u001b[0m Trial 30 pruned. \u001b[0m\n"
          ]
        },
        {
          "output_type": "stream",
          "name": "stdout",
          "text": [
            "\n",
            "********************************\n",
            "\n",
            "Suggested hyperparameters: \n",
            "{'dropout1': 0.0,\n",
            " 'dropout2': 0.15000000000000002,\n",
            " 'lr': 0.00038549808786389255,\n",
            " 'n_feat': 8,\n",
            " 'n_nodes': 400,\n",
            " 'optimizer_name': 'Adam',\n",
            " 'regularizer': 0.25}\n",
            "### EPOCH 0 val loss is: 2.1703193187713623; train loss is : 2.2582929134368896\n",
            "### EPOCH 1 val loss is: 1.2792426347732544; train loss is : 1.7118383646011353\n",
            "### EPOCH 2 val loss is: 1.1652556657791138; train loss is : 1.2146263122558594\n"
          ]
        },
        {
          "output_type": "stream",
          "name": "stderr",
          "text": [
            "\u001b[32m[I 2022-02-05 01:08:27,246]\u001b[0m Trial 31 pruned. \u001b[0m\n"
          ]
        },
        {
          "output_type": "stream",
          "name": "stdout",
          "text": [
            "\n",
            "********************************\n",
            "\n",
            "Suggested hyperparameters: \n",
            "{'dropout1': 0.2,\n",
            " 'dropout2': 0.15000000000000002,\n",
            " 'lr': 0.0029658758671468125,\n",
            " 'n_feat': 7,\n",
            " 'n_nodes': 250,\n",
            " 'optimizer_name': 'Adam',\n",
            " 'regularizer': 0.05}\n",
            "### EPOCH 0 val loss is: 0.6693633198738098; train loss is : 1.0727336406707764\n",
            "### EPOCH 1 val loss is: 0.6142244338989258; train loss is : 0.6940756440162659\n",
            "### EPOCH 2 val loss is: 0.588131844997406; train loss is : 0.6339797377586365\n",
            "### EPOCH 3 val loss is: 0.562390923500061; train loss is : 0.6126298904418945\n",
            "### EPOCH 4 val loss is: 0.5494117736816406; train loss is : 0.6029682755470276\n",
            "### EPOCH 5 val loss is: 0.5595663785934448; train loss is : 0.5930790305137634\n",
            "### EPOCH 6 val loss is: 0.5422212481498718; train loss is : 0.590087890625\n",
            "### EPOCH 7 val loss is: 0.5658069849014282; train loss is : 0.5874175429344177\n",
            "### EPOCH 8 val loss is: 0.5658503174781799; train loss is : 0.5869846940040588\n"
          ]
        },
        {
          "output_type": "stream",
          "name": "stderr",
          "text": [
            "\u001b[32m[I 2022-02-05 01:10:56,788]\u001b[0m Trial 32 finished with value: 0.539339542388916 and parameters: {'lr': 0.0029658758671468125, 'dropout1': 0.2, 'dropout2': 0.15000000000000002, 'optimizer_name': 'Adam', 'n_feat': 7, 'regularizer': 0.05, 'n_nodes': 250}. Best is trial 16 with value: 0.2917865812778473.\u001b[0m\n"
          ]
        },
        {
          "output_type": "stream",
          "name": "stdout",
          "text": [
            "### EPOCH 9 val loss is: 0.539339542388916; train loss is : 0.5843661427497864\n",
            "\n",
            "********************************\n",
            "\n",
            "Suggested hyperparameters: \n",
            "{'dropout1': 0.3,\n",
            " 'dropout2': 0.05,\n",
            " 'lr': 0.0023099768462050045,\n",
            " 'n_feat': 8,\n",
            " 'n_nodes': 400,\n",
            " 'optimizer_name': 'Adam',\n",
            " 'regularizer': 0.05}\n",
            "### EPOCH 0 val loss is: 0.665378749370575; train loss is : 0.9944696426391602\n",
            "### EPOCH 1 val loss is: 0.622484564781189; train loss is : 0.6855649948120117\n",
            "### EPOCH 2 val loss is: 0.5991204380989075; train loss is : 0.6387348175048828\n"
          ]
        },
        {
          "output_type": "stream",
          "name": "stderr",
          "text": [
            "\u001b[32m[I 2022-02-05 01:11:56,938]\u001b[0m Trial 33 pruned. \u001b[0m\n"
          ]
        },
        {
          "output_type": "stream",
          "name": "stdout",
          "text": [
            "\n",
            "********************************\n",
            "\n",
            "Suggested hyperparameters: \n",
            "{'dropout1': 0.25,\n",
            " 'dropout2': 0.2,\n",
            " 'lr': 0.0011959148029014653,\n",
            " 'n_feat': 4,\n",
            " 'n_nodes': 300,\n",
            " 'optimizer_name': 'sgd',\n",
            " 'regularizer': 0.25}\n",
            "### EPOCH 0 val loss is: 2.2826015949249268; train loss is : 2.292938709259033\n",
            "### EPOCH 1 val loss is: 2.273036003112793; train loss is : 2.279656171798706\n",
            "### EPOCH 2 val loss is: 2.2609517574310303; train loss is : 2.269502878189087\n"
          ]
        },
        {
          "output_type": "stream",
          "name": "stderr",
          "text": [
            "\u001b[32m[I 2022-02-05 01:12:55,383]\u001b[0m Trial 34 pruned. \u001b[0m\n"
          ]
        },
        {
          "output_type": "stream",
          "name": "stdout",
          "text": [
            "\n",
            "********************************\n",
            "\n",
            "Suggested hyperparameters: \n",
            "{'dropout1': 0.0,\n",
            " 'dropout2': 0.1,\n",
            " 'lr': 0.0012570274258341377,\n",
            " 'n_feat': 3,\n",
            " 'n_nodes': 200,\n",
            " 'optimizer_name': 'sgd',\n",
            " 'regularizer': 0.25}\n",
            "### EPOCH 0 val loss is: 2.2971913814544678; train loss is : 2.303302526473999\n",
            "### EPOCH 1 val loss is: 2.2945516109466553; train loss is : 2.2951197624206543\n",
            "### EPOCH 2 val loss is: 2.2952487468719482; train loss is : 2.294635534286499\n"
          ]
        },
        {
          "output_type": "stream",
          "name": "stderr",
          "text": [
            "\u001b[32m[I 2022-02-05 01:13:52,556]\u001b[0m Trial 35 pruned. \u001b[0m\n"
          ]
        },
        {
          "output_type": "stream",
          "name": "stdout",
          "text": [
            "\n",
            "********************************\n",
            "\n",
            "Suggested hyperparameters: \n",
            "{'dropout1': 0.25,\n",
            " 'dropout2': 0.25,\n",
            " 'lr': 0.0005232718116625716,\n",
            " 'n_feat': 11,\n",
            " 'n_nodes': 500,\n",
            " 'optimizer_name': 'sgd',\n",
            " 'regularizer': 0.1}\n",
            "### EPOCH 0 val loss is: 2.2359654903411865; train loss is : 2.276322364807129\n",
            "### EPOCH 1 val loss is: 2.145435333251953; train loss is : 2.2062385082244873\n",
            "### EPOCH 2 val loss is: 1.9760289192199707; train loss is : 2.092074155807495\n"
          ]
        },
        {
          "output_type": "stream",
          "name": "stderr",
          "text": [
            "\u001b[32m[I 2022-02-05 01:14:54,113]\u001b[0m Trial 36 pruned. \u001b[0m\n"
          ]
        },
        {
          "output_type": "stream",
          "name": "stdout",
          "text": [
            "\n",
            "********************************\n",
            "\n",
            "Suggested hyperparameters: \n",
            "{'dropout1': 0.1,\n",
            " 'dropout2': 0.2,\n",
            " 'lr': 0.0003504363803002087,\n",
            " 'n_feat': 4,\n",
            " 'n_nodes': 400,\n",
            " 'optimizer_name': 'sgd',\n",
            " 'regularizer': 0.15000000000000002}\n",
            "### EPOCH 0 val loss is: 2.2964298725128174; train loss is : 2.3024744987487793\n",
            "### EPOCH 1 val loss is: 2.2853281497955322; train loss is : 2.291292667388916\n",
            "### EPOCH 2 val loss is: 2.274949312210083; train loss is : 2.2811076641082764\n"
          ]
        },
        {
          "output_type": "stream",
          "name": "stderr",
          "text": [
            "\u001b[32m[I 2022-02-05 01:15:52,202]\u001b[0m Trial 37 pruned. \u001b[0m\n"
          ]
        },
        {
          "output_type": "stream",
          "name": "stdout",
          "text": [
            "\n",
            "********************************\n",
            "\n",
            "Suggested hyperparameters: \n",
            "{'dropout1': 0.05,\n",
            " 'dropout2': 0.0,\n",
            " 'lr': 0.0003533065629117266,\n",
            " 'n_feat': 8,\n",
            " 'n_nodes': 350,\n",
            " 'optimizer_name': 'sgd',\n",
            " 'regularizer': 0.1}\n",
            "### EPOCH 0 val loss is: 2.27628755569458; train loss is : 2.287083625793457\n",
            "### EPOCH 1 val loss is: 2.251579523086548; train loss is : 2.263796806335449\n",
            "### EPOCH 2 val loss is: 2.2195470333099365; train loss is : 2.2359464168548584\n"
          ]
        },
        {
          "output_type": "stream",
          "name": "stderr",
          "text": [
            "\u001b[32m[I 2022-02-05 01:16:51,672]\u001b[0m Trial 38 pruned. \u001b[0m\n"
          ]
        },
        {
          "output_type": "stream",
          "name": "stdout",
          "text": [
            "\n",
            "********************************\n",
            "\n",
            "Suggested hyperparameters: \n",
            "{'dropout1': 0.2,\n",
            " 'dropout2': 0.25,\n",
            " 'lr': 0.004215514706089433,\n",
            " 'n_feat': 7,\n",
            " 'n_nodes': 300,\n",
            " 'optimizer_name': 'sgd',\n",
            " 'regularizer': 0.2}\n",
            "### EPOCH 0 val loss is: 2.045400381088257; train loss is : 2.220332384109497\n",
            "### EPOCH 1 val loss is: 1.1064825057983398; train loss is : 1.5345171689987183\n",
            "### EPOCH 2 val loss is: 1.0377625226974487; train loss is : 1.1274299621582031\n"
          ]
        },
        {
          "output_type": "stream",
          "name": "stderr",
          "text": [
            "\u001b[32m[I 2022-02-05 01:17:50,177]\u001b[0m Trial 39 pruned. \u001b[0m\n"
          ]
        },
        {
          "output_type": "stream",
          "name": "stdout",
          "text": [
            "\n",
            "********************************\n",
            "\n",
            "Suggested hyperparameters: \n",
            "{'dropout1': 0.3,\n",
            " 'dropout2': 0.05,\n",
            " 'lr': 0.003848463225531802,\n",
            " 'n_feat': 6,\n",
            " 'n_nodes': 200,\n",
            " 'optimizer_name': 'Adam',\n",
            " 'regularizer': 0.2}\n",
            "### EPOCH 0 val loss is: 1.102771282196045; train loss is : 1.8015055656433105\n",
            "### EPOCH 1 val loss is: 0.9010198712348938; train loss is : 0.97396320104599\n",
            "### EPOCH 2 val loss is: 0.8828502297401428; train loss is : 0.9307243824005127\n"
          ]
        },
        {
          "output_type": "stream",
          "name": "stderr",
          "text": [
            "\u001b[32m[I 2022-02-05 01:18:47,793]\u001b[0m Trial 40 pruned. \u001b[0m\n"
          ]
        },
        {
          "output_type": "stream",
          "name": "stdout",
          "text": [
            "\n",
            "********************************\n",
            "\n",
            "Suggested hyperparameters: \n",
            "{'dropout1': 0.05,\n",
            " 'dropout2': 0.3,\n",
            " 'lr': 0.001483439183354937,\n",
            " 'n_feat': 10,\n",
            " 'n_nodes': 450,\n",
            " 'optimizer_name': 'Adam',\n",
            " 'regularizer': 0.25}\n",
            "### EPOCH 0 val loss is: 1.103968620300293; train loss is : 1.6584856510162354\n",
            "### EPOCH 1 val loss is: 1.0152323246002197; train loss is : 1.0562191009521484\n",
            "### EPOCH 2 val loss is: 1.0183829069137573; train loss is : 1.030272364616394\n"
          ]
        },
        {
          "output_type": "stream",
          "name": "stderr",
          "text": [
            "\u001b[32m[I 2022-02-05 01:19:48,222]\u001b[0m Trial 41 pruned. \u001b[0m\n"
          ]
        },
        {
          "output_type": "stream",
          "name": "stdout",
          "text": [
            "\n",
            "********************************\n",
            "\n",
            "Suggested hyperparameters: \n",
            "{'dropout1': 0.15000000000000002,\n",
            " 'dropout2': 0.2,\n",
            " 'lr': 0.001031295758172262,\n",
            " 'n_feat': 6,\n",
            " 'n_nodes': 400,\n",
            " 'optimizer_name': 'Adam',\n",
            " 'regularizer': 0.05}\n",
            "### EPOCH 0 val loss is: 0.8026835322380066; train loss is : 1.270106554031372\n",
            "### EPOCH 1 val loss is: 0.6995354294776917; train loss is : 0.7819575667381287\n",
            "### EPOCH 2 val loss is: 0.6460738182067871; train loss is : 0.717270016670227\n"
          ]
        },
        {
          "output_type": "stream",
          "name": "stderr",
          "text": [
            "\u001b[32m[I 2022-02-05 01:20:46,764]\u001b[0m Trial 42 pruned. \u001b[0m\n"
          ]
        },
        {
          "output_type": "stream",
          "name": "stdout",
          "text": [
            "\n",
            "********************************\n",
            "\n",
            "Suggested hyperparameters: \n",
            "{'dropout1': 0.15000000000000002,\n",
            " 'dropout2': 0.2,\n",
            " 'lr': 0.00011280662495399539,\n",
            " 'n_feat': 9,\n",
            " 'n_nodes': 500,\n",
            " 'optimizer_name': 'Adam',\n",
            " 'regularizer': 0.15000000000000002}\n",
            "### EPOCH 0 val loss is: 2.162836790084839; train loss is : 2.2501907348632812\n",
            "### EPOCH 1 val loss is: 1.5557461977005005; train loss is : 1.9347589015960693\n",
            "### EPOCH 2 val loss is: 1.1394877433776855; train loss is : 1.3340072631835938\n"
          ]
        },
        {
          "output_type": "stream",
          "name": "stderr",
          "text": [
            "\u001b[32m[I 2022-02-05 01:21:47,171]\u001b[0m Trial 43 pruned. \u001b[0m\n"
          ]
        },
        {
          "output_type": "stream",
          "name": "stdout",
          "text": [
            "\n",
            "********************************\n",
            "\n",
            "Suggested hyperparameters: \n",
            "{'dropout1': 0.05,\n",
            " 'dropout2': 0.3,\n",
            " 'lr': 0.0001510643763417439,\n",
            " 'n_feat': 7,\n",
            " 'n_nodes': 500,\n",
            " 'optimizer_name': 'sgd',\n",
            " 'regularizer': 0.05}\n",
            "### EPOCH 0 val loss is: 2.3001620769500732; train loss is : 2.306352138519287\n",
            "### EPOCH 1 val loss is: 2.2889797687530518; train loss is : 2.2958896160125732\n",
            "### EPOCH 2 val loss is: 2.278531312942505; train loss is : 2.28572154045105\n"
          ]
        },
        {
          "output_type": "stream",
          "name": "stderr",
          "text": [
            "\u001b[32m[I 2022-02-05 01:22:46,626]\u001b[0m Trial 44 pruned. \u001b[0m\n"
          ]
        },
        {
          "output_type": "stream",
          "name": "stdout",
          "text": [
            "\n",
            "********************************\n",
            "\n",
            "Suggested hyperparameters: \n",
            "{'dropout1': 0.1,\n",
            " 'dropout2': 0.25,\n",
            " 'lr': 0.0024901855466353206,\n",
            " 'n_feat': 10,\n",
            " 'n_nodes': 200,\n",
            " 'optimizer_name': 'Adam',\n",
            " 'regularizer': 0.2}\n",
            "### EPOCH 0 val loss is: 0.9974918961524963; train loss is : 1.336205005645752\n",
            "### EPOCH 1 val loss is: 0.9623433947563171; train loss is : 1.024601697921753\n",
            "### EPOCH 2 val loss is: 0.9475058913230896; train loss is : 0.9950518012046814\n"
          ]
        },
        {
          "output_type": "stream",
          "name": "stderr",
          "text": [
            "\u001b[32m[I 2022-02-05 01:23:47,415]\u001b[0m Trial 45 pruned. \u001b[0m\n"
          ]
        },
        {
          "output_type": "stream",
          "name": "stdout",
          "text": [
            "\n",
            "********************************\n",
            "\n",
            "Suggested hyperparameters: \n",
            "{'dropout1': 0.05,\n",
            " 'dropout2': 0.3,\n",
            " 'lr': 0.00011575959431047835,\n",
            " 'n_feat': 9,\n",
            " 'n_nodes': 300,\n",
            " 'optimizer_name': 'sgd',\n",
            " 'regularizer': 0.05}\n",
            "### EPOCH 0 val loss is: 2.298863649368286; train loss is : 2.301997661590576\n",
            "### EPOCH 1 val loss is: 2.2945241928100586; train loss is : 2.2982895374298096\n",
            "### EPOCH 2 val loss is: 2.290419340133667; train loss is : 2.2943243980407715\n"
          ]
        },
        {
          "output_type": "stream",
          "name": "stderr",
          "text": [
            "\u001b[32m[I 2022-02-05 01:24:47,672]\u001b[0m Trial 46 pruned. \u001b[0m\n"
          ]
        },
        {
          "output_type": "stream",
          "name": "stdout",
          "text": [
            "\n",
            "********************************\n",
            "\n",
            "Suggested hyperparameters: \n",
            "{'dropout1': 0.0,\n",
            " 'dropout2': 0.25,\n",
            " 'lr': 0.00037484950988145825,\n",
            " 'n_feat': 7,\n",
            " 'n_nodes': 450,\n",
            " 'optimizer_name': 'Adam',\n",
            " 'regularizer': 0.0}\n",
            "### EPOCH 0 val loss is: 0.7062326073646545; train loss is : 1.360547423362732\n",
            "### EPOCH 1 val loss is: 0.5553044676780701; train loss is : 0.6538336873054504\n",
            "### EPOCH 2 val loss is: 0.4993133544921875; train loss is : 0.559086263179779\n",
            "### EPOCH 3 val loss is: 0.45437073707580566; train loss is : 0.509090006351471\n",
            "### EPOCH 4 val loss is: 0.4289805591106415; train loss is : 0.4759436547756195\n",
            "### EPOCH 5 val loss is: 0.42077866196632385; train loss is : 0.4569464325904846\n",
            "### EPOCH 6 val loss is: 0.3963894546031952; train loss is : 0.43978163599967957\n",
            "### EPOCH 7 val loss is: 0.38754650950431824; train loss is : 0.42601272463798523\n",
            "### EPOCH 8 val loss is: 0.3747728168964386; train loss is : 0.4161311686038971\n"
          ]
        },
        {
          "output_type": "stream",
          "name": "stderr",
          "text": [
            "\u001b[32m[I 2022-02-05 01:27:15,278]\u001b[0m Trial 47 finished with value: 0.37179088592529297 and parameters: {'lr': 0.00037484950988145825, 'dropout1': 0.0, 'dropout2': 0.25, 'optimizer_name': 'Adam', 'n_feat': 7, 'regularizer': 0.0, 'n_nodes': 450}. Best is trial 16 with value: 0.2917865812778473.\u001b[0m\n"
          ]
        },
        {
          "output_type": "stream",
          "name": "stdout",
          "text": [
            "### EPOCH 9 val loss is: 0.37179088592529297; train loss is : 0.4080283045768738\n",
            "\n",
            "********************************\n",
            "\n",
            "Suggested hyperparameters: \n",
            "{'dropout1': 0.15000000000000002,\n",
            " 'dropout2': 0.3,\n",
            " 'lr': 0.0013002829035034548,\n",
            " 'n_feat': 10,\n",
            " 'n_nodes': 500,\n",
            " 'optimizer_name': 'Adam',\n",
            " 'regularizer': 0.15000000000000002}\n",
            "### EPOCH 0 val loss is: 0.9219417572021484; train loss is : 1.3559240102767944\n",
            "### EPOCH 1 val loss is: 0.8617739677429199; train loss is : 0.9145209789276123\n",
            "### EPOCH 2 val loss is: 0.8458181023597717; train loss is : 0.8871732354164124\n"
          ]
        },
        {
          "output_type": "stream",
          "name": "stderr",
          "text": [
            "\u001b[32m[I 2022-02-05 01:28:15,737]\u001b[0m Trial 48 pruned. \u001b[0m\n"
          ]
        },
        {
          "output_type": "stream",
          "name": "stdout",
          "text": [
            "\n",
            "********************************\n",
            "\n",
            "Suggested hyperparameters: \n",
            "{'dropout1': 0.1,\n",
            " 'dropout2': 0.25,\n",
            " 'lr': 0.00040869331774564415,\n",
            " 'n_feat': 11,\n",
            " 'n_nodes': 200,\n",
            " 'optimizer_name': 'sgd',\n",
            " 'regularizer': 0.15000000000000002}\n",
            "### EPOCH 0 val loss is: 2.2760422229766846; train loss is : 2.2925827503204346\n",
            "### EPOCH 1 val loss is: 2.2467458248138428; train loss is : 2.265017509460449\n",
            "### EPOCH 2 val loss is: 2.2130138874053955; train loss is : 2.2361013889312744\n"
          ]
        },
        {
          "output_type": "stream",
          "name": "stderr",
          "text": [
            "\u001b[32m[I 2022-02-05 01:29:16,619]\u001b[0m Trial 49 pruned. \u001b[0m\n"
          ]
        },
        {
          "output_type": "stream",
          "name": "stdout",
          "text": [
            "\n",
            "********************************\n",
            "\n",
            "Suggested hyperparameters: \n",
            "{'dropout1': 0.2,\n",
            " 'dropout2': 0.1,\n",
            " 'lr': 0.0005395526352391329,\n",
            " 'n_feat': 11,\n",
            " 'n_nodes': 400,\n",
            " 'optimizer_name': 'Adam',\n",
            " 'regularizer': 0.1}\n",
            "### EPOCH 0 val loss is: 0.919195830821991; train loss is : 1.6418198347091675\n",
            "### EPOCH 1 val loss is: 0.747929573059082; train loss is : 0.8316042423248291\n",
            "### EPOCH 2 val loss is: 0.7219104766845703; train loss is : 0.7603955864906311\n"
          ]
        },
        {
          "output_type": "stream",
          "name": "stderr",
          "text": [
            "\u001b[32m[I 2022-02-05 01:30:17,953]\u001b[0m Trial 50 pruned. \u001b[0m\n"
          ]
        },
        {
          "output_type": "stream",
          "name": "stdout",
          "text": [
            "\n",
            "********************************\n",
            "\n",
            "Suggested hyperparameters: \n",
            "{'dropout1': 0.3,\n",
            " 'dropout2': 0.3,\n",
            " 'lr': 0.003023178452496922,\n",
            " 'n_feat': 8,\n",
            " 'n_nodes': 250,\n",
            " 'optimizer_name': 'sgd',\n",
            " 'regularizer': 0.05}\n",
            "### EPOCH 0 val loss is: 2.21423077583313; train loss is : 2.272498846054077\n",
            "### EPOCH 1 val loss is: 1.412662386894226; train loss is : 1.9904181957244873\n",
            "### EPOCH 2 val loss is: 0.9426174759864807; train loss is : 1.22525954246521\n"
          ]
        },
        {
          "output_type": "stream",
          "name": "stderr",
          "text": [
            "\u001b[32m[I 2022-02-05 01:31:17,204]\u001b[0m Trial 51 pruned. \u001b[0m\n"
          ]
        },
        {
          "output_type": "stream",
          "name": "stdout",
          "text": [
            "\n",
            "********************************\n",
            "\n",
            "Suggested hyperparameters: \n",
            "{'dropout1': 0.25,\n",
            " 'dropout2': 0.1,\n",
            " 'lr': 0.00034589542736726385,\n",
            " 'n_feat': 5,\n",
            " 'n_nodes': 500,\n",
            " 'optimizer_name': 'Adam',\n",
            " 'regularizer': 0.25}\n",
            "### EPOCH 0 val loss is: 2.242913246154785; train loss is : 2.267324686050415\n",
            "### EPOCH 1 val loss is: 1.9519729614257812; train loss is : 2.166957378387451\n",
            "### EPOCH 2 val loss is: 1.2990883588790894; train loss is : 1.5536504983901978\n"
          ]
        },
        {
          "output_type": "stream",
          "name": "stderr",
          "text": [
            "\u001b[32m[I 2022-02-05 01:32:15,312]\u001b[0m Trial 52 pruned. \u001b[0m\n"
          ]
        },
        {
          "output_type": "stream",
          "name": "stdout",
          "text": [
            "\n",
            "********************************\n",
            "\n",
            "Suggested hyperparameters: \n",
            "{'dropout1': 0.25,\n",
            " 'dropout2': 0.3,\n",
            " 'lr': 0.004789265873650689,\n",
            " 'n_feat': 6,\n",
            " 'n_nodes': 500,\n",
            " 'optimizer_name': 'sgd',\n",
            " 'regularizer': 0.25}\n",
            "### EPOCH 0 val loss is: 2.0356271266937256; train loss is : 2.212054967880249\n",
            "### EPOCH 1 val loss is: 1.1681610345840454; train loss is : 1.5876554250717163\n",
            "### EPOCH 2 val loss is: 1.1230237483978271; train loss is : 1.2373369932174683\n"
          ]
        },
        {
          "output_type": "stream",
          "name": "stderr",
          "text": [
            "\u001b[32m[I 2022-02-05 01:33:13,673]\u001b[0m Trial 53 pruned. \u001b[0m\n"
          ]
        },
        {
          "output_type": "stream",
          "name": "stdout",
          "text": [
            "\n",
            "********************************\n",
            "\n",
            "Suggested hyperparameters: \n",
            "{'dropout1': 0.25,\n",
            " 'dropout2': 0.05,\n",
            " 'lr': 0.0001879391098036379,\n",
            " 'n_feat': 7,\n",
            " 'n_nodes': 350,\n",
            " 'optimizer_name': 'Adam',\n",
            " 'regularizer': 0.1}\n",
            "### EPOCH 0 val loss is: 1.738078236579895; train loss is : 2.111140727996826\n",
            "### EPOCH 1 val loss is: 1.0618802309036255; train loss is : 1.3313772678375244\n",
            "### EPOCH 2 val loss is: 0.9237759709358215; train loss is : 1.0165992975234985\n"
          ]
        },
        {
          "output_type": "stream",
          "name": "stderr",
          "text": [
            "\u001b[32m[I 2022-02-05 01:34:12,191]\u001b[0m Trial 54 pruned. \u001b[0m\n"
          ]
        },
        {
          "output_type": "stream",
          "name": "stdout",
          "text": [
            "\n",
            "********************************\n",
            "\n",
            "Suggested hyperparameters: \n",
            "{'dropout1': 0.25,\n",
            " 'dropout2': 0.1,\n",
            " 'lr': 0.0001307239980589319,\n",
            " 'n_feat': 8,\n",
            " 'n_nodes': 250,\n",
            " 'optimizer_name': 'sgd',\n",
            " 'regularizer': 0.1}\n",
            "### EPOCH 0 val loss is: 2.285881757736206; train loss is : 2.2997310161590576\n",
            "### EPOCH 1 val loss is: 2.26255464553833; train loss is : 2.278174638748169\n",
            "### EPOCH 2 val loss is: 2.2375495433807373; train loss is : 2.2551417350769043\n"
          ]
        },
        {
          "output_type": "stream",
          "name": "stderr",
          "text": [
            "\u001b[32m[I 2022-02-05 01:35:10,809]\u001b[0m Trial 55 pruned. \u001b[0m\n"
          ]
        },
        {
          "output_type": "stream",
          "name": "stdout",
          "text": [
            "\n",
            "********************************\n",
            "\n",
            "Suggested hyperparameters: \n",
            "{'dropout1': 0.15000000000000002,\n",
            " 'dropout2': 0.3,\n",
            " 'lr': 0.00012154747471724717,\n",
            " 'n_feat': 4,\n",
            " 'n_nodes': 350,\n",
            " 'optimizer_name': 'sgd',\n",
            " 'regularizer': 0.05}\n",
            "### EPOCH 0 val loss is: 2.300593137741089; train loss is : 2.303605556488037\n",
            "### EPOCH 1 val loss is: 2.298802614212036; train loss is : 2.301438570022583\n",
            "### EPOCH 2 val loss is: 2.2970831394195557; train loss is : 2.3002824783325195\n"
          ]
        },
        {
          "output_type": "stream",
          "name": "stderr",
          "text": [
            "\u001b[32m[I 2022-02-05 01:36:08,799]\u001b[0m Trial 56 pruned. \u001b[0m\n"
          ]
        },
        {
          "output_type": "stream",
          "name": "stdout",
          "text": [
            "\n",
            "********************************\n",
            "\n",
            "Suggested hyperparameters: \n",
            "{'dropout1': 0.15000000000000002,\n",
            " 'dropout2': 0.3,\n",
            " 'lr': 0.00013800452622209934,\n",
            " 'n_feat': 10,\n",
            " 'n_nodes': 500,\n",
            " 'optimizer_name': 'sgd',\n",
            " 'regularizer': 0.0}\n",
            "### EPOCH 0 val loss is: 2.2957026958465576; train loss is : 2.3023180961608887\n",
            "### EPOCH 1 val loss is: 2.2862374782562256; train loss is : 2.2935681343078613\n",
            "### EPOCH 2 val loss is: 2.2766783237457275; train loss is : 2.284536123275757\n"
          ]
        },
        {
          "output_type": "stream",
          "name": "stderr",
          "text": [
            "\u001b[32m[I 2022-02-05 01:37:09,689]\u001b[0m Trial 57 pruned. \u001b[0m\n"
          ]
        },
        {
          "output_type": "stream",
          "name": "stdout",
          "text": [
            "\n",
            "********************************\n",
            "\n",
            "Suggested hyperparameters: \n",
            "{'dropout1': 0.05,\n",
            " 'dropout2': 0.3,\n",
            " 'lr': 0.00010282453320707423,\n",
            " 'n_feat': 9,\n",
            " 'n_nodes': 450,\n",
            " 'optimizer_name': 'Adam',\n",
            " 'regularizer': 0.0}\n",
            "### EPOCH 0 val loss is: 1.283836841583252; train loss is : 1.917907476425171\n",
            "### EPOCH 1 val loss is: 0.7768911719322205; train loss is : 1.0180011987686157\n",
            "### EPOCH 2 val loss is: 0.6590297222137451; train loss is : 0.7520899176597595\n"
          ]
        },
        {
          "output_type": "stream",
          "name": "stderr",
          "text": [
            "\u001b[32m[I 2022-02-05 01:38:09,775]\u001b[0m Trial 58 pruned. \u001b[0m\n"
          ]
        },
        {
          "output_type": "stream",
          "name": "stdout",
          "text": [
            "\n",
            "********************************\n",
            "\n",
            "Suggested hyperparameters: \n",
            "{'dropout1': 0.25,\n",
            " 'dropout2': 0.1,\n",
            " 'lr': 0.00034615477728854374,\n",
            " 'n_feat': 6,\n",
            " 'n_nodes': 250,\n",
            " 'optimizer_name': 'sgd',\n",
            " 'regularizer': 0.2}\n",
            "### EPOCH 0 val loss is: 2.29313588142395; train loss is : 2.2998690605163574\n",
            "### EPOCH 1 val loss is: 2.2834503650665283; train loss is : 2.2891860008239746\n",
            "### EPOCH 2 val loss is: 2.2746870517730713; train loss is : 2.280287265777588\n"
          ]
        },
        {
          "output_type": "stream",
          "name": "stderr",
          "text": [
            "\u001b[32m[I 2022-02-05 01:39:07,899]\u001b[0m Trial 59 pruned. \u001b[0m\n"
          ]
        },
        {
          "output_type": "stream",
          "name": "stdout",
          "text": [
            "\n",
            "********************************\n",
            "\n",
            "Suggested hyperparameters: \n",
            "{'dropout1': 0.0,\n",
            " 'dropout2': 0.25,\n",
            " 'lr': 0.0023012642063822376,\n",
            " 'n_feat': 10,\n",
            " 'n_nodes': 250,\n",
            " 'optimizer_name': 'Adam',\n",
            " 'regularizer': 0.1}\n",
            "### EPOCH 0 val loss is: 0.7988607883453369; train loss is : 1.0603777170181274\n",
            "### EPOCH 1 val loss is: 0.770542323589325; train loss is : 0.8090406656265259\n",
            "### EPOCH 2 val loss is: 0.7398280501365662; train loss is : 0.786073625087738\n"
          ]
        },
        {
          "output_type": "stream",
          "name": "stderr",
          "text": [
            "\u001b[32m[I 2022-02-05 01:40:08,283]\u001b[0m Trial 60 pruned. \u001b[0m\n"
          ]
        },
        {
          "output_type": "stream",
          "name": "stdout",
          "text": [
            "\n",
            "********************************\n",
            "\n",
            "Suggested hyperparameters: \n",
            "{'dropout1': 0.2,\n",
            " 'dropout2': 0.15000000000000002,\n",
            " 'lr': 0.0030491601246350024,\n",
            " 'n_feat': 10,\n",
            " 'n_nodes': 300,\n",
            " 'optimizer_name': 'Adam',\n",
            " 'regularizer': 0.15000000000000002}\n",
            "### EPOCH 0 val loss is: 0.922541081905365; train loss is : 1.1828677654266357\n",
            "### EPOCH 1 val loss is: 0.8954641222953796; train loss is : 0.951666533946991\n",
            "### EPOCH 2 val loss is: 0.8584025502204895; train loss is : 0.9142771363258362\n"
          ]
        },
        {
          "output_type": "stream",
          "name": "stderr",
          "text": [
            "\u001b[32m[I 2022-02-05 01:41:09,286]\u001b[0m Trial 61 pruned. \u001b[0m\n"
          ]
        },
        {
          "output_type": "stream",
          "name": "stdout",
          "text": [
            "\n",
            "********************************\n",
            "\n",
            "Suggested hyperparameters: \n",
            "{'dropout1': 0.3,\n",
            " 'dropout2': 0.25,\n",
            " 'lr': 0.00012706480054390274,\n",
            " 'n_feat': 11,\n",
            " 'n_nodes': 250,\n",
            " 'optimizer_name': 'Adam',\n",
            " 'regularizer': 0.15000000000000002}\n",
            "### EPOCH 0 val loss is: 2.105165958404541; train loss is : 2.2380058765411377\n",
            "### EPOCH 1 val loss is: 1.379109263420105; train loss is : 1.7942613363265991\n",
            "### EPOCH 2 val loss is: 1.087564468383789; train loss is : 1.2620564699172974\n"
          ]
        },
        {
          "output_type": "stream",
          "name": "stderr",
          "text": [
            "\u001b[32m[I 2022-02-05 01:42:10,865]\u001b[0m Trial 62 pruned. \u001b[0m\n"
          ]
        },
        {
          "output_type": "stream",
          "name": "stdout",
          "text": [
            "\n",
            "********************************\n",
            "\n",
            "Suggested hyperparameters: \n",
            "{'dropout1': 0.0,\n",
            " 'dropout2': 0.15000000000000002,\n",
            " 'lr': 0.0022975461900877243,\n",
            " 'n_feat': 9,\n",
            " 'n_nodes': 450,\n",
            " 'optimizer_name': 'sgd',\n",
            " 'regularizer': 0.15000000000000002}\n",
            "### EPOCH 0 val loss is: 2.1965067386627197; train loss is : 2.2599258422851562\n",
            "### EPOCH 1 val loss is: 1.610071063041687; train loss is : 2.0112085342407227\n",
            "### EPOCH 2 val loss is: 1.0231167078018188; train loss is : 1.253895878791809\n"
          ]
        },
        {
          "output_type": "stream",
          "name": "stderr",
          "text": [
            "\u001b[32m[I 2022-02-05 01:43:11,468]\u001b[0m Trial 63 pruned. \u001b[0m\n"
          ]
        },
        {
          "output_type": "stream",
          "name": "stdout",
          "text": [
            "\n",
            "********************************\n",
            "\n",
            "Suggested hyperparameters: \n",
            "{'dropout1': 0.1,\n",
            " 'dropout2': 0.0,\n",
            " 'lr': 0.0032401251997776306,\n",
            " 'n_feat': 8,\n",
            " 'n_nodes': 250,\n",
            " 'optimizer_name': 'sgd',\n",
            " 'regularizer': 0.05}\n",
            "### EPOCH 0 val loss is: 2.193291425704956; train loss is : 2.263338565826416\n",
            "### EPOCH 1 val loss is: 1.1673922538757324; train loss is : 1.8236514329910278\n",
            "### EPOCH 2 val loss is: 0.8307506442070007; train loss is : 0.9633854627609253\n"
          ]
        },
        {
          "output_type": "stream",
          "name": "stderr",
          "text": [
            "\u001b[32m[I 2022-02-05 01:44:10,606]\u001b[0m Trial 64 pruned. \u001b[0m\n"
          ]
        },
        {
          "output_type": "stream",
          "name": "stdout",
          "text": [
            "\n",
            "********************************\n",
            "\n",
            "Suggested hyperparameters: \n",
            "{'dropout1': 0.2,\n",
            " 'dropout2': 0.3,\n",
            " 'lr': 0.004476010533745011,\n",
            " 'n_feat': 3,\n",
            " 'n_nodes': 200,\n",
            " 'optimizer_name': 'sgd',\n",
            " 'regularizer': 0.1}\n",
            "### EPOCH 0 val loss is: 2.1567018032073975; train loss is : 2.264631748199463\n",
            "### EPOCH 1 val loss is: 1.1109654903411865; train loss is : 1.7627683877944946\n",
            "### EPOCH 2 val loss is: 0.8729758262634277; train loss is : 1.1297707557678223\n"
          ]
        },
        {
          "output_type": "stream",
          "name": "stderr",
          "text": [
            "\u001b[32m[I 2022-02-05 01:45:07,653]\u001b[0m Trial 65 pruned. \u001b[0m\n"
          ]
        },
        {
          "output_type": "stream",
          "name": "stdout",
          "text": [
            "\n",
            "********************************\n",
            "\n",
            "Suggested hyperparameters: \n",
            "{'dropout1': 0.05,\n",
            " 'dropout2': 0.0,\n",
            " 'lr': 0.0003052051333630679,\n",
            " 'n_feat': 8,\n",
            " 'n_nodes': 400,\n",
            " 'optimizer_name': 'sgd',\n",
            " 'regularizer': 0.2}\n",
            "### EPOCH 0 val loss is: 2.2869622707366943; train loss is : 2.301913261413574\n",
            "### EPOCH 1 val loss is: 2.2643582820892334; train loss is : 2.2760140895843506\n",
            "### EPOCH 2 val loss is: 2.2419140338897705; train loss is : 2.253810405731201\n"
          ]
        },
        {
          "output_type": "stream",
          "name": "stderr",
          "text": [
            "\u001b[32m[I 2022-02-05 01:46:06,605]\u001b[0m Trial 66 pruned. \u001b[0m\n"
          ]
        },
        {
          "output_type": "stream",
          "name": "stdout",
          "text": [
            "\n",
            "********************************\n",
            "\n",
            "Suggested hyperparameters: \n",
            "{'dropout1': 0.3,\n",
            " 'dropout2': 0.25,\n",
            " 'lr': 0.0014201862094423475,\n",
            " 'n_feat': 7,\n",
            " 'n_nodes': 250,\n",
            " 'optimizer_name': 'sgd',\n",
            " 'regularizer': 0.05}\n",
            "### EPOCH 0 val loss is: 2.2634127140045166; train loss is : 2.2909605503082275\n",
            "### EPOCH 1 val loss is: 2.181142568588257; train loss is : 2.2353978157043457\n",
            "### EPOCH 2 val loss is: 1.92094886302948; train loss is : 2.0989058017730713\n"
          ]
        },
        {
          "output_type": "stream",
          "name": "stderr",
          "text": [
            "\u001b[32m[I 2022-02-05 01:47:05,308]\u001b[0m Trial 67 pruned. \u001b[0m\n"
          ]
        },
        {
          "output_type": "stream",
          "name": "stdout",
          "text": [
            "\n",
            "********************************\n",
            "\n",
            "Suggested hyperparameters: \n",
            "{'dropout1': 0.3,\n",
            " 'dropout2': 0.3,\n",
            " 'lr': 0.00175717869989952,\n",
            " 'n_feat': 9,\n",
            " 'n_nodes': 400,\n",
            " 'optimizer_name': 'sgd',\n",
            " 'regularizer': 0.0}\n",
            "### EPOCH 0 val loss is: 2.2291815280914307; train loss is : 2.278773784637451\n",
            "### EPOCH 1 val loss is: 1.807392954826355; train loss is : 2.1114933490753174\n",
            "### EPOCH 2 val loss is: 1.0130585432052612; train loss is : 1.4596760272979736\n"
          ]
        },
        {
          "output_type": "stream",
          "name": "stderr",
          "text": [
            "\u001b[32m[I 2022-02-05 01:48:05,046]\u001b[0m Trial 68 pruned. \u001b[0m\n"
          ]
        },
        {
          "output_type": "stream",
          "name": "stdout",
          "text": [
            "\n",
            "********************************\n",
            "\n",
            "Suggested hyperparameters: \n",
            "{'dropout1': 0.1,\n",
            " 'dropout2': 0.2,\n",
            " 'lr': 0.000523803362911482,\n",
            " 'n_feat': 4,\n",
            " 'n_nodes': 400,\n",
            " 'optimizer_name': 'Adam',\n",
            " 'regularizer': 0.05}\n",
            "### EPOCH 0 val loss is: 1.2243150472640991; train loss is : 1.9659042358398438\n",
            "### EPOCH 1 val loss is: 0.860539436340332; train loss is : 1.0211421251296997\n",
            "### EPOCH 2 val loss is: 0.7618076801300049; train loss is : 0.8467268347740173\n"
          ]
        },
        {
          "output_type": "stream",
          "name": "stderr",
          "text": [
            "\u001b[32m[I 2022-02-05 01:49:02,287]\u001b[0m Trial 69 pruned. \u001b[0m\n"
          ]
        },
        {
          "output_type": "stream",
          "name": "stdout",
          "text": [
            "\n",
            "********************************\n",
            "\n",
            "Suggested hyperparameters: \n",
            "{'dropout1': 0.2,\n",
            " 'dropout2': 0.1,\n",
            " 'lr': 0.0004960881223691099,\n",
            " 'n_feat': 10,\n",
            " 'n_nodes': 500,\n",
            " 'optimizer_name': 'Adam',\n",
            " 'regularizer': 0.2}\n",
            "### EPOCH 0 val loss is: 1.454668402671814; train loss is : 2.0889430046081543\n",
            "### EPOCH 1 val loss is: 1.0420275926589966; train loss is : 1.1833299398422241\n",
            "### EPOCH 2 val loss is: 0.9418363571166992; train loss is : 1.0002503395080566\n"
          ]
        },
        {
          "output_type": "stream",
          "name": "stderr",
          "text": [
            "\u001b[32m[I 2022-02-05 01:50:02,826]\u001b[0m Trial 70 pruned. \u001b[0m\n"
          ]
        },
        {
          "output_type": "stream",
          "name": "stdout",
          "text": [
            "\n",
            "********************************\n",
            "\n",
            "Suggested hyperparameters: \n",
            "{'dropout1': 0.3,\n",
            " 'dropout2': 0.1,\n",
            " 'lr': 0.0007074364175011936,\n",
            " 'n_feat': 9,\n",
            " 'n_nodes': 450,\n",
            " 'optimizer_name': 'Adam',\n",
            " 'regularizer': 0.05}\n",
            "### EPOCH 0 val loss is: 0.7313835620880127; train loss is : 1.365901231765747\n",
            "### EPOCH 1 val loss is: 0.6562437415122986; train loss is : 0.7199066877365112\n",
            "### EPOCH 2 val loss is: 0.6615884900093079; train loss is : 0.6696673631668091\n"
          ]
        },
        {
          "output_type": "stream",
          "name": "stderr",
          "text": [
            "\u001b[32m[I 2022-02-05 01:51:03,337]\u001b[0m Trial 71 pruned. \u001b[0m\n"
          ]
        },
        {
          "output_type": "stream",
          "name": "stdout",
          "text": [
            "\n",
            "********************************\n",
            "\n",
            "Suggested hyperparameters: \n",
            "{'dropout1': 0.3,\n",
            " 'dropout2': 0.0,\n",
            " 'lr': 0.001002635592998285,\n",
            " 'n_feat': 5,\n",
            " 'n_nodes': 200,\n",
            " 'optimizer_name': 'sgd',\n",
            " 'regularizer': 0.0}\n",
            "### EPOCH 0 val loss is: 2.2897651195526123; train loss is : 2.299577474594116\n",
            "### EPOCH 1 val loss is: 2.2535221576690674; train loss is : 2.274878978729248\n",
            "### EPOCH 2 val loss is: 2.1434123516082764; train loss is : 2.212038278579712\n"
          ]
        },
        {
          "output_type": "stream",
          "name": "stderr",
          "text": [
            "\u001b[32m[I 2022-02-05 01:52:00,497]\u001b[0m Trial 72 pruned. \u001b[0m\n"
          ]
        },
        {
          "output_type": "stream",
          "name": "stdout",
          "text": [
            "\n",
            "********************************\n",
            "\n",
            "Suggested hyperparameters: \n",
            "{'dropout1': 0.3,\n",
            " 'dropout2': 0.0,\n",
            " 'lr': 0.00010165879271219464,\n",
            " 'n_feat': 3,\n",
            " 'n_nodes': 500,\n",
            " 'optimizer_name': 'Adam',\n",
            " 'regularizer': 0.15000000000000002}\n",
            "### EPOCH 0 val loss is: 2.262364387512207; train loss is : 2.2862613201141357\n",
            "### EPOCH 1 val loss is: 2.197175979614258; train loss is : 2.235116481781006\n",
            "### EPOCH 2 val loss is: 2.0431506633758545; train loss is : 2.13405442237854\n"
          ]
        },
        {
          "output_type": "stream",
          "name": "stderr",
          "text": [
            "\u001b[32m[I 2022-02-05 01:52:57,182]\u001b[0m Trial 73 pruned. \u001b[0m\n"
          ]
        },
        {
          "output_type": "stream",
          "name": "stdout",
          "text": [
            "\n",
            "********************************\n",
            "\n",
            "Suggested hyperparameters: \n",
            "{'dropout1': 0.25,\n",
            " 'dropout2': 0.1,\n",
            " 'lr': 0.00032401362202974943,\n",
            " 'n_feat': 6,\n",
            " 'n_nodes': 250,\n",
            " 'optimizer_name': 'Adam',\n",
            " 'regularizer': 0.25}\n",
            "### EPOCH 0 val loss is: 2.286529302597046; train loss is : 2.2890493869781494\n",
            "### EPOCH 1 val loss is: 2.2913835048675537; train loss is : 2.2887117862701416\n",
            "### EPOCH 2 val loss is: 2.2994332313537598; train loss is : 2.295355796813965\n"
          ]
        },
        {
          "output_type": "stream",
          "name": "stderr",
          "text": [
            "\u001b[32m[I 2022-02-05 01:53:55,085]\u001b[0m Trial 74 pruned. \u001b[0m\n"
          ]
        },
        {
          "output_type": "stream",
          "name": "stdout",
          "text": [
            "\n",
            "********************************\n",
            "\n",
            "Suggested hyperparameters: \n",
            "{'dropout1': 0.05,\n",
            " 'dropout2': 0.1,\n",
            " 'lr': 0.00017340996246313932,\n",
            " 'n_feat': 9,\n",
            " 'n_nodes': 250,\n",
            " 'optimizer_name': 'Adam',\n",
            " 'regularizer': 0.25}\n",
            "### EPOCH 0 val loss is: 2.2806763648986816; train loss is : 2.2915353775024414\n",
            "### EPOCH 1 val loss is: 2.2550337314605713; train loss is : 2.270549774169922\n",
            "### EPOCH 2 val loss is: 2.1764395236968994; train loss is : 2.2268402576446533\n"
          ]
        },
        {
          "output_type": "stream",
          "name": "stderr",
          "text": [
            "\u001b[32m[I 2022-02-05 01:54:54,632]\u001b[0m Trial 75 pruned. \u001b[0m\n"
          ]
        },
        {
          "output_type": "stream",
          "name": "stdout",
          "text": [
            "\n",
            "********************************\n",
            "\n",
            "Suggested hyperparameters: \n",
            "{'dropout1': 0.25,\n",
            " 'dropout2': 0.0,\n",
            " 'lr': 0.00011017800528110913,\n",
            " 'n_feat': 9,\n",
            " 'n_nodes': 400,\n",
            " 'optimizer_name': 'Adam',\n",
            " 'regularizer': 0.25}\n",
            "### EPOCH 0 val loss is: 2.245382070541382; train loss is : 2.2774579524993896\n",
            "### EPOCH 1 val loss is: 2.0875847339630127; train loss is : 2.1826436519622803\n",
            "### EPOCH 2 val loss is: 1.671472430229187; train loss is : 1.9075191020965576\n"
          ]
        },
        {
          "output_type": "stream",
          "name": "stderr",
          "text": [
            "\u001b[32m[I 2022-02-05 01:55:55,025]\u001b[0m Trial 76 pruned. \u001b[0m\n"
          ]
        },
        {
          "output_type": "stream",
          "name": "stdout",
          "text": [
            "\n",
            "********************************\n",
            "\n",
            "Suggested hyperparameters: \n",
            "{'dropout1': 0.3,\n",
            " 'dropout2': 0.1,\n",
            " 'lr': 0.0015916133533855307,\n",
            " 'n_feat': 7,\n",
            " 'n_nodes': 350,\n",
            " 'optimizer_name': 'Adam',\n",
            " 'regularizer': 0.0}\n",
            "### EPOCH 0 val loss is: 0.5080159902572632; train loss is : 0.8977929949760437\n",
            "### EPOCH 1 val loss is: 0.4138716757297516; train loss is : 0.493427574634552\n",
            "### EPOCH 2 val loss is: 0.3616947829723358; train loss is : 0.4174102246761322\n",
            "### EPOCH 3 val loss is: 0.3246653079986572; train loss is : 0.3796943724155426\n",
            "### EPOCH 4 val loss is: 0.30208542943000793; train loss is : 0.3515690863132477\n",
            "### EPOCH 5 val loss is: 0.28439003229141235; train loss is : 0.33031991124153137\n",
            "### EPOCH 6 val loss is: 0.27046504616737366; train loss is : 0.31168001890182495\n",
            "### EPOCH 7 val loss is: 0.26384779810905457; train loss is : 0.3004034757614136\n",
            "### EPOCH 8 val loss is: 0.2553212642669678; train loss is : 0.29159849882125854\n"
          ]
        },
        {
          "output_type": "stream",
          "name": "stderr",
          "text": [
            "\u001b[32m[I 2022-02-05 01:58:24,151]\u001b[0m Trial 77 finished with value: 0.23893171548843384 and parameters: {'lr': 0.0015916133533855307, 'dropout1': 0.3, 'dropout2': 0.1, 'optimizer_name': 'Adam', 'n_feat': 7, 'regularizer': 0.0, 'n_nodes': 350}. Best is trial 77 with value: 0.23893171548843384.\u001b[0m\n"
          ]
        },
        {
          "output_type": "stream",
          "name": "stdout",
          "text": [
            "### EPOCH 9 val loss is: 0.23893171548843384; train loss is : 0.2804431915283203\n",
            "\n",
            "********************************\n",
            "\n",
            "Suggested hyperparameters: \n",
            "{'dropout1': 0.2,\n",
            " 'dropout2': 0.3,\n",
            " 'lr': 0.002937796146342365,\n",
            " 'n_feat': 10,\n",
            " 'n_nodes': 500,\n",
            " 'optimizer_name': 'sgd',\n",
            " 'regularizer': 0.05}\n",
            "### EPOCH 0 val loss is: 1.5557327270507812; train loss is : 2.104928731918335\n",
            "### EPOCH 1 val loss is: 0.8551799654960632; train loss is : 1.1882961988449097\n",
            "### EPOCH 2 val loss is: 0.7523293495178223; train loss is : 0.8875660300254822\n"
          ]
        },
        {
          "output_type": "stream",
          "name": "stderr",
          "text": [
            "\u001b[32m[I 2022-02-05 01:59:24,767]\u001b[0m Trial 78 pruned. \u001b[0m\n"
          ]
        },
        {
          "output_type": "stream",
          "name": "stdout",
          "text": [
            "\n",
            "********************************\n",
            "\n",
            "Suggested hyperparameters: \n",
            "{'dropout1': 0.0,\n",
            " 'dropout2': 0.1,\n",
            " 'lr': 0.001596437478615108,\n",
            " 'n_feat': 5,\n",
            " 'n_nodes': 400,\n",
            " 'optimizer_name': 'Adam',\n",
            " 'regularizer': 0.15000000000000002}\n",
            "### EPOCH 0 val loss is: 0.9704203605651855; train loss is : 1.5132688283920288\n",
            "### EPOCH 1 val loss is: 0.9157121777534485; train loss is : 0.9498393535614014\n",
            "### EPOCH 2 val loss is: 0.8860695362091064; train loss is : 0.9091147184371948\n"
          ]
        },
        {
          "output_type": "stream",
          "name": "stderr",
          "text": [
            "\u001b[32m[I 2022-02-05 02:00:23,376]\u001b[0m Trial 79 pruned. \u001b[0m\n"
          ]
        },
        {
          "output_type": "stream",
          "name": "stdout",
          "text": [
            "\n",
            "********************************\n",
            "\n",
            "Suggested hyperparameters: \n",
            "{'dropout1': 0.3,\n",
            " 'dropout2': 0.15000000000000002,\n",
            " 'lr': 0.00027179144817390886,\n",
            " 'n_feat': 10,\n",
            " 'n_nodes': 200,\n",
            " 'optimizer_name': 'Adam',\n",
            " 'regularizer': 0.0}\n",
            "### EPOCH 0 val loss is: 0.8296930193901062; train loss is : 1.5678257942199707\n",
            "### EPOCH 1 val loss is: 0.6304003596305847; train loss is : 0.7845050096511841\n",
            "### EPOCH 2 val loss is: 0.5500618815422058; train loss is : 0.6481751799583435\n",
            "### EPOCH 3 val loss is: 0.49839696288108826; train loss is : 0.5789138078689575\n",
            "### EPOCH 4 val loss is: 0.4604589641094208; train loss is : 0.5311962366104126\n",
            "### EPOCH 5 val loss is: 0.43381401896476746; train loss is : 0.4971391260623932\n",
            "### EPOCH 6 val loss is: 0.41290462017059326; train loss is : 0.47181496024131775\n",
            "### EPOCH 7 val loss is: 0.39445409178733826; train loss is : 0.44932955503463745\n",
            "### EPOCH 8 val loss is: 0.3803650438785553; train loss is : 0.4317508339881897\n"
          ]
        },
        {
          "output_type": "stream",
          "name": "stderr",
          "text": [
            "\u001b[32m[I 2022-02-05 02:02:53,788]\u001b[0m Trial 80 finished with value: 0.3638663589954376 and parameters: {'lr': 0.00027179144817390886, 'dropout1': 0.3, 'dropout2': 0.15000000000000002, 'optimizer_name': 'Adam', 'n_feat': 10, 'regularizer': 0.0, 'n_nodes': 200}. Best is trial 77 with value: 0.23893171548843384.\u001b[0m\n"
          ]
        },
        {
          "output_type": "stream",
          "name": "stdout",
          "text": [
            "### EPOCH 9 val loss is: 0.3638663589954376; train loss is : 0.41695481538772583\n",
            "\n",
            "********************************\n",
            "\n",
            "Suggested hyperparameters: \n",
            "{'dropout1': 0.25,\n",
            " 'dropout2': 0.3,\n",
            " 'lr': 0.00012844124589008818,\n",
            " 'n_feat': 9,\n",
            " 'n_nodes': 300,\n",
            " 'optimizer_name': 'Adam',\n",
            " 'regularizer': 0.1}\n",
            "### EPOCH 0 val loss is: 1.9847335815429688; train loss is : 2.196441411972046\n",
            "### EPOCH 1 val loss is: 1.22830331325531; train loss is : 1.6363708972930908\n",
            "### EPOCH 2 val loss is: 0.9591805934906006; train loss is : 1.1338534355163574\n"
          ]
        },
        {
          "output_type": "stream",
          "name": "stderr",
          "text": [
            "\u001b[32m[I 2022-02-05 02:03:53,699]\u001b[0m Trial 81 pruned. \u001b[0m\n"
          ]
        },
        {
          "output_type": "stream",
          "name": "stdout",
          "text": [
            "\n",
            "********************************\n",
            "\n",
            "Suggested hyperparameters: \n",
            "{'dropout1': 0.1,\n",
            " 'dropout2': 0.1,\n",
            " 'lr': 0.0008067308307754551,\n",
            " 'n_feat': 6,\n",
            " 'n_nodes': 350,\n",
            " 'optimizer_name': 'Adam',\n",
            " 'regularizer': 0.15000000000000002}\n",
            "### EPOCH 0 val loss is: 1.0156599283218384; train loss is : 1.7207709550857544\n",
            "### EPOCH 1 val loss is: 0.8615289330482483; train loss is : 0.9217626452445984\n",
            "### EPOCH 2 val loss is: 0.8388651013374329; train loss is : 0.8567430973052979\n"
          ]
        },
        {
          "output_type": "stream",
          "name": "stderr",
          "text": [
            "\u001b[32m[I 2022-02-05 02:04:51,316]\u001b[0m Trial 82 pruned. \u001b[0m\n"
          ]
        },
        {
          "output_type": "stream",
          "name": "stdout",
          "text": [
            "\n",
            "********************************\n",
            "\n",
            "Suggested hyperparameters: \n",
            "{'dropout1': 0.1,\n",
            " 'dropout2': 0.25,\n",
            " 'lr': 0.00032306415183687746,\n",
            " 'n_feat': 5,\n",
            " 'n_nodes': 450,\n",
            " 'optimizer_name': 'Adam',\n",
            " 'regularizer': 0.05}\n",
            "### EPOCH 0 val loss is: 1.1946651935577393; train loss is : 1.8983176946640015\n",
            "### EPOCH 1 val loss is: 0.8352295756340027; train loss is : 1.0203251838684082\n",
            "### EPOCH 2 val loss is: 0.7512479424476624; train loss is : 0.8379108905792236\n"
          ]
        },
        {
          "output_type": "stream",
          "name": "stderr",
          "text": [
            "\u001b[32m[I 2022-02-05 02:05:48,986]\u001b[0m Trial 83 pruned. \u001b[0m\n"
          ]
        },
        {
          "output_type": "stream",
          "name": "stdout",
          "text": [
            "\n",
            "********************************\n",
            "\n",
            "Suggested hyperparameters: \n",
            "{'dropout1': 0.3,\n",
            " 'dropout2': 0.3,\n",
            " 'lr': 0.001159318918031728,\n",
            " 'n_feat': 9,\n",
            " 'n_nodes': 200,\n",
            " 'optimizer_name': 'sgd',\n",
            " 'regularizer': 0.1}\n",
            "### EPOCH 0 val loss is: 2.288853406906128; train loss is : 2.297579765319824\n",
            "### EPOCH 1 val loss is: 2.2744617462158203; train loss is : 2.2832016944885254\n",
            "### EPOCH 2 val loss is: 2.2572343349456787; train loss is : 2.269078016281128\n"
          ]
        },
        {
          "output_type": "stream",
          "name": "stderr",
          "text": [
            "\u001b[32m[I 2022-02-05 02:06:49,191]\u001b[0m Trial 84 pruned. \u001b[0m\n"
          ]
        },
        {
          "output_type": "stream",
          "name": "stdout",
          "text": [
            "\n",
            "********************************\n",
            "\n",
            "Suggested hyperparameters: \n",
            "{'dropout1': 0.05,\n",
            " 'dropout2': 0.1,\n",
            " 'lr': 0.00012653561239021384,\n",
            " 'n_feat': 8,\n",
            " 'n_nodes': 450,\n",
            " 'optimizer_name': 'Adam',\n",
            " 'regularizer': 0.2}\n",
            "### EPOCH 0 val loss is: 2.2245593070983887; train loss is : 2.264765977859497\n",
            "### EPOCH 1 val loss is: 1.9772146940231323; train loss is : 2.1363978385925293\n",
            "### EPOCH 2 val loss is: 1.4528270959854126; train loss is : 1.7209981679916382\n"
          ]
        },
        {
          "output_type": "stream",
          "name": "stderr",
          "text": [
            "\u001b[32m[I 2022-02-05 02:07:50,756]\u001b[0m Trial 85 pruned. \u001b[0m\n"
          ]
        },
        {
          "output_type": "stream",
          "name": "stdout",
          "text": [
            "\n",
            "********************************\n",
            "\n",
            "Suggested hyperparameters: \n",
            "{'dropout1': 0.05,\n",
            " 'dropout2': 0.1,\n",
            " 'lr': 0.004023962535735619,\n",
            " 'n_feat': 9,\n",
            " 'n_nodes': 450,\n",
            " 'optimizer_name': 'Adam',\n",
            " 'regularizer': 0.0}\n",
            "### EPOCH 0 val loss is: 0.43713632225990295; train loss is : 0.7828716039657593\n",
            "### EPOCH 1 val loss is: 0.34638166427612305; train loss is : 0.4197249114513397\n",
            "### EPOCH 2 val loss is: 0.3076411783695221; train loss is : 0.35215693712234497\n",
            "### EPOCH 3 val loss is: 0.28551390767097473; train loss is : 0.3201344311237335\n",
            "### EPOCH 4 val loss is: 0.2533271312713623; train loss is : 0.2938782274723053\n",
            "### EPOCH 5 val loss is: 0.23664475977420807; train loss is : 0.2768287658691406\n",
            "### EPOCH 6 val loss is: 0.23094584047794342; train loss is : 0.2636854946613312\n",
            "### EPOCH 7 val loss is: 0.2133050560951233; train loss is : 0.25028836727142334\n",
            "### EPOCH 8 val loss is: 0.19810356199741364; train loss is : 0.23648221790790558\n"
          ]
        },
        {
          "output_type": "stream",
          "name": "stderr",
          "text": [
            "\u001b[32m[I 2022-02-05 02:10:23,036]\u001b[0m Trial 86 finished with value: 0.18745547533035278 and parameters: {'lr': 0.004023962535735619, 'dropout1': 0.05, 'dropout2': 0.1, 'optimizer_name': 'Adam', 'n_feat': 9, 'regularizer': 0.0, 'n_nodes': 450}. Best is trial 86 with value: 0.18745547533035278.\u001b[0m\n"
          ]
        },
        {
          "output_type": "stream",
          "name": "stdout",
          "text": [
            "### EPOCH 9 val loss is: 0.18745547533035278; train loss is : 0.22336779534816742\n",
            "\n",
            "********************************\n",
            "\n",
            "Suggested hyperparameters: \n",
            "{'dropout1': 0.1,\n",
            " 'dropout2': 0.25,\n",
            " 'lr': 0.0005392717474017572,\n",
            " 'n_feat': 8,\n",
            " 'n_nodes': 450,\n",
            " 'optimizer_name': 'Adam',\n",
            " 'regularizer': 0.15000000000000002}\n",
            "### EPOCH 0 val loss is: 1.1037416458129883; train loss is : 1.8475422859191895\n",
            "### EPOCH 1 val loss is: 0.9183058142662048; train loss is : 1.0070812702178955\n",
            "### EPOCH 2 val loss is: 0.8778432011604309; train loss is : 0.9224106669425964\n"
          ]
        },
        {
          "output_type": "stream",
          "name": "stderr",
          "text": [
            "\u001b[32m[I 2022-02-05 02:11:22,664]\u001b[0m Trial 87 pruned. \u001b[0m\n"
          ]
        },
        {
          "output_type": "stream",
          "name": "stdout",
          "text": [
            "\n",
            "********************************\n",
            "\n",
            "Suggested hyperparameters: \n",
            "{'dropout1': 0.05,\n",
            " 'dropout2': 0.2,\n",
            " 'lr': 0.0002232135095572999,\n",
            " 'n_feat': 5,\n",
            " 'n_nodes': 250,\n",
            " 'optimizer_name': 'Adam',\n",
            " 'regularizer': 0.15000000000000002}\n",
            "### EPOCH 0 val loss is: 2.0796258449554443; train loss is : 2.2235918045043945\n",
            "### EPOCH 1 val loss is: 1.3308477401733398; train loss is : 1.7421373128890991\n",
            "### EPOCH 2 val loss is: 1.0917099714279175; train loss is : 1.2195860147476196\n"
          ]
        },
        {
          "output_type": "stream",
          "name": "stderr",
          "text": [
            "\u001b[32m[I 2022-02-05 02:12:21,762]\u001b[0m Trial 88 pruned. \u001b[0m\n"
          ]
        },
        {
          "output_type": "stream",
          "name": "stdout",
          "text": [
            "\n",
            "********************************\n",
            "\n",
            "Suggested hyperparameters: \n",
            "{'dropout1': 0.3,\n",
            " 'dropout2': 0.25,\n",
            " 'lr': 0.0038463458611621795,\n",
            " 'n_feat': 11,\n",
            " 'n_nodes': 500,\n",
            " 'optimizer_name': 'sgd',\n",
            " 'regularizer': 0.05}\n",
            "### EPOCH 0 val loss is: 2.002903938293457; train loss is : 2.2199392318725586\n",
            "### EPOCH 1 val loss is: 0.924736499786377; train loss is : 1.4205057621002197\n",
            "### EPOCH 2 val loss is: 0.7568402886390686; train loss is : 0.9013621807098389\n"
          ]
        },
        {
          "output_type": "stream",
          "name": "stderr",
          "text": [
            "\u001b[32m[I 2022-02-05 02:13:24,960]\u001b[0m Trial 89 pruned. \u001b[0m\n"
          ]
        },
        {
          "output_type": "stream",
          "name": "stdout",
          "text": [
            "\n",
            "********************************\n",
            "\n",
            "Suggested hyperparameters: \n",
            "{'dropout1': 0.2,\n",
            " 'dropout2': 0.15000000000000002,\n",
            " 'lr': 0.00047452996737896373,\n",
            " 'n_feat': 8,\n",
            " 'n_nodes': 500,\n",
            " 'optimizer_name': 'Adam',\n",
            " 'regularizer': 0.05}\n",
            "### EPOCH 0 val loss is: 0.8232553601264954; train loss is : 1.5632915496826172\n",
            "### EPOCH 1 val loss is: 0.6962941288948059; train loss is : 0.7819127440452576\n",
            "### EPOCH 2 val loss is: 0.6579926609992981; train loss is : 0.7046923041343689\n"
          ]
        },
        {
          "output_type": "stream",
          "name": "stderr",
          "text": [
            "\u001b[32m[I 2022-02-05 02:14:26,496]\u001b[0m Trial 90 pruned. \u001b[0m\n"
          ]
        },
        {
          "output_type": "stream",
          "name": "stdout",
          "text": [
            "\n",
            "********************************\n",
            "\n",
            "Suggested hyperparameters: \n",
            "{'dropout1': 0.25,\n",
            " 'dropout2': 0.0,\n",
            " 'lr': 0.0001526708651287517,\n",
            " 'n_feat': 6,\n",
            " 'n_nodes': 350,\n",
            " 'optimizer_name': 'Adam',\n",
            " 'regularizer': 0.2}\n",
            "### EPOCH 0 val loss is: 2.2585549354553223; train loss is : 2.280543565750122\n",
            "### EPOCH 1 val loss is: 2.143672227859497; train loss is : 2.2165558338165283\n",
            "### EPOCH 2 val loss is: 1.6619619131088257; train loss is : 1.9461170434951782\n"
          ]
        },
        {
          "output_type": "stream",
          "name": "stderr",
          "text": [
            "\u001b[32m[I 2022-02-05 02:15:26,228]\u001b[0m Trial 91 pruned. \u001b[0m\n"
          ]
        },
        {
          "output_type": "stream",
          "name": "stdout",
          "text": [
            "\n",
            "********************************\n",
            "\n",
            "Suggested hyperparameters: \n",
            "{'dropout1': 0.0,\n",
            " 'dropout2': 0.05,\n",
            " 'lr': 0.002848634785409013,\n",
            " 'n_feat': 10,\n",
            " 'n_nodes': 500,\n",
            " 'optimizer_name': 'Adam',\n",
            " 'regularizer': 0.0}\n",
            "### EPOCH 0 val loss is: 0.44986048340797424; train loss is : 0.7398179769515991\n",
            "### EPOCH 1 val loss is: 0.330018013715744; train loss is : 0.40043342113494873\n",
            "### EPOCH 2 val loss is: 0.2945866882801056; train loss is : 0.33075734972953796\n",
            "### EPOCH 3 val loss is: 0.26340851187705994; train loss is : 0.29864180088043213\n",
            "### EPOCH 4 val loss is: 0.23922066390514374; train loss is : 0.2722882330417633\n",
            "### EPOCH 5 val loss is: 0.2281053066253662; train loss is : 0.2508486211299896\n",
            "### EPOCH 6 val loss is: 0.20478619635105133; train loss is : 0.23540741205215454\n",
            "### EPOCH 7 val loss is: 0.1905384510755539; train loss is : 0.2222849279642105\n",
            "### EPOCH 8 val loss is: 0.18845631182193756; train loss is : 0.2162206768989563\n"
          ]
        },
        {
          "output_type": "stream",
          "name": "stderr",
          "text": [
            "\u001b[32m[I 2022-02-05 02:18:01,757]\u001b[0m Trial 92 finished with value: 0.173006072640419 and parameters: {'lr': 0.002848634785409013, 'dropout1': 0.0, 'dropout2': 0.05, 'optimizer_name': 'Adam', 'n_feat': 10, 'regularizer': 0.0, 'n_nodes': 500}. Best is trial 92 with value: 0.173006072640419.\u001b[0m\n"
          ]
        },
        {
          "output_type": "stream",
          "name": "stdout",
          "text": [
            "### EPOCH 9 val loss is: 0.173006072640419; train loss is : 0.20300036668777466\n",
            "\n",
            "********************************\n",
            "\n",
            "Suggested hyperparameters: \n",
            "{'dropout1': 0.1,\n",
            " 'dropout2': 0.2,\n",
            " 'lr': 0.001771946246333725,\n",
            " 'n_feat': 5,\n",
            " 'n_nodes': 350,\n",
            " 'optimizer_name': 'Adam',\n",
            " 'regularizer': 0.05}\n",
            "### EPOCH 0 val loss is: 0.7177485823631287; train loss is : 1.276923656463623\n",
            "### EPOCH 1 val loss is: 0.6565179824829102; train loss is : 0.7027875781059265\n",
            "### EPOCH 2 val loss is: 0.5985652804374695; train loss is : 0.6612558364868164\n"
          ]
        },
        {
          "output_type": "stream",
          "name": "stderr",
          "text": [
            "\u001b[32m[I 2022-02-05 02:19:01,123]\u001b[0m Trial 93 pruned. \u001b[0m\n"
          ]
        },
        {
          "output_type": "stream",
          "name": "stdout",
          "text": [
            "\n",
            "********************************\n",
            "\n",
            "Suggested hyperparameters: \n",
            "{'dropout1': 0.0,\n",
            " 'dropout2': 0.0,\n",
            " 'lr': 0.00018365587895051148,\n",
            " 'n_feat': 3,\n",
            " 'n_nodes': 400,\n",
            " 'optimizer_name': 'sgd',\n",
            " 'regularizer': 0.2}\n",
            "### EPOCH 0 val loss is: 2.2996394634246826; train loss is : 2.3048853874206543\n",
            "### EPOCH 1 val loss is: 2.290494918823242; train loss is : 2.294572353363037\n",
            "### EPOCH 2 val loss is: 2.2829434871673584; train loss is : 2.2863574028015137\n"
          ]
        },
        {
          "output_type": "stream",
          "name": "stderr",
          "text": [
            "\u001b[32m[I 2022-02-05 02:19:59,918]\u001b[0m Trial 94 pruned. \u001b[0m\n"
          ]
        },
        {
          "output_type": "stream",
          "name": "stdout",
          "text": [
            "\n",
            "********************************\n",
            "\n",
            "Suggested hyperparameters: \n",
            "{'dropout1': 0.3,\n",
            " 'dropout2': 0.25,\n",
            " 'lr': 0.00017908090390342436,\n",
            " 'n_feat': 3,\n",
            " 'n_nodes': 450,\n",
            " 'optimizer_name': 'Adam',\n",
            " 'regularizer': 0.0}\n",
            "### EPOCH 0 val loss is: 1.5665050745010376; train loss is : 2.024803876876831\n",
            "### EPOCH 1 val loss is: 0.9541430473327637; train loss is : 1.2907840013504028\n",
            "### EPOCH 2 val loss is: 0.8061543107032776; train loss is : 0.9858499765396118\n"
          ]
        },
        {
          "output_type": "stream",
          "name": "stderr",
          "text": [
            "\u001b[32m[I 2022-02-05 02:20:58,723]\u001b[0m Trial 95 pruned. \u001b[0m\n"
          ]
        },
        {
          "output_type": "stream",
          "name": "stdout",
          "text": [
            "\n",
            "********************************\n",
            "\n",
            "Suggested hyperparameters: \n",
            "{'dropout1': 0.1,\n",
            " 'dropout2': 0.05,\n",
            " 'lr': 0.002006695319432994,\n",
            " 'n_feat': 10,\n",
            " 'n_nodes': 250,\n",
            " 'optimizer_name': 'sgd',\n",
            " 'regularizer': 0.25}\n",
            "### EPOCH 0 val loss is: 2.1234474182128906; train loss is : 2.22723650932312\n",
            "### EPOCH 1 val loss is: 1.5184941291809082; train loss is : 1.8867652416229248\n",
            "### EPOCH 2 val loss is: 1.1591309309005737; train loss is : 1.2975361347198486\n"
          ]
        },
        {
          "output_type": "stream",
          "name": "stderr",
          "text": [
            "\u001b[32m[I 2022-02-05 02:22:00,830]\u001b[0m Trial 96 pruned. \u001b[0m\n"
          ]
        },
        {
          "output_type": "stream",
          "name": "stdout",
          "text": [
            "\n",
            "********************************\n",
            "\n",
            "Suggested hyperparameters: \n",
            "{'dropout1': 0.0,\n",
            " 'dropout2': 0.25,\n",
            " 'lr': 0.0013414585683567304,\n",
            " 'n_feat': 6,\n",
            " 'n_nodes': 250,\n",
            " 'optimizer_name': 'Adam',\n",
            " 'regularizer': 0.15000000000000002}\n",
            "### EPOCH 0 val loss is: 2.300219774246216; train loss is : 2.295788049697876\n",
            "### EPOCH 1 val loss is: 2.3025896549224854; train loss is : 2.3023200035095215\n",
            "### EPOCH 2 val loss is: 2.302569627761841; train loss is : 2.3026204109191895\n"
          ]
        },
        {
          "output_type": "stream",
          "name": "stderr",
          "text": [
            "\u001b[32m[I 2022-02-05 02:23:01,131]\u001b[0m Trial 97 pruned. \u001b[0m\n"
          ]
        },
        {
          "output_type": "stream",
          "name": "stdout",
          "text": [
            "\n",
            "********************************\n",
            "\n",
            "Suggested hyperparameters: \n",
            "{'dropout1': 0.0,\n",
            " 'dropout2': 0.1,\n",
            " 'lr': 0.00272348538758517,\n",
            " 'n_feat': 4,\n",
            " 'n_nodes': 450,\n",
            " 'optimizer_name': 'sgd',\n",
            " 'regularizer': 0.2}\n",
            "### EPOCH 0 val loss is: 2.2791900634765625; train loss is : 2.2913193702697754\n",
            "### EPOCH 1 val loss is: 2.260965347290039; train loss is : 2.271965742111206\n",
            "### EPOCH 2 val loss is: 2.2001845836639404; train loss is : 2.240614175796509\n"
          ]
        },
        {
          "output_type": "stream",
          "name": "stderr",
          "text": [
            "\u001b[32m[I 2022-02-05 02:24:00,138]\u001b[0m Trial 98 pruned. \u001b[0m\n"
          ]
        },
        {
          "output_type": "stream",
          "name": "stdout",
          "text": [
            "\n",
            "********************************\n",
            "\n",
            "Suggested hyperparameters: \n",
            "{'dropout1': 0.3,\n",
            " 'dropout2': 0.0,\n",
            " 'lr': 0.002660478253489551,\n",
            " 'n_feat': 8,\n",
            " 'n_nodes': 500,\n",
            " 'optimizer_name': 'sgd',\n",
            " 'regularizer': 0.1}\n",
            "### EPOCH 0 val loss is: 2.1094701290130615; train loss is : 2.2368428707122803\n",
            "### EPOCH 1 val loss is: 1.0898648500442505; train loss is : 1.633607268333435\n",
            "### EPOCH 2 val loss is: 0.9165893197059631; train loss is : 1.0123295783996582\n"
          ]
        },
        {
          "output_type": "stream",
          "name": "stderr",
          "text": [
            "\u001b[32m[I 2022-02-05 02:25:00,742]\u001b[0m Trial 99 pruned. \u001b[0m\n"
          ]
        },
        {
          "output_type": "stream",
          "name": "stdout",
          "text": [
            "\n",
            "++++++++++++++++++++++++++++++++++\n",
            "\n",
            "Study statistics: \n",
            "  Number of finished trials:  100\n",
            "Best trial:\n",
            "  Trial number:  92\n",
            "  Loss (trial value):  0.173006072640419\n",
            "  Params: \n",
            "    lr: 0.002848634785409013\n",
            "    dropout1: 0.0\n",
            "    dropout2: 0.05\n",
            "    optimizer_name: Adam\n",
            "    n_feat: 10\n",
            "    regularizer: 0.0\n",
            "    n_nodes: 500\n"
          ]
        }
      ]
    },
    {
      "cell_type": "code",
      "metadata": {
        "id": "KM71wlH3LBL8",
        "colab": {
          "base_uri": "https://localhost:8080/",
          "height": 542
        },
        "outputId": "f20c62b0-20e8-4775-f57f-0bfa0730d42f"
      },
      "source": [
        "optuna.visualization.plot_optimization_history(study)"
      ],
      "execution_count": 20,
      "outputs": [
        {
          "output_type": "display_data",
          "data": {
            "text/html": [
              "<html>\n",
              "<head><meta charset=\"utf-8\" /></head>\n",
              "<body>\n",
              "    <div>            <script src=\"https://cdnjs.cloudflare.com/ajax/libs/mathjax/2.7.5/MathJax.js?config=TeX-AMS-MML_SVG\"></script><script type=\"text/javascript\">if (window.MathJax) {MathJax.Hub.Config({SVG: {font: \"STIX-Web\"}});}</script>                <script type=\"text/javascript\">window.PlotlyConfig = {MathJaxConfig: 'local'};</script>\n",
              "        <script src=\"https://cdn.plot.ly/plotly-2.8.3.min.js\"></script>                <div id=\"16efa785-7a67-43c8-90da-bb11a174b899\" class=\"plotly-graph-div\" style=\"height:525px; width:100%;\"></div>            <script type=\"text/javascript\">                                    window.PLOTLYENV=window.PLOTLYENV || {};                                    if (document.getElementById(\"16efa785-7a67-43c8-90da-bb11a174b899\")) {                    Plotly.newPlot(                        \"16efa785-7a67-43c8-90da-bb11a174b899\",                        [{\"mode\":\"markers\",\"name\":\"Objective Value\",\"x\":[0,1,2,5,6,9,16,20,32,47,77,80,86,92],\"y\":[0.8272399306297302,0.7711718678474426,1.0457404851913452,0.575335681438446,0.3485323190689087,0.5303265452384949,0.2917865812778473,0.34255480766296387,0.539339542388916,0.37179088592529297,0.23893171548843384,0.3638663589954376,0.18745547533035278,0.173006072640419],\"type\":\"scatter\"},{\"name\":\"Best Value\",\"x\":[0,1,2,5,6,9,16,20,32,47,77,80,86,92],\"y\":[0.8272399306297302,0.7711718678474426,0.7711718678474426,0.575335681438446,0.3485323190689087,0.3485323190689087,0.2917865812778473,0.2917865812778473,0.2917865812778473,0.2917865812778473,0.23893171548843384,0.23893171548843384,0.18745547533035278,0.173006072640419],\"type\":\"scatter\"}],                        {\"title\":{\"text\":\"Optimization History Plot\"},\"xaxis\":{\"title\":{\"text\":\"#Trials\"}},\"yaxis\":{\"title\":{\"text\":\"Objective Value\"}},\"template\":{\"data\":{\"bar\":[{\"error_x\":{\"color\":\"#2a3f5f\"},\"error_y\":{\"color\":\"#2a3f5f\"},\"marker\":{\"line\":{\"color\":\"#E5ECF6\",\"width\":0.5},\"pattern\":{\"fillmode\":\"overlay\",\"size\":10,\"solidity\":0.2}},\"type\":\"bar\"}],\"barpolar\":[{\"marker\":{\"line\":{\"color\":\"#E5ECF6\",\"width\":0.5},\"pattern\":{\"fillmode\":\"overlay\",\"size\":10,\"solidity\":0.2}},\"type\":\"barpolar\"}],\"carpet\":[{\"aaxis\":{\"endlinecolor\":\"#2a3f5f\",\"gridcolor\":\"white\",\"linecolor\":\"white\",\"minorgridcolor\":\"white\",\"startlinecolor\":\"#2a3f5f\"},\"baxis\":{\"endlinecolor\":\"#2a3f5f\",\"gridcolor\":\"white\",\"linecolor\":\"white\",\"minorgridcolor\":\"white\",\"startlinecolor\":\"#2a3f5f\"},\"type\":\"carpet\"}],\"choropleth\":[{\"colorbar\":{\"outlinewidth\":0,\"ticks\":\"\"},\"type\":\"choropleth\"}],\"contour\":[{\"colorbar\":{\"outlinewidth\":0,\"ticks\":\"\"},\"colorscale\":[[0.0,\"#0d0887\"],[0.1111111111111111,\"#46039f\"],[0.2222222222222222,\"#7201a8\"],[0.3333333333333333,\"#9c179e\"],[0.4444444444444444,\"#bd3786\"],[0.5555555555555556,\"#d8576b\"],[0.6666666666666666,\"#ed7953\"],[0.7777777777777778,\"#fb9f3a\"],[0.8888888888888888,\"#fdca26\"],[1.0,\"#f0f921\"]],\"type\":\"contour\"}],\"contourcarpet\":[{\"colorbar\":{\"outlinewidth\":0,\"ticks\":\"\"},\"type\":\"contourcarpet\"}],\"heatmap\":[{\"colorbar\":{\"outlinewidth\":0,\"ticks\":\"\"},\"colorscale\":[[0.0,\"#0d0887\"],[0.1111111111111111,\"#46039f\"],[0.2222222222222222,\"#7201a8\"],[0.3333333333333333,\"#9c179e\"],[0.4444444444444444,\"#bd3786\"],[0.5555555555555556,\"#d8576b\"],[0.6666666666666666,\"#ed7953\"],[0.7777777777777778,\"#fb9f3a\"],[0.8888888888888888,\"#fdca26\"],[1.0,\"#f0f921\"]],\"type\":\"heatmap\"}],\"heatmapgl\":[{\"colorbar\":{\"outlinewidth\":0,\"ticks\":\"\"},\"colorscale\":[[0.0,\"#0d0887\"],[0.1111111111111111,\"#46039f\"],[0.2222222222222222,\"#7201a8\"],[0.3333333333333333,\"#9c179e\"],[0.4444444444444444,\"#bd3786\"],[0.5555555555555556,\"#d8576b\"],[0.6666666666666666,\"#ed7953\"],[0.7777777777777778,\"#fb9f3a\"],[0.8888888888888888,\"#fdca26\"],[1.0,\"#f0f921\"]],\"type\":\"heatmapgl\"}],\"histogram\":[{\"marker\":{\"pattern\":{\"fillmode\":\"overlay\",\"size\":10,\"solidity\":0.2}},\"type\":\"histogram\"}],\"histogram2d\":[{\"colorbar\":{\"outlinewidth\":0,\"ticks\":\"\"},\"colorscale\":[[0.0,\"#0d0887\"],[0.1111111111111111,\"#46039f\"],[0.2222222222222222,\"#7201a8\"],[0.3333333333333333,\"#9c179e\"],[0.4444444444444444,\"#bd3786\"],[0.5555555555555556,\"#d8576b\"],[0.6666666666666666,\"#ed7953\"],[0.7777777777777778,\"#fb9f3a\"],[0.8888888888888888,\"#fdca26\"],[1.0,\"#f0f921\"]],\"type\":\"histogram2d\"}],\"histogram2dcontour\":[{\"colorbar\":{\"outlinewidth\":0,\"ticks\":\"\"},\"colorscale\":[[0.0,\"#0d0887\"],[0.1111111111111111,\"#46039f\"],[0.2222222222222222,\"#7201a8\"],[0.3333333333333333,\"#9c179e\"],[0.4444444444444444,\"#bd3786\"],[0.5555555555555556,\"#d8576b\"],[0.6666666666666666,\"#ed7953\"],[0.7777777777777778,\"#fb9f3a\"],[0.8888888888888888,\"#fdca26\"],[1.0,\"#f0f921\"]],\"type\":\"histogram2dcontour\"}],\"mesh3d\":[{\"colorbar\":{\"outlinewidth\":0,\"ticks\":\"\"},\"type\":\"mesh3d\"}],\"parcoords\":[{\"line\":{\"colorbar\":{\"outlinewidth\":0,\"ticks\":\"\"}},\"type\":\"parcoords\"}],\"pie\":[{\"automargin\":true,\"type\":\"pie\"}],\"scatter\":[{\"marker\":{\"colorbar\":{\"outlinewidth\":0,\"ticks\":\"\"}},\"type\":\"scatter\"}],\"scatter3d\":[{\"line\":{\"colorbar\":{\"outlinewidth\":0,\"ticks\":\"\"}},\"marker\":{\"colorbar\":{\"outlinewidth\":0,\"ticks\":\"\"}},\"type\":\"scatter3d\"}],\"scattercarpet\":[{\"marker\":{\"colorbar\":{\"outlinewidth\":0,\"ticks\":\"\"}},\"type\":\"scattercarpet\"}],\"scattergeo\":[{\"marker\":{\"colorbar\":{\"outlinewidth\":0,\"ticks\":\"\"}},\"type\":\"scattergeo\"}],\"scattergl\":[{\"marker\":{\"colorbar\":{\"outlinewidth\":0,\"ticks\":\"\"}},\"type\":\"scattergl\"}],\"scattermapbox\":[{\"marker\":{\"colorbar\":{\"outlinewidth\":0,\"ticks\":\"\"}},\"type\":\"scattermapbox\"}],\"scatterpolar\":[{\"marker\":{\"colorbar\":{\"outlinewidth\":0,\"ticks\":\"\"}},\"type\":\"scatterpolar\"}],\"scatterpolargl\":[{\"marker\":{\"colorbar\":{\"outlinewidth\":0,\"ticks\":\"\"}},\"type\":\"scatterpolargl\"}],\"scatterternary\":[{\"marker\":{\"colorbar\":{\"outlinewidth\":0,\"ticks\":\"\"}},\"type\":\"scatterternary\"}],\"surface\":[{\"colorbar\":{\"outlinewidth\":0,\"ticks\":\"\"},\"colorscale\":[[0.0,\"#0d0887\"],[0.1111111111111111,\"#46039f\"],[0.2222222222222222,\"#7201a8\"],[0.3333333333333333,\"#9c179e\"],[0.4444444444444444,\"#bd3786\"],[0.5555555555555556,\"#d8576b\"],[0.6666666666666666,\"#ed7953\"],[0.7777777777777778,\"#fb9f3a\"],[0.8888888888888888,\"#fdca26\"],[1.0,\"#f0f921\"]],\"type\":\"surface\"}],\"table\":[{\"cells\":{\"fill\":{\"color\":\"#EBF0F8\"},\"line\":{\"color\":\"white\"}},\"header\":{\"fill\":{\"color\":\"#C8D4E3\"},\"line\":{\"color\":\"white\"}},\"type\":\"table\"}]},\"layout\":{\"annotationdefaults\":{\"arrowcolor\":\"#2a3f5f\",\"arrowhead\":0,\"arrowwidth\":1},\"autotypenumbers\":\"strict\",\"coloraxis\":{\"colorbar\":{\"outlinewidth\":0,\"ticks\":\"\"}},\"colorscale\":{\"diverging\":[[0,\"#8e0152\"],[0.1,\"#c51b7d\"],[0.2,\"#de77ae\"],[0.3,\"#f1b6da\"],[0.4,\"#fde0ef\"],[0.5,\"#f7f7f7\"],[0.6,\"#e6f5d0\"],[0.7,\"#b8e186\"],[0.8,\"#7fbc41\"],[0.9,\"#4d9221\"],[1,\"#276419\"]],\"sequential\":[[0.0,\"#0d0887\"],[0.1111111111111111,\"#46039f\"],[0.2222222222222222,\"#7201a8\"],[0.3333333333333333,\"#9c179e\"],[0.4444444444444444,\"#bd3786\"],[0.5555555555555556,\"#d8576b\"],[0.6666666666666666,\"#ed7953\"],[0.7777777777777778,\"#fb9f3a\"],[0.8888888888888888,\"#fdca26\"],[1.0,\"#f0f921\"]],\"sequentialminus\":[[0.0,\"#0d0887\"],[0.1111111111111111,\"#46039f\"],[0.2222222222222222,\"#7201a8\"],[0.3333333333333333,\"#9c179e\"],[0.4444444444444444,\"#bd3786\"],[0.5555555555555556,\"#d8576b\"],[0.6666666666666666,\"#ed7953\"],[0.7777777777777778,\"#fb9f3a\"],[0.8888888888888888,\"#fdca26\"],[1.0,\"#f0f921\"]]},\"colorway\":[\"#636efa\",\"#EF553B\",\"#00cc96\",\"#ab63fa\",\"#FFA15A\",\"#19d3f3\",\"#FF6692\",\"#B6E880\",\"#FF97FF\",\"#FECB52\"],\"font\":{\"color\":\"#2a3f5f\"},\"geo\":{\"bgcolor\":\"white\",\"lakecolor\":\"white\",\"landcolor\":\"#E5ECF6\",\"showlakes\":true,\"showland\":true,\"subunitcolor\":\"white\"},\"hoverlabel\":{\"align\":\"left\"},\"hovermode\":\"closest\",\"mapbox\":{\"style\":\"light\"},\"paper_bgcolor\":\"white\",\"plot_bgcolor\":\"#E5ECF6\",\"polar\":{\"angularaxis\":{\"gridcolor\":\"white\",\"linecolor\":\"white\",\"ticks\":\"\"},\"bgcolor\":\"#E5ECF6\",\"radialaxis\":{\"gridcolor\":\"white\",\"linecolor\":\"white\",\"ticks\":\"\"}},\"scene\":{\"xaxis\":{\"backgroundcolor\":\"#E5ECF6\",\"gridcolor\":\"white\",\"gridwidth\":2,\"linecolor\":\"white\",\"showbackground\":true,\"ticks\":\"\",\"zerolinecolor\":\"white\"},\"yaxis\":{\"backgroundcolor\":\"#E5ECF6\",\"gridcolor\":\"white\",\"gridwidth\":2,\"linecolor\":\"white\",\"showbackground\":true,\"ticks\":\"\",\"zerolinecolor\":\"white\"},\"zaxis\":{\"backgroundcolor\":\"#E5ECF6\",\"gridcolor\":\"white\",\"gridwidth\":2,\"linecolor\":\"white\",\"showbackground\":true,\"ticks\":\"\",\"zerolinecolor\":\"white\"}},\"shapedefaults\":{\"line\":{\"color\":\"#2a3f5f\"}},\"ternary\":{\"aaxis\":{\"gridcolor\":\"white\",\"linecolor\":\"white\",\"ticks\":\"\"},\"baxis\":{\"gridcolor\":\"white\",\"linecolor\":\"white\",\"ticks\":\"\"},\"bgcolor\":\"#E5ECF6\",\"caxis\":{\"gridcolor\":\"white\",\"linecolor\":\"white\",\"ticks\":\"\"}},\"title\":{\"x\":0.05},\"xaxis\":{\"automargin\":true,\"gridcolor\":\"white\",\"linecolor\":\"white\",\"ticks\":\"\",\"title\":{\"standoff\":15},\"zerolinecolor\":\"white\",\"zerolinewidth\":2},\"yaxis\":{\"automargin\":true,\"gridcolor\":\"white\",\"linecolor\":\"white\",\"ticks\":\"\",\"title\":{\"standoff\":15},\"zerolinecolor\":\"white\",\"zerolinewidth\":2}}}},                        {\"responsive\": true}                    ).then(function(){\n",
              "                            \n",
              "var gd = document.getElementById('16efa785-7a67-43c8-90da-bb11a174b899');\n",
              "var x = new MutationObserver(function (mutations, observer) {{\n",
              "        var display = window.getComputedStyle(gd).display;\n",
              "        if (!display || display === 'none') {{\n",
              "            console.log([gd, 'removed!']);\n",
              "            Plotly.purge(gd);\n",
              "            observer.disconnect();\n",
              "        }}\n",
              "}});\n",
              "\n",
              "// Listen for the removal of the full notebook cells\n",
              "var notebookContainer = gd.closest('#notebook-container');\n",
              "if (notebookContainer) {{\n",
              "    x.observe(notebookContainer, {childList: true});\n",
              "}}\n",
              "\n",
              "// Listen for the clearing of the current output cell\n",
              "var outputEl = gd.closest('.output');\n",
              "if (outputEl) {{\n",
              "    x.observe(outputEl, {childList: true});\n",
              "}}\n",
              "\n",
              "                        })                };                            </script>        </div>\n",
              "</body>\n",
              "</html>"
            ]
          },
          "metadata": {}
        }
      ]
    },
    {
      "cell_type": "code",
      "metadata": {
        "id": "m3ffhMGcLE28",
        "colab": {
          "base_uri": "https://localhost:8080/",
          "height": 542
        },
        "outputId": "7eeaddad-986f-426b-e9e3-455c9593f9d6"
      },
      "source": [
        "optuna.visualization.plot_parallel_coordinate(study)"
      ],
      "execution_count": 21,
      "outputs": [
        {
          "output_type": "display_data",
          "data": {
            "text/html": [
              "<html>\n",
              "<head><meta charset=\"utf-8\" /></head>\n",
              "<body>\n",
              "    <div>            <script src=\"https://cdnjs.cloudflare.com/ajax/libs/mathjax/2.7.5/MathJax.js?config=TeX-AMS-MML_SVG\"></script><script type=\"text/javascript\">if (window.MathJax) {MathJax.Hub.Config({SVG: {font: \"STIX-Web\"}});}</script>                <script type=\"text/javascript\">window.PlotlyConfig = {MathJaxConfig: 'local'};</script>\n",
              "        <script src=\"https://cdn.plot.ly/plotly-2.8.3.min.js\"></script>                <div id=\"7af922aa-3363-4209-a302-2168ed89e5e4\" class=\"plotly-graph-div\" style=\"height:525px; width:100%;\"></div>            <script type=\"text/javascript\">                                    window.PLOTLYENV=window.PLOTLYENV || {};                                    if (document.getElementById(\"7af922aa-3363-4209-a302-2168ed89e5e4\")) {                    Plotly.newPlot(                        \"7af922aa-3363-4209-a302-2168ed89e5e4\",                        [{\"dimensions\":[{\"label\":\"Objective Value\",\"range\":[0.173006072640419,1.0457404851913452],\"values\":[0.8272399306297302,0.7711718678474426,1.0457404851913452,0.575335681438446,0.3485323190689087,0.5303265452384949,0.2917865812778473,0.34255480766296387,0.539339542388916,0.37179088592529297,0.23893171548843384,0.3638663589954376,0.18745547533035278,0.173006072640419]},{\"label\":\"dropout1\",\"range\":[0.0,0.3],\"values\":[0.25,0.0,0.2,0.15000000000000002,0.1,0.3,0.25,0.25,0.2,0.0,0.3,0.3,0.05,0.0]},{\"label\":\"dropout2\",\"range\":[0.0,0.3],\"values\":[0.2,0.3,0.25,0.0,0.1,0.15000000000000002,0.25,0.05,0.15000000000000002,0.25,0.1,0.15000000000000002,0.1,0.05]},{\"label\":\"lr\",\"range\":[-3.5887030426340782,-2.3953460713415504],\"ticktext\":[\"0.000258\",\"0.001\",\"0.00402\"],\"tickvals\":[-3.5887030426340782,-3,-2.3953460713415504],\"values\":[-2.564900448296274,-3.0176907952224177,-2.458572866405877,-2.6483365357457793,-3.5887030426340782,-2.777023320269449,-2.87805915813612,-3.2402355178637885,-2.5278470297544735,-3.4261430526607852,-2.7981624258480147,-3.565764212317693,-2.3953460713415504,-2.545363226734069]},{\"label\":\"n_feat\",\"range\":[4,11],\"values\":[11,5,8,4,11,6,5,5,7,7,7,10,9,10]},{\"label\":\"n_nodes\",\"range\":[200,500],\"values\":[300,400,450,350,400,300,450,500,250,450,350,200,450,500]},{\"label\":\"optimizer_name\",\"range\":[0,1],\"ticktext\":[\"Adam\",\"sgd\"],\"tickvals\":[0,1],\"values\":[0,1,1,1,0,0,0,0,0,0,0,0,0,0]},{\"label\":\"regularizer\",\"range\":[0.0,0.25],\"values\":[0.15000000000000002,0.05,0.25,0.0,0.0,0.05,0.0,0.0,0.05,0.0,0.0,0.0,0.0,0.0]}],\"labelangle\":30,\"labelside\":\"bottom\",\"line\":{\"color\":[0.8272399306297302,0.7711718678474426,1.0457404851913452,0.575335681438446,0.3485323190689087,0.5303265452384949,0.2917865812778473,0.34255480766296387,0.539339542388916,0.37179088592529297,0.23893171548843384,0.3638663589954376,0.18745547533035278,0.173006072640419],\"colorbar\":{\"title\":{\"text\":\"Objective Value\"}},\"colorscale\":[[0.0,\"rgb(247,251,255)\"],[0.125,\"rgb(222,235,247)\"],[0.25,\"rgb(198,219,239)\"],[0.375,\"rgb(158,202,225)\"],[0.5,\"rgb(107,174,214)\"],[0.625,\"rgb(66,146,198)\"],[0.75,\"rgb(33,113,181)\"],[0.875,\"rgb(8,81,156)\"],[1.0,\"rgb(8,48,107)\"]],\"reversescale\":true,\"showscale\":true},\"type\":\"parcoords\"}],                        {\"title\":{\"text\":\"Parallel Coordinate Plot\"},\"template\":{\"data\":{\"bar\":[{\"error_x\":{\"color\":\"#2a3f5f\"},\"error_y\":{\"color\":\"#2a3f5f\"},\"marker\":{\"line\":{\"color\":\"#E5ECF6\",\"width\":0.5},\"pattern\":{\"fillmode\":\"overlay\",\"size\":10,\"solidity\":0.2}},\"type\":\"bar\"}],\"barpolar\":[{\"marker\":{\"line\":{\"color\":\"#E5ECF6\",\"width\":0.5},\"pattern\":{\"fillmode\":\"overlay\",\"size\":10,\"solidity\":0.2}},\"type\":\"barpolar\"}],\"carpet\":[{\"aaxis\":{\"endlinecolor\":\"#2a3f5f\",\"gridcolor\":\"white\",\"linecolor\":\"white\",\"minorgridcolor\":\"white\",\"startlinecolor\":\"#2a3f5f\"},\"baxis\":{\"endlinecolor\":\"#2a3f5f\",\"gridcolor\":\"white\",\"linecolor\":\"white\",\"minorgridcolor\":\"white\",\"startlinecolor\":\"#2a3f5f\"},\"type\":\"carpet\"}],\"choropleth\":[{\"colorbar\":{\"outlinewidth\":0,\"ticks\":\"\"},\"type\":\"choropleth\"}],\"contour\":[{\"colorbar\":{\"outlinewidth\":0,\"ticks\":\"\"},\"colorscale\":[[0.0,\"#0d0887\"],[0.1111111111111111,\"#46039f\"],[0.2222222222222222,\"#7201a8\"],[0.3333333333333333,\"#9c179e\"],[0.4444444444444444,\"#bd3786\"],[0.5555555555555556,\"#d8576b\"],[0.6666666666666666,\"#ed7953\"],[0.7777777777777778,\"#fb9f3a\"],[0.8888888888888888,\"#fdca26\"],[1.0,\"#f0f921\"]],\"type\":\"contour\"}],\"contourcarpet\":[{\"colorbar\":{\"outlinewidth\":0,\"ticks\":\"\"},\"type\":\"contourcarpet\"}],\"heatmap\":[{\"colorbar\":{\"outlinewidth\":0,\"ticks\":\"\"},\"colorscale\":[[0.0,\"#0d0887\"],[0.1111111111111111,\"#46039f\"],[0.2222222222222222,\"#7201a8\"],[0.3333333333333333,\"#9c179e\"],[0.4444444444444444,\"#bd3786\"],[0.5555555555555556,\"#d8576b\"],[0.6666666666666666,\"#ed7953\"],[0.7777777777777778,\"#fb9f3a\"],[0.8888888888888888,\"#fdca26\"],[1.0,\"#f0f921\"]],\"type\":\"heatmap\"}],\"heatmapgl\":[{\"colorbar\":{\"outlinewidth\":0,\"ticks\":\"\"},\"colorscale\":[[0.0,\"#0d0887\"],[0.1111111111111111,\"#46039f\"],[0.2222222222222222,\"#7201a8\"],[0.3333333333333333,\"#9c179e\"],[0.4444444444444444,\"#bd3786\"],[0.5555555555555556,\"#d8576b\"],[0.6666666666666666,\"#ed7953\"],[0.7777777777777778,\"#fb9f3a\"],[0.8888888888888888,\"#fdca26\"],[1.0,\"#f0f921\"]],\"type\":\"heatmapgl\"}],\"histogram\":[{\"marker\":{\"pattern\":{\"fillmode\":\"overlay\",\"size\":10,\"solidity\":0.2}},\"type\":\"histogram\"}],\"histogram2d\":[{\"colorbar\":{\"outlinewidth\":0,\"ticks\":\"\"},\"colorscale\":[[0.0,\"#0d0887\"],[0.1111111111111111,\"#46039f\"],[0.2222222222222222,\"#7201a8\"],[0.3333333333333333,\"#9c179e\"],[0.4444444444444444,\"#bd3786\"],[0.5555555555555556,\"#d8576b\"],[0.6666666666666666,\"#ed7953\"],[0.7777777777777778,\"#fb9f3a\"],[0.8888888888888888,\"#fdca26\"],[1.0,\"#f0f921\"]],\"type\":\"histogram2d\"}],\"histogram2dcontour\":[{\"colorbar\":{\"outlinewidth\":0,\"ticks\":\"\"},\"colorscale\":[[0.0,\"#0d0887\"],[0.1111111111111111,\"#46039f\"],[0.2222222222222222,\"#7201a8\"],[0.3333333333333333,\"#9c179e\"],[0.4444444444444444,\"#bd3786\"],[0.5555555555555556,\"#d8576b\"],[0.6666666666666666,\"#ed7953\"],[0.7777777777777778,\"#fb9f3a\"],[0.8888888888888888,\"#fdca26\"],[1.0,\"#f0f921\"]],\"type\":\"histogram2dcontour\"}],\"mesh3d\":[{\"colorbar\":{\"outlinewidth\":0,\"ticks\":\"\"},\"type\":\"mesh3d\"}],\"parcoords\":[{\"line\":{\"colorbar\":{\"outlinewidth\":0,\"ticks\":\"\"}},\"type\":\"parcoords\"}],\"pie\":[{\"automargin\":true,\"type\":\"pie\"}],\"scatter\":[{\"marker\":{\"colorbar\":{\"outlinewidth\":0,\"ticks\":\"\"}},\"type\":\"scatter\"}],\"scatter3d\":[{\"line\":{\"colorbar\":{\"outlinewidth\":0,\"ticks\":\"\"}},\"marker\":{\"colorbar\":{\"outlinewidth\":0,\"ticks\":\"\"}},\"type\":\"scatter3d\"}],\"scattercarpet\":[{\"marker\":{\"colorbar\":{\"outlinewidth\":0,\"ticks\":\"\"}},\"type\":\"scattercarpet\"}],\"scattergeo\":[{\"marker\":{\"colorbar\":{\"outlinewidth\":0,\"ticks\":\"\"}},\"type\":\"scattergeo\"}],\"scattergl\":[{\"marker\":{\"colorbar\":{\"outlinewidth\":0,\"ticks\":\"\"}},\"type\":\"scattergl\"}],\"scattermapbox\":[{\"marker\":{\"colorbar\":{\"outlinewidth\":0,\"ticks\":\"\"}},\"type\":\"scattermapbox\"}],\"scatterpolar\":[{\"marker\":{\"colorbar\":{\"outlinewidth\":0,\"ticks\":\"\"}},\"type\":\"scatterpolar\"}],\"scatterpolargl\":[{\"marker\":{\"colorbar\":{\"outlinewidth\":0,\"ticks\":\"\"}},\"type\":\"scatterpolargl\"}],\"scatterternary\":[{\"marker\":{\"colorbar\":{\"outlinewidth\":0,\"ticks\":\"\"}},\"type\":\"scatterternary\"}],\"surface\":[{\"colorbar\":{\"outlinewidth\":0,\"ticks\":\"\"},\"colorscale\":[[0.0,\"#0d0887\"],[0.1111111111111111,\"#46039f\"],[0.2222222222222222,\"#7201a8\"],[0.3333333333333333,\"#9c179e\"],[0.4444444444444444,\"#bd3786\"],[0.5555555555555556,\"#d8576b\"],[0.6666666666666666,\"#ed7953\"],[0.7777777777777778,\"#fb9f3a\"],[0.8888888888888888,\"#fdca26\"],[1.0,\"#f0f921\"]],\"type\":\"surface\"}],\"table\":[{\"cells\":{\"fill\":{\"color\":\"#EBF0F8\"},\"line\":{\"color\":\"white\"}},\"header\":{\"fill\":{\"color\":\"#C8D4E3\"},\"line\":{\"color\":\"white\"}},\"type\":\"table\"}]},\"layout\":{\"annotationdefaults\":{\"arrowcolor\":\"#2a3f5f\",\"arrowhead\":0,\"arrowwidth\":1},\"autotypenumbers\":\"strict\",\"coloraxis\":{\"colorbar\":{\"outlinewidth\":0,\"ticks\":\"\"}},\"colorscale\":{\"diverging\":[[0,\"#8e0152\"],[0.1,\"#c51b7d\"],[0.2,\"#de77ae\"],[0.3,\"#f1b6da\"],[0.4,\"#fde0ef\"],[0.5,\"#f7f7f7\"],[0.6,\"#e6f5d0\"],[0.7,\"#b8e186\"],[0.8,\"#7fbc41\"],[0.9,\"#4d9221\"],[1,\"#276419\"]],\"sequential\":[[0.0,\"#0d0887\"],[0.1111111111111111,\"#46039f\"],[0.2222222222222222,\"#7201a8\"],[0.3333333333333333,\"#9c179e\"],[0.4444444444444444,\"#bd3786\"],[0.5555555555555556,\"#d8576b\"],[0.6666666666666666,\"#ed7953\"],[0.7777777777777778,\"#fb9f3a\"],[0.8888888888888888,\"#fdca26\"],[1.0,\"#f0f921\"]],\"sequentialminus\":[[0.0,\"#0d0887\"],[0.1111111111111111,\"#46039f\"],[0.2222222222222222,\"#7201a8\"],[0.3333333333333333,\"#9c179e\"],[0.4444444444444444,\"#bd3786\"],[0.5555555555555556,\"#d8576b\"],[0.6666666666666666,\"#ed7953\"],[0.7777777777777778,\"#fb9f3a\"],[0.8888888888888888,\"#fdca26\"],[1.0,\"#f0f921\"]]},\"colorway\":[\"#636efa\",\"#EF553B\",\"#00cc96\",\"#ab63fa\",\"#FFA15A\",\"#19d3f3\",\"#FF6692\",\"#B6E880\",\"#FF97FF\",\"#FECB52\"],\"font\":{\"color\":\"#2a3f5f\"},\"geo\":{\"bgcolor\":\"white\",\"lakecolor\":\"white\",\"landcolor\":\"#E5ECF6\",\"showlakes\":true,\"showland\":true,\"subunitcolor\":\"white\"},\"hoverlabel\":{\"align\":\"left\"},\"hovermode\":\"closest\",\"mapbox\":{\"style\":\"light\"},\"paper_bgcolor\":\"white\",\"plot_bgcolor\":\"#E5ECF6\",\"polar\":{\"angularaxis\":{\"gridcolor\":\"white\",\"linecolor\":\"white\",\"ticks\":\"\"},\"bgcolor\":\"#E5ECF6\",\"radialaxis\":{\"gridcolor\":\"white\",\"linecolor\":\"white\",\"ticks\":\"\"}},\"scene\":{\"xaxis\":{\"backgroundcolor\":\"#E5ECF6\",\"gridcolor\":\"white\",\"gridwidth\":2,\"linecolor\":\"white\",\"showbackground\":true,\"ticks\":\"\",\"zerolinecolor\":\"white\"},\"yaxis\":{\"backgroundcolor\":\"#E5ECF6\",\"gridcolor\":\"white\",\"gridwidth\":2,\"linecolor\":\"white\",\"showbackground\":true,\"ticks\":\"\",\"zerolinecolor\":\"white\"},\"zaxis\":{\"backgroundcolor\":\"#E5ECF6\",\"gridcolor\":\"white\",\"gridwidth\":2,\"linecolor\":\"white\",\"showbackground\":true,\"ticks\":\"\",\"zerolinecolor\":\"white\"}},\"shapedefaults\":{\"line\":{\"color\":\"#2a3f5f\"}},\"ternary\":{\"aaxis\":{\"gridcolor\":\"white\",\"linecolor\":\"white\",\"ticks\":\"\"},\"baxis\":{\"gridcolor\":\"white\",\"linecolor\":\"white\",\"ticks\":\"\"},\"bgcolor\":\"#E5ECF6\",\"caxis\":{\"gridcolor\":\"white\",\"linecolor\":\"white\",\"ticks\":\"\"}},\"title\":{\"x\":0.05},\"xaxis\":{\"automargin\":true,\"gridcolor\":\"white\",\"linecolor\":\"white\",\"ticks\":\"\",\"title\":{\"standoff\":15},\"zerolinecolor\":\"white\",\"zerolinewidth\":2},\"yaxis\":{\"automargin\":true,\"gridcolor\":\"white\",\"linecolor\":\"white\",\"ticks\":\"\",\"title\":{\"standoff\":15},\"zerolinecolor\":\"white\",\"zerolinewidth\":2}}}},                        {\"responsive\": true}                    ).then(function(){\n",
              "                            \n",
              "var gd = document.getElementById('7af922aa-3363-4209-a302-2168ed89e5e4');\n",
              "var x = new MutationObserver(function (mutations, observer) {{\n",
              "        var display = window.getComputedStyle(gd).display;\n",
              "        if (!display || display === 'none') {{\n",
              "            console.log([gd, 'removed!']);\n",
              "            Plotly.purge(gd);\n",
              "            observer.disconnect();\n",
              "        }}\n",
              "}});\n",
              "\n",
              "// Listen for the removal of the full notebook cells\n",
              "var notebookContainer = gd.closest('#notebook-container');\n",
              "if (notebookContainer) {{\n",
              "    x.observe(notebookContainer, {childList: true});\n",
              "}}\n",
              "\n",
              "// Listen for the clearing of the current output cell\n",
              "var outputEl = gd.closest('.output');\n",
              "if (outputEl) {{\n",
              "    x.observe(outputEl, {childList: true});\n",
              "}}\n",
              "\n",
              "                        })                };                            </script>        </div>\n",
              "</body>\n",
              "</html>"
            ]
          },
          "metadata": {}
        }
      ]
    },
    {
      "cell_type": "code",
      "metadata": {
        "id": "fo0C8B2d85Hb",
        "colab": {
          "base_uri": "https://localhost:8080/",
          "height": 266
        },
        "outputId": "4e615bbe-2bb3-4f1d-f899-d18296bd8177"
      },
      "source": [
        "imp_dict=optuna.importance.get_param_importances(study)\n",
        "keys=imp_dict.keys()\n",
        "values=imp_dict.values()\n",
        "plt.bar(keys, values)\n",
        "plt.show()"
      ],
      "execution_count": 22,
      "outputs": [
        {
          "output_type": "display_data",
          "data": {
            "image/png": "[encoded data removed]",
            "text/plain": [
              "<Figure size 432x288 with 1 Axes>"
            ]
          },
          "metadata": {
            "needs_background": "light"
          }
        }
      ]
    },
    {
      "cell_type": "code",
      "source": [
        "print(study.best_trial.params)\n",
        "param = study.best_trial.params"
      ],
      "metadata": {
        "id": "roGCL3s4zyXp",
        "colab": {
          "base_uri": "https://localhost:8080/"
        },
        "outputId": "8b98c032-844d-487c-8738-7a1bb1ad81e9"
      },
      "execution_count": 23,
      "outputs": [
        {
          "output_type": "stream",
          "name": "stdout",
          "text": [
            "{'lr': 0.002848634785409013, 'dropout1': 0.0, 'dropout2': 0.05, 'optimizer_name': 'Adam', 'n_feat': 10, 'regularizer': 0.0, 'n_nodes': 500}\n"
          ]
        }
      ]
    },
    {
      "cell_type": "markdown",
      "source": [
        "### best model from optuna"
      ],
      "metadata": {
        "id": "tcJ5VGqCz4bR"
      }
    },
    {
      "cell_type": "code",
      "source": [
        "best_net_random_search = {'lr': 0.002848634785409013, 'dropout1': 0.0, 'dropout2': 0.05, 'optimizer_name': 'Adam', 'n_feat': 10, 'regularizer': 0.0, 'n_nodes': 500}\n",
        "# from random _ search \n",
        "param=best_net_random_search"
      ],
      "metadata": {
        "id": "8JQsA4c9J01z"
      },
      "execution_count": 10,
      "outputs": []
    },
    {
      "cell_type": "code",
      "metadata": {
        "id": "gjhE_SroW8c6",
        "colab": {
          "base_uri": "https://localhost:8080/",
          "height": 1000
        },
        "outputId": "29c19d24-8fcb-4128-9f46-45041298a10b"
      },
      "source": [
        "# Define the loss function\n",
        "loss_fn = nn.CrossEntropyLoss()\n",
        "\n",
        "device = torch.device(\"cuda\" if torch.cuda.is_available() else \"cpu\")\n",
        "best_model = CNN2d(n_feat=param['n_feat'], dp1D=param['dropout1'],dp2D=param['dropout2'], Nf = param['n_nodes']).to(device)\n",
        "\n",
        "# Initialization of the optimizer\n",
        "if param['optimizer_name']=='Adam':\n",
        "    optimizer = optim.Adam(best_model.parameters(), lr=param['lr'],weight_decay= param['regularizer'])\n",
        "elif param['optimizer_name']=='sgd':\n",
        "    optimizer = optim.SGD(best_model.parameters(), momentum=0.9, lr=param['lr'], weight_decay= param['regularizer'] )\n",
        "\n",
        "pp={'num_epochs' : 100,\n",
        "    'device' : device,\n",
        "    'patience' : 4}\n",
        "\n",
        "train_loader = DataLoader(train_dataset, batch_size=1000, shuffle=True,)             #change train- test dataset\n",
        "val_loader = DataLoader(valid_dataset, batch_size=1000,shuffle=False)\n",
        "\n",
        "train_loss, val_loss = best_model.fit(train_loader, val_loader, optimizer, loss_fn,pp)\n",
        "\n",
        "plt.plot(train_loss, label='train')\n",
        "plt.plot(val_loss, label='val')\n",
        "plt.xlabel('epoch')\n",
        "plt.ylabel('loss')\n",
        "plt.legend()\n",
        "plt.show()"
      ],
      "execution_count": 105,
      "outputs": [
        {
          "output_type": "stream",
          "name": "stdout",
          "text": [
            "End_epoch number : 1, train _loss is : 0.7327559590339661, val_loss is 0.44523510336875916\n",
            "End_epoch number : 2, train _loss is : 0.40191712975502014, val_loss is 0.35545656085014343\n",
            "End_epoch number : 3, train _loss is : 0.3341521620750427, val_loss is 0.29501816630363464\n",
            "End_epoch number : 4, train _loss is : 0.29619961977005005, val_loss is 0.26914963126182556\n",
            "End_epoch number : 5, train _loss is : 0.27309104800224304, val_loss is 0.2526758015155792\n",
            "End_epoch number : 6, train _loss is : 0.2579959034919739, val_loss is 0.23056210577487946\n",
            "End_epoch number : 7, train _loss is : 0.23941849172115326, val_loss is 0.21848084032535553\n",
            "End_epoch number : 8, train _loss is : 0.22107185423374176, val_loss is 0.1937054991722107\n",
            "End_epoch number : 9, train _loss is : 0.21099239587783813, val_loss is 0.18119867146015167\n",
            "INFO: Early stopping counter 1 of 4\n",
            "End_epoch number : 10, train _loss is : 0.196156844496727, val_loss is 0.18702523410320282\n",
            "End_epoch number : 11, train _loss is : 0.19055813550949097, val_loss is 0.16413500905036926\n",
            "End_epoch number : 12, train _loss is : 0.17695429921150208, val_loss is 0.14556916058063507\n",
            "End_epoch number : 13, train _loss is : 0.16961075365543365, val_loss is 0.1451641172170639\n",
            "End_epoch number : 14, train _loss is : 0.15839432179927826, val_loss is 0.1323731392621994\n",
            "End_epoch number : 15, train _loss is : 0.15039069950580597, val_loss is 0.1219261959195137\n",
            "End_epoch number : 16, train _loss is : 0.14268726110458374, val_loss is 0.12165994197130203\n",
            "End_epoch number : 17, train _loss is : 0.1323680281639099, val_loss is 0.10305964201688766\n",
            "End_epoch number : 18, train _loss is : 0.12199527770280838, val_loss is 0.09144703298807144\n",
            "INFO: Early stopping counter 1 of 4\n",
            "End_epoch number : 19, train _loss is : 0.11663340032100677, val_loss is 0.09652344137430191\n",
            "End_epoch number : 20, train _loss is : 0.11393749713897705, val_loss is 0.08734095841646194\n",
            "End_epoch number : 21, train _loss is : 0.10421566665172577, val_loss is 0.08130713552236557\n",
            "End_epoch number : 22, train _loss is : 0.09548141807317734, val_loss is 0.06994713842868805\n",
            "End_epoch number : 23, train _loss is : 0.0885135605931282, val_loss is 0.06311868131160736\n",
            "End_epoch number : 24, train _loss is : 0.08360078185796738, val_loss is 0.057425349950790405\n",
            "End_epoch number : 25, train _loss is : 0.08075078576803207, val_loss is 0.05701145902276039\n",
            "End_epoch number : 26, train _loss is : 0.07413974404335022, val_loss is 0.048236310482025146\n",
            "End_epoch number : 27, train _loss is : 0.07027608901262283, val_loss is 0.04386616870760918\n",
            "INFO: Early stopping counter 1 of 4\n",
            "End_epoch number : 28, train _loss is : 0.07066377997398376, val_loss is 0.04853660240769386\n",
            "INFO: Early stopping counter 2 of 4\n",
            "End_epoch number : 29, train _loss is : 0.06513862311840057, val_loss is 0.049050603061914444\n",
            "End_epoch number : 30, train _loss is : 0.061616770923137665, val_loss is 0.039295222610235214\n",
            "End_epoch number : 31, train _loss is : 0.05467852205038071, val_loss is 0.029992133378982544\n",
            "End_epoch number : 32, train _loss is : 0.04894562065601349, val_loss is 0.027690567076206207\n",
            "INFO: Early stopping counter 1 of 4\n",
            "End_epoch number : 33, train _loss is : 0.04854009300470352, val_loss is 0.03917449712753296\n",
            "INFO: Early stopping counter 2 of 4\n",
            "End_epoch number : 34, train _loss is : 0.048184555023908615, val_loss is 0.039789192378520966\n",
            "End_epoch number : 35, train _loss is : 0.04457002505660057, val_loss is 0.02740313857793808\n",
            "INFO: Early stopping counter 1 of 4\n",
            "End_epoch number : 36, train _loss is : 0.03956127166748047, val_loss is 0.027836566790938377\n",
            "INFO: Early stopping counter 2 of 4\n",
            "End_epoch number : 37, train _loss is : 0.040432266891002655, val_loss is 0.029315749183297157\n",
            "End_epoch number : 38, train _loss is : 0.03946242481470108, val_loss is 0.01918434165418148\n",
            "End_epoch number : 39, train _loss is : 0.03260929137468338, val_loss is 0.01519364770501852\n",
            "INFO: Early stopping counter 1 of 4\n",
            "End_epoch number : 40, train _loss is : 0.03253260254859924, val_loss is 0.028469664976000786\n",
            "INFO: Early stopping counter 2 of 4\n",
            "End_epoch number : 41, train _loss is : 0.03104948252439499, val_loss is 0.02421262301504612\n",
            "INFO: Early stopping counter 3 of 4\n",
            "End_epoch number : 42, train _loss is : 0.036708392202854156, val_loss is 0.02124672196805477\n",
            "INFO: Early stopping counter 4 of 4\n",
            "INFO: Early stopping\n"
          ]
        },
        {
          "output_type": "display_data",
          "data": {
            "image/png": "[encoded data removed]",
            "text/plain": [
              "<Figure size 432x288 with 1 Axes>"
            ]
          },
          "metadata": {
            "needs_background": "light"
          }
        }
      ]
    },
    {
      "cell_type": "code",
      "metadata": {
        "id": "hkNjD-lSZiO_",
        "colab": {
          "base_uri": "https://localhost:8080/"
        },
        "outputId": "e27d45ea-b23d-4676-d718-0ecaad0df671"
      },
      "source": [
        "test_loader = DataLoader(test_dataset, batch_size=1,shuffle=False)\n",
        "test_loss , test_acc = best_model.test(test_loader, device, loss_fn)\n",
        "\n",
        "print(f\"Test loss :{test_loss}, Test Accuracy: {test_acc*100.0}% \")"
      ],
      "execution_count": 107,
      "outputs": [
        {
          "output_type": "stream",
          "name": "stdout",
          "text": [
            "Test loss :0.4852016568183899, Test Accuracy: 91.17999999999999% \n"
          ]
        }
      ]
    },
    {
      "cell_type": "code",
      "source": [
        "def output_label(label):\n",
        "    output_mapping = {\n",
        "                 0: \"T-shirt/Top\",\n",
        "                 1: \"Trouser\",\n",
        "                 2: \"Pullover\",\n",
        "                 3: \"Dress\",\n",
        "                 4: \"Coat\", \n",
        "                 5: \"Sandal\", \n",
        "                 6: \"Shirt\",\n",
        "                 7: \"Sneaker\",\n",
        "                 8: \"Bag\",\n",
        "                 9: \"Ankle Boot\"\n",
        "                 }\n",
        "    input = (label.item() if type(label) == torch.Tensor else label)\n",
        "    return output_mapping[input]\n",
        "\n",
        "test_loader = DataLoader(test_dataset, batch_size=100,shuffle=False)\n",
        "class_correct = [0. for _ in range(10)]\n",
        "total_correct = [0. for _ in range(10)]\n",
        "\n",
        "with torch.no_grad():\n",
        "    for images, labels in test_loader:\n",
        "        images, labels = images.to(device), labels.to(device)\n",
        "        test = torch.autograd.Variable(images)\n",
        "        outputs = best_model(test)\n",
        "        predicted = torch.max(outputs, 1)[1]\n",
        "        c = (predicted == labels).squeeze()\n",
        "        \n",
        "        for i in range(100):\n",
        "            label = labels[i]\n",
        "            class_correct[label] += c[i].item()\n",
        "            total_correct[label] += 1\n",
        "        \n",
        "for i in range(10):\n",
        "    print(\"Accuracy of {}: {:.2f}%\".format(output_label(i), class_correct[i] * 100 / total_correct[i]))"
      ],
      "metadata": {
        "colab": {
          "base_uri": "https://localhost:8080/"
        },
        "id": "vYpwlt4NiLlO",
        "outputId": "70e96f77-1953-4bdd-b992-32c013d73ecc"
      },
      "execution_count": 108,
      "outputs": [
        {
          "output_type": "stream",
          "name": "stdout",
          "text": [
            "Accuracy of T-shirt/Top: 91.50%\n",
            "Accuracy of Trouser: 98.00%\n",
            "Accuracy of Pullover: 89.80%\n",
            "Accuracy of Dress: 87.00%\n",
            "Accuracy of Coat: 89.20%\n",
            "Accuracy of Sandal: 98.50%\n",
            "Accuracy of Shirt: 66.90%\n",
            "Accuracy of Sneaker: 96.30%\n",
            "Accuracy of Bag: 97.70%\n",
            "Accuracy of Ankle Boot: 96.90%\n"
          ]
        }
      ]
    },
    {
      "cell_type": "markdown",
      "metadata": {
        "id": "y41Fx05OJv0L"
      },
      "source": [
        "# See weights, aka kernel filters"
      ]
    },
    {
      "cell_type": "code",
      "metadata": {
        "colab": {
          "base_uri": "https://localhost:8080/"
        },
        "id": "rQTn5v5aJ_om",
        "outputId": "325f2400-b606-4431-af0a-18f22a71f2a1"
      },
      "source": [
        "weights_CV1 = best_model.conv1.weight.data.cpu().numpy()\n",
        "weights_CV2 = best_model.conv2.weight.data.cpu().numpy()\n",
        "\n",
        "print(weights_CV1.shape) # 3x3 kernel , 6 feature map 1 input channel\n",
        "print(weights_CV2.shape) # 5x5 kernel , 12 feature map 6 input channel\n"
      ],
      "execution_count": 26,
      "outputs": [
        {
          "output_type": "stream",
          "name": "stdout",
          "text": [
            "(10, 1, 3, 3)\n",
            "(20, 10, 5, 5)\n"
          ]
        }
      ]
    },
    {
      "cell_type": "code",
      "metadata": {
        "colab": {
          "base_uri": "https://localhost:8080/",
          "height": 175
        },
        "id": "6se0d79HKHAc",
        "outputId": "506829a7-9ea4-4848-a80a-c11c270cd41b"
      },
      "source": [
        "f1=int(param['n_feat'])\n",
        "\n",
        "fig, ax = plt.subplots(1,f1, figsize=(16, 3))\n",
        "\n",
        "for i in range(f1):\n",
        "    ax[i].imshow( weights_CV1[i, 0, :, :], cmap='Greys')\n",
        "    ax[i].set_xticks([])\n",
        "    ax[i].set_yticks([])\n",
        "    \n",
        "fig.suptitle(\"First convolutional layer' s filter\", fontsize=16)\n",
        "\n",
        "plt.show()"
      ],
      "execution_count": 27,
      "outputs": [
        {
          "output_type": "display_data",
          "data": {
            "image/png": "[encoded data removed]",
            "text/plain": [
              "<Figure size 1152x216 with 10 Axes>"
            ]
          },
          "metadata": {}
        }
      ]
    },
    {
      "cell_type": "code",
      "metadata": {
        "colab": {
          "base_uri": "https://localhost:8080/",
          "height": 482
        },
        "id": "7PDbmI9ZLRyg",
        "outputId": "15ccee9f-cfe6-4dbd-c9d3-5dee905fb01e"
      },
      "source": [
        "fig, ax = plt.subplots(f1, 2*f1, figsize=(16, 7) )\n",
        "\n",
        "for i in range(f1):\n",
        "    for j in range(2*f1):\n",
        "        ax[i,j].imshow( weights_CV2[j, i, :,:], cmap='Greys')\n",
        "        ax[i,j].set_xticks([])\n",
        "        ax[i,j].set_yticks([])\n",
        "        \n",
        "fig.suptitle(\"Second convolutional layer's filter\", fontsize=16)"
      ],
      "execution_count": 28,
      "outputs": [
        {
          "output_type": "execute_result",
          "data": {
            "text/plain": [
              "Text(0.5, 0.98, \"Second convolutional layer's filter\")"
            ]
          },
          "metadata": {},
          "execution_count": 28
        },
        {
          "output_type": "display_data",
          "data": {
            "image/png": "[encoded data removed]",
            "text/plain": [
              "<Figure size 1152x504 with 200 Axes>"
            ]
          },
          "metadata": {}
        }
      ]
    },
    {
      "cell_type": "code",
      "metadata": {
        "colab": {
          "base_uri": "https://localhost:8080/",
          "height": 585
        },
        "id": "LZPvrmUoMTvh",
        "outputId": "4ae427e5-ac92-44ec-da46-b7b5dae545da"
      },
      "source": [
        "h1_w = best_model.fc1.weight.detach().cpu().numpy()\n",
        "h2_w = best_model.fc2.weight.detach().cpu().numpy()\n",
        "\n",
        "# Weights histogram\n",
        "fig, axs = plt.subplots(2, 1, figsize=(10,8))\n",
        "\n",
        "axs[0].hist(h1_w, 1000)\n",
        "axs[0].set_title('First hidden layer weights')\n",
        "axs[0].set_ylabel('Frequency')\n",
        "axs[0].set_xlabel('Weights')\n",
        "axs[1].hist(h2_w.flatten(), 50)\n",
        "axs[1].set_title('Second hidden layer weights')\n",
        "axs[1].set_ylabel('Frequency')\n",
        "axs[1].set_xlabel('Weights')\n",
        "\n",
        "[ax.grid() for ax in axs]\n",
        "plt.tight_layout()\n",
        "plt.show()\n"
      ],
      "execution_count": 29,
      "outputs": [
        {
          "output_type": "display_data",
          "data": {
            "image/png": "[encoded data removed]",
            "text/plain": [
              "<Figure size 720x576 with 2 Axes>"
            ]
          },
          "metadata": {
            "needs_background": "light"
          }
        }
      ]
    },
    {
      "cell_type": "markdown",
      "metadata": {
        "id": "2em6Tzh3OFnG"
      },
      "source": [
        "# Activation profiles "
      ]
    },
    {
      "cell_type": "code",
      "metadata": {
        "colab": {
          "base_uri": "https://localhost:8080/"
        },
        "id": "3AcuC7csNMyp",
        "outputId": "296e9fe0-c72c-4f3e-b088-f1a2df4a370e"
      },
      "source": [
        "def get_activation_conv1(layer, input, output):\n",
        "    global activation_c1\n",
        "    activation_c1 = F.relu(output)\n",
        "\n",
        "def get_activation_conv2(layer, input, output):\n",
        "    global activation_c2\n",
        "    activation_c2 = F.relu(output)\n",
        "   \n",
        "\n",
        "\n",
        "image_load = DataLoader(test_dataset, batch_size=1, shuffle=False) \n",
        "\n",
        "### Register hook  \n",
        "hook_handle = best_model.conv1.register_forward_hook(get_activation_conv1)\n",
        "hook_handle2 = best_model.conv2.register_forward_hook(get_activation_conv2)\n",
        "\n",
        "### Analyze activations\n",
        "#net = best_model.to(device)\n",
        "best_model.eval()\n",
        "\n",
        "with torch.no_grad():\n",
        "    for s_batch in image_load:\n",
        "        # Move data to device\n",
        "        x1 = s_batch[0].to(device)\n",
        "        # Forward pass\n",
        "        y1 = best_model(x1)\n",
        "        z1 = activation_c1\n",
        "        z2 = activation_c2\n",
        "\n",
        "\n",
        "### Remove hook\n",
        "hook_handle.remove()\n",
        "hook_handle2.remove()\n",
        "\n",
        "act1 = z1.cpu().numpy()\n",
        "act2 = z2.cpu().numpy()\n",
        "print(act1.shape, act2.shape)\n",
        "\n"
      ],
      "execution_count": 30,
      "outputs": [
        {
          "output_type": "stream",
          "name": "stdout",
          "text": [
            "(1, 10, 28, 28) (1, 20, 10, 10)\n"
          ]
        }
      ]
    },
    {
      "cell_type": "code",
      "metadata": {
        "colab": {
          "base_uri": "https://localhost:8080/",
          "height": 188
        },
        "id": "kmIgsIbGRtoF",
        "outputId": "752b09c8-c268-4b22-9ccb-8e587deab4a7"
      },
      "source": [
        "## Plot activations conv_1\n",
        "fig, ax = plt.subplots(1, f1, figsize=(16,3))\n",
        "for i in range(f1):\n",
        "    ax[i].imshow( act1[0, i, :, :], cmap='Greys')\n",
        "    ax[i].set_xticks([])\n",
        "    ax[i].set_yticks([])\n",
        "\n",
        "fig.suptitle('First convolutional layer (Activation profile)', fontsize=16)    \n",
        "plt.tight_layout()\n",
        "plt.show()   \n"
      ],
      "execution_count": 31,
      "outputs": [
        {
          "output_type": "display_data",
          "data": {
            "image/png": "[encoded data removed]",
            "text/plain": [
              "<Figure size 1152x216 with 10 Axes>"
            ]
          },
          "metadata": {}
        }
      ]
    },
    {
      "cell_type": "code",
      "metadata": {
        "colab": {
          "base_uri": "https://localhost:8080/",
          "height": 380
        },
        "id": "KxBHtkvsSFKy",
        "outputId": "922142c6-d40d-4c43-fcc1-55d656468019"
      },
      "source": [
        "## Plot activations conv_2\n",
        "fig, ax = plt.subplots(2, f1, figsize=(16,6))\n",
        "for i in range(f1):\n",
        "    ax[0,i].imshow( act2[0, i, :, :], cmap='Greys')\n",
        "    ax[0,i].set_xticks([])\n",
        "    ax[0,i].set_yticks([])\n",
        "    ax[1,i].imshow( act2[0, i+f1, :, :], cmap='Greys')\n",
        "    ax[1,i].set_xticks([])\n",
        "    ax[1,i].set_yticks([])\n",
        "\n",
        "\n",
        "fig.suptitle('Second convolutional layer (Activation profile)', fontsize=16)    \n",
        "plt.tight_layout()\n",
        "plt.show() "
      ],
      "execution_count": 32,
      "outputs": [
        {
          "output_type": "display_data",
          "data": {
            "image/png": "[encoded data removed]",
            "text/plain": [
              "<Figure size 1152x432 with 20 Axes>"
            ]
          },
          "metadata": {}
        }
      ]
    }
  ]
}