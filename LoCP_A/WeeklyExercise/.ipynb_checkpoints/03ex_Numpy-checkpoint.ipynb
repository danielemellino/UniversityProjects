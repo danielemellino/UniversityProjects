{
 "cells": [
  {
   "cell_type": "markdown",
   "metadata": {},
   "source": [
    "### Numpy basics"
   ]
  },
  {
   "cell_type": "markdown",
   "metadata": {},
   "source": [
    "1\\. Find the row, column and overall means for the following matrix:\n",
    "\n",
    "```python\n",
    "m = np.arange(12).reshape((3,4))\n",
    "```"
   ]
  },
  {
   "cell_type": "code",
   "execution_count": 18,
   "metadata": {},
   "outputs": [
    {
     "name": "stdout",
     "output_type": "stream",
     "text": [
      "The number of row:  3\n",
      "The number of column: 4\n",
      "The overall mean:  5.5\n"
     ]
    }
   ],
   "source": [
    "import numpy as np\n",
    "m = np.arange(12).reshape((3,4))\n",
    "print(\"The number of row: \",m.shape[0])#row\n",
    "print(\"The number of column:\", m.shape[1])#column\n",
    "print(\"The overall mean: \", m.mean()) #overall mean\n"
   ]
  },
  {
   "cell_type": "markdown",
   "metadata": {},
   "source": [
    "2\\. Find the outer product of the following two vecotrs\n",
    "\n",
    "```python\n",
    "u = np.array([1,3,5,7])\n",
    "v = np.array([2,4,6,8])\n",
    "```\n",
    "\n",
    "Do this in the following ways:\n",
    "\n",
    "   * Using the function outer in numpy\n",
    "   * Using a nested for loop or list comprehension\n",
    "   * Using numpy broadcasting operatoins\n"
   ]
  },
  {
   "cell_type": "code",
   "execution_count": 39,
   "metadata": {},
   "outputs": [
    {
     "name": "stdout",
     "output_type": "stream",
     "text": [
      "way number 1\n",
      "[[ 2  4  6  8]\n",
      " [ 6 12 18 24]\n",
      " [10 20 30 40]\n",
      " [14 28 42 56]]\n",
      "way number 2\n",
      "[[ 2.  4.  6.  8.]\n",
      " [ 6. 12. 18. 24.]\n",
      " [10. 20. 30. 40.]\n",
      " [14. 28. 42. 56.]]\n",
      "way number 3\n",
      "[[ 2  4  6  8]\n",
      " [ 6 12 18 24]\n",
      " [10 20 30 40]\n",
      " [14 28 42 56]]\n"
     ]
    }
   ],
   "source": [
    "u = np.array([1,3,5,7])\n",
    "v = np.array([2,4,6,8])\n",
    "\n",
    "print(\"way number 1\")\n",
    "print(np.outer(u,v))\n",
    "\n",
    "print(\"way number 2\")\n",
    "m=np.zeros((len(u), len(v)))\n",
    "for i in range(len(u)) : \n",
    "    for j in range(len(v)): \n",
    "        m[i,j] = u[i] * v[j] \n",
    "print(m)\n",
    "\n",
    "print(\"way number 3\")\n",
    "u=u.reshape(len(u), 1)\n",
    "print(u*v)\n"
   ]
  },
  {
   "cell_type": "markdown",
   "metadata": {},
   "source": [
    "3\\. Create a 10 by 6 matrix of random uniform numbers. Set all rows with any entry less than 0.1 to be zero\n",
    "\n",
    "Hint: Use the following numpy functions - np.random.random, np.any as well as Boolean indexing and the axis argument."
   ]
  },
  {
   "cell_type": "code",
   "execution_count": 64,
   "metadata": {},
   "outputs": [
    {
     "name": "stdout",
     "output_type": "stream",
     "text": [
      "[[0.836472   0.57277208 0.09999951 0.80718668 0.93085309 0.03201573]\n",
      " [0.01019495 0.34600743 0.26409099 0.11859695 0.16306355 0.52864549]\n",
      " [0.00859998 0.95970382 0.77740565 0.30605679 0.8810844  0.86501847]\n",
      " [0.84337216 0.67451239 0.16016511 0.93284533 0.50143535 0.18975075]\n",
      " [0.41753435 0.12839038 0.40216291 0.90183371 0.02742174 0.43459902]\n",
      " [0.47700935 0.73492055 0.27067162 0.03589988 0.08779079 0.04979883]\n",
      " [0.67089543 0.72816039 0.9871048  0.40205364 0.2974069  0.66803151]\n",
      " [0.00766222 0.80066961 0.22857057 0.71270998 0.089869   0.15715601]\n",
      " [0.37575766 0.40452303 0.79233169 0.76155318 0.11414802 0.39687915]\n",
      " [0.24515235 0.48217575 0.82018131 0.22218532 0.05340309 0.92281116]]\n",
      "\n",
      "[[0.         0.         0.         0.         0.         0.        ]\n",
      " [0.         0.         0.         0.         0.         0.        ]\n",
      " [0.         0.         0.         0.         0.         0.        ]\n",
      " [0.84337216 0.67451239 0.16016511 0.93284533 0.50143535 0.18975075]\n",
      " [0.         0.         0.         0.         0.         0.        ]\n",
      " [0.         0.         0.         0.         0.         0.        ]\n",
      " [0.67089543 0.72816039 0.9871048  0.40205364 0.2974069  0.66803151]\n",
      " [0.         0.         0.         0.         0.         0.        ]\n",
      " [0.37575766 0.40452303 0.79233169 0.76155318 0.11414802 0.39687915]\n",
      " [0.         0.         0.         0.         0.         0.        ]]\n"
     ]
    }
   ],
   "source": [
    "m = np.random.random((10,6))\n",
    "print(m)\n",
    "print()\n",
    "m[(m<0.1).any(axis=1), :] = 0\n",
    "print(m)\n"
   ]
  },
  {
   "cell_type": "markdown",
   "metadata": {},
   "source": [
    "4\\. Use np.linspace to create an array of 100 numbers between 0 and 2π (includsive).\n",
    "\n",
    "  * Extract every 10th element using slice notation\n",
    "  * Reverse the array using slice notation\n",
    "  * Extract elements where the absolute difference between the sine and cosine functions evaluated at that element is less than 0.1\n",
    "  * Make a plot showing the sin and cos functions and indicate where they are close"
   ]
  },
  {
   "cell_type": "code",
   "execution_count": 101,
   "metadata": {},
   "outputs": [
    {
     "data": {
      "image/png": "[encoded data removed]",
      "text/plain": [
       "<Figure size 432x288 with 2 Axes>"
      ]
     },
     "metadata": {
      "needs_background": "light"
     },
     "output_type": "display_data"
    }
   ],
   "source": [
    "import matplotlib.pyplot as plt \n",
    "\n",
    "%matplotlib inline \n",
    "\n",
    "xs=np.linspace(0,2*np.pi,100) #2 pi is incluse\n",
    "\n",
    "extract=xs[::10]  #extraction\n",
    "\n",
    "reverse_xs = xs[::-1]  #reverse the array\n",
    "\n",
    "#extract the elements where the absolute difference btw sin-cos<0.1\n",
    "diff = xs[abs(np.sin(xs)- np.cos(xs)) <0.1]  \n",
    "\n",
    "#plot\n",
    "fig=plt.figure()\n",
    "p1=fig.add_subplot(111)\n",
    "cos=p1.plot(xs, np.cos(xs),'g',label=\"cos(x)\") #cos is green\n",
    "p2=p1.twinx()\n",
    "sin=p2.plot(xs, np.sin(xs),'r',label=\"sin(x)\") #sin is red\n",
    "\n",
    "#dotted line to show where they are close\n",
    "plt.vlines(x=diff,linestyles='dotted', ymin= -0.99, ymax=0.99)\n",
    "plt.show()"
   ]
  },
  {
   "cell_type": "markdown",
   "metadata": {},
   "source": [
    "5\\. Create a matrix that shows the 10 by 10 multiplication table.\n",
    "\n",
    " * Find the trace of the matrix\n",
    " * Extract the anto-diagonal (this should be ```array([10, 18, 24, 28, 30, 30, 28, 24, 18, 10])```)\n",
    " * Extract the diagnoal offset by 1 upwards (this should be ```array([ 2,  6, 12, 20, 30, 42, 56, 72, 90])```)"
   ]
  },
  {
   "cell_type": "code",
   "execution_count": 135,
   "metadata": {},
   "outputs": [
    {
     "name": "stdout",
     "output_type": "stream",
     "text": [
      "[[  1.   2.   3.   4.   5.   6.   7.   8.   9.  10.]\n",
      " [  2.   4.   6.   8.  10.  12.  14.  16.  18.  20.]\n",
      " [  3.   6.   9.  12.  15.  18.  21.  24.  27.  30.]\n",
      " [  4.   8.  12.  16.  20.  24.  28.  32.  36.  40.]\n",
      " [  5.  10.  15.  20.  25.  30.  35.  40.  45.  50.]\n",
      " [  6.  12.  18.  24.  30.  36.  42.  48.  54.  60.]\n",
      " [  7.  14.  21.  28.  35.  42.  49.  56.  63.  70.]\n",
      " [  8.  16.  24.  32.  40.  48.  56.  64.  72.  80.]\n",
      " [  9.  18.  27.  36.  45.  54.  63.  72.  81.  90.]\n",
      " [ 10.  20.  30.  40.  50.  60.  70.  80.  90. 100.]]\n",
      "The trace is:  385.0\n",
      "the antidiag is: [10. 18. 24. 28. 30. 30. 28. 24. 18. 10.]\n",
      "the diagonal offset by one is:  [ 2.  6. 12. 20. 30. 42. 56. 72. 90.]\n"
     ]
    }
   ],
   "source": [
    "a = np.fromfunction(lambda i, j:1+i+(j*(i+1)), (10,10))\n",
    "print(a)\n",
    "#trace\n",
    "print(\"The trace is: \",np.trace(a))\n",
    "#extract antidiagonal:\n",
    "l =[i for i in range(10)]\n",
    "l2=np.array(l[::-1])\n",
    "antidiag= a[l,l2]\n",
    "print(\"the antidiag is:\",antidiag)\n",
    "\n",
    "#extractdiagonal offset by 1 upwards\n",
    "l3=np.delete(l,0)\n",
    "l4=np.delete(l,9)\n",
    "\n",
    "extract = a[l3,l4]\n",
    "print( \"the diagonal offset by one is: \", extract)\n"
   ]
  },
  {
   "cell_type": "markdown",
   "metadata": {},
   "source": [
    "6\\. Use broadcasting to create a grid of distances\n",
    "\n",
    "Route 66 crosses the following cities in the US: Chicago, Springfield, Saint-Louis, Tulsa, Oklahoma City, Amarillo, Santa Fe, Albuquerque, Flagstaff, Los Angeles\n",
    "The corresponding positions in miles are: 0, 198, 303, 736, 871, 1175, 1475, 1544, 1913, 2448\n",
    "\n",
    "  * Construct a 2D grid of distances among each city along Route 66\n",
    "  * Convert that in km (those savages...)"
   ]
  },
  {
   "cell_type": "code",
   "execution_count": 333,
   "metadata": {},
   "outputs": [],
   "source": [
    "miglia= np.array([0, 198, 303, 736, 871, 1175, 1475, 1544, 1913, 2448])\n",
    "\n",
    "miglia_to_km =1.60934 \n",
    "\n",
    "#build grid\n",
    "griglia=miglia[None,:]-miglia[:,None]\n",
    "\n",
    "#convert\n",
    "km_griglia= griglia*miglia_to_km\n",
    "\n",
    "#print(km_griglia)"
   ]
  },
  {
   "cell_type": "markdown",
   "metadata": {},
   "source": [
    "7\\. Prime numbers sieve: compute the prime numbers in the 0-N (N=99 to start with) range with a sieve (mask).\n",
    "  * Constract a shape (100,) boolean array, the mask\n",
    "  * Identify the multiples of each number starting from 2 and set accordingly the corresponding mask element\n",
    "  * Apply the mask to obtain an array of ordered prime numbers\n",
    "  * Check the performances (timeit); how does it scale with N?\n",
    "  * Implement the optimization suggested in the [sieve of Eratosthenes](https://en.wikipedia.org/wiki/Sieve_of_Eratosthenes)"
   ]
  },
  {
   "cell_type": "code",
   "execution_count": 277,
   "metadata": {},
   "outputs": [
    {
     "name": "stdout",
     "output_type": "stream",
     "text": [
      "not optimized method:  [ 0  1  2  3  5  7 11 13 17 19 23 29 31 37 41 43 47 53 59 61 67 71 73 79\n",
      " 83 89 97]\n",
      "eratostene's method [ 0  1  2  3  5  7 11 13 17 19 23 29 31 37 41 43 47 53 59 61 67 71 73 79\n",
      " 83 89 97]\n"
     ]
    },
    {
     "data": {
      "image/png": "[encoded data removed]",
      "text/plain": [
       "<Figure size 432x288 with 2 Axes>"
      ]
     },
     "metadata": {
      "needs_background": "light"
     },
     "output_type": "display_data"
    }
   ],
   "source": [
    "import matplotlib.pyplot as plt \n",
    "def f():\n",
    "    N=100 # max number\n",
    "    mask=np.ones((N+1,), dtype='bool')\n",
    "    number=np.array(np.arange(N+1), dtype='int')\n",
    "    for i in number:\n",
    "        if i == 0 or i == 1 : pass\n",
    "        else: \n",
    "            mask[i+i::i]=False\n",
    "            \n",
    "    return number[mask]\n",
    "\n",
    "def eratostene():\n",
    "    n=100\n",
    "    e_mask=np.ones((n-1,), dtype='bool')#indexed from 2 to n\n",
    "    for l in range(2,int(np.sqrt(n))):\n",
    "        if(e_mask[l] == True):\n",
    "            e_mask[l**2::l] = False\n",
    "    l=np.arange(0,n-1,1)  \n",
    "    return l[e_mask]\n",
    "\n",
    "\n",
    "print(\"not optimized method: \", f() )\n",
    "print(\"eratostene's method\", eratostene())\n",
    "\n",
    "\n",
    "#%timeit -n 200 f()   \n",
    "performance_f=[144,278,410,566,670,830,935,1100]#for N multiple of 100\n",
    "\n",
    "#%timeit -n 400 eratostene() \n",
    "performance_e=[30.6,40.8,44.8,51.9,53.5,51.7,52.2 ,56.1 ]\n",
    "xaxis=[(i+1)*100 for i in range(8)]\n",
    "\n",
    "#The eratostene' s method(red) is substantially faster\n",
    "fig=plt.figure()\n",
    "p1=fig.add_subplot(111)\n",
    "fplot=p1.plot(xaxis,performance_f); #it look like a linear behavior\n",
    "p2=p1.twinx()\n",
    "eplot=p2.plot(xaxis,performance_e,'r') #\n",
    "plt.show()"
   ]
  },
  {
   "cell_type": "markdown",
   "metadata": {},
   "source": [
    "8\\. Diffusion using random walk\n",
    "\n",
    "Consider a simple random walk process: at each step in time, a walker jumps right or left (+1 or -1) with equal probability. The goal is to find the typical distance from the origin of a random walker after a given amount of time. \n",
    "To do that, let's simulate many walkers and create a 2D array with each walker as a raw and the actual time evolution as columns\n",
    "\n",
    "  * Take 1000 walkers and let them walk for 200 steps\n",
    "  * Use randint to create a 2D array of size walkers x steps with values -1 or 1\n",
    "  * Build the actual walking distances for each walker (i.e. another 2D array \"summing on each raw\")\n",
    "  * Take the square of that 2D array (elementwise)\n",
    "  * Compute the mean of the squared distances at each step (i.e. the mean along the columns)\n",
    "  * Plot the average distances (sqrt(distance\\*\\*2)) as a function of time (step)\n",
    "  \n",
    "Did you get what you expected?"
   ]
  },
  {
   "cell_type": "code",
   "execution_count": 306,
   "metadata": {},
   "outputs": [
    {
     "data": {
      "image/png": "[encoded data removed]",
      "text/plain": [
       "<Figure size 432x288 with 1 Axes>"
      ]
     },
     "metadata": {
      "needs_background": "light"
     },
     "output_type": "display_data"
    }
   ],
   "source": [
    "import matplotlib.pyplot as plt \n",
    "import numpy as np\n",
    "import numpy.random as npr\n",
    "npr.seed(2955520) #fix the seed\n",
    "grid= npr.randint(0,2, (1000,200)) #create a matrix with 0 and 1 randomly\n",
    "grid[grid==0]=-1 #substitute 0 with -1\n",
    "#print(grid)\n",
    "distance=grid.cumsum(axis=1) #cumulative sum on the rows\n",
    "squared=distance*distance #square\n",
    "mean=np.mean(squared,axis=0)\n",
    "\n",
    "plt.plot(np.arange(200),mean**0.5);\n",
    "# as It's what I expected because the random walk is a diffusive motion\n",
    "#mean go like sqrt(time)"
   ]
  },
  {
   "cell_type": "markdown",
   "metadata": {},
   "source": [
    "9\\. Analyze a data file \n",
    "  * Download the population of hares, lynxes and carrots at the beginning of the last century.\n",
    "    ```python\n",
    "    ! wget https://www.dropbox.com/s/3vigxoqayo389uc/populations.txt\n",
    "    ```\n",
    "\n",
    "  * Check the content by looking within the file\n",
    "  * Load the data (use an appropriate numpy method) into a 2D array\n",
    "  * Create arrays out of the columns, the arrays being (in order): *year*, *hares*, *lynxes*, *carrots* \n",
    "  * Plot the 3 populations over the years\n",
    "  * Compute the main statistical properties of the dataset (mean, std, correlations, etc.)\n",
    "  * Which species has the highest population each year?\n",
    "\n",
    "Do you feel there is some evident correlation here? [Studies](https://www.enr.gov.nt.ca/en/services/lynx/lynx-snowshoe-hare-cycle) tend to believe so."
   ]
  },
  {
   "cell_type": "code",
   "execution_count": 308,
   "metadata": {},
   "outputs": [
    {
     "name": "stdout",
     "output_type": "stream",
     "text": [
      "--2020-10-28 12:14:38--  https://www.dropbox.com/s/3vigxoqayo389uc/populations.txt\n",
      "Risoluzione di www.dropbox.com (www.dropbox.com)... 162.125.69.1, 2620:100:6025:1::a27d:4501\n",
      "Connessione a www.dropbox.com (www.dropbox.com)|162.125.69.1|:443... connesso.\n",
      "Richiesta HTTP inviata, in attesa di risposta... 301 Moved Permanently\n",
      "Posizione: /s/raw/3vigxoqayo389uc/populations.txt [segue]\n",
      "--2020-10-28 12:14:39--  https://www.dropbox.com/s/raw/3vigxoqayo389uc/populations.txt\n",
      "Riutilizzo della connessione esistente a www.dropbox.com:443.\n",
      "Richiesta HTTP inviata, in attesa di risposta... 302 Found\n",
      "Posizione: https://uceb51bfadea0f2229772752a85b.dl.dropboxusercontent.com/cd/0/inline/BCHCOjr9kGM5kPyO9ODlCr-lLgQd55fOgTMKLaVCPdVkOcqb5OhGKdmZz-1hQ5xpd9nAy3qQVNPwHu8g5455eWDRJiO1bM-aXDCR31Q-Lmrk9w/file# [segue]\n",
      "--2020-10-28 12:14:39--  https://uceb51bfadea0f2229772752a85b.dl.dropboxusercontent.com/cd/0/inline/BCHCOjr9kGM5kPyO9ODlCr-lLgQd55fOgTMKLaVCPdVkOcqb5OhGKdmZz-1hQ5xpd9nAy3qQVNPwHu8g5455eWDRJiO1bM-aXDCR31Q-Lmrk9w/file\n",
      "Risoluzione di uceb51bfadea0f2229772752a85b.dl.dropboxusercontent.com (uceb51bfadea0f2229772752a85b.dl.dropboxusercontent.com)... 162.125.69.15, 2620:100:6025:15::a27d:450f\n",
      "Connessione a uceb51bfadea0f2229772752a85b.dl.dropboxusercontent.com (uceb51bfadea0f2229772752a85b.dl.dropboxusercontent.com)|162.125.69.15|:443... connesso.\n",
      "Richiesta HTTP inviata, in attesa di risposta... 200 OK\n",
      "Lunghezza: 525 [text/plain]\n",
      "Salvataggio in: \"populations.txt.1\"\n",
      "\n",
      "populations.txt.1   100%[===================>]     525  --.-KB/s    in 0s      \n",
      "\n",
      "2020-10-28 12:14:40 (28,7 MB/s) - \"populations.txt.1\" salvato [525/525]\n",
      "\n"
     ]
    }
   ],
   "source": [
    "! wget https://www.dropbox.com/s/3vigxoqayo389uc/populations.txt\n",
    "    "
   ]
  },
  {
   "cell_type": "code",
   "execution_count": 332,
   "metadata": {},
   "outputs": [
    {
     "name": "stdout",
     "output_type": "stream",
     "text": [
      "the populations stat:\n",
      "Hares: mean=34081,std = 20898\n",
      "lynxes: mean=20167,std = 16255\n",
      "carrots: mean=42400,std = 3323\n",
      "\n",
      "correlations:\n",
      "Carrots-Hares' s correlation matrix \n",
      "[[ 1.         -0.01660378]\n",
      " [-0.01660378  1.        ]]\n",
      "Carrots-Lynxes' s correlation matrix \n",
      "[[ 1.         -0.68057717]\n",
      " [-0.68057717  1.        ]]\n",
      "Lynxes-Hares' s correlation matrix \n",
      "[[1.         0.07189206]\n",
      " [0.07189206 1.        ]]\n"
     ]
    },
    {
     "data": {
      "image/png": "[encoded data removed]",
      "text/plain": [
       "<Figure size 432x288 with 1 Axes>"
      ]
     },
     "metadata": {
      "needs_background": "light"
     },
     "output_type": "display_data"
    }
   ],
   "source": [
    "import matplotlib.pyplot as plt \n",
    "import numpy as np\n",
    "\n",
    "data=np.loadtxt('populations.txt')\n",
    "#charge the array\n",
    "years=data[:,0]\n",
    "hares=data[:,1]\n",
    "lynxes=data[:,2]\n",
    "carrots=data[:,3]\n",
    "\n",
    "#plot\n",
    "plt.plot(years,hares,label='hares')\n",
    "plt.plot(years,lynxes,label='lynxes')\n",
    "plt.plot(years,carrots,label='carrots')\n",
    "plt.legend();\n",
    "\n",
    "#print the stat\n",
    "print(\"the populations stat:\")\n",
    "print(\"Hares: mean={:.0f},std = {:.0f}\".format(np.mean(hares), np.std(hares)))\n",
    "print(\"lynxes: mean={:.0f},std = {:.0f}\".format(np.mean(lynxes), np.std(lynxes)))\n",
    "print(\"carrots: mean={:.0f},std = {:.0f}\".format(np.mean(carrots), np.std(carrots)))\n",
    "\n",
    "print(\"\\ncorrelations:\")\n",
    "print(\"Carrots-Hares' s correlation matrix \\n{}\" .format( np.corrcoef(carrots,hares)))\n",
    "print(\"Carrots-Lynxes' s correlation matrix \\n{}\" .format( np.corrcoef(carrots,lynxes)))\n",
    "print(\"Lynxes-Hares' s correlation matrix \\n{}\" .format( np.corrcoef(lynxes,hares)))\n",
    "\n",
    "#carrots has an higher mean, in the graph we can see which species has an \n",
    "#higher populatio for each year, when the hares decrease the lynxes follow with a delay of some year\n",
    "#does lynxes eat hares? :)  \n",
    "\n"
   ]
  },
  {
   "cell_type": "code",
   "execution_count": null,
   "metadata": {},
   "outputs": [],
   "source": []
  }
 ],
 "metadata": {
  "kernelspec": {
   "display_name": "Python 3",
   "language": "python",
   "name": "python3"
  },
  "language_info": {
   "codemirror_mode": {
    "name": "ipython",
    "version": 3
   },
   "file_extension": ".py",
   "mimetype": "text/x-python",
   "name": "python",
   "nbconvert_exporter": "python",
   "pygments_lexer": "ipython3",
   "version": "3.8.5"
  }
 },
 "nbformat": 4,
 "nbformat_minor": 2
}
