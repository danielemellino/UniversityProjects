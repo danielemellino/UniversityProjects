{
 "cells": [
  {
   "cell_type": "markdown",
   "metadata": {},
   "source": [
    "1\\. **Radioactive decay chain**\n",
    "\n",
    "${\\rm Tl}^{208}$ decays to ${\\rm Pb}^{208}$ with a half-lieve of 3.052 minutes. Suppose to start with a sample of 1000 Thallium atoms and 0 of Lead atoms.\n",
    "\n",
    "* Take steps in time of 1 second and at each time-step decide whether each Tl atom has decayed or not, accordingly to the probability $p(t)=1-2^{-t/\\tau}$. Subtract the total number of Tl atoms that decayed at each step from the Tl sample and add them to the Lead one. Plot the evolution of the two sets as a function of time  \n",
    "* Repeat the exercise by means of the inverse transform method: draw 1000 random numbers from the non-uniform probability distribution $p(t)=2^{-t/\\tau}\\frac{\\ln 2}{\\tau}$ to represent the times of decay of the 1000 Tl atoms. Make a plot showing the number of atoms that have not decayed as a function of time"
   ]
  },
  {
   "cell_type": "code",
   "execution_count": 49,
   "metadata": {},
   "outputs": [],
   "source": [
    "import numpy as np\n",
    "import random\n",
    "import matplotlib.pyplot as plt\n"
   ]
  },
  {
   "cell_type": "code",
   "execution_count": 50,
   "metadata": {},
   "outputs": [
    {
     "data": {
      "image/png": "[encoded data removed]",
      "text/plain": [
       "<Figure size 432x288 with 1 Axes>"
      ]
     },
     "metadata": {
      "needs_background": "light"
     },
     "output_type": "display_data"
    }
   ],
   "source": [
    "def prob1(t,tau):\n",
    "    return 1-2.0**(-t/tau)\n",
    "\n",
    "def prob2(t,tau):\n",
    "    return 2**(-t/tau)*np.log(2.0)/tau\n",
    "\n",
    "#constant:\n",
    "N=1000\n",
    "tau= 3.052*60\n",
    "ts=np.arange(0.0,tau*5,1)#step of one sec from the start to 5 tau(end)\n",
    "\n",
    "t1=np.ones(N)\n",
    "p= np.zeros(N)\n",
    "\n",
    "n_t1=[]\n",
    "n_p=[]\n",
    "\n",
    "for t in ts:\n",
    "    for i in range(N):\n",
    "        if random.uniform(0,1)<prob1(1,tau):\n",
    "            t1[i] =0\n",
    "            p[i]=1\n",
    "    #count the decay\n",
    "    n_t1.append(np.sum(t1))            \n",
    "    n_p.append(np.sum(p))\n",
    "\n",
    "#plt.plot(ts,np.array(n_t1)+np.array(n_p), label=\"total atoms\")\n",
    "plt.plot(ts,n_t1, c='red', label='survived')\n",
    "plt.plot(ts,n_p, c='blue', label='decayes')\n",
    "plt.xlabel(\"Time[s]\")\n",
    "plt.ylabel(\"#atoms\")\n",
    "plt.legend()\n",
    "plt.show()\n",
    "\n"
   ]
  },
  {
   "cell_type": "code",
   "execution_count": 51,
   "metadata": {},
   "outputs": [
    {
     "data": {
      "image/png": "[encoded data removed]",
      "text/plain": [
       "<Figure size 432x288 with 1 Axes>"
      ]
     },
     "metadata": {
      "needs_background": "light"
     },
     "output_type": "display_data"
    }
   ],
   "source": [
    "#using the inverse method \n",
    "def exp_pdf(p,tau):\n",
    "    return -np.log(1-p)/(np.log(2)/tau)\n",
    "\n",
    "time= np.zeros(N)\n",
    "for i in range(N):\n",
    "    unif=random.uniform(0,1)\n",
    "    time[i]=exp_pdf(unif,tau)\n",
    "\n",
    "x=np.linspace(0,5*tau,100)   \n",
    "plt.hist(time,histtype='step', bins=35,density=True, linewidth=2,cumulative=-1)\n",
    "plt.xlabel(\"Time[s]\")\n",
    "plt.ylabel(\"%atoms\")\n",
    "\n",
    "plt.show()"
   ]
  },
  {
   "cell_type": "markdown",
   "metadata": {},
   "source": [
    "##### 2\\. **Rutherford Scattering**\n",
    "\n",
    "The scattering angle $\\theta$ of $\\alpha$ particles hitting a positively charged nucleus of a Gold atom ($Z=79$) follows the rule:\n",
    "\n",
    "$$\n",
    "\\tan{\\frac{1}{2} \\theta} = \\frac{Z e^2} {2\\pi \\epsilon_0 E b}\n",
    "$$\n",
    "\n",
    "where $E=7.7$ MeV and $b$ beam is the impact parameter. The beam is represented by a 2D gaussian distribution with $\\sigma=a_0/100$ for both coordinates ($a_0$ being the Bohr radius). Assume 1 million $\\alpha$ particles are shot on the gold atom.\n",
    "\n",
    "Computing the fraction of particles that \"bounce back\",i.e. those particle whose scattering angle is greater than $\\pi/2$ (which set a condition on the impact parameter $b$)"
   ]
  },
  {
   "cell_type": "code",
   "execution_count": 77,
   "metadata": {},
   "outputs": [
    {
     "data": {
      "image/png": "[encoded data removed]",
      "text/plain": [
       "<Figure size 432x288 with 1 Axes>"
      ]
     },
     "metadata": {
      "needs_background": "light"
     },
     "output_type": "display_data"
    },
    {
     "name": "stdout",
     "output_type": "stream",
     "text": [
      "0.1607 % of particles have bounced\n"
     ]
    }
   ],
   "source": [
    "def thetaf(x,y):\n",
    "    b= np.sqrt(x*x + y*y)\n",
    "    theta = 2*np.arctan((Z*e2)/(E*b))\n",
    "    return theta\n",
    "\n",
    "N=1000000#number of alpha\n",
    "a_0 = 52.9e3  # fm\n",
    "Z=79\n",
    "e2=1.44 * 2.0 # MeV*fm\n",
    "sigma=a_0/100.\n",
    "E=7.7\n",
    "#generate 2D gaussian\n",
    "y=np.random.normal(loc=0.0, scale=sigma,size=N)\n",
    "x=np.random.normal(loc=0.0, scale=sigma,size=N)\n",
    "\n",
    "theta=thetaf(x,y)\n",
    "\n",
    "plt.hist(theta, bins=200 )\n",
    "plt.yscale('log')\n",
    "plt.axvline(np.pi/2.0,color='blue')\n",
    "plt.xlabel(r'$\\theta$')\n",
    "plt.ylabel(\"counts\")\n",
    "plt.show()\n",
    "\n",
    "theta_over90=theta[(theta>=np.pi/2.0)]\n",
    "\n",
    "perc=theta_over90.shape[0]/(theta.shape[0])*100\n",
    "\n",
    "print('%.4f'%perc, \"% of particles have bounced\")"
   ]
  },
  {
   "cell_type": "markdown",
   "metadata": {},
   "source": [
    "3\\. **Monte Carlo integration: hit/miss vs mean value method**\n",
    "\n",
    "Consider the function \n",
    "\n",
    "$$f(x) =\\sin^2{\\frac{1}{x(2-x)}}$$\n",
    "\n",
    "* Compute the integral of $f(x)$ between 0 and 2 with the hit/miss method. Evaluate the error of your estimate\n",
    "* Repeat the integral with the mean value method. Evaluate the error and compare it with the previous one"
   ]
  },
  {
   "cell_type": "code",
   "execution_count": 97,
   "metadata": {},
   "outputs": [
    {
     "name": "stdout",
     "output_type": "stream",
     "text": [
      "for 100000 samples,hit or miss: I= 1.45138452 +- 0.002903542589596374\n",
      "for 100000 samples,mean value: I= 1.4510884180813615 +- 0.0016697205131524318\n"
     ]
    }
   ],
   "source": [
    "import numpy as np\n",
    "\n",
    "def f(x):\n",
    "    return(np.sin(1.0/(x*(2-x)))**2 )\n",
    "def hitmiss(N,a=0,b=2.0):\n",
    "    x=np.random.uniform(a,b, size =N)\n",
    "    y=np.random.uniform(a,1,size=N)\n",
    "    hit=y[y<f(x)]\n",
    "    I=(b-a)*hit.shape[0]/N\n",
    "    return I\n",
    "\n",
    "N=100000\n",
    "lista_I=[]\n",
    "for i in range(1000):\n",
    "    lista_I.append(hitmiss(N))\n",
    "np_I=np.array(lista_I)\n",
    "err_hm=np.std(np_I)\n",
    "I=np.mean(np_I)\n",
    "\n",
    "print(\"for\",N,\"samples,hit or miss: I=\",I,\"+-\",err_hm)\n",
    "\n",
    "\n",
    "def meanvalue(N,a=0,b=2.0) :\n",
    "    x=np.random.uniform(a,b,size=N)\n",
    "    y=f(x)\n",
    "    std_y=np.std(y)\n",
    "    error_mv=(b-a)*std_y/np.sqrt(N)\n",
    "    return (b-a)*np.mean(y), error_mv\n",
    "\n",
    "Imv,error_mv= meanvalue(N)\n",
    "print(\"for\",N,\"samples,mean value: I=\",Imv,\"+-\",error_mv)"
   ]
  },
  {
   "cell_type": "markdown",
   "metadata": {},
   "source": [
    "4\\. **Monte Carlo integration in high dimension**\n",
    "\n",
    "* Start of by computing the area of a circle of unit radius, by integrating the function \n",
    "\n",
    "$$\n",
    "f(x,y)=\n",
    "\\left\\{\n",
    "\\begin{array}{ll}\n",
    "      1 & x^2+y^2\\le 1 \\\\\n",
    "      0 & {\\rm elsewhere}\n",
    "\\end{array} \n",
    "\\right.\n",
    "$$\n",
    "\n",
    "* Generalize the result for a 10D sphere\n",
    "\n"
   ]
  },
  {
   "cell_type": "code",
   "execution_count": 108,
   "metadata": {},
   "outputs": [
    {
     "name": "stdout",
     "output_type": "stream",
     "text": [
      "dim \t empirical value \t real value\n",
      "2\t 3.141392 \t 3.141592653589793\n",
      "10\t 2.551808 \t 2.550164039877345\n"
     ]
    }
   ],
   "source": [
    "def f(x):\n",
    "    x2 = np.sum(x**2)\n",
    "    if x2 <= 1:\n",
    "        return 1\n",
    "    else:\n",
    "        return 0\n",
    "    \n",
    "def Integral(N,dimension):\n",
    "    xs = np.random.uniform(-1.0, 1.0, size=(N,dimension))\n",
    "    fs = np.zeros(N)\n",
    "    for i in range(N):\n",
    "        fs[i] = f(xs[i])\n",
    "    area = (2.0**dimension)*np.mean(fs)\n",
    "    return area\n",
    "\n",
    "N=500000\n",
    "print(\"dim \\t empirical value \\t real value\")\n",
    "print (\"2\\t\",Integral(N, 2),\"\\t\", math.pi)\n",
    "print (\"10\\t\",Integral(N, 10),\"\\t\", math.pi**5/120) #volume sphere 10-dim"
   ]
  },
  {
   "cell_type": "markdown",
   "metadata": {},
   "source": [
    "5\\. **Monte Carlo integration with importance sampling** \n",
    "\n",
    "Calculate the value of the integral:\n",
    "\n",
    "$$\n",
    "I=\\int_0^1 \\frac{x^{-1/2}}{e^x+1} dx\n",
    "$$\n",
    "\n",
    "using the importance sampling method with $w(x)=1/\\sqrt{x}$. You should get a result about 0.84"
   ]
  },
  {
   "cell_type": "code",
   "execution_count": 148,
   "metadata": {},
   "outputs": [
    {
     "name": "stdout",
     "output_type": "stream",
     "text": [
      "The value is: 0.8388986731167847\n"
     ]
    }
   ],
   "source": [
    "def Importance_sampling(N,a,b):\n",
    "    x=np.random.uniform(a,2*b,size=N)\n",
    "    x=x**2/(4*b*b)#the value near 0 have more weights\n",
    "    frac= 1. / (np.exp(x) + 1)\n",
    "    integ=np.mean(frac)*2.0 * (np.sqrt(b) - np.sqrt(a))\n",
    "    return integ\n",
    "N=10000000\n",
    "I=Importance_sampling(N,0,1.0)\n",
    "print(\"The value is:\" ,I)"
   ]
  }
 ],
 "metadata": {
  "kernelspec": {
   "display_name": "Python 3",
   "language": "python",
   "name": "python3"
  },
  "language_info": {
   "codemirror_mode": {
    "name": "ipython",
    "version": 3
   },
   "file_extension": ".py",
   "mimetype": "text/x-python",
   "name": "python",
   "nbconvert_exporter": "python",
   "pygments_lexer": "ipython3",
   "version": "3.8.5"
  }
 },
 "nbformat": 4,
 "nbformat_minor": 2
}
