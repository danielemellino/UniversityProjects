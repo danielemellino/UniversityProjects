{
 "cells": [
  {
   "cell_type": "markdown",
   "metadata": {},
   "source": [
    "1. The MickeyMouse problem\n",
    "\n",
    "a) Write a program that prints the numbers from 1 to 100. But for multiples of three print Mickey instead of the number and for the multiples of five print Mouse. For numbers which are multiples of both three and five print MickeyMouse\n",
    "\n",
    "b) Put the result in a tuple and substitute Mickey with Donald and Mouse with Duck"
   ]
  },
  {
   "cell_type": "code",
   "execution_count": 23,
   "metadata": {},
   "outputs": [
    {
     "name": "stdout",
     "output_type": "stream",
     "text": [
      "1\n",
      "2\n",
      "Mickey\n",
      "4\n",
      "Mouse\n",
      "Mickey\n",
      "7\n",
      "8\n",
      "Mickey\n",
      "Mouse\n",
      "11\n",
      "Mickey\n",
      "13\n",
      "14\n",
      "MickeyMouse\n",
      "16\n",
      "17\n",
      "Mickey\n",
      "19\n",
      "Mouse\n",
      "Mickey\n",
      "22\n",
      "23\n",
      "Mickey\n",
      "Mouse\n",
      "26\n",
      "Mickey\n",
      "28\n",
      "29\n",
      "MickeyMouse\n",
      "31\n",
      "32\n",
      "Mickey\n",
      "34\n",
      "Mouse\n",
      "Mickey\n",
      "37\n",
      "38\n",
      "Mickey\n",
      "Mouse\n",
      "41\n",
      "Mickey\n",
      "43\n",
      "44\n",
      "MickeyMouse\n",
      "46\n",
      "47\n",
      "Mickey\n",
      "49\n",
      "Mouse\n",
      "Mickey\n",
      "52\n",
      "53\n",
      "Mickey\n",
      "Mouse\n",
      "56\n",
      "Mickey\n",
      "58\n",
      "59\n",
      "MickeyMouse\n",
      "61\n",
      "62\n",
      "Mickey\n",
      "64\n",
      "Mouse\n",
      "Mickey\n",
      "67\n",
      "68\n",
      "Mickey\n",
      "Mouse\n",
      "71\n",
      "Mickey\n",
      "73\n",
      "74\n",
      "MickeyMouse\n",
      "76\n",
      "77\n",
      "Mickey\n",
      "79\n",
      "Mouse\n",
      "Mickey\n",
      "82\n",
      "83\n",
      "Mickey\n",
      "Mouse\n",
      "86\n",
      "Mickey\n",
      "88\n",
      "89\n",
      "MickeyMouse\n",
      "91\n",
      "92\n",
      "Mickey\n",
      "94\n",
      "Mouse\n",
      "Mickey\n",
      "97\n",
      "98\n",
      "Mickey\n",
      "Mouse\n",
      "(1, 2, 'Donald', 4, 'Duck', 'Donald', 7, 8, 'Donald', 'Duck', 11, 'Donald', 13, 14, 'DonaldDuck', 16, 17, 'Donald', 19, 'Duck', 'Donald', 22, 23, 'Donald', 'Duck', 26, 'Donald', 28, 29, 'DonaldDuck', 31, 32, 'Donald', 34, 'Duck', 'Donald', 37, 38, 'Donald', 'Duck', 41, 'Donald', 43, 44, 'DonaldDuck', 46, 47, 'Donald', 49, 'Duck', 'Donald', 52, 53, 'Donald', 'Duck', 56, 'Donald', 58, 59, 'DonaldDuck', 61, 62, 'Donald', 64, 'Duck', 'Donald', 67, 68, 'Donald', 'Duck', 71, 'Donald', 73, 74, 'DonaldDuck', 76, 77, 'Donald', 79, 'Duck', 'Donald', 82, 83, 'Donald', 'Duck', 86, 'Donald', 88, 89, 'DonaldDuck', 91, 92, 'Donald', 94, 'Duck', 'Donald', 97, 98, 'Donald', 'Duck')\n"
     ]
    }
   ],
   "source": [
    "a=[]\n",
    "for i in range(1,101): #1 e 100 compresi\n",
    "    if i%3 == 0 and i%5 == 0 : \n",
    "        a.append(\"DonaldDuck\")\n",
    "        print(\"MickeyMouse\")\n",
    "    elif i%3 == 0 : \n",
    "        a.append(\"Donald\")\n",
    "        print(\"Mickey\")\n",
    "    elif i%5 == 0 : \n",
    "        a.append(\"Duck\")\n",
    "        print(\"Mouse\")\n",
    "    else:\n",
    "        a.append(i)\n",
    "        print(i)\n",
    "a=tuple(a)\n",
    "print(a)"
   ]
  },
  {
   "cell_type": "markdown",
   "metadata": {},
   "source": [
    "2\\. The swap function\n",
    "\n",
    "Write a function that swap the values of two input variables x and y (whatever the type). Try to do that also without a temporary variable"
   ]
  },
  {
   "cell_type": "code",
   "execution_count": 35,
   "metadata": {},
   "outputs": [
    {
     "name": "stdout",
     "output_type": "stream",
     "text": [
      "3 ('a', 'b')\n"
     ]
    }
   ],
   "source": [
    "#I can do the same with one line x,y = y, x\n",
    "def swap(x,y):\n",
    "    return y,x\n",
    "x=('a','b')\n",
    "y=3\n",
    "x,y = swap(x,y)\n",
    "print(x,y)"
   ]
  },
  {
   "cell_type": "markdown",
   "metadata": {},
   "source": [
    "3\\. Computing the distance\n",
    "\n",
    "Write a function that calculates and returns the euclidean distance between two points *u* and *v*, where *u* and *v* are both 2-tuples *(x,y)*. For example, if *u=(3,0)* and *v=(0,4)*, the function should return 5"
   ]
  },
  {
   "cell_type": "code",
   "execution_count": 50,
   "metadata": {},
   "outputs": [
    {
     "name": "stdout",
     "output_type": "stream",
     "text": [
      "the distance is 5.0\n"
     ]
    }
   ],
   "source": [
    "def distance(u,v):\n",
    "    dist = ((u[0]-v[0])**2 +(u[1]-v[1])**2)**(1/2)\n",
    "    return dist\n",
    "u=(3,0)\n",
    "v=(0,4)\n",
    "print(\"the distance is\", distance(u,v))"
   ]
  },
  {
   "cell_type": "markdown",
   "metadata": {},
   "source": [
    "4\\. Counting letters\n",
    "\n",
    "Write a program to calculate the number of times each character occurs in a given string *s*. Ignore differneces in capitalization"
   ]
  },
  {
   "cell_type": "code",
   "execution_count": 1,
   "metadata": {},
   "outputs": [
    {
     "name": "stdout",
     "output_type": "stream",
     "text": [
      "we count the character '   '  41  times\n",
      "we count the character ' . '  2  times\n",
      "we count the character ' 0 '  2  times\n",
      "we count the character ' 1 '  2  times\n",
      "we count the character ' a '  7  times\n",
      "we count the character ' b '  5  times\n",
      "we count the character ' c '  3  times\n",
      "we count the character ' d '  3  times\n",
      "we count the character ' e '  22  times\n",
      "we count the character ' f '  10  times\n",
      "we count the character ' g '  1  times\n",
      "we count the character ' h '  9  times\n",
      "we count the character ' i '  14  times\n",
      "we count the character ' k '  2  times\n",
      "we count the character ' l '  6  times\n",
      "we count the character ' m '  12  times\n",
      "we count the character ' n '  10  times\n",
      "we count the character ' o '  13  times\n",
      "we count the character ' p '  8  times\n",
      "we count the character ' r '  17  times\n",
      "we count the character ' s '  9  times\n",
      "we count the character ' t '  19  times\n",
      "we count the character ' u '  9  times\n",
      "we count the character ' v '  2  times\n",
      "we count the character ' w '  2  times\n",
      "we count the character ' y '  2  times\n"
     ]
    }
   ],
   "source": [
    "s=\"Write a program that prints the numbers from 1 to 100. \\\n",
    "But for multiples of three print Mickey instead of the number and for the multiples of five print Mouse. \\\n",
    "For numbers which are multiples of both three and five print MickeyMouse\"\n",
    "#sort and ignore differences capitalization\n",
    "stringa=sorted(s.lower()) \n",
    "#print(stringa)\n",
    "for l in range(0,len(stringa)) :\n",
    "    if stringa[l-1] != stringa[l]:\n",
    "        print(\"we count the character '\",stringa[l],\"' \", stringa.count(stringa[l]), \" times\")\n",
    "    \n",
    "        \n",
    "    \n"
   ]
  },
  {
   "cell_type": "markdown",
   "metadata": {},
   "source": [
    "5\\. Isolating the unique\n",
    "\n",
    "Write a function that determines and count the unique numbers in the list *l*"
   ]
  },
  {
   "cell_type": "code",
   "execution_count": 3,
   "metadata": {},
   "outputs": [
    {
     "name": "stdout",
     "output_type": "stream",
     "text": [
      "there is 37 unique number\n"
     ]
    }
   ],
   "source": [
    "l = [36, 45, 58, 3, 74, 96, 64, 45, 31, 10, 24, 19, 33, 86, 99, 18, 63, 70, 85,\n",
    " 85, 63, 47, 56, 42, 70, 84, 88, 55, 20, 54, 8, 56, 51, 79, 81, 57, 37, 91,\n",
    " 1, 84, 84, 36, 66, 9, 89, 50, 42, 91, 50, 95, 90, 98, 39, 16, 82, 31, 92, 41,\n",
    " 45, 30, 66, 70, 34, 85, 94, 5, 3, 36, 72, 91, 84, 34, 87, 75, 53, 51, 20, 89, 51, 20]\n",
    "\n",
    "def determine(l):\n",
    "    l.sort()\n",
    "    d=0\n",
    "    tot=0\n",
    "    for s in range(0,len(l)): \n",
    "        if l[s] != l[s-1]: \n",
    "            d=l.count(l[s])\n",
    "         #  print(\"the number\",l[s], \"repeat\", d,\"times\")\n",
    "        if d==1:\n",
    "          # print(l[s])\n",
    "            tot=tot+1\n",
    "    print(\"there is\",tot, \"unique number\" ) #unique number= number who is repeated one time\n",
    "determine(l)\n"
   ]
  },
  {
   "cell_type": "markdown",
   "metadata": {},
   "source": [
    "6\\. Combination of functions\n",
    "\n",
    "Write two functions - one that returns the square of a number, and one that returns the cube. Now write a third function that returns the number raised to the 6th power using the two previous functions."
   ]
  },
  {
   "cell_type": "code",
   "execution_count": 5,
   "metadata": {},
   "outputs": [
    {
     "name": "stdout",
     "output_type": "stream",
     "text": [
      "729\n"
     ]
    }
   ],
   "source": [
    "def square(x):\n",
    "    return x**2\n",
    "def cube(x):\n",
    "    return x**3\n",
    "def sixp (x):\n",
    "    return cube(square(x))\n",
    "\n",
    "print(sixp(3))\n"
   ]
  },
  {
   "cell_type": "markdown",
   "metadata": {},
   "source": [
    "7\\. Cubes\n",
    "\n",
    "Create a list of the cubes of x for x in *[0, 10]* using:\n",
    "\n",
    "a) a for loop\n",
    "\n",
    "b) a list comprehension"
   ]
  },
  {
   "cell_type": "code",
   "execution_count": 1,
   "metadata": {},
   "outputs": [
    {
     "name": "stdout",
     "output_type": "stream",
     "text": [
      "[0, 1, 8, 27, 64, 125, 216, 343, 512, 729, 1000]\n",
      "[0, 1, 8, 27, 64, 125, 216, 343, 512, 729, 1000]\n"
     ]
    }
   ],
   "source": [
    "#for loop\n",
    "cubes=[]\n",
    "for n in range(0,11): #0 and 10 included\n",
    "    cubes.append(n**3)\n",
    "print(cubes)\n",
    "\n",
    "#list comprehension\n",
    "cubes=[n**3 for n in range(0,11)]\n",
    "print(cubes)\n"
   ]
  },
  {
   "cell_type": "markdown",
   "metadata": {},
   "source": [
    "8\\. Nested list comprehension\n",
    "\n",
    "A Pythagorean triple is an integer solution to the Pythagorean theorem $a^2+b^2=c^2$. The first Pythagorean triple is (3,4,5). Find and put in a tuple all unique Pythagorean triples for the positive integers a, b and c less than 100."
   ]
  },
  {
   "cell_type": "code",
   "execution_count": 22,
   "metadata": {
    "scrolled": true
   },
   "outputs": [
    {
     "name": "stdout",
     "output_type": "stream",
     "text": [
      "((3, 4, 5), (5, 12, 13), (7, 24, 25), (8, 15, 17), (9, 40, 41), (11, 60, 61), (12, 35, 37), (13, 84, 85), (16, 63, 65), (20, 21, 29), (28, 45, 53), (33, 56, 65), (36, 77, 85), (39, 80, 89), (48, 55, 73), (65, 72, 97))\n"
     ]
    }
   ],
   "source": [
    "n=100\n",
    "#find the triples\n",
    "d=[(ap,b,c) for ap in range(1,n+1) for b in range(ap,n+1) for c in range(b,n+1)  if ap**2 + b**2 == c**2  ]\n",
    "#find the primitive one: \n",
    "q=[]\n",
    "for q in list(d): #I'm looping over a copy of the list so I can delete the not primitive triples\n",
    "    v=2\n",
    "    for v in range(2,q[0]) :\n",
    "        if q[0]%v==0 and q[1]%v==0 and q[2]%v== 0:\n",
    "            d.remove(q)  \n",
    "            break\n",
    "\n",
    "print(tuple(d))"
   ]
  },
  {
   "cell_type": "markdown",
   "metadata": {},
   "source": [
    "9\\. Normalization\n",
    "\n",
    "Write a function that takes a tuple of numbers and returns it with the entries normalized to one"
   ]
  },
  {
   "cell_type": "code",
   "execution_count": 24,
   "metadata": {},
   "outputs": [
    {
     "name": "stdout",
     "output_type": "stream",
     "text": [
      "(0.0014903129657228018, 0.06706408345752608, 0.005961251862891207, 0.09836065573770492, 0.4783904619970194, 0.34873323397913564)\n"
     ]
    }
   ],
   "source": [
    "def normalize(b):\n",
    "    try:\n",
    "        s=sum(b)\n",
    "        norm = [float(i)/s for i in b]\n",
    "        b=tuple(norm)\n",
    "    except ZeroDivisionError:\n",
    "        print(\"can' t normalize a null tuple\")\n",
    "    return b\n",
    "\n",
    "b=(1,45,4,66,321,234)\n",
    "print(normalize(b))"
   ]
  },
  {
   "cell_type": "code",
   "execution_count": null,
   "metadata": {},
   "outputs": [],
   "source": []
  }
 ],
 "metadata": {
  "kernelspec": {
   "display_name": "Python 3",
   "language": "python",
   "name": "python3"
  },
  "language_info": {
   "codemirror_mode": {
    "name": "ipython",
    "version": 3
   },
   "file_extension": ".py",
   "mimetype": "text/x-python",
   "name": "python",
   "nbconvert_exporter": "python",
   "pygments_lexer": "ipython3",
   "version": "3.8.5"
  }
 },
 "nbformat": 4,
 "nbformat_minor": 2
}
