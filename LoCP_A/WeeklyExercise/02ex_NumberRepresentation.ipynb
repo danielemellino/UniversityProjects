{
 "cells": [
  {
   "cell_type": "markdown",
   "metadata": {},
   "source": [
    "1\\. Write a function that converts number representation (bin<->dec<->hex)"
   ]
  },
  {
   "cell_type": "code",
   "execution_count": 11,
   "metadata": {},
   "outputs": [
    {
     "name": "stdout",
     "output_type": "stream",
     "text": [
      "\n",
      "Decimal representation is: 100\n",
      "Binary representation of: 0b1100100\n",
      "Hexadecimal representation : 0x64\n",
      "\n",
      "Decimal representation is: 101\n",
      "Binary representation of: 0b1100101\n",
      "Hexadecimal representation : 0x65\n",
      "\n",
      "Decimal representation is: 102\n",
      "Binary representation of: 0b1100110\n",
      "Hexadecimal representation : 0x66\n"
     ]
    }
   ],
   "source": [
    "def f(n):\n",
    "    print()\n",
    "    print('Decimal representation is:', n)\n",
    "    print('Binary representation of:', bin(n))\n",
    "    print('Hexadecimal representation :', hex(n))    \n",
    "f(100)\n",
    "f(0b1100101) #0b indicates binary\n",
    "f(0x66)      #0x indicates hexadecimal\n",
    "#the function take a number in a representetion and print its conversion"
   ]
  },
  {
   "cell_type": "markdown",
   "metadata": {},
   "source": [
    "2\\. Write a function that converts a 32 bit word into a single precision floating point (i.e. interprets the various bits as sign, mantissa and exponent)"
   ]
  },
  {
   "cell_type": "code",
   "execution_count": 2,
   "metadata": {},
   "outputs": [
    {
     "name": "stdout",
     "output_type": "stream",
     "text": [
      "25.0\n",
      "-14.120296633298372\n"
     ]
    }
   ],
   "source": [
    "def converter(n):\n",
    "    segno=int(n[0])\n",
    "    esponente=int(\"0b\"+n[1:9],2) -127\n",
    "    mant=\"1\"+n[9:32]\n",
    "    t=0\n",
    "    mantissa=0\n",
    "    for i in mant:\n",
    "        mantissa+=int(i)* 2**(-t)\n",
    "        t=t+1\n",
    "    if segno==1 :   \n",
    "        print(-mantissa**(esponente))\n",
    "    elif segno==0:\n",
    "        print(mantissa*2**(esponente))\n",
    "    else: \n",
    "        print(\"your string is wrong\")\n",
    "#please do not insert special number    \n",
    "converter(\"01000001110010000000000000000000\") \n",
    "converter(\"11000001111110000010000000001111\") "
   ]
  },
  {
   "cell_type": "markdown",
   "metadata": {},
   "source": [
    "3\\. Write a program to determine the underflow and overflow limits (within a factor of 2) for python on your computer. \n",
    "\n",
    "**Tips**: define two variables inizialized to 1 and halve/double them enough time to exceed the under/over-flow limits  "
   ]
  },
  {
   "cell_type": "code",
   "execution_count": 3,
   "metadata": {},
   "outputs": [
    {
     "name": "stdout",
     "output_type": "stream",
     "text": [
      "overflow occurs after 8.98846567431158e+307\n",
      "underflow occurs after 5e-324\n"
     ]
    }
   ],
   "source": [
    "under=1.\n",
    "over=1.\n",
    "\n",
    "while over*2!= float('inf') :\n",
    "    over=over*2\n",
    "print(\"overflow occurs after\",over)    \n",
    "\n",
    "while  under/2!= float(0) :\n",
    "    under=under/2\n",
    "print(\"underflow occurs after\",under)  \n",
    "\n",
    "\n",
    "\n",
    "    "
   ]
  },
  {
   "cell_type": "markdown",
   "metadata": {},
   "source": [
    "4\\. Write a program to determine the machine precision\n",
    "\n",
    "**Tips**: define a new variable by adding a smaller and smaller value (proceeding similarly to prob. 2) to an original variable and check the point where the two are the same "
   ]
  },
  {
   "cell_type": "code",
   "execution_count": 4,
   "metadata": {},
   "outputs": [
    {
     "name": "stdout",
     "output_type": "stream",
     "text": [
      "the machine precision is:  2.220446049250313e-16\n"
     ]
    }
   ],
   "source": [
    "epsilon=1.\n",
    "epslast=0\n",
    "while 1 != 1 + epsilon:\n",
    "    epslast=epsilon\n",
    "    epsilon=epsilon/2\n",
    "print(\"the machine precision is: \",epslast)"
   ]
  },
  {
   "cell_type": "markdown",
   "metadata": {},
   "source": [
    "5\\. Write a function that takes in input three parameters $a$, $b$ and $c$ and prints out the two solutions to the quadratic equation $ax^2+bx+c=0$ using the standard formula:\n",
    "$$\n",
    "x=\\frac{-b\\pm\\sqrt{b^2-4ac}}{2a}\n",
    "$$\n",
    "\n",
    "(a) use the program to compute the solution for $a=0.001$, $b=1000$ and $c=0.001$\n",
    "\n",
    "(b) re-express the standard solution formula by multiplying top and bottom by $-b\\mp\\sqrt{b^2-4ac}$ and again find the solution for $a=0.001$, $b=1000$ and $c=0.001$. How does it compare with what previously obtained? Why?\n",
    "\n",
    "(c) write a function that compute the roots of a quadratic equation accurately in all cases"
   ]
  },
  {
   "cell_type": "code",
   "execution_count": 3,
   "metadata": {},
   "outputs": [
    {
     "name": "stdout",
     "output_type": "stream",
     "text": [
      "x1 = -1000010.5755125057\n",
      "x2 = -1.000000000001e-06\n"
     ]
    }
   ],
   "source": [
    "import math\n",
    "def quadratic1(a,b,c):\n",
    "    if(a == 0): # bx+c=0\n",
    "        if(b != 0):\n",
    "            x=-c/b\n",
    "            print(\"La soluzione è x =\", x)\n",
    "        else:\n",
    "            if(c == 0):\n",
    "                print(\"Indeterminata\")\n",
    "            else:\n",
    "                print(\"Impossibile\")\n",
    "    else:\n",
    "        delta=b*b-4*a*c\n",
    "        if(delta > 0):\n",
    "#case a) \n",
    "#            x1=(-b-math.sqrt(delta))/(2*a)\n",
    "#            x2=(-b+math.sqrt(delta))/(2*a)\n",
    "#x1 = -999999.999999\n",
    "#x2 = -9.999894245993346e-07\n",
    "          \n",
    "#case b)    \n",
    "            x2=2*c / (-b-math.sqrt(delta))\n",
    "            x1=2*c / (-b+math.sqrt(delta))\n",
    "#\n",
    "\n",
    "#x1 = -1000010.5755125057\n",
    "#x2 = -1.000000000001e-06\n",
    "\n",
    "#There is a slightly difference between the two solution due to the choise of the parameters\n",
    "#with this choice we have problems due to the fact that computers store numbers in binary format\n",
    "#for the same reason if we print(0.01/0.1) I get 0.09999999999999999 instead of 0.1\n",
    "\n",
    "            print(\"x1 =\", x1)\n",
    "            print(\"x2 =\", x2)\n",
    "        elif(delta == 0):\n",
    "            x=-b/a\n",
    "            print(\"x =\", x)\n",
    "        else:\n",
    "            xr=-b/(2*a)\n",
    "            xi=math.sqrt(-delta)/(2*a)\n",
    "            x1=complex(xr,xi)\n",
    "            x2=complex(xr,-xi)\n",
    "            print(\"x1 =\", x1)\n",
    "            print(\"x2 =\", x2)\n",
    "quadratic1(0.001,1000,0.001)"
   ]
  },
  {
   "cell_type": "markdown",
   "metadata": {},
   "source": [
    "6\\. Write a program that implements the function $f(x)=x(x−1)$\n",
    "\n",
    "(a) Calculate the derivative of the function at the point $x = 1$ using the derivative definition:\n",
    "\n",
    "$$\n",
    "\\frac{{\\rm d}f}{{\\rm d}x} = \\lim_{\\delta\\to0} \\frac{f(x+\\delta)-f(x)}{\\delta}\n",
    "$$\n",
    "\n",
    "with $\\delta = 10^{−2}$. Calculate the true value of the same derivative analytically and compare with the answer your program gives. The two will not agree perfectly. Why not?\n",
    "\n",
    "(b) Repeat the calculation for $\\delta = 10^{−4}, 10^{−6}, 10^{−8}, 10^{−10}, 10^{−12}$ and $10^{−14}$. How does the accuracy scales with $\\delta$?"
   ]
  },
  {
   "cell_type": "code",
   "execution_count": 6,
   "metadata": {},
   "outputs": [
    {
     "name": "stdout",
     "output_type": "stream",
     "text": [
      "per delta =  0.01 la derivata : 1.0099999999999998\n",
      "per delta =  0.0001 la derivata : 1.0000999999992821\n",
      "per delta =  1e-06 la derivata : 1.000001000006634\n",
      "per delta =  1e-08 la derivata : 0.999999993922529\n",
      "per delta =  1e-10 la derivata : 1.000000082740371\n",
      "per delta =  1e-12 la derivata : 1.000088900582341\n",
      "per delta =  1e-14 la derivata : 0.9992007221626409\n"
     ]
    }
   ],
   "source": [
    "import math\n",
    "def der(x,delta):\n",
    "#    meno preciso    \n",
    "#    derivata = ((x+delta)*((x+delta) - 1) - x*(x-1))**2 / ((delta)**2)\n",
    "    derivata2 = ( (x+delta)**2- (x+delta) - x*(x-1))    /(delta)\n",
    "    print(\"per delta = \",delta, \"la derivata :\", derivata2)\n",
    "\n",
    "der(1, 10**(-2))\n",
    "der(1, 10**(-4))\n",
    "der(1, 10**(-6))\n",
    "der(1, 10**(-8))\n",
    "der(1, 10**(-10))\n",
    "der(1, 10**(-12))\n",
    "der(1, 10**(-14))\n",
    "#the analytical solution is 1, we can see that:\n",
    "#as we increase delta\n",
    "#the approximation error become smaller, instead  \n",
    "#the roundoff error increase"
   ]
  },
  {
   "cell_type": "markdown",
   "metadata": {},
   "source": [
    "7\\. Consider the integral of the semicircle of radius 1:\n",
    "$$\n",
    "I=\\int_{-1}^{1} \\sqrt(1-x^2) {\\rm d}x\n",
    "$$\n",
    "which it's known to be $I=\\frac{\\pi}{2}=1.57079632679...$.\n",
    "Alternatively we can use the Riemann definition of the integral:\n",
    "$$\n",
    "I=\\lim_{N\\to\\infty} \\sum_{k=1}^{N} h y_k \n",
    "$$\n",
    "\n",
    "with $h=2/N$ the width of each of the $N$ slices the domain is divided into and where\n",
    "$y_k$ is the value of the function at the $k-$th slice.\n",
    "\n",
    "(a) Write a programe to compute the integral with $N=100$. How does the result compares to the true value?\n",
    "\n",
    "(b) How much can $N$ be increased if the computation needs to be run in less than a second? What is the gain in running it for 1 minute? \n"
   ]
  },
  {
   "cell_type": "code",
   "execution_count": 6,
   "metadata": {},
   "outputs": [
    {
     "name": "stdout",
     "output_type": "stream",
     "text": [
      "The integral for N =  100 is: 1.5691342555492493\n",
      "The difference with the true value is: 0.001662071245647212\n",
      "In 1s the max N is around: 3170000.0\n"
     ]
    }
   ],
   "source": [
    "import math as m\n",
    "import time \n",
    "#(a)\n",
    "def integ(n):\n",
    "    h=2/n\n",
    "    s=0\n",
    "    i=-1\n",
    "    while(i<=1):\n",
    "         s+= h*m.sqrt(1-i**2)\n",
    "         i=i+h\n",
    "    return s\n",
    "integral = integ(100)\n",
    "print(\"The integral for N = \", 100, \"is:\", integral)\n",
    "print(\"The difference with the true value is:\",abs(m.pi/2 - integral))\n",
    "\n",
    "#(b)\n",
    "#1s\n",
    "\n",
    "#I give a starter number of cycle\n",
    "n=1.9e+06\n",
    "tempo=0\n",
    "nfinal=0\n",
    "while(tempo <1.0):\n",
    "    nfinal=n\n",
    "    start= time.process_time()\n",
    "    integ(n)\n",
    "    tempo=time.process_time() - start\n",
    "    n=n+10000\n",
    "    \n",
    "print(\"In 1s the max N is around:\", nfinal)   \n"
   ]
  },
  {
   "cell_type": "code",
   "execution_count": 7,
   "metadata": {},
   "outputs": [
    {
     "name": "stdout",
     "output_type": "stream",
     "text": [
      "58.92644248500005\n",
      "In 60s the max N is around: 190200000  the difference with the true value is 1.1079313022577253e-09\n"
     ]
    }
   ],
   "source": [
    "#last output on my pc is : In 1s the max N is around: 3170000.0\n",
    "\n",
    "#1min\n",
    "nfinal=3170000*60# assuming it is linear  \n",
    "start= time.process_time()\n",
    "inte=integ(nfinal)\n",
    "tempo=time.process_time() - start\n",
    "print(\"In\", tempo,\" the max N is around:\", nfinal, \" the difference with the true value is\",abs(m.pi/2 - inte) )   \n",
    "\n",
    "#my pc's output is: \n",
    "#In 58.92644248500005s the max N is around: 190200000  the difference with the true value is 1.1079313022577253e-09\n",
    "#we gain 6 order of precision\n",
    "\n",
    "\n",
    "#while(tempo<60): #tooks ages\n",
    "#    nfinal=n\n",
    "#    start= time.process_time()\n",
    "#    integ(n)\n",
    "#    tempo=time.process_time() - start\n",
    "#    n+=n\n",
    "#print(\"In 1m the max N is around:\", nfinal)   "
   ]
  },
  {
   "cell_type": "code",
   "execution_count": null,
   "metadata": {},
   "outputs": [],
   "source": []
  }
 ],
 "metadata": {
  "kernelspec": {
   "display_name": "Python 3",
   "language": "python",
   "name": "python3"
  },
  "language_info": {
   "codemirror_mode": {
    "name": "ipython",
    "version": 3
   },
   "file_extension": ".py",
   "mimetype": "text/x-python",
   "name": "python",
   "nbconvert_exporter": "python",
   "pygments_lexer": "ipython3",
   "version": "3.8.5"
  }
 },
 "nbformat": 4,
 "nbformat_minor": 2
}
